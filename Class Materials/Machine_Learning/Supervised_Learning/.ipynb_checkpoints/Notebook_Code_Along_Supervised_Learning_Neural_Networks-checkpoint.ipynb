{
 "cells": [
  {
   "cell_type": "markdown",
   "metadata": {
    "id": "qQGEzCDxqj5w"
   },
   "source": [
    "# Load libraries"
   ]
  },
  {
   "cell_type": "code",
   "execution_count": null,
   "metadata": {
    "colab": {
     "base_uri": "https://localhost:8080/"
    },
    "executionInfo": {
     "elapsed": 2776,
     "status": "ok",
     "timestamp": 1626945574723,
     "user": {
      "displayName": "Ignacio Soteras",
      "photoUrl": "",
      "userId": "02050793736257155229"
     },
     "user_tz": -120
    },
    "id": "O6qR8a1pqPjD",
    "outputId": "a2b02608-d23a-4f25-cb42-d6fdccf4c12b"
   },
   "outputs": [
    {
     "name": "stdout",
     "output_type": "stream",
     "text": [
      "2.5.0\n"
     ]
    }
   ],
   "source": [
    "import pandas as pd\n",
    "import numpy as np\n",
    "\n",
    "import matplotlib.pyplot as plt\n",
    "import seaborn as sns\n",
    "%matplotlib inline\n",
    "\n",
    "import tensorflow as tf # Library to construct neural newtorks. Low level library\n",
    "from tensorflow import keras # High level library to handle tensorflow.\n",
    "from tensorflow.keras.layers import Flatten, Dense, Dropout # Types of layers to use in our neural network.\n",
    "\n",
    "import warnings\n",
    "warnings.filterwarnings(\"ignore\")\n",
    "\n",
    "print(tf.__version__)"
   ]
  },
  {
   "cell_type": "markdown",
   "metadata": {
    "id": "9DTFf4lDw0oJ"
   },
   "source": [
    "[Keras official API documentation](https://keras.io/api/)"
   ]
  },
  {
   "cell_type": "markdown",
   "metadata": {
    "id": "RarkymimrDaX"
   },
   "source": [
    "# Superconductors dataset: regression"
   ]
  },
  {
   "cell_type": "markdown",
   "metadata": {
    "id": "7TRtH7-MrGqE"
   },
   "source": [
    "Superconductors are a one type materials which can conduct electricity without losses. However, in order to achive this, they need to be refrigerated below a certain critical temperature which is difference for each superconductor. \n",
    "\n",
    "The main goal of this dataset is to predict the critical temperature of each material which is in the last column."
   ]
  },
  {
   "cell_type": "code",
   "execution_count": null,
   "metadata": {
    "colab": {
     "base_uri": "https://localhost:8080/"
    },
    "executionInfo": {
     "elapsed": 610,
     "status": "ok",
     "timestamp": 1626945699466,
     "user": {
      "displayName": "Ignacio Soteras",
      "photoUrl": "",
      "userId": "02050793736257155229"
     },
     "user_tz": -120
    },
    "id": "97DIa_cPIZlC",
    "outputId": "e603316f-1a8d-4983-8b6a-733b84446b3a"
   },
   "outputs": [
    {
     "name": "stdout",
     "output_type": "stream",
     "text": [
      "Drive already mounted at /content/drive; to attempt to forcibly remount, call drive.mount(\"/content/drive\", force_remount=True).\n"
     ]
    }
   ],
   "source": [
    "from google.colab import drive\n",
    "drive.mount(\"/content/drive\")"
   ]
  },
  {
   "cell_type": "code",
   "execution_count": null,
   "metadata": {
    "colab": {
     "base_uri": "https://localhost:8080/"
    },
    "executionInfo": {
     "elapsed": 4196,
     "status": "ok",
     "timestamp": 1626945726187,
     "user": {
      "displayName": "Ignacio Soteras",
      "photoUrl": "",
      "userId": "02050793736257155229"
     },
     "user_tz": -120
    },
    "id": "GXFmwK1MrBTi",
    "outputId": "ff2f731f-db2f-4cc6-e0b4-4c612f0aa319"
   },
   "outputs": [
    {
     "name": "stdout",
     "output_type": "stream",
     "text": [
      "(21263, 82)\n"
     ]
    }
   ],
   "source": [
    "data = pd.read_csv(\"/content/drive/MyDrive/OLD_CURR/UNIT8/DAY4/superconduct/dataset.csv\")\n",
    "\n",
    "print(data.shape)\n"
   ]
  },
  {
   "cell_type": "code",
   "execution_count": null,
   "metadata": {
    "colab": {
     "base_uri": "https://localhost:8080/"
    },
    "executionInfo": {
     "elapsed": 265,
     "status": "ok",
     "timestamp": 1626945742563,
     "user": {
      "displayName": "Ignacio Soteras",
      "photoUrl": "",
      "userId": "02050793736257155229"
     },
     "user_tz": -120
    },
    "id": "pdtnYox-s4yy",
    "outputId": "ddedce32-6846-4394-e2aa-65783db5d6f8"
   },
   "outputs": [
    {
     "name": "stdout",
     "output_type": "stream",
     "text": [
      "<class 'pandas.core.frame.DataFrame'>\n",
      "RangeIndex: 21263 entries, 0 to 21262\n",
      "Data columns (total 82 columns):\n",
      " #   Column                           Non-Null Count  Dtype  \n",
      "---  ------                           --------------  -----  \n",
      " 0   number_of_elements               21263 non-null  int64  \n",
      " 1   mean_atomic_mass                 21263 non-null  float64\n",
      " 2   wtd_mean_atomic_mass             21263 non-null  float64\n",
      " 3   gmean_atomic_mass                21263 non-null  float64\n",
      " 4   wtd_gmean_atomic_mass            21263 non-null  float64\n",
      " 5   entropy_atomic_mass              21263 non-null  float64\n",
      " 6   wtd_entropy_atomic_mass          21263 non-null  float64\n",
      " 7   range_atomic_mass                21263 non-null  float64\n",
      " 8   wtd_range_atomic_mass            21263 non-null  float64\n",
      " 9   std_atomic_mass                  21263 non-null  float64\n",
      " 10  wtd_std_atomic_mass              21263 non-null  float64\n",
      " 11  mean_fie                         21263 non-null  float64\n",
      " 12  wtd_mean_fie                     21263 non-null  float64\n",
      " 13  gmean_fie                        21263 non-null  float64\n",
      " 14  wtd_gmean_fie                    21263 non-null  float64\n",
      " 15  entropy_fie                      21263 non-null  float64\n",
      " 16  wtd_entropy_fie                  21263 non-null  float64\n",
      " 17  range_fie                        21263 non-null  float64\n",
      " 18  wtd_range_fie                    21263 non-null  float64\n",
      " 19  std_fie                          21263 non-null  float64\n",
      " 20  wtd_std_fie                      21263 non-null  float64\n",
      " 21  mean_atomic_radius               21263 non-null  float64\n",
      " 22  wtd_mean_atomic_radius           21263 non-null  float64\n",
      " 23  gmean_atomic_radius              21263 non-null  float64\n",
      " 24  wtd_gmean_atomic_radius          21263 non-null  float64\n",
      " 25  entropy_atomic_radius            21263 non-null  float64\n",
      " 26  wtd_entropy_atomic_radius        21263 non-null  float64\n",
      " 27  range_atomic_radius              21263 non-null  int64  \n",
      " 28  wtd_range_atomic_radius          21263 non-null  float64\n",
      " 29  std_atomic_radius                21263 non-null  float64\n",
      " 30  wtd_std_atomic_radius            21263 non-null  float64\n",
      " 31  mean_Density                     21263 non-null  float64\n",
      " 32  wtd_mean_Density                 21263 non-null  float64\n",
      " 33  gmean_Density                    21263 non-null  float64\n",
      " 34  wtd_gmean_Density                21263 non-null  float64\n",
      " 35  entropy_Density                  21263 non-null  float64\n",
      " 36  wtd_entropy_Density              21263 non-null  float64\n",
      " 37  range_Density                    21263 non-null  float64\n",
      " 38  wtd_range_Density                21263 non-null  float64\n",
      " 39  std_Density                      21263 non-null  float64\n",
      " 40  wtd_std_Density                  21263 non-null  float64\n",
      " 41  mean_ElectronAffinity            21263 non-null  float64\n",
      " 42  wtd_mean_ElectronAffinity        21263 non-null  float64\n",
      " 43  gmean_ElectronAffinity           21263 non-null  float64\n",
      " 44  wtd_gmean_ElectronAffinity       21263 non-null  float64\n",
      " 45  entropy_ElectronAffinity         21263 non-null  float64\n",
      " 46  wtd_entropy_ElectronAffinity     21263 non-null  float64\n",
      " 47  range_ElectronAffinity           21263 non-null  float64\n",
      " 48  wtd_range_ElectronAffinity       21263 non-null  float64\n",
      " 49  std_ElectronAffinity             21263 non-null  float64\n",
      " 50  wtd_std_ElectronAffinity         21263 non-null  float64\n",
      " 51  mean_FusionHeat                  21263 non-null  float64\n",
      " 52  wtd_mean_FusionHeat              21263 non-null  float64\n",
      " 53  gmean_FusionHeat                 21263 non-null  float64\n",
      " 54  wtd_gmean_FusionHeat             21263 non-null  float64\n",
      " 55  entropy_FusionHeat               21263 non-null  float64\n",
      " 56  wtd_entropy_FusionHeat           21263 non-null  float64\n",
      " 57  range_FusionHeat                 21263 non-null  float64\n",
      " 58  wtd_range_FusionHeat             21263 non-null  float64\n",
      " 59  std_FusionHeat                   21263 non-null  float64\n",
      " 60  wtd_std_FusionHeat               21263 non-null  float64\n",
      " 61  mean_ThermalConductivity         21263 non-null  float64\n",
      " 62  wtd_mean_ThermalConductivity     21263 non-null  float64\n",
      " 63  gmean_ThermalConductivity        21263 non-null  float64\n",
      " 64  wtd_gmean_ThermalConductivity    21263 non-null  float64\n",
      " 65  entropy_ThermalConductivity      21263 non-null  float64\n",
      " 66  wtd_entropy_ThermalConductivity  21263 non-null  float64\n",
      " 67  range_ThermalConductivity        21263 non-null  float64\n",
      " 68  wtd_range_ThermalConductivity    21263 non-null  float64\n",
      " 69  std_ThermalConductivity          21263 non-null  float64\n",
      " 70  wtd_std_ThermalConductivity      21263 non-null  float64\n",
      " 71  mean_Valence                     21263 non-null  float64\n",
      " 72  wtd_mean_Valence                 21263 non-null  float64\n",
      " 73  gmean_Valence                    21263 non-null  float64\n",
      " 74  wtd_gmean_Valence                21263 non-null  float64\n",
      " 75  entropy_Valence                  21263 non-null  float64\n",
      " 76  wtd_entropy_Valence              21263 non-null  float64\n",
      " 77  range_Valence                    21263 non-null  int64  \n",
      " 78  wtd_range_Valence                21263 non-null  float64\n",
      " 79  std_Valence                      21263 non-null  float64\n",
      " 80  wtd_std_Valence                  21263 non-null  float64\n",
      " 81  critical_temp                    21263 non-null  float64\n",
      "dtypes: float64(79), int64(3)\n",
      "memory usage: 13.3 MB\n"
     ]
    }
   ],
   "source": [
    "data.info()"
   ]
  },
  {
   "cell_type": "code",
   "execution_count": null,
   "metadata": {
    "colab": {
     "base_uri": "https://localhost:8080/",
     "height": 255
    },
    "executionInfo": {
     "elapsed": 282,
     "status": "ok",
     "timestamp": 1626945766297,
     "user": {
      "displayName": "Ignacio Soteras",
      "photoUrl": "",
      "userId": "02050793736257155229"
     },
     "user_tz": -120
    },
    "id": "bt_ugdQyxZ1T",
    "outputId": "867a8242-b2ab-4b6a-aacd-9f0656d3d8d6"
   },
   "outputs": [
    {
     "data": {
      "text/html": [
       "<div>\n",
       "<style scoped>\n",
       "    .dataframe tbody tr th:only-of-type {\n",
       "        vertical-align: middle;\n",
       "    }\n",
       "\n",
       "    .dataframe tbody tr th {\n",
       "        vertical-align: top;\n",
       "    }\n",
       "\n",
       "    .dataframe thead th {\n",
       "        text-align: right;\n",
       "    }\n",
       "</style>\n",
       "<table border=\"1\" class=\"dataframe\">\n",
       "  <thead>\n",
       "    <tr style=\"text-align: right;\">\n",
       "      <th></th>\n",
       "      <th>number_of_elements</th>\n",
       "      <th>mean_atomic_mass</th>\n",
       "      <th>wtd_mean_atomic_mass</th>\n",
       "      <th>gmean_atomic_mass</th>\n",
       "      <th>wtd_gmean_atomic_mass</th>\n",
       "      <th>entropy_atomic_mass</th>\n",
       "      <th>wtd_entropy_atomic_mass</th>\n",
       "      <th>range_atomic_mass</th>\n",
       "      <th>wtd_range_atomic_mass</th>\n",
       "      <th>std_atomic_mass</th>\n",
       "      <th>wtd_std_atomic_mass</th>\n",
       "      <th>mean_fie</th>\n",
       "      <th>wtd_mean_fie</th>\n",
       "      <th>gmean_fie</th>\n",
       "      <th>wtd_gmean_fie</th>\n",
       "      <th>entropy_fie</th>\n",
       "      <th>wtd_entropy_fie</th>\n",
       "      <th>range_fie</th>\n",
       "      <th>wtd_range_fie</th>\n",
       "      <th>std_fie</th>\n",
       "      <th>wtd_std_fie</th>\n",
       "      <th>mean_atomic_radius</th>\n",
       "      <th>wtd_mean_atomic_radius</th>\n",
       "      <th>gmean_atomic_radius</th>\n",
       "      <th>wtd_gmean_atomic_radius</th>\n",
       "      <th>entropy_atomic_radius</th>\n",
       "      <th>wtd_entropy_atomic_radius</th>\n",
       "      <th>range_atomic_radius</th>\n",
       "      <th>wtd_range_atomic_radius</th>\n",
       "      <th>std_atomic_radius</th>\n",
       "      <th>wtd_std_atomic_radius</th>\n",
       "      <th>mean_Density</th>\n",
       "      <th>wtd_mean_Density</th>\n",
       "      <th>gmean_Density</th>\n",
       "      <th>wtd_gmean_Density</th>\n",
       "      <th>entropy_Density</th>\n",
       "      <th>wtd_entropy_Density</th>\n",
       "      <th>range_Density</th>\n",
       "      <th>wtd_range_Density</th>\n",
       "      <th>std_Density</th>\n",
       "      <th>...</th>\n",
       "      <th>wtd_mean_ElectronAffinity</th>\n",
       "      <th>gmean_ElectronAffinity</th>\n",
       "      <th>wtd_gmean_ElectronAffinity</th>\n",
       "      <th>entropy_ElectronAffinity</th>\n",
       "      <th>wtd_entropy_ElectronAffinity</th>\n",
       "      <th>range_ElectronAffinity</th>\n",
       "      <th>wtd_range_ElectronAffinity</th>\n",
       "      <th>std_ElectronAffinity</th>\n",
       "      <th>wtd_std_ElectronAffinity</th>\n",
       "      <th>mean_FusionHeat</th>\n",
       "      <th>wtd_mean_FusionHeat</th>\n",
       "      <th>gmean_FusionHeat</th>\n",
       "      <th>wtd_gmean_FusionHeat</th>\n",
       "      <th>entropy_FusionHeat</th>\n",
       "      <th>wtd_entropy_FusionHeat</th>\n",
       "      <th>range_FusionHeat</th>\n",
       "      <th>wtd_range_FusionHeat</th>\n",
       "      <th>std_FusionHeat</th>\n",
       "      <th>wtd_std_FusionHeat</th>\n",
       "      <th>mean_ThermalConductivity</th>\n",
       "      <th>wtd_mean_ThermalConductivity</th>\n",
       "      <th>gmean_ThermalConductivity</th>\n",
       "      <th>wtd_gmean_ThermalConductivity</th>\n",
       "      <th>entropy_ThermalConductivity</th>\n",
       "      <th>wtd_entropy_ThermalConductivity</th>\n",
       "      <th>range_ThermalConductivity</th>\n",
       "      <th>wtd_range_ThermalConductivity</th>\n",
       "      <th>std_ThermalConductivity</th>\n",
       "      <th>wtd_std_ThermalConductivity</th>\n",
       "      <th>mean_Valence</th>\n",
       "      <th>wtd_mean_Valence</th>\n",
       "      <th>gmean_Valence</th>\n",
       "      <th>wtd_gmean_Valence</th>\n",
       "      <th>entropy_Valence</th>\n",
       "      <th>wtd_entropy_Valence</th>\n",
       "      <th>range_Valence</th>\n",
       "      <th>wtd_range_Valence</th>\n",
       "      <th>std_Valence</th>\n",
       "      <th>wtd_std_Valence</th>\n",
       "      <th>critical_temp</th>\n",
       "    </tr>\n",
       "  </thead>\n",
       "  <tbody>\n",
       "    <tr>\n",
       "      <th>0</th>\n",
       "      <td>4</td>\n",
       "      <td>88.944468</td>\n",
       "      <td>57.862692</td>\n",
       "      <td>66.361592</td>\n",
       "      <td>36.116612</td>\n",
       "      <td>1.181795</td>\n",
       "      <td>1.062396</td>\n",
       "      <td>122.90607</td>\n",
       "      <td>31.794921</td>\n",
       "      <td>51.968828</td>\n",
       "      <td>53.622535</td>\n",
       "      <td>775.425</td>\n",
       "      <td>1010.268571</td>\n",
       "      <td>718.152900</td>\n",
       "      <td>938.016780</td>\n",
       "      <td>1.305967</td>\n",
       "      <td>0.791488</td>\n",
       "      <td>810.6</td>\n",
       "      <td>735.985714</td>\n",
       "      <td>323.811808</td>\n",
       "      <td>355.562967</td>\n",
       "      <td>160.25</td>\n",
       "      <td>105.514286</td>\n",
       "      <td>136.126003</td>\n",
       "      <td>84.528423</td>\n",
       "      <td>1.259244</td>\n",
       "      <td>1.207040</td>\n",
       "      <td>205</td>\n",
       "      <td>42.914286</td>\n",
       "      <td>75.237540</td>\n",
       "      <td>69.235569</td>\n",
       "      <td>4654.35725</td>\n",
       "      <td>2961.502286</td>\n",
       "      <td>724.953211</td>\n",
       "      <td>53.543811</td>\n",
       "      <td>1.033129</td>\n",
       "      <td>0.814598</td>\n",
       "      <td>8958.571</td>\n",
       "      <td>1579.583429</td>\n",
       "      <td>3306.162897</td>\n",
       "      <td>...</td>\n",
       "      <td>111.727143</td>\n",
       "      <td>60.123179</td>\n",
       "      <td>99.414682</td>\n",
       "      <td>1.159687</td>\n",
       "      <td>0.787382</td>\n",
       "      <td>127.05</td>\n",
       "      <td>80.987143</td>\n",
       "      <td>51.433712</td>\n",
       "      <td>42.558396</td>\n",
       "      <td>6.9055</td>\n",
       "      <td>3.846857</td>\n",
       "      <td>3.479475</td>\n",
       "      <td>1.040986</td>\n",
       "      <td>1.088575</td>\n",
       "      <td>0.994998</td>\n",
       "      <td>12.878</td>\n",
       "      <td>1.744571</td>\n",
       "      <td>4.599064</td>\n",
       "      <td>4.666920</td>\n",
       "      <td>107.756645</td>\n",
       "      <td>61.015189</td>\n",
       "      <td>7.062488</td>\n",
       "      <td>0.621979</td>\n",
       "      <td>0.308148</td>\n",
       "      <td>0.262848</td>\n",
       "      <td>399.97342</td>\n",
       "      <td>57.127669</td>\n",
       "      <td>168.854244</td>\n",
       "      <td>138.517163</td>\n",
       "      <td>2.25</td>\n",
       "      <td>2.257143</td>\n",
       "      <td>2.213364</td>\n",
       "      <td>2.219783</td>\n",
       "      <td>1.368922</td>\n",
       "      <td>1.066221</td>\n",
       "      <td>1</td>\n",
       "      <td>1.085714</td>\n",
       "      <td>0.433013</td>\n",
       "      <td>0.437059</td>\n",
       "      <td>29.0</td>\n",
       "    </tr>\n",
       "    <tr>\n",
       "      <th>1</th>\n",
       "      <td>5</td>\n",
       "      <td>92.729214</td>\n",
       "      <td>58.518416</td>\n",
       "      <td>73.132787</td>\n",
       "      <td>36.396602</td>\n",
       "      <td>1.449309</td>\n",
       "      <td>1.057755</td>\n",
       "      <td>122.90607</td>\n",
       "      <td>36.161939</td>\n",
       "      <td>47.094633</td>\n",
       "      <td>53.979870</td>\n",
       "      <td>766.440</td>\n",
       "      <td>1010.612857</td>\n",
       "      <td>720.605511</td>\n",
       "      <td>938.745413</td>\n",
       "      <td>1.544145</td>\n",
       "      <td>0.807078</td>\n",
       "      <td>810.6</td>\n",
       "      <td>743.164286</td>\n",
       "      <td>290.183029</td>\n",
       "      <td>354.963511</td>\n",
       "      <td>161.20</td>\n",
       "      <td>104.971429</td>\n",
       "      <td>141.465215</td>\n",
       "      <td>84.370167</td>\n",
       "      <td>1.508328</td>\n",
       "      <td>1.204115</td>\n",
       "      <td>205</td>\n",
       "      <td>50.571429</td>\n",
       "      <td>67.321319</td>\n",
       "      <td>68.008817</td>\n",
       "      <td>5821.48580</td>\n",
       "      <td>3021.016571</td>\n",
       "      <td>1237.095080</td>\n",
       "      <td>54.095718</td>\n",
       "      <td>1.314442</td>\n",
       "      <td>0.914802</td>\n",
       "      <td>10488.571</td>\n",
       "      <td>1667.383429</td>\n",
       "      <td>3767.403176</td>\n",
       "      <td>...</td>\n",
       "      <td>112.316429</td>\n",
       "      <td>69.833315</td>\n",
       "      <td>101.166398</td>\n",
       "      <td>1.427997</td>\n",
       "      <td>0.838666</td>\n",
       "      <td>127.05</td>\n",
       "      <td>81.207857</td>\n",
       "      <td>49.438167</td>\n",
       "      <td>41.667621</td>\n",
       "      <td>7.7844</td>\n",
       "      <td>3.796857</td>\n",
       "      <td>4.403790</td>\n",
       "      <td>1.035251</td>\n",
       "      <td>1.374977</td>\n",
       "      <td>1.073094</td>\n",
       "      <td>12.878</td>\n",
       "      <td>1.595714</td>\n",
       "      <td>4.473363</td>\n",
       "      <td>4.603000</td>\n",
       "      <td>172.205316</td>\n",
       "      <td>61.372331</td>\n",
       "      <td>16.064228</td>\n",
       "      <td>0.619735</td>\n",
       "      <td>0.847404</td>\n",
       "      <td>0.567706</td>\n",
       "      <td>429.97342</td>\n",
       "      <td>51.413383</td>\n",
       "      <td>198.554600</td>\n",
       "      <td>139.630922</td>\n",
       "      <td>2.00</td>\n",
       "      <td>2.257143</td>\n",
       "      <td>1.888175</td>\n",
       "      <td>2.210679</td>\n",
       "      <td>1.557113</td>\n",
       "      <td>1.047221</td>\n",
       "      <td>2</td>\n",
       "      <td>1.128571</td>\n",
       "      <td>0.632456</td>\n",
       "      <td>0.468606</td>\n",
       "      <td>26.0</td>\n",
       "    </tr>\n",
       "    <tr>\n",
       "      <th>2</th>\n",
       "      <td>4</td>\n",
       "      <td>88.944468</td>\n",
       "      <td>57.885242</td>\n",
       "      <td>66.361592</td>\n",
       "      <td>36.122509</td>\n",
       "      <td>1.181795</td>\n",
       "      <td>0.975980</td>\n",
       "      <td>122.90607</td>\n",
       "      <td>35.741099</td>\n",
       "      <td>51.968828</td>\n",
       "      <td>53.656268</td>\n",
       "      <td>775.425</td>\n",
       "      <td>1010.820000</td>\n",
       "      <td>718.152900</td>\n",
       "      <td>939.009036</td>\n",
       "      <td>1.305967</td>\n",
       "      <td>0.773620</td>\n",
       "      <td>810.6</td>\n",
       "      <td>743.164286</td>\n",
       "      <td>323.811808</td>\n",
       "      <td>354.804183</td>\n",
       "      <td>160.25</td>\n",
       "      <td>104.685714</td>\n",
       "      <td>136.126003</td>\n",
       "      <td>84.214573</td>\n",
       "      <td>1.259244</td>\n",
       "      <td>1.132547</td>\n",
       "      <td>205</td>\n",
       "      <td>49.314286</td>\n",
       "      <td>75.237540</td>\n",
       "      <td>67.797712</td>\n",
       "      <td>4654.35725</td>\n",
       "      <td>2999.159429</td>\n",
       "      <td>724.953211</td>\n",
       "      <td>53.974022</td>\n",
       "      <td>1.033129</td>\n",
       "      <td>0.760305</td>\n",
       "      <td>8958.571</td>\n",
       "      <td>1667.383429</td>\n",
       "      <td>3306.162897</td>\n",
       "      <td>...</td>\n",
       "      <td>112.213571</td>\n",
       "      <td>60.123179</td>\n",
       "      <td>101.082152</td>\n",
       "      <td>1.159687</td>\n",
       "      <td>0.786007</td>\n",
       "      <td>127.05</td>\n",
       "      <td>81.207857</td>\n",
       "      <td>51.433712</td>\n",
       "      <td>41.639878</td>\n",
       "      <td>6.9055</td>\n",
       "      <td>3.822571</td>\n",
       "      <td>3.479475</td>\n",
       "      <td>1.037439</td>\n",
       "      <td>1.088575</td>\n",
       "      <td>0.927479</td>\n",
       "      <td>12.878</td>\n",
       "      <td>1.757143</td>\n",
       "      <td>4.599064</td>\n",
       "      <td>4.649635</td>\n",
       "      <td>107.756645</td>\n",
       "      <td>60.943760</td>\n",
       "      <td>7.062488</td>\n",
       "      <td>0.619095</td>\n",
       "      <td>0.308148</td>\n",
       "      <td>0.250477</td>\n",
       "      <td>399.97342</td>\n",
       "      <td>57.127669</td>\n",
       "      <td>168.854244</td>\n",
       "      <td>138.540613</td>\n",
       "      <td>2.25</td>\n",
       "      <td>2.271429</td>\n",
       "      <td>2.213364</td>\n",
       "      <td>2.232679</td>\n",
       "      <td>1.368922</td>\n",
       "      <td>1.029175</td>\n",
       "      <td>1</td>\n",
       "      <td>1.114286</td>\n",
       "      <td>0.433013</td>\n",
       "      <td>0.444697</td>\n",
       "      <td>19.0</td>\n",
       "    </tr>\n",
       "    <tr>\n",
       "      <th>3</th>\n",
       "      <td>4</td>\n",
       "      <td>88.944468</td>\n",
       "      <td>57.873967</td>\n",
       "      <td>66.361592</td>\n",
       "      <td>36.119560</td>\n",
       "      <td>1.181795</td>\n",
       "      <td>1.022291</td>\n",
       "      <td>122.90607</td>\n",
       "      <td>33.768010</td>\n",
       "      <td>51.968828</td>\n",
       "      <td>53.639405</td>\n",
       "      <td>775.425</td>\n",
       "      <td>1010.544286</td>\n",
       "      <td>718.152900</td>\n",
       "      <td>938.512777</td>\n",
       "      <td>1.305967</td>\n",
       "      <td>0.783207</td>\n",
       "      <td>810.6</td>\n",
       "      <td>739.575000</td>\n",
       "      <td>323.811808</td>\n",
       "      <td>355.183884</td>\n",
       "      <td>160.25</td>\n",
       "      <td>105.100000</td>\n",
       "      <td>136.126003</td>\n",
       "      <td>84.371352</td>\n",
       "      <td>1.259244</td>\n",
       "      <td>1.173033</td>\n",
       "      <td>205</td>\n",
       "      <td>46.114286</td>\n",
       "      <td>75.237540</td>\n",
       "      <td>68.521665</td>\n",
       "      <td>4654.35725</td>\n",
       "      <td>2980.330857</td>\n",
       "      <td>724.953211</td>\n",
       "      <td>53.758486</td>\n",
       "      <td>1.033129</td>\n",
       "      <td>0.788889</td>\n",
       "      <td>8958.571</td>\n",
       "      <td>1623.483429</td>\n",
       "      <td>3306.162897</td>\n",
       "      <td>...</td>\n",
       "      <td>111.970357</td>\n",
       "      <td>60.123179</td>\n",
       "      <td>100.244950</td>\n",
       "      <td>1.159687</td>\n",
       "      <td>0.786900</td>\n",
       "      <td>127.05</td>\n",
       "      <td>81.097500</td>\n",
       "      <td>51.433712</td>\n",
       "      <td>42.102344</td>\n",
       "      <td>6.9055</td>\n",
       "      <td>3.834714</td>\n",
       "      <td>3.479475</td>\n",
       "      <td>1.039211</td>\n",
       "      <td>1.088575</td>\n",
       "      <td>0.964031</td>\n",
       "      <td>12.878</td>\n",
       "      <td>1.744571</td>\n",
       "      <td>4.599064</td>\n",
       "      <td>4.658301</td>\n",
       "      <td>107.756645</td>\n",
       "      <td>60.979474</td>\n",
       "      <td>7.062488</td>\n",
       "      <td>0.620535</td>\n",
       "      <td>0.308148</td>\n",
       "      <td>0.257045</td>\n",
       "      <td>399.97342</td>\n",
       "      <td>57.127669</td>\n",
       "      <td>168.854244</td>\n",
       "      <td>138.528893</td>\n",
       "      <td>2.25</td>\n",
       "      <td>2.264286</td>\n",
       "      <td>2.213364</td>\n",
       "      <td>2.226222</td>\n",
       "      <td>1.368922</td>\n",
       "      <td>1.048834</td>\n",
       "      <td>1</td>\n",
       "      <td>1.100000</td>\n",
       "      <td>0.433013</td>\n",
       "      <td>0.440952</td>\n",
       "      <td>22.0</td>\n",
       "    </tr>\n",
       "    <tr>\n",
       "      <th>4</th>\n",
       "      <td>4</td>\n",
       "      <td>88.944468</td>\n",
       "      <td>57.840143</td>\n",
       "      <td>66.361592</td>\n",
       "      <td>36.110716</td>\n",
       "      <td>1.181795</td>\n",
       "      <td>1.129224</td>\n",
       "      <td>122.90607</td>\n",
       "      <td>27.848743</td>\n",
       "      <td>51.968828</td>\n",
       "      <td>53.588771</td>\n",
       "      <td>775.425</td>\n",
       "      <td>1009.717143</td>\n",
       "      <td>718.152900</td>\n",
       "      <td>937.025573</td>\n",
       "      <td>1.305967</td>\n",
       "      <td>0.805230</td>\n",
       "      <td>810.6</td>\n",
       "      <td>728.807143</td>\n",
       "      <td>323.811808</td>\n",
       "      <td>356.319281</td>\n",
       "      <td>160.25</td>\n",
       "      <td>106.342857</td>\n",
       "      <td>136.126003</td>\n",
       "      <td>84.843442</td>\n",
       "      <td>1.259244</td>\n",
       "      <td>1.261194</td>\n",
       "      <td>205</td>\n",
       "      <td>36.514286</td>\n",
       "      <td>75.237540</td>\n",
       "      <td>70.634448</td>\n",
       "      <td>4654.35725</td>\n",
       "      <td>2923.845143</td>\n",
       "      <td>724.953211</td>\n",
       "      <td>53.117029</td>\n",
       "      <td>1.033129</td>\n",
       "      <td>0.859811</td>\n",
       "      <td>8958.571</td>\n",
       "      <td>1491.783429</td>\n",
       "      <td>3306.162897</td>\n",
       "      <td>...</td>\n",
       "      <td>111.240714</td>\n",
       "      <td>60.123179</td>\n",
       "      <td>97.774719</td>\n",
       "      <td>1.159687</td>\n",
       "      <td>0.787396</td>\n",
       "      <td>127.05</td>\n",
       "      <td>80.766429</td>\n",
       "      <td>51.433712</td>\n",
       "      <td>43.452059</td>\n",
       "      <td>6.9055</td>\n",
       "      <td>3.871143</td>\n",
       "      <td>3.479475</td>\n",
       "      <td>1.044545</td>\n",
       "      <td>1.088575</td>\n",
       "      <td>1.044970</td>\n",
       "      <td>12.878</td>\n",
       "      <td>1.744571</td>\n",
       "      <td>4.599064</td>\n",
       "      <td>4.684014</td>\n",
       "      <td>107.756645</td>\n",
       "      <td>61.086617</td>\n",
       "      <td>7.062488</td>\n",
       "      <td>0.624878</td>\n",
       "      <td>0.308148</td>\n",
       "      <td>0.272820</td>\n",
       "      <td>399.97342</td>\n",
       "      <td>57.127669</td>\n",
       "      <td>168.854244</td>\n",
       "      <td>138.493671</td>\n",
       "      <td>2.25</td>\n",
       "      <td>2.242857</td>\n",
       "      <td>2.213364</td>\n",
       "      <td>2.206963</td>\n",
       "      <td>1.368922</td>\n",
       "      <td>1.096052</td>\n",
       "      <td>1</td>\n",
       "      <td>1.057143</td>\n",
       "      <td>0.433013</td>\n",
       "      <td>0.428809</td>\n",
       "      <td>23.0</td>\n",
       "    </tr>\n",
       "  </tbody>\n",
       "</table>\n",
       "<p>5 rows × 82 columns</p>\n",
       "</div>"
      ],
      "text/plain": [
       "   number_of_elements  mean_atomic_mass  ...  wtd_std_Valence  critical_temp\n",
       "0                   4         88.944468  ...         0.437059           29.0\n",
       "1                   5         92.729214  ...         0.468606           26.0\n",
       "2                   4         88.944468  ...         0.444697           19.0\n",
       "3                   4         88.944468  ...         0.440952           22.0\n",
       "4                   4         88.944468  ...         0.428809           23.0\n",
       "\n",
       "[5 rows x 82 columns]"
      ]
     },
     "execution_count": 5,
     "metadata": {
      "tags": []
     },
     "output_type": "execute_result"
    }
   ],
   "source": [
    "data.head()"
   ]
  },
  {
   "cell_type": "code",
   "execution_count": null,
   "metadata": {
    "colab": {
     "base_uri": "https://localhost:8080/",
     "height": 348
    },
    "executionInfo": {
     "elapsed": 646,
     "status": "ok",
     "timestamp": 1626945797036,
     "user": {
      "displayName": "Ignacio Soteras",
      "photoUrl": "",
      "userId": "02050793736257155229"
     },
     "user_tz": -120
    },
    "id": "doDKsxOjxwRp",
    "outputId": "9789e37a-b57e-45fd-e190-df4946ef1cfa"
   },
   "outputs": [
    {
     "data": {
      "text/html": [
       "<div>\n",
       "<style scoped>\n",
       "    .dataframe tbody tr th:only-of-type {\n",
       "        vertical-align: middle;\n",
       "    }\n",
       "\n",
       "    .dataframe tbody tr th {\n",
       "        vertical-align: top;\n",
       "    }\n",
       "\n",
       "    .dataframe thead th {\n",
       "        text-align: right;\n",
       "    }\n",
       "</style>\n",
       "<table border=\"1\" class=\"dataframe\">\n",
       "  <thead>\n",
       "    <tr style=\"text-align: right;\">\n",
       "      <th></th>\n",
       "      <th>number_of_elements</th>\n",
       "      <th>mean_atomic_mass</th>\n",
       "      <th>wtd_mean_atomic_mass</th>\n",
       "      <th>gmean_atomic_mass</th>\n",
       "      <th>wtd_gmean_atomic_mass</th>\n",
       "      <th>entropy_atomic_mass</th>\n",
       "      <th>wtd_entropy_atomic_mass</th>\n",
       "      <th>range_atomic_mass</th>\n",
       "      <th>wtd_range_atomic_mass</th>\n",
       "      <th>std_atomic_mass</th>\n",
       "      <th>wtd_std_atomic_mass</th>\n",
       "      <th>mean_fie</th>\n",
       "      <th>wtd_mean_fie</th>\n",
       "      <th>gmean_fie</th>\n",
       "      <th>wtd_gmean_fie</th>\n",
       "      <th>entropy_fie</th>\n",
       "      <th>wtd_entropy_fie</th>\n",
       "      <th>range_fie</th>\n",
       "      <th>wtd_range_fie</th>\n",
       "      <th>std_fie</th>\n",
       "      <th>wtd_std_fie</th>\n",
       "      <th>mean_atomic_radius</th>\n",
       "      <th>wtd_mean_atomic_radius</th>\n",
       "      <th>gmean_atomic_radius</th>\n",
       "      <th>wtd_gmean_atomic_radius</th>\n",
       "      <th>entropy_atomic_radius</th>\n",
       "      <th>wtd_entropy_atomic_radius</th>\n",
       "      <th>range_atomic_radius</th>\n",
       "      <th>wtd_range_atomic_radius</th>\n",
       "      <th>std_atomic_radius</th>\n",
       "      <th>wtd_std_atomic_radius</th>\n",
       "      <th>mean_Density</th>\n",
       "      <th>wtd_mean_Density</th>\n",
       "      <th>gmean_Density</th>\n",
       "      <th>wtd_gmean_Density</th>\n",
       "      <th>entropy_Density</th>\n",
       "      <th>wtd_entropy_Density</th>\n",
       "      <th>range_Density</th>\n",
       "      <th>wtd_range_Density</th>\n",
       "      <th>std_Density</th>\n",
       "      <th>...</th>\n",
       "      <th>wtd_mean_ElectronAffinity</th>\n",
       "      <th>gmean_ElectronAffinity</th>\n",
       "      <th>wtd_gmean_ElectronAffinity</th>\n",
       "      <th>entropy_ElectronAffinity</th>\n",
       "      <th>wtd_entropy_ElectronAffinity</th>\n",
       "      <th>range_ElectronAffinity</th>\n",
       "      <th>wtd_range_ElectronAffinity</th>\n",
       "      <th>std_ElectronAffinity</th>\n",
       "      <th>wtd_std_ElectronAffinity</th>\n",
       "      <th>mean_FusionHeat</th>\n",
       "      <th>wtd_mean_FusionHeat</th>\n",
       "      <th>gmean_FusionHeat</th>\n",
       "      <th>wtd_gmean_FusionHeat</th>\n",
       "      <th>entropy_FusionHeat</th>\n",
       "      <th>wtd_entropy_FusionHeat</th>\n",
       "      <th>range_FusionHeat</th>\n",
       "      <th>wtd_range_FusionHeat</th>\n",
       "      <th>std_FusionHeat</th>\n",
       "      <th>wtd_std_FusionHeat</th>\n",
       "      <th>mean_ThermalConductivity</th>\n",
       "      <th>wtd_mean_ThermalConductivity</th>\n",
       "      <th>gmean_ThermalConductivity</th>\n",
       "      <th>wtd_gmean_ThermalConductivity</th>\n",
       "      <th>entropy_ThermalConductivity</th>\n",
       "      <th>wtd_entropy_ThermalConductivity</th>\n",
       "      <th>range_ThermalConductivity</th>\n",
       "      <th>wtd_range_ThermalConductivity</th>\n",
       "      <th>std_ThermalConductivity</th>\n",
       "      <th>wtd_std_ThermalConductivity</th>\n",
       "      <th>mean_Valence</th>\n",
       "      <th>wtd_mean_Valence</th>\n",
       "      <th>gmean_Valence</th>\n",
       "      <th>wtd_gmean_Valence</th>\n",
       "      <th>entropy_Valence</th>\n",
       "      <th>wtd_entropy_Valence</th>\n",
       "      <th>range_Valence</th>\n",
       "      <th>wtd_range_Valence</th>\n",
       "      <th>std_Valence</th>\n",
       "      <th>wtd_std_Valence</th>\n",
       "      <th>critical_temp</th>\n",
       "    </tr>\n",
       "  </thead>\n",
       "  <tbody>\n",
       "    <tr>\n",
       "      <th>count</th>\n",
       "      <td>21263.000000</td>\n",
       "      <td>21263.000000</td>\n",
       "      <td>21263.000000</td>\n",
       "      <td>21263.000000</td>\n",
       "      <td>21263.000000</td>\n",
       "      <td>21263.000000</td>\n",
       "      <td>21263.000000</td>\n",
       "      <td>21263.000000</td>\n",
       "      <td>21263.000000</td>\n",
       "      <td>21263.000000</td>\n",
       "      <td>21263.000000</td>\n",
       "      <td>21263.000000</td>\n",
       "      <td>21263.000000</td>\n",
       "      <td>21263.000000</td>\n",
       "      <td>21263.000000</td>\n",
       "      <td>21263.000000</td>\n",
       "      <td>21263.000000</td>\n",
       "      <td>21263.000000</td>\n",
       "      <td>21263.000000</td>\n",
       "      <td>21263.000000</td>\n",
       "      <td>21263.000000</td>\n",
       "      <td>21263.000000</td>\n",
       "      <td>21263.000000</td>\n",
       "      <td>21263.000000</td>\n",
       "      <td>21263.000000</td>\n",
       "      <td>21263.000000</td>\n",
       "      <td>21263.000000</td>\n",
       "      <td>21263.000000</td>\n",
       "      <td>21263.000000</td>\n",
       "      <td>21263.000000</td>\n",
       "      <td>21263.000000</td>\n",
       "      <td>21263.000000</td>\n",
       "      <td>21263.000000</td>\n",
       "      <td>21263.000000</td>\n",
       "      <td>21263.000000</td>\n",
       "      <td>21263.000000</td>\n",
       "      <td>21263.000000</td>\n",
       "      <td>21263.000000</td>\n",
       "      <td>21263.000000</td>\n",
       "      <td>21263.000000</td>\n",
       "      <td>...</td>\n",
       "      <td>21263.000000</td>\n",
       "      <td>21263.000000</td>\n",
       "      <td>21263.000000</td>\n",
       "      <td>21263.000000</td>\n",
       "      <td>21263.000000</td>\n",
       "      <td>21263.000000</td>\n",
       "      <td>21263.000000</td>\n",
       "      <td>21263.000000</td>\n",
       "      <td>21263.000000</td>\n",
       "      <td>21263.000000</td>\n",
       "      <td>21263.000000</td>\n",
       "      <td>21263.000000</td>\n",
       "      <td>21263.000000</td>\n",
       "      <td>21263.000000</td>\n",
       "      <td>21263.000000</td>\n",
       "      <td>21263.000000</td>\n",
       "      <td>21263.000000</td>\n",
       "      <td>21263.000000</td>\n",
       "      <td>21263.000000</td>\n",
       "      <td>21263.000000</td>\n",
       "      <td>21263.000000</td>\n",
       "      <td>21263.000000</td>\n",
       "      <td>21263.000000</td>\n",
       "      <td>21263.000000</td>\n",
       "      <td>21263.000000</td>\n",
       "      <td>21263.000000</td>\n",
       "      <td>21263.000000</td>\n",
       "      <td>21263.000000</td>\n",
       "      <td>21263.000000</td>\n",
       "      <td>21263.000000</td>\n",
       "      <td>21263.000000</td>\n",
       "      <td>21263.000000</td>\n",
       "      <td>21263.000000</td>\n",
       "      <td>21263.000000</td>\n",
       "      <td>21263.000000</td>\n",
       "      <td>21263.000000</td>\n",
       "      <td>21263.000000</td>\n",
       "      <td>21263.000000</td>\n",
       "      <td>21263.000000</td>\n",
       "      <td>21263.000000</td>\n",
       "    </tr>\n",
       "    <tr>\n",
       "      <th>mean</th>\n",
       "      <td>4.115224</td>\n",
       "      <td>87.557631</td>\n",
       "      <td>72.988310</td>\n",
       "      <td>71.290627</td>\n",
       "      <td>58.539916</td>\n",
       "      <td>1.165608</td>\n",
       "      <td>1.063884</td>\n",
       "      <td>115.601251</td>\n",
       "      <td>33.225218</td>\n",
       "      <td>44.391893</td>\n",
       "      <td>41.448045</td>\n",
       "      <td>769.614748</td>\n",
       "      <td>870.442317</td>\n",
       "      <td>737.474751</td>\n",
       "      <td>832.769649</td>\n",
       "      <td>1.299172</td>\n",
       "      <td>0.926726</td>\n",
       "      <td>572.222612</td>\n",
       "      <td>483.517264</td>\n",
       "      <td>215.631279</td>\n",
       "      <td>224.050033</td>\n",
       "      <td>157.983101</td>\n",
       "      <td>134.720039</td>\n",
       "      <td>144.448738</td>\n",
       "      <td>120.989330</td>\n",
       "      <td>1.267756</td>\n",
       "      <td>1.131138</td>\n",
       "      <td>139.325025</td>\n",
       "      <td>51.369885</td>\n",
       "      <td>51.601267</td>\n",
       "      <td>52.340465</td>\n",
       "      <td>6111.465214</td>\n",
       "      <td>5267.188547</td>\n",
       "      <td>3460.692235</td>\n",
       "      <td>3117.241110</td>\n",
       "      <td>1.072425</td>\n",
       "      <td>0.856037</td>\n",
       "      <td>8665.438818</td>\n",
       "      <td>2902.736814</td>\n",
       "      <td>3416.910784</td>\n",
       "      <td>...</td>\n",
       "      <td>92.717486</td>\n",
       "      <td>54.359502</td>\n",
       "      <td>72.416225</td>\n",
       "      <td>1.070250</td>\n",
       "      <td>0.770757</td>\n",
       "      <td>120.730514</td>\n",
       "      <td>59.332637</td>\n",
       "      <td>48.912207</td>\n",
       "      <td>44.409356</td>\n",
       "      <td>14.296113</td>\n",
       "      <td>13.848001</td>\n",
       "      <td>10.136977</td>\n",
       "      <td>10.141161</td>\n",
       "      <td>1.093343</td>\n",
       "      <td>0.914065</td>\n",
       "      <td>21.138994</td>\n",
       "      <td>8.218528</td>\n",
       "      <td>8.323333</td>\n",
       "      <td>7.717576</td>\n",
       "      <td>89.706911</td>\n",
       "      <td>81.549080</td>\n",
       "      <td>29.841727</td>\n",
       "      <td>27.308061</td>\n",
       "      <td>0.727630</td>\n",
       "      <td>0.539991</td>\n",
       "      <td>250.893443</td>\n",
       "      <td>62.033066</td>\n",
       "      <td>98.943993</td>\n",
       "      <td>96.234051</td>\n",
       "      <td>3.198228</td>\n",
       "      <td>3.153127</td>\n",
       "      <td>3.056536</td>\n",
       "      <td>3.055885</td>\n",
       "      <td>1.295682</td>\n",
       "      <td>1.052841</td>\n",
       "      <td>2.041010</td>\n",
       "      <td>1.483007</td>\n",
       "      <td>0.839342</td>\n",
       "      <td>0.673987</td>\n",
       "      <td>34.421219</td>\n",
       "    </tr>\n",
       "    <tr>\n",
       "      <th>std</th>\n",
       "      <td>1.439295</td>\n",
       "      <td>29.676497</td>\n",
       "      <td>33.490406</td>\n",
       "      <td>31.030272</td>\n",
       "      <td>36.651067</td>\n",
       "      <td>0.364930</td>\n",
       "      <td>0.401423</td>\n",
       "      <td>54.626887</td>\n",
       "      <td>26.967752</td>\n",
       "      <td>20.035430</td>\n",
       "      <td>19.983544</td>\n",
       "      <td>87.488694</td>\n",
       "      <td>143.278200</td>\n",
       "      <td>78.327275</td>\n",
       "      <td>119.772520</td>\n",
       "      <td>0.381935</td>\n",
       "      <td>0.334018</td>\n",
       "      <td>309.614442</td>\n",
       "      <td>224.042874</td>\n",
       "      <td>109.966774</td>\n",
       "      <td>127.927104</td>\n",
       "      <td>20.147288</td>\n",
       "      <td>28.801567</td>\n",
       "      <td>22.090958</td>\n",
       "      <td>35.837843</td>\n",
       "      <td>0.375411</td>\n",
       "      <td>0.407159</td>\n",
       "      <td>67.272228</td>\n",
       "      <td>35.019356</td>\n",
       "      <td>22.898396</td>\n",
       "      <td>25.294524</td>\n",
       "      <td>2846.785185</td>\n",
       "      <td>3221.314506</td>\n",
       "      <td>3703.256370</td>\n",
       "      <td>3975.122587</td>\n",
       "      <td>0.342356</td>\n",
       "      <td>0.319761</td>\n",
       "      <td>4097.126831</td>\n",
       "      <td>2398.471020</td>\n",
       "      <td>1673.624915</td>\n",
       "      <td>...</td>\n",
       "      <td>32.276387</td>\n",
       "      <td>29.007425</td>\n",
       "      <td>31.648444</td>\n",
       "      <td>0.343391</td>\n",
       "      <td>0.285986</td>\n",
       "      <td>58.700327</td>\n",
       "      <td>28.620409</td>\n",
       "      <td>21.740521</td>\n",
       "      <td>20.429293</td>\n",
       "      <td>11.300188</td>\n",
       "      <td>14.279335</td>\n",
       "      <td>10.065901</td>\n",
       "      <td>13.134007</td>\n",
       "      <td>0.375932</td>\n",
       "      <td>0.370125</td>\n",
       "      <td>20.370620</td>\n",
       "      <td>11.414066</td>\n",
       "      <td>8.671651</td>\n",
       "      <td>7.288239</td>\n",
       "      <td>38.517485</td>\n",
       "      <td>45.519256</td>\n",
       "      <td>34.059581</td>\n",
       "      <td>40.191150</td>\n",
       "      <td>0.325976</td>\n",
       "      <td>0.318248</td>\n",
       "      <td>158.703557</td>\n",
       "      <td>43.123317</td>\n",
       "      <td>60.143272</td>\n",
       "      <td>63.710355</td>\n",
       "      <td>1.044611</td>\n",
       "      <td>1.191249</td>\n",
       "      <td>1.046257</td>\n",
       "      <td>1.174815</td>\n",
       "      <td>0.393155</td>\n",
       "      <td>0.380291</td>\n",
       "      <td>1.242345</td>\n",
       "      <td>0.978176</td>\n",
       "      <td>0.484676</td>\n",
       "      <td>0.455580</td>\n",
       "      <td>34.254362</td>\n",
       "    </tr>\n",
       "    <tr>\n",
       "      <th>min</th>\n",
       "      <td>1.000000</td>\n",
       "      <td>6.941000</td>\n",
       "      <td>6.423452</td>\n",
       "      <td>5.320573</td>\n",
       "      <td>1.960849</td>\n",
       "      <td>0.000000</td>\n",
       "      <td>0.000000</td>\n",
       "      <td>0.000000</td>\n",
       "      <td>0.000000</td>\n",
       "      <td>0.000000</td>\n",
       "      <td>0.000000</td>\n",
       "      <td>375.500000</td>\n",
       "      <td>375.500000</td>\n",
       "      <td>375.500000</td>\n",
       "      <td>375.500000</td>\n",
       "      <td>0.000000</td>\n",
       "      <td>0.000000</td>\n",
       "      <td>0.000000</td>\n",
       "      <td>0.000000</td>\n",
       "      <td>0.000000</td>\n",
       "      <td>0.000000</td>\n",
       "      <td>48.000000</td>\n",
       "      <td>48.000000</td>\n",
       "      <td>48.000000</td>\n",
       "      <td>48.000000</td>\n",
       "      <td>0.000000</td>\n",
       "      <td>0.000000</td>\n",
       "      <td>0.000000</td>\n",
       "      <td>0.000000</td>\n",
       "      <td>0.000000</td>\n",
       "      <td>0.000000</td>\n",
       "      <td>1.429000</td>\n",
       "      <td>1.429000</td>\n",
       "      <td>1.429000</td>\n",
       "      <td>0.686245</td>\n",
       "      <td>0.000000</td>\n",
       "      <td>0.000000</td>\n",
       "      <td>0.000000</td>\n",
       "      <td>0.000000</td>\n",
       "      <td>0.000000</td>\n",
       "      <td>...</td>\n",
       "      <td>1.500000</td>\n",
       "      <td>1.500000</td>\n",
       "      <td>1.500000</td>\n",
       "      <td>0.000000</td>\n",
       "      <td>0.000000</td>\n",
       "      <td>0.000000</td>\n",
       "      <td>0.000000</td>\n",
       "      <td>0.000000</td>\n",
       "      <td>0.000000</td>\n",
       "      <td>0.222000</td>\n",
       "      <td>0.222000</td>\n",
       "      <td>0.222000</td>\n",
       "      <td>0.222000</td>\n",
       "      <td>0.000000</td>\n",
       "      <td>0.000000</td>\n",
       "      <td>0.000000</td>\n",
       "      <td>0.000000</td>\n",
       "      <td>0.000000</td>\n",
       "      <td>0.000000</td>\n",
       "      <td>0.026580</td>\n",
       "      <td>0.026580</td>\n",
       "      <td>0.026580</td>\n",
       "      <td>0.022952</td>\n",
       "      <td>0.000000</td>\n",
       "      <td>0.000000</td>\n",
       "      <td>0.000000</td>\n",
       "      <td>0.000000</td>\n",
       "      <td>0.000000</td>\n",
       "      <td>0.000000</td>\n",
       "      <td>1.000000</td>\n",
       "      <td>1.000000</td>\n",
       "      <td>1.000000</td>\n",
       "      <td>1.000000</td>\n",
       "      <td>0.000000</td>\n",
       "      <td>0.000000</td>\n",
       "      <td>0.000000</td>\n",
       "      <td>0.000000</td>\n",
       "      <td>0.000000</td>\n",
       "      <td>0.000000</td>\n",
       "      <td>0.000210</td>\n",
       "    </tr>\n",
       "    <tr>\n",
       "      <th>25%</th>\n",
       "      <td>3.000000</td>\n",
       "      <td>72.458076</td>\n",
       "      <td>52.143839</td>\n",
       "      <td>58.041225</td>\n",
       "      <td>35.248990</td>\n",
       "      <td>0.966676</td>\n",
       "      <td>0.775363</td>\n",
       "      <td>78.512902</td>\n",
       "      <td>16.824174</td>\n",
       "      <td>32.890369</td>\n",
       "      <td>28.539377</td>\n",
       "      <td>723.740000</td>\n",
       "      <td>738.946339</td>\n",
       "      <td>692.541331</td>\n",
       "      <td>720.108284</td>\n",
       "      <td>1.085871</td>\n",
       "      <td>0.753757</td>\n",
       "      <td>262.400000</td>\n",
       "      <td>291.088889</td>\n",
       "      <td>114.135763</td>\n",
       "      <td>92.994286</td>\n",
       "      <td>149.333333</td>\n",
       "      <td>112.127359</td>\n",
       "      <td>133.542493</td>\n",
       "      <td>89.210097</td>\n",
       "      <td>1.066389</td>\n",
       "      <td>0.852181</td>\n",
       "      <td>80.000000</td>\n",
       "      <td>28.598137</td>\n",
       "      <td>35.112518</td>\n",
       "      <td>32.016958</td>\n",
       "      <td>4513.500000</td>\n",
       "      <td>2999.158291</td>\n",
       "      <td>883.117278</td>\n",
       "      <td>66.746836</td>\n",
       "      <td>0.913959</td>\n",
       "      <td>0.688693</td>\n",
       "      <td>6648.000000</td>\n",
       "      <td>1656.847429</td>\n",
       "      <td>2819.497063</td>\n",
       "      <td>...</td>\n",
       "      <td>73.350000</td>\n",
       "      <td>33.700512</td>\n",
       "      <td>50.772124</td>\n",
       "      <td>0.890589</td>\n",
       "      <td>0.660662</td>\n",
       "      <td>86.700000</td>\n",
       "      <td>34.036000</td>\n",
       "      <td>38.372410</td>\n",
       "      <td>33.440123</td>\n",
       "      <td>7.588667</td>\n",
       "      <td>5.033407</td>\n",
       "      <td>4.109978</td>\n",
       "      <td>1.322127</td>\n",
       "      <td>0.833333</td>\n",
       "      <td>0.672732</td>\n",
       "      <td>12.878000</td>\n",
       "      <td>2.329309</td>\n",
       "      <td>4.261340</td>\n",
       "      <td>4.603491</td>\n",
       "      <td>61.000000</td>\n",
       "      <td>54.180953</td>\n",
       "      <td>8.339818</td>\n",
       "      <td>1.087284</td>\n",
       "      <td>0.457810</td>\n",
       "      <td>0.250677</td>\n",
       "      <td>86.382000</td>\n",
       "      <td>29.349419</td>\n",
       "      <td>37.933172</td>\n",
       "      <td>31.985437</td>\n",
       "      <td>2.333333</td>\n",
       "      <td>2.116732</td>\n",
       "      <td>2.279705</td>\n",
       "      <td>2.091251</td>\n",
       "      <td>1.060857</td>\n",
       "      <td>0.775678</td>\n",
       "      <td>1.000000</td>\n",
       "      <td>0.921454</td>\n",
       "      <td>0.451754</td>\n",
       "      <td>0.306892</td>\n",
       "      <td>5.365000</td>\n",
       "    </tr>\n",
       "    <tr>\n",
       "      <th>50%</th>\n",
       "      <td>4.000000</td>\n",
       "      <td>84.922750</td>\n",
       "      <td>60.696571</td>\n",
       "      <td>66.361592</td>\n",
       "      <td>39.918385</td>\n",
       "      <td>1.199541</td>\n",
       "      <td>1.146783</td>\n",
       "      <td>122.906070</td>\n",
       "      <td>26.636008</td>\n",
       "      <td>45.123500</td>\n",
       "      <td>44.285984</td>\n",
       "      <td>764.900000</td>\n",
       "      <td>889.966667</td>\n",
       "      <td>727.960610</td>\n",
       "      <td>856.202765</td>\n",
       "      <td>1.356236</td>\n",
       "      <td>0.916843</td>\n",
       "      <td>764.100000</td>\n",
       "      <td>510.440000</td>\n",
       "      <td>266.373871</td>\n",
       "      <td>258.449503</td>\n",
       "      <td>160.250000</td>\n",
       "      <td>125.970297</td>\n",
       "      <td>142.807563</td>\n",
       "      <td>113.181369</td>\n",
       "      <td>1.330735</td>\n",
       "      <td>1.242878</td>\n",
       "      <td>171.000000</td>\n",
       "      <td>43.000000</td>\n",
       "      <td>58.663106</td>\n",
       "      <td>59.932929</td>\n",
       "      <td>5329.085800</td>\n",
       "      <td>4303.421500</td>\n",
       "      <td>1339.974702</td>\n",
       "      <td>1515.364631</td>\n",
       "      <td>1.090610</td>\n",
       "      <td>0.882747</td>\n",
       "      <td>8958.571000</td>\n",
       "      <td>2082.956581</td>\n",
       "      <td>3301.890502</td>\n",
       "      <td>...</td>\n",
       "      <td>102.856863</td>\n",
       "      <td>51.470113</td>\n",
       "      <td>73.173958</td>\n",
       "      <td>1.138284</td>\n",
       "      <td>0.781205</td>\n",
       "      <td>127.050000</td>\n",
       "      <td>71.156250</td>\n",
       "      <td>51.125720</td>\n",
       "      <td>48.029866</td>\n",
       "      <td>9.304400</td>\n",
       "      <td>8.330667</td>\n",
       "      <td>5.253498</td>\n",
       "      <td>4.929787</td>\n",
       "      <td>1.112098</td>\n",
       "      <td>0.994998</td>\n",
       "      <td>12.878000</td>\n",
       "      <td>3.436400</td>\n",
       "      <td>4.948155</td>\n",
       "      <td>5.500675</td>\n",
       "      <td>96.504430</td>\n",
       "      <td>73.333333</td>\n",
       "      <td>14.287643</td>\n",
       "      <td>6.096120</td>\n",
       "      <td>0.738694</td>\n",
       "      <td>0.545783</td>\n",
       "      <td>399.795000</td>\n",
       "      <td>56.556240</td>\n",
       "      <td>135.762089</td>\n",
       "      <td>113.556983</td>\n",
       "      <td>2.833333</td>\n",
       "      <td>2.618182</td>\n",
       "      <td>2.615321</td>\n",
       "      <td>2.434057</td>\n",
       "      <td>1.368922</td>\n",
       "      <td>1.166532</td>\n",
       "      <td>2.000000</td>\n",
       "      <td>1.063077</td>\n",
       "      <td>0.800000</td>\n",
       "      <td>0.500000</td>\n",
       "      <td>20.000000</td>\n",
       "    </tr>\n",
       "    <tr>\n",
       "      <th>75%</th>\n",
       "      <td>5.000000</td>\n",
       "      <td>100.404410</td>\n",
       "      <td>86.103540</td>\n",
       "      <td>78.116681</td>\n",
       "      <td>73.113234</td>\n",
       "      <td>1.444537</td>\n",
       "      <td>1.359418</td>\n",
       "      <td>154.119320</td>\n",
       "      <td>38.356908</td>\n",
       "      <td>59.322812</td>\n",
       "      <td>53.629284</td>\n",
       "      <td>796.320000</td>\n",
       "      <td>1004.117384</td>\n",
       "      <td>765.715174</td>\n",
       "      <td>937.575826</td>\n",
       "      <td>1.551120</td>\n",
       "      <td>1.061750</td>\n",
       "      <td>810.600000</td>\n",
       "      <td>690.703310</td>\n",
       "      <td>297.724924</td>\n",
       "      <td>342.656991</td>\n",
       "      <td>169.857143</td>\n",
       "      <td>158.265231</td>\n",
       "      <td>155.938199</td>\n",
       "      <td>150.988640</td>\n",
       "      <td>1.512348</td>\n",
       "      <td>1.425684</td>\n",
       "      <td>205.000000</td>\n",
       "      <td>60.224491</td>\n",
       "      <td>69.424491</td>\n",
       "      <td>73.777278</td>\n",
       "      <td>6728.000000</td>\n",
       "      <td>6416.333333</td>\n",
       "      <td>5794.965188</td>\n",
       "      <td>5766.015191</td>\n",
       "      <td>1.323930</td>\n",
       "      <td>1.080939</td>\n",
       "      <td>9778.571000</td>\n",
       "      <td>3409.026316</td>\n",
       "      <td>4004.273231</td>\n",
       "      <td>...</td>\n",
       "      <td>110.738462</td>\n",
       "      <td>67.505900</td>\n",
       "      <td>89.975670</td>\n",
       "      <td>1.345894</td>\n",
       "      <td>0.877541</td>\n",
       "      <td>138.630000</td>\n",
       "      <td>76.706965</td>\n",
       "      <td>56.221787</td>\n",
       "      <td>53.320838</td>\n",
       "      <td>17.114444</td>\n",
       "      <td>18.514286</td>\n",
       "      <td>13.600037</td>\n",
       "      <td>16.428652</td>\n",
       "      <td>1.378110</td>\n",
       "      <td>1.157379</td>\n",
       "      <td>23.200000</td>\n",
       "      <td>10.498780</td>\n",
       "      <td>9.041230</td>\n",
       "      <td>8.017581</td>\n",
       "      <td>111.005316</td>\n",
       "      <td>99.062911</td>\n",
       "      <td>42.371302</td>\n",
       "      <td>47.308041</td>\n",
       "      <td>0.962218</td>\n",
       "      <td>0.777353</td>\n",
       "      <td>399.973420</td>\n",
       "      <td>91.869245</td>\n",
       "      <td>153.806272</td>\n",
       "      <td>162.711144</td>\n",
       "      <td>4.000000</td>\n",
       "      <td>4.026201</td>\n",
       "      <td>3.727919</td>\n",
       "      <td>3.914868</td>\n",
       "      <td>1.589027</td>\n",
       "      <td>1.330801</td>\n",
       "      <td>3.000000</td>\n",
       "      <td>1.918400</td>\n",
       "      <td>1.200000</td>\n",
       "      <td>1.020436</td>\n",
       "      <td>63.000000</td>\n",
       "    </tr>\n",
       "    <tr>\n",
       "      <th>max</th>\n",
       "      <td>9.000000</td>\n",
       "      <td>208.980400</td>\n",
       "      <td>208.980400</td>\n",
       "      <td>208.980400</td>\n",
       "      <td>208.980400</td>\n",
       "      <td>1.983797</td>\n",
       "      <td>1.958203</td>\n",
       "      <td>207.972460</td>\n",
       "      <td>205.589910</td>\n",
       "      <td>101.019700</td>\n",
       "      <td>101.019700</td>\n",
       "      <td>1313.100000</td>\n",
       "      <td>1348.028986</td>\n",
       "      <td>1313.100000</td>\n",
       "      <td>1327.593381</td>\n",
       "      <td>2.157777</td>\n",
       "      <td>2.038560</td>\n",
       "      <td>1304.500000</td>\n",
       "      <td>1251.855072</td>\n",
       "      <td>499.671949</td>\n",
       "      <td>479.162305</td>\n",
       "      <td>298.000000</td>\n",
       "      <td>298.000000</td>\n",
       "      <td>298.000000</td>\n",
       "      <td>298.000000</td>\n",
       "      <td>2.141961</td>\n",
       "      <td>1.903748</td>\n",
       "      <td>256.000000</td>\n",
       "      <td>240.164344</td>\n",
       "      <td>115.500000</td>\n",
       "      <td>97.140711</td>\n",
       "      <td>22590.000000</td>\n",
       "      <td>22590.000000</td>\n",
       "      <td>22590.000000</td>\n",
       "      <td>22590.000000</td>\n",
       "      <td>1.954297</td>\n",
       "      <td>1.703420</td>\n",
       "      <td>22588.571000</td>\n",
       "      <td>22434.160000</td>\n",
       "      <td>10724.374500</td>\n",
       "      <td>...</td>\n",
       "      <td>326.100000</td>\n",
       "      <td>326.100000</td>\n",
       "      <td>326.100000</td>\n",
       "      <td>1.767732</td>\n",
       "      <td>1.675400</td>\n",
       "      <td>349.000000</td>\n",
       "      <td>218.696600</td>\n",
       "      <td>162.895331</td>\n",
       "      <td>169.075862</td>\n",
       "      <td>105.000000</td>\n",
       "      <td>105.000000</td>\n",
       "      <td>105.000000</td>\n",
       "      <td>105.000000</td>\n",
       "      <td>2.034410</td>\n",
       "      <td>1.747165</td>\n",
       "      <td>104.778000</td>\n",
       "      <td>102.675000</td>\n",
       "      <td>51.635000</td>\n",
       "      <td>51.680482</td>\n",
       "      <td>332.500000</td>\n",
       "      <td>406.960000</td>\n",
       "      <td>317.883627</td>\n",
       "      <td>376.032878</td>\n",
       "      <td>1.633977</td>\n",
       "      <td>1.612989</td>\n",
       "      <td>429.974170</td>\n",
       "      <td>401.440000</td>\n",
       "      <td>214.986150</td>\n",
       "      <td>213.300452</td>\n",
       "      <td>7.000000</td>\n",
       "      <td>7.000000</td>\n",
       "      <td>7.000000</td>\n",
       "      <td>7.000000</td>\n",
       "      <td>2.141963</td>\n",
       "      <td>1.949739</td>\n",
       "      <td>6.000000</td>\n",
       "      <td>6.992200</td>\n",
       "      <td>3.000000</td>\n",
       "      <td>3.000000</td>\n",
       "      <td>185.000000</td>\n",
       "    </tr>\n",
       "  </tbody>\n",
       "</table>\n",
       "<p>8 rows × 82 columns</p>\n",
       "</div>"
      ],
      "text/plain": [
       "       number_of_elements  mean_atomic_mass  ...  wtd_std_Valence  critical_temp\n",
       "count        21263.000000      21263.000000  ...     21263.000000   21263.000000\n",
       "mean             4.115224         87.557631  ...         0.673987      34.421219\n",
       "std              1.439295         29.676497  ...         0.455580      34.254362\n",
       "min              1.000000          6.941000  ...         0.000000       0.000210\n",
       "25%              3.000000         72.458076  ...         0.306892       5.365000\n",
       "50%              4.000000         84.922750  ...         0.500000      20.000000\n",
       "75%              5.000000        100.404410  ...         1.020436      63.000000\n",
       "max              9.000000        208.980400  ...         3.000000     185.000000\n",
       "\n",
       "[8 rows x 82 columns]"
      ]
     },
     "execution_count": 6,
     "metadata": {
      "tags": []
     },
     "output_type": "execute_result"
    }
   ],
   "source": [
    "data.describe()"
   ]
  },
  {
   "cell_type": "markdown",
   "metadata": {
    "id": "GUwVEU1sFSpw"
   },
   "source": [
    "## Data exploration"
   ]
  },
  {
   "cell_type": "code",
   "execution_count": null,
   "metadata": {
    "colab": {
     "base_uri": "https://localhost:8080/",
     "height": 386
    },
    "executionInfo": {
     "elapsed": 699,
     "status": "ok",
     "timestamp": 1626945819841,
     "user": {
      "displayName": "Ignacio Soteras",
      "photoUrl": "",
      "userId": "02050793736257155229"
     },
     "user_tz": -120
    },
    "id": "56X1ncEKFWRz",
    "outputId": "23297d6d-e2e8-4354-d008-1a1afe97811c"
   },
   "outputs": [
    {
     "data": {
      "text/plain": [
       "<seaborn.axisgrid.FacetGrid at 0x7fea677a7f90>"
      ]
     },
     "execution_count": 7,
     "metadata": {
      "tags": []
     },
     "output_type": "execute_result"
    },
    {
     "data": {
      "image/png": "[encoded data removed]",
      "text/plain": [
       "<Figure size 360x360 with 1 Axes>"
      ]
     },
     "metadata": {
      "needs_background": "light",
      "tags": []
     },
     "output_type": "display_data"
    }
   ],
   "source": [
    "sns.displot(x = 'critical_temp', data = data)"
   ]
  },
  {
   "cell_type": "code",
   "execution_count": null,
   "metadata": {
    "colab": {
     "base_uri": "https://localhost:8080/",
     "height": 386
    },
    "executionInfo": {
     "elapsed": 753,
     "status": "ok",
     "timestamp": 1626945880822,
     "user": {
      "displayName": "Ignacio Soteras",
      "photoUrl": "",
      "userId": "02050793736257155229"
     },
     "user_tz": -120
    },
    "id": "v-ea-q0NGEzf",
    "outputId": "aaac29a5-42e3-42c4-e101-a79c911f80a0"
   },
   "outputs": [
    {
     "data": {
      "text/plain": [
       "<seaborn.axisgrid.FacetGrid at 0x7fea677a7dd0>"
      ]
     },
     "execution_count": 8,
     "metadata": {
      "tags": []
     },
     "output_type": "execute_result"
    },
    {
     "data": {
      "image/png": "[encoded data removed]",
      "text/plain": [
       "<Figure size 360x360 with 1 Axes>"
      ]
     },
     "metadata": {
      "needs_background": "light",
      "tags": []
     },
     "output_type": "display_data"
    }
   ],
   "source": [
    "sns.displot(x = np.log(data['critical_temp']))"
   ]
  },
  {
   "cell_type": "markdown",
   "metadata": {
    "id": "OuvFKUOd7P-L"
   },
   "source": [
    "In this case, the logarithmic transformation didn't make a good job."
   ]
  },
  {
   "cell_type": "markdown",
   "metadata": {
    "id": "VUbT1SKGx7GF"
   },
   "source": [
    "## Train test split"
   ]
  },
  {
   "cell_type": "code",
   "execution_count": null,
   "metadata": {
    "colab": {
     "base_uri": "https://localhost:8080/"
    },
    "executionInfo": {
     "elapsed": 590,
     "status": "ok",
     "timestamp": 1626945947716,
     "user": {
      "displayName": "Ignacio Soteras",
      "photoUrl": "",
      "userId": "02050793736257155229"
     },
     "user_tz": -120
    },
    "id": "lckGrMXNx13c",
    "outputId": "6de4ee02-e347-43ba-a39d-f5ff1f599648"
   },
   "outputs": [
    {
     "name": "stdout",
     "output_type": "stream",
     "text": [
      "(14884, 80)\n",
      "(6379, 80)\n"
     ]
    }
   ],
   "source": [
    "from sklearn.model_selection import train_test_split\n",
    "\n",
    "X = data.drop(columns=['number_of_elements','critical_temp'])\n",
    "y = data['critical_temp']\n",
    "\n",
    "X_train, X_test, y_train, y_test = train_test_split(X, y, test_size=0.30, random_state=7)\n",
    "\n",
    "print(X_train.shape)\n",
    "print(X_test.shape)"
   ]
  },
  {
   "cell_type": "markdown",
   "metadata": {
    "id": "glGIovx-FOkG"
   },
   "source": [
    "## Scaling features"
   ]
  },
  {
   "cell_type": "code",
   "execution_count": null,
   "metadata": {
    "id": "nUaL5eCdNJuh"
   },
   "outputs": [],
   "source": [
    "from sklearn.preprocessing import PowerTransformer\n",
    "\n",
    "trans = PowerTransformer()\n",
    "trans.fit(X_train)\n",
    "\n",
    "X_train_trans = trans.transform(X_train)\n",
    "X_test_trans  = trans.transform(X_test)\n",
    "\n",
    "X_train = pd.DataFrame(X_train_trans, columns = X_train.columns)\n",
    "X_test  = pd.DataFrame(X_test_trans,  columns = X_test.columns)"
   ]
  },
  {
   "cell_type": "code",
   "execution_count": null,
   "metadata": {
    "colab": {
     "base_uri": "https://localhost:8080/"
    },
    "executionInfo": {
     "elapsed": 227,
     "status": "ok",
     "timestamp": 1626946047016,
     "user": {
      "displayName": "Ignacio Soteras",
      "photoUrl": "",
      "userId": "02050793736257155229"
     },
     "user_tz": -120
    },
    "id": "q4HNKKNdPX9B",
    "outputId": "adb016cc-1439-4c87-c310-88a59a9657a1"
   },
   "outputs": [
    {
     "data": {
      "text/plain": [
       "(14884, 80)"
      ]
     },
     "execution_count": 12,
     "metadata": {
      "tags": []
     },
     "output_type": "execute_result"
    }
   ],
   "source": [
    "X_train.shape"
   ]
  },
  {
   "cell_type": "markdown",
   "metadata": {
    "id": "99uFuFLKOOn5"
   },
   "source": [
    "## Building the neural network"
   ]
  },
  {
   "cell_type": "code",
   "execution_count": null,
   "metadata": {
    "colab": {
     "base_uri": "https://localhost:8080/"
    },
    "executionInfo": {
     "elapsed": 667,
     "status": "ok",
     "timestamp": 1626947055164,
     "user": {
      "displayName": "Ignacio Soteras",
      "photoUrl": "",
      "userId": "02050793736257155229"
     },
     "user_tz": -120
    },
    "id": "HvDyUWxhHPKx",
    "outputId": "36604daf-82cd-4bc1-9f75-32be36eb21b7"
   },
   "outputs": [
    {
     "name": "stdout",
     "output_type": "stream",
     "text": [
      "Model: \"sequential\"\n",
      "_________________________________________________________________\n",
      "Layer (type)                 Output Shape              Param #   \n",
      "=================================================================\n",
      "dense (Dense)                (None, 9)                 729       \n",
      "_________________________________________________________________\n",
      "dense_1 (Dense)              (None, 3)                 30        \n",
      "_________________________________________________________________\n",
      "dense_2 (Dense)              (None, 1)                 4         \n",
      "=================================================================\n",
      "Total params: 763\n",
      "Trainable params: 763\n",
      "Non-trainable params: 0\n",
      "_________________________________________________________________\n"
     ]
    }
   ],
   "source": [
    "# Callbacks are Keras tools to kepp track of the training progress\n",
    "\n",
    "from tensorflow.keras.callbacks import EarlyStopping # This callback allows you to stop the training if the validation error increases\n",
    "from tensorflow.keras.callbacks import ModelCheckpoint # This callback allows you to save the model.\n",
    "\n",
    "early_stopping = EarlyStopping(patience=5)\n",
    "\n",
    "\n",
    "model = keras.Sequential()\n",
    "# Adding a hidden layer with:\n",
    "# as many inputs as the number of features\n",
    "# 9 neurons\n",
    "# each neuron will have a \"RELU\" activation function\n",
    "model.add(Dense(units = 9,input_dim = X_train.shape[1],activation='relu'))\n",
    "# Adding a new hidden layer with three neurons with \"RELU\" activation function\n",
    "model.add(Dense(units = 3,activation='relu'))\n",
    "# Adding the final layer\n",
    "model.add(Dense(units = 1, activation='relu'))\n",
    "\n",
    "# Compile the final network\n",
    "model.compile(optimizer='adam', # Optimization method\n",
    "              loss='mse', # Error metric to minimize\n",
    "              metrics=['mae', 'mse','mape'] # Error matrics to report\n",
    "              )\n",
    "\n",
    "model.summary()"
   ]
  },
  {
   "cell_type": "markdown",
   "metadata": {
    "id": "ELdGwooC-sEP"
   },
   "source": [
    "## Setup the model saving"
   ]
  },
  {
   "cell_type": "code",
   "execution_count": null,
   "metadata": {
    "id": "eHYIDju8Ac36"
   },
   "outputs": [],
   "source": [
    "checkpoint_path = '/content/drive/MyDrive/OLD_CURR/UNIT8/DAY4/reg-nn1.hdf5'\n",
    "checkpoint = ModelCheckpoint(\n",
    "    filepath=checkpoint_path,\n",
    "    save_freq='epoch',\n",
    "    save_weights_only=False,\n",
    "    verbose=1\n",
    ")"
   ]
  },
  {
   "cell_type": "code",
   "execution_count": null,
   "metadata": {
    "colab": {
     "base_uri": "https://localhost:8080/"
    },
    "executionInfo": {
     "elapsed": 6743,
     "status": "ok",
     "timestamp": 1626947851566,
     "user": {
      "displayName": "Ignacio Soteras",
      "photoUrl": "",
      "userId": "02050793736257155229"
     },
     "user_tz": -120
    },
    "id": "QD9j5hK3O9Zv",
    "outputId": "f5a7a5bf-b792-4efd-b5ea-15e92a573f73"
   },
   "outputs": [
    {
     "name": "stdout",
     "output_type": "stream",
     "text": [
      "Epoch 1/60\n",
      "596/596 - 2s - loss: 2404.4165 - mae: 34.9332 - mse: 2404.4165 - mape: 100.0000 - val_loss: 2305.1643 - val_mae: 33.8993 - val_mse: 2305.1643 - val_mape: 100.0000\n",
      "\n",
      "Epoch 00001: saving model to /content/drive/MyDrive/OLD_CURR/UNIT8/DAY4/reg-nn1.hdf5\n",
      "Epoch 2/60\n",
      "596/596 - 1s - loss: 2404.4185 - mae: 34.9332 - mse: 2404.4185 - mape: 100.0000 - val_loss: 2305.1643 - val_mae: 33.8993 - val_mse: 2305.1643 - val_mape: 100.0000\n",
      "\n",
      "Epoch 00002: saving model to /content/drive/MyDrive/OLD_CURR/UNIT8/DAY4/reg-nn1.hdf5\n",
      "Epoch 3/60\n",
      "596/596 - 1s - loss: 2404.4172 - mae: 34.9333 - mse: 2404.4172 - mape: 100.0000 - val_loss: 2305.1643 - val_mae: 33.8993 - val_mse: 2305.1643 - val_mape: 100.0000\n",
      "\n",
      "Epoch 00003: saving model to /content/drive/MyDrive/OLD_CURR/UNIT8/DAY4/reg-nn1.hdf5\n",
      "Epoch 4/60\n",
      "596/596 - 1s - loss: 2404.4175 - mae: 34.9332 - mse: 2404.4175 - mape: 100.0000 - val_loss: 2305.1643 - val_mae: 33.8993 - val_mse: 2305.1643 - val_mape: 100.0000\n",
      "\n",
      "Epoch 00004: saving model to /content/drive/MyDrive/OLD_CURR/UNIT8/DAY4/reg-nn1.hdf5\n",
      "Epoch 5/60\n",
      "596/596 - 1s - loss: 2404.4194 - mae: 34.9332 - mse: 2404.4194 - mape: 100.0000 - val_loss: 2305.1643 - val_mae: 33.8993 - val_mse: 2305.1643 - val_mape: 100.0000\n",
      "\n",
      "Epoch 00005: saving model to /content/drive/MyDrive/OLD_CURR/UNIT8/DAY4/reg-nn1.hdf5\n",
      "Epoch 6/60\n",
      "596/596 - 1s - loss: 2404.4189 - mae: 34.9332 - mse: 2404.4189 - mape: 100.0000 - val_loss: 2305.1643 - val_mae: 33.8993 - val_mse: 2305.1643 - val_mape: 100.0000\n",
      "\n",
      "Epoch 00006: saving model to /content/drive/MyDrive/OLD_CURR/UNIT8/DAY4/reg-nn1.hdf5\n"
     ]
    }
   ],
   "source": [
    "history = model.fit(\n",
    "    X_train, \n",
    "    y_train, \n",
    "    epochs=60, \n",
    "    validation_split=0.20, \n",
    "    batch_size=20, \n",
    "    verbose=2,\n",
    "    callbacks=[early_stopping,checkpoint]\n",
    ")\n"
   ]
  },
  {
   "cell_type": "code",
   "execution_count": null,
   "metadata": {
    "id": "nNNPmmgKT80K"
   },
   "outputs": [],
   "source": [
    "def plot_metric(history, metric):\n",
    "    train_metrics = history.history[metric]\n",
    "    val_metrics = history.history['val_'+metric]\n",
    "    epochs = range(1, len(train_metrics) + 1)\n",
    "    plt.plot(epochs, train_metrics)\n",
    "    plt.plot(epochs, val_metrics)\n",
    "    plt.title('Training and validation '+ metric)\n",
    "    plt.xlabel(\"Epochs\")\n",
    "    plt.ylabel(metric)\n",
    "    plt.yscale('log')\n",
    "    plt.legend([\"train_\"+metric, 'val_'+metric])\n",
    "    plt.show()"
   ]
  },
  {
   "cell_type": "code",
   "execution_count": null,
   "metadata": {
    "colab": {
     "base_uri": "https://localhost:8080/",
     "height": 295
    },
    "executionInfo": {
     "elapsed": 634,
     "status": "ok",
     "timestamp": 1626948023150,
     "user": {
      "displayName": "Ignacio Soteras",
      "photoUrl": "",
      "userId": "02050793736257155229"
     },
     "user_tz": -120
    },
    "id": "KM-CxTVt8S9H",
    "outputId": "26934943-8c9a-41a5-bbd3-3ab2d6b31470"
   },
   "outputs": [
    {
     "data": {
      "image/png": "[encoded data removed]",
      "text/plain": [
       "<Figure size 432x288 with 1 Axes>"
      ]
     },
     "metadata": {
      "needs_background": "light",
      "tags": []
     },
     "output_type": "display_data"
    }
   ],
   "source": [
    "plot_metric(history,'loss')"
   ]
  },
  {
   "cell_type": "markdown",
   "metadata": {
    "id": "kV50dKiCBoBo"
   },
   "source": [
    "## Testing the model"
   ]
  },
  {
   "cell_type": "code",
   "execution_count": null,
   "metadata": {
    "id": "TLtVWIkm9PRM"
   },
   "outputs": [],
   "source": [
    "def model_performance(y_train, y_pred_train, y_test, y_pred_test):\n",
    "\n",
    "    from sklearn.metrics import mean_absolute_error, mean_squared_error, r2_score\n",
    "\n",
    "    ME_train = np.mean(y_train-y_pred_train)\n",
    "    ME_test  = np.mean(y_test-y_pred_test)\n",
    "\n",
    "    MAE_train = mean_absolute_error(y_train,y_pred_train)\n",
    "    MAE_test  = mean_absolute_error(y_test,y_pred_test)\n",
    "\n",
    "    MSE_train = mean_squared_error(y_train,y_pred_train)\n",
    "    MSE_test  = mean_squared_error(y_test,y_pred_test)\n",
    "\n",
    "    RMSE_train = np.sqrt(MSE_train)\n",
    "    RMSE_test  = np.sqrt(MSE_test)\n",
    "\n",
    "    MAPE_train = np.mean((np.abs(y_train-y_pred_train) / y_train)* 100.)\n",
    "    MAPE_test  = np.mean((np.abs(y_test-y_pred_test) / y_test)* 100.)\n",
    "\n",
    "    R2_train = r2_score(y_train,y_pred_train)\n",
    "    R2_test  = r2_score(y_test,y_pred_test)\n",
    "\n",
    "    performance = pd.DataFrame({'Error_metric': ['Mean error','Mean absolute error','Mean squared error',\n",
    "                                             'Root mean squared error','Mean absolute percentual error',\n",
    "                                             'R2'],\n",
    "                            'Train': [ME_train, MAE_train, MSE_train, RMSE_train, MAPE_train, R2_train],\n",
    "                            'Test' : [ME_test, MAE_test , MSE_test, RMSE_test, MAPE_test, R2_test]})\n",
    "\n",
    "    pd.options.display.float_format = '{:.2f}'.format\n",
    "\n",
    "    df_train = pd.DataFrame({'Real': y_train.tolist(), 'Predicted': y_pred_train.tolist()})\n",
    "    df_test  = pd.DataFrame({'Real': y_test.tolist(),  'Predicted': y_pred_test.tolist()})\n",
    "\n",
    "    return performance, df_train, df_test\n",
    "\n",
    "\n"
   ]
  },
  {
   "cell_type": "code",
   "execution_count": null,
   "metadata": {
    "colab": {
     "base_uri": "https://localhost:8080/",
     "height": 236
    },
    "executionInfo": {
     "elapsed": 969,
     "status": "ok",
     "timestamp": 1626948056414,
     "user": {
      "displayName": "Ignacio Soteras",
      "photoUrl": "",
      "userId": "02050793736257155229"
     },
     "user_tz": -120
    },
    "id": "kU_k-YoeFPb8",
    "outputId": "dc695383-c0a9-4863-d626-6d514c1b56d3"
   },
   "outputs": [
    {
     "data": {
      "text/html": [
       "<div>\n",
       "<style scoped>\n",
       "    .dataframe tbody tr th:only-of-type {\n",
       "        vertical-align: middle;\n",
       "    }\n",
       "\n",
       "    .dataframe tbody tr th {\n",
       "        vertical-align: top;\n",
       "    }\n",
       "\n",
       "    .dataframe thead th {\n",
       "        text-align: right;\n",
       "    }\n",
       "</style>\n",
       "<table border=\"1\" class=\"dataframe\">\n",
       "  <thead>\n",
       "    <tr style=\"text-align: right;\">\n",
       "      <th></th>\n",
       "      <th>Error_metric</th>\n",
       "      <th>Train</th>\n",
       "      <th>Test</th>\n",
       "    </tr>\n",
       "  </thead>\n",
       "  <tbody>\n",
       "    <tr>\n",
       "      <th>0</th>\n",
       "      <td>Mean error</td>\n",
       "      <td>34.73</td>\n",
       "      <td>33.71</td>\n",
       "    </tr>\n",
       "    <tr>\n",
       "      <th>1</th>\n",
       "      <td>Mean absolute error</td>\n",
       "      <td>34.73</td>\n",
       "      <td>33.71</td>\n",
       "    </tr>\n",
       "    <tr>\n",
       "      <th>2</th>\n",
       "      <td>Mean squared error</td>\n",
       "      <td>2384.57</td>\n",
       "      <td>2296.44</td>\n",
       "    </tr>\n",
       "    <tr>\n",
       "      <th>3</th>\n",
       "      <td>Root mean squared error</td>\n",
       "      <td>48.83</td>\n",
       "      <td>47.92</td>\n",
       "    </tr>\n",
       "    <tr>\n",
       "      <th>4</th>\n",
       "      <td>Mean absolute percentual error</td>\n",
       "      <td>100.00</td>\n",
       "      <td>100.00</td>\n",
       "    </tr>\n",
       "    <tr>\n",
       "      <th>5</th>\n",
       "      <td>R2</td>\n",
       "      <td>-1.02</td>\n",
       "      <td>-0.98</td>\n",
       "    </tr>\n",
       "  </tbody>\n",
       "</table>\n",
       "</div>"
      ],
      "text/plain": [
       "                     Error_metric   Train    Test\n",
       "0                      Mean error   34.73   33.71\n",
       "1             Mean absolute error   34.73   33.71\n",
       "2              Mean squared error 2384.57 2296.44\n",
       "3         Root mean squared error   48.83   47.92\n",
       "4  Mean absolute percentual error  100.00  100.00\n",
       "5                              R2   -1.02   -0.98"
      ]
     },
     "execution_count": 20,
     "metadata": {
      "tags": []
     },
     "output_type": "execute_result"
    }
   ],
   "source": [
    "y_pred_train_nn1 = model.predict(X_train)\n",
    "y_pred_test_nn1  = model.predict(X_test)\n",
    "\n",
    "y_train = np.array(y_train).reshape(-1,1)\n",
    "y_test  = np.array(y_test).reshape(-1,1)\n",
    "\n",
    "results, df1, df2 = model_performance(y_train, y_pred_train_nn1, y_test, y_pred_test_nn1)\n",
    "results"
   ]
  },
  {
   "cell_type": "markdown",
   "metadata": {
    "id": "wKCEaz09PebH"
   },
   "source": [
    "## Adding a dropout layer"
   ]
  },
  {
   "cell_type": "markdown",
   "metadata": {
    "id": "hNbxVl1KA7eB"
   },
   "source": [
    "The number of parameters in a neural network can grow pretty fast with the number of hidden layers and the number of neuron per layer. Therefore neural networks are quite prone to suffer of overfitting. On possible way to minimize this problem is to introduce a **dropout** layer. \n",
    "\n",
    "This type of layer does not resemble a regular hidden layer. Instead is a very different type of layer as it does not contain any neuron. What it does is to switch of a random selection of neurons present in the previous layer. The main parameter of a dropout layer is the percentage of neurons to be switched of in the previous layer.\n",
    "\n",
    "A neural network can have as many dropout layers as needed."
   ]
  },
  {
   "cell_type": "markdown",
   "metadata": {
    "id": "fRfPgTijCXYO"
   },
   "source": [
    "Let's add a dropout layer right after the first hidden layer with a dropout factor of 0.5 (namelly select at random half of the neurons in the previous layer to be switched off)."
   ]
  },
  {
   "cell_type": "code",
   "execution_count": null,
   "metadata": {
    "colab": {
     "base_uri": "https://localhost:8080/"
    },
    "executionInfo": {
     "elapsed": 212,
     "status": "ok",
     "timestamp": 1626948195002,
     "user": {
      "displayName": "Ignacio Soteras",
      "photoUrl": "",
      "userId": "02050793736257155229"
     },
     "user_tz": -120
    },
    "id": "G-o93s68FqSs",
    "outputId": "9c5643fc-2cdd-4eb0-fbb1-48752f1fd91d"
   },
   "outputs": [
    {
     "name": "stdout",
     "output_type": "stream",
     "text": [
      "Model: \"sequential_1\"\n",
      "_________________________________________________________________\n",
      "Layer (type)                 Output Shape              Param #   \n",
      "=================================================================\n",
      "dense_3 (Dense)              (None, 9)                 729       \n",
      "_________________________________________________________________\n",
      "dropout (Dropout)            (None, 9)                 0         \n",
      "_________________________________________________________________\n",
      "dense_4 (Dense)              (None, 3)                 30        \n",
      "_________________________________________________________________\n",
      "dense_5 (Dense)              (None, 1)                 4         \n",
      "=================================================================\n",
      "Total params: 763\n",
      "Trainable params: 763\n",
      "Non-trainable params: 0\n",
      "_________________________________________________________________\n"
     ]
    }
   ],
   "source": [
    "model2 = keras.Sequential()\n",
    "# Adding a hidden layer with:\n",
    "# as many inputs as the number of features\n",
    "# 9 neurons\n",
    "# each neuron will have a \"RELU\" activation function\n",
    "model2.add(Dense(units = 9,input_dim = X_train.shape[1],activation='relu'))\n",
    "# Adding a dropout layer with a 0.5 regularization parameter (it must be between [0,1) )\n",
    "model2.add(Dropout(0.5))\n",
    "# Adding a new hidden layer with three neurons with \"RELU\" activation function\n",
    "model2.add(Dense(units = 3,activation='relu'))\n",
    "# Adding the final layer\n",
    "model2.add(Dense(1, activation='relu'))\n",
    "\n",
    "# Compile the final network\n",
    "model2.compile(optimizer='adam', # Optimization method\n",
    "              loss='mse', # Error metric to minimize\n",
    "              metrics=['mae', 'mse','mape'] # Error matrics to report\n",
    "              )\n",
    "\n",
    "\n",
    "model2.summary()"
   ]
  },
  {
   "cell_type": "markdown",
   "metadata": {
    "id": "_oeXIIrEC8Rj"
   },
   "source": [
    "Now we need to modify our `checkpoint callback` in order to avoid overwriting saved the previous neural network file"
   ]
  },
  {
   "cell_type": "code",
   "execution_count": null,
   "metadata": {
    "id": "6q8N4GA_DLIT"
   },
   "outputs": [],
   "source": [
    "checkpoint_path = '/content/drive/MyDrive/OLD_CURR/UNIT8/DAY4/reg-nn2.hdf5'\n",
    "checkpoint = ModelCheckpoint(\n",
    "    filepath=checkpoint_path,\n",
    "    save_freq='epoch',\n",
    "    save_weights_only=False,\n",
    "    verbose=1\n",
    ")"
   ]
  },
  {
   "cell_type": "code",
   "execution_count": null,
   "metadata": {
    "colab": {
     "base_uri": "https://localhost:8080/"
    },
    "executionInfo": {
     "elapsed": 32492,
     "status": "ok",
     "timestamp": 1626948354391,
     "user": {
      "displayName": "Ignacio Soteras",
      "photoUrl": "",
      "userId": "02050793736257155229"
     },
     "user_tz": -120
    },
    "id": "61EBldrJKi3U",
    "outputId": "e6139f17-6c48-4c87-b9a4-c81b7e1a0d6b"
   },
   "outputs": [
    {
     "name": "stdout",
     "output_type": "stream",
     "text": [
      "Epoch 1/60\n",
      "596/596 - 2s - loss: 1304.5475 - mae: 24.2223 - mse: 1304.5475 - mape: 1089.1016 - val_loss: 477.5200 - val_mae: 15.2157 - val_mse: 477.5200 - val_mape: 1040.7557\n",
      "\n",
      "Epoch 00001: saving model to /content/drive/MyDrive/OLD_CURR/UNIT8/DAY4/reg-nn2.hdf5\n",
      "Epoch 2/60\n",
      "596/596 - 1s - loss: 723.8823 - mae: 17.7918 - mse: 723.8823 - mape: 1125.5161 - val_loss: 425.1605 - val_mae: 14.4002 - val_mse: 425.1605 - val_mape: 1171.3531\n",
      "\n",
      "Epoch 00002: saving model to /content/drive/MyDrive/OLD_CURR/UNIT8/DAY4/reg-nn2.hdf5\n",
      "Epoch 3/60\n",
      "596/596 - 1s - loss: 695.6104 - mae: 17.3483 - mse: 695.6104 - mape: 949.7036 - val_loss: 394.7390 - val_mae: 13.9525 - val_mse: 394.7390 - val_mape: 1172.1042\n",
      "\n",
      "Epoch 00003: saving model to /content/drive/MyDrive/OLD_CURR/UNIT8/DAY4/reg-nn2.hdf5\n",
      "Epoch 4/60\n",
      "596/596 - 1s - loss: 627.3691 - mae: 16.5998 - mse: 627.3691 - mape: 1131.1498 - val_loss: 360.6020 - val_mae: 13.4206 - val_mse: 360.6020 - val_mape: 1191.9269\n",
      "\n",
      "Epoch 00004: saving model to /content/drive/MyDrive/OLD_CURR/UNIT8/DAY4/reg-nn2.hdf5\n",
      "Epoch 5/60\n",
      "596/596 - 1s - loss: 618.1950 - mae: 16.4364 - mse: 618.1950 - mape: 1235.5144 - val_loss: 345.4964 - val_mae: 13.2197 - val_mse: 345.4964 - val_mape: 1193.3562\n",
      "\n",
      "Epoch 00005: saving model to /content/drive/MyDrive/OLD_CURR/UNIT8/DAY4/reg-nn2.hdf5\n",
      "Epoch 6/60\n",
      "596/596 - 1s - loss: 568.4080 - mae: 15.8505 - mse: 568.4080 - mape: 967.4085 - val_loss: 331.5212 - val_mae: 12.9088 - val_mse: 331.5212 - val_mape: 1157.2701\n",
      "\n",
      "Epoch 00006: saving model to /content/drive/MyDrive/OLD_CURR/UNIT8/DAY4/reg-nn2.hdf5\n",
      "Epoch 7/60\n",
      "596/596 - 1s - loss: 537.9362 - mae: 15.4590 - mse: 537.9362 - mape: 1191.1494 - val_loss: 330.2538 - val_mae: 12.8888 - val_mse: 330.2538 - val_mape: 1117.4695\n",
      "\n",
      "Epoch 00007: saving model to /content/drive/MyDrive/OLD_CURR/UNIT8/DAY4/reg-nn2.hdf5\n",
      "Epoch 8/60\n",
      "596/596 - 1s - loss: 532.1220 - mae: 15.4746 - mse: 532.1220 - mape: 1087.0815 - val_loss: 329.5502 - val_mae: 12.8575 - val_mse: 329.5502 - val_mape: 1052.6320\n",
      "\n",
      "Epoch 00008: saving model to /content/drive/MyDrive/OLD_CURR/UNIT8/DAY4/reg-nn2.hdf5\n",
      "Epoch 9/60\n",
      "596/596 - 1s - loss: 532.5953 - mae: 15.4634 - mse: 532.5953 - mape: 1155.3732 - val_loss: 312.9639 - val_mae: 12.5433 - val_mse: 312.9639 - val_mape: 1068.5668\n",
      "\n",
      "Epoch 00009: saving model to /content/drive/MyDrive/OLD_CURR/UNIT8/DAY4/reg-nn2.hdf5\n",
      "Epoch 10/60\n",
      "596/596 - 1s - loss: 494.1446 - mae: 15.0120 - mse: 494.1446 - mape: 1289.4133 - val_loss: 318.1658 - val_mae: 12.6119 - val_mse: 318.1658 - val_mape: 1007.8024\n",
      "\n",
      "Epoch 00010: saving model to /content/drive/MyDrive/OLD_CURR/UNIT8/DAY4/reg-nn2.hdf5\n",
      "Epoch 11/60\n",
      "596/596 - 1s - loss: 488.8255 - mae: 14.9104 - mse: 488.8255 - mape: 1089.3439 - val_loss: 311.0691 - val_mae: 12.4673 - val_mse: 311.0691 - val_mape: 997.0998\n",
      "\n",
      "Epoch 00011: saving model to /content/drive/MyDrive/OLD_CURR/UNIT8/DAY4/reg-nn2.hdf5\n",
      "Epoch 12/60\n",
      "596/596 - 1s - loss: 476.7793 - mae: 14.8539 - mse: 476.7793 - mape: 1514.0933 - val_loss: 301.7517 - val_mae: 12.3002 - val_mse: 301.7518 - val_mape: 991.1781\n",
      "\n",
      "Epoch 00012: saving model to /content/drive/MyDrive/OLD_CURR/UNIT8/DAY4/reg-nn2.hdf5\n",
      "Epoch 13/60\n",
      "596/596 - 1s - loss: 464.2518 - mae: 14.6897 - mse: 464.2518 - mape: 1174.4761 - val_loss: 288.4730 - val_mae: 12.0090 - val_mse: 288.4730 - val_mape: 1024.3995\n",
      "\n",
      "Epoch 00013: saving model to /content/drive/MyDrive/OLD_CURR/UNIT8/DAY4/reg-nn2.hdf5\n",
      "Epoch 14/60\n",
      "596/596 - 1s - loss: 463.6195 - mae: 14.7983 - mse: 463.6195 - mape: 1135.1299 - val_loss: 300.5525 - val_mae: 12.2272 - val_mse: 300.5525 - val_mape: 953.0288\n",
      "\n",
      "Epoch 00014: saving model to /content/drive/MyDrive/OLD_CURR/UNIT8/DAY4/reg-nn2.hdf5\n",
      "Epoch 15/60\n",
      "596/596 - 1s - loss: 447.1856 - mae: 14.5698 - mse: 447.1856 - mape: 1702.1274 - val_loss: 286.9958 - val_mae: 11.9564 - val_mse: 286.9958 - val_mape: 1004.3304\n",
      "\n",
      "Epoch 00015: saving model to /content/drive/MyDrive/OLD_CURR/UNIT8/DAY4/reg-nn2.hdf5\n",
      "Epoch 16/60\n",
      "596/596 - 1s - loss: 443.4689 - mae: 14.5936 - mse: 443.4689 - mape: 1194.6769 - val_loss: 276.7438 - val_mae: 11.7275 - val_mse: 276.7438 - val_mape: 1031.5082\n",
      "\n",
      "Epoch 00016: saving model to /content/drive/MyDrive/OLD_CURR/UNIT8/DAY4/reg-nn2.hdf5\n",
      "Epoch 17/60\n",
      "596/596 - 1s - loss: 433.2394 - mae: 14.5107 - mse: 433.2394 - mape: 1215.4155 - val_loss: 279.8907 - val_mae: 11.8115 - val_mse: 279.8907 - val_mape: 1054.8411\n",
      "\n",
      "Epoch 00017: saving model to /content/drive/MyDrive/OLD_CURR/UNIT8/DAY4/reg-nn2.hdf5\n",
      "Epoch 18/60\n",
      "596/596 - 1s - loss: 419.3076 - mae: 14.3001 - mse: 419.3076 - mape: 1247.7435 - val_loss: 288.8155 - val_mae: 12.0306 - val_mse: 288.8155 - val_mape: 1068.2229\n",
      "\n",
      "Epoch 00018: saving model to /content/drive/MyDrive/OLD_CURR/UNIT8/DAY4/reg-nn2.hdf5\n",
      "Epoch 19/60\n",
      "596/596 - 1s - loss: 422.1278 - mae: 14.3424 - mse: 422.1278 - mape: 1306.5150 - val_loss: 290.4012 - val_mae: 12.0779 - val_mse: 290.4012 - val_mape: 1074.3676\n",
      "\n",
      "Epoch 00019: saving model to /content/drive/MyDrive/OLD_CURR/UNIT8/DAY4/reg-nn2.hdf5\n",
      "Epoch 20/60\n",
      "596/596 - 1s - loss: 404.9321 - mae: 14.2210 - mse: 404.9321 - mape: 1406.5532 - val_loss: 274.4589 - val_mae: 11.7425 - val_mse: 274.4589 - val_mape: 1138.3198\n",
      "\n",
      "Epoch 00020: saving model to /content/drive/MyDrive/OLD_CURR/UNIT8/DAY4/reg-nn2.hdf5\n",
      "Epoch 21/60\n",
      "596/596 - 1s - loss: 418.2709 - mae: 14.4697 - mse: 418.2709 - mape: 1763.5563 - val_loss: 268.2268 - val_mae: 11.6113 - val_mse: 268.2268 - val_mape: 1151.0026\n",
      "\n",
      "Epoch 00021: saving model to /content/drive/MyDrive/OLD_CURR/UNIT8/DAY4/reg-nn2.hdf5\n",
      "Epoch 22/60\n",
      "596/596 - 1s - loss: 408.4705 - mae: 14.3113 - mse: 408.4706 - mape: 2501.9465 - val_loss: 278.0812 - val_mae: 11.8812 - val_mse: 278.0812 - val_mape: 1164.1064\n",
      "\n",
      "Epoch 00022: saving model to /content/drive/MyDrive/OLD_CURR/UNIT8/DAY4/reg-nn2.hdf5\n",
      "Epoch 23/60\n",
      "596/596 - 1s - loss: 396.4220 - mae: 14.1480 - mse: 396.4220 - mape: 1420.7858 - val_loss: 281.3617 - val_mae: 11.9397 - val_mse: 281.3617 - val_mape: 1186.6208\n",
      "\n",
      "Epoch 00023: saving model to /content/drive/MyDrive/OLD_CURR/UNIT8/DAY4/reg-nn2.hdf5\n",
      "Epoch 24/60\n",
      "596/596 - 1s - loss: 399.7725 - mae: 14.1664 - mse: 399.7725 - mape: 1396.5032 - val_loss: 272.6882 - val_mae: 11.7534 - val_mse: 272.6882 - val_mape: 1213.5356\n",
      "\n",
      "Epoch 00024: saving model to /content/drive/MyDrive/OLD_CURR/UNIT8/DAY4/reg-nn2.hdf5\n",
      "Epoch 25/60\n",
      "596/596 - 1s - loss: 385.2941 - mae: 13.9840 - mse: 385.2941 - mape: 2031.5013 - val_loss: 267.9058 - val_mae: 11.6624 - val_mse: 267.9058 - val_mape: 1219.6851\n",
      "\n",
      "Epoch 00025: saving model to /content/drive/MyDrive/OLD_CURR/UNIT8/DAY4/reg-nn2.hdf5\n",
      "Epoch 26/60\n",
      "596/596 - 1s - loss: 393.6167 - mae: 14.1496 - mse: 393.6167 - mape: 1310.9329 - val_loss: 269.2646 - val_mae: 11.7246 - val_mse: 269.2646 - val_mape: 1247.6174\n",
      "\n",
      "Epoch 00026: saving model to /content/drive/MyDrive/OLD_CURR/UNIT8/DAY4/reg-nn2.hdf5\n",
      "Epoch 27/60\n",
      "596/596 - 1s - loss: 393.1990 - mae: 14.1080 - mse: 393.1990 - mape: 1317.5688 - val_loss: 276.5035 - val_mae: 11.8625 - val_mse: 276.5035 - val_mape: 1248.9342\n",
      "\n",
      "Epoch 00027: saving model to /content/drive/MyDrive/OLD_CURR/UNIT8/DAY4/reg-nn2.hdf5\n",
      "Epoch 28/60\n",
      "596/596 - 1s - loss: 401.0114 - mae: 14.2495 - mse: 401.0114 - mape: 2752.8232 - val_loss: 275.9982 - val_mae: 11.8530 - val_mse: 275.9982 - val_mape: 1261.2047\n",
      "\n",
      "Epoch 00028: saving model to /content/drive/MyDrive/OLD_CURR/UNIT8/DAY4/reg-nn2.hdf5\n",
      "Epoch 29/60\n",
      "596/596 - 1s - loss: 392.5882 - mae: 14.0926 - mse: 392.5882 - mape: 1440.0522 - val_loss: 266.7623 - val_mae: 11.6677 - val_mse: 266.7623 - val_mape: 1281.0002\n",
      "\n",
      "Epoch 00029: saving model to /content/drive/MyDrive/OLD_CURR/UNIT8/DAY4/reg-nn2.hdf5\n",
      "Epoch 30/60\n",
      "596/596 - 1s - loss: 385.9746 - mae: 14.0127 - mse: 385.9746 - mape: 1742.8042 - val_loss: 264.4229 - val_mae: 11.5967 - val_mse: 264.4229 - val_mape: 1289.0503\n",
      "\n",
      "Epoch 00030: saving model to /content/drive/MyDrive/OLD_CURR/UNIT8/DAY4/reg-nn2.hdf5\n",
      "Epoch 31/60\n",
      "596/596 - 1s - loss: 390.2850 - mae: 14.0639 - mse: 390.2850 - mape: 1584.7817 - val_loss: 262.4295 - val_mae: 11.5578 - val_mse: 262.4295 - val_mape: 1301.6602\n",
      "\n",
      "Epoch 00031: saving model to /content/drive/MyDrive/OLD_CURR/UNIT8/DAY4/reg-nn2.hdf5\n",
      "Epoch 32/60\n",
      "596/596 - 1s - loss: 388.2452 - mae: 13.9995 - mse: 388.2452 - mape: 1516.2994 - val_loss: 256.6266 - val_mae: 11.3996 - val_mse: 256.6266 - val_mape: 1303.7646\n",
      "\n",
      "Epoch 00032: saving model to /content/drive/MyDrive/OLD_CURR/UNIT8/DAY4/reg-nn2.hdf5\n",
      "Epoch 33/60\n",
      "596/596 - 1s - loss: 384.0727 - mae: 13.9840 - mse: 384.0727 - mape: 1518.3845 - val_loss: 263.7369 - val_mae: 11.6037 - val_mse: 263.7369 - val_mape: 1308.0580\n",
      "\n",
      "Epoch 00033: saving model to /content/drive/MyDrive/OLD_CURR/UNIT8/DAY4/reg-nn2.hdf5\n",
      "Epoch 34/60\n",
      "596/596 - 1s - loss: 388.8901 - mae: 14.0295 - mse: 388.8901 - mape: 1542.3506 - val_loss: 272.8981 - val_mae: 11.8327 - val_mse: 272.8981 - val_mape: 1320.8370\n",
      "\n",
      "Epoch 00034: saving model to /content/drive/MyDrive/OLD_CURR/UNIT8/DAY4/reg-nn2.hdf5\n",
      "Epoch 35/60\n",
      "596/596 - 1s - loss: 378.6614 - mae: 13.9293 - mse: 378.6614 - mape: 1519.2491 - val_loss: 267.7112 - val_mae: 11.7181 - val_mse: 267.7112 - val_mape: 1333.2932\n",
      "\n",
      "Epoch 00035: saving model to /content/drive/MyDrive/OLD_CURR/UNIT8/DAY4/reg-nn2.hdf5\n",
      "Epoch 36/60\n",
      "596/596 - 1s - loss: 377.3669 - mae: 13.9058 - mse: 377.3669 - mape: 1713.3679 - val_loss: 254.7180 - val_mae: 11.3689 - val_mse: 254.7180 - val_mape: 1350.2135\n",
      "\n",
      "Epoch 00036: saving model to /content/drive/MyDrive/OLD_CURR/UNIT8/DAY4/reg-nn2.hdf5\n",
      "Epoch 37/60\n",
      "596/596 - 1s - loss: 378.7025 - mae: 13.9314 - mse: 378.7025 - mape: 2146.7412 - val_loss: 259.4349 - val_mae: 11.5536 - val_mse: 259.4349 - val_mape: 1347.8557\n",
      "\n",
      "Epoch 00037: saving model to /content/drive/MyDrive/OLD_CURR/UNIT8/DAY4/reg-nn2.hdf5\n",
      "Epoch 38/60\n",
      "596/596 - 1s - loss: 378.6884 - mae: 13.8913 - mse: 378.6884 - mape: 1487.6919 - val_loss: 274.0816 - val_mae: 11.9039 - val_mse: 274.0816 - val_mape: 1349.3136\n",
      "\n",
      "Epoch 00038: saving model to /content/drive/MyDrive/OLD_CURR/UNIT8/DAY4/reg-nn2.hdf5\n",
      "Epoch 39/60\n",
      "596/596 - 1s - loss: 376.9609 - mae: 13.8125 - mse: 376.9609 - mape: 1978.8047 - val_loss: 261.1028 - val_mae: 11.6067 - val_mse: 261.1028 - val_mape: 1358.9592\n",
      "\n",
      "Epoch 00039: saving model to /content/drive/MyDrive/OLD_CURR/UNIT8/DAY4/reg-nn2.hdf5\n",
      "Epoch 40/60\n",
      "596/596 - 1s - loss: 373.9405 - mae: 13.8121 - mse: 373.9405 - mape: 1490.6509 - val_loss: 264.6210 - val_mae: 11.6926 - val_mse: 264.6210 - val_mape: 1349.3826\n",
      "\n",
      "Epoch 00040: saving model to /content/drive/MyDrive/OLD_CURR/UNIT8/DAY4/reg-nn2.hdf5\n",
      "Epoch 41/60\n",
      "596/596 - 1s - loss: 367.0820 - mae: 13.7391 - mse: 367.0820 - mape: 2768.5032 - val_loss: 267.2891 - val_mae: 11.7368 - val_mse: 267.2891 - val_mape: 1327.5865\n",
      "\n",
      "Epoch 00041: saving model to /content/drive/MyDrive/OLD_CURR/UNIT8/DAY4/reg-nn2.hdf5\n"
     ]
    }
   ],
   "source": [
    "history2 = model2.fit(\n",
    "    X_train, \n",
    "    y_train, \n",
    "    epochs=60, \n",
    "    validation_split=0.20, \n",
    "    batch_size=20, \n",
    "    verbose=2,\n",
    "    callbacks=[early_stopping,checkpoint]\n",
    ")"
   ]
  },
  {
   "cell_type": "code",
   "execution_count": null,
   "metadata": {
    "colab": {
     "base_uri": "https://localhost:8080/",
     "height": 295
    },
    "executionInfo": {
     "elapsed": 37516,
     "status": "ok",
     "timestamp": 1626948405010,
     "user": {
      "displayName": "Ignacio Soteras",
      "photoUrl": "",
      "userId": "02050793736257155229"
     },
     "user_tz": -120
    },
    "id": "-n3VSDufNknr",
    "outputId": "debda6d5-e73c-4a91-9099-ca729f65db17"
   },
   "outputs": [
    {
     "data": {
      "image/png": "[encoded data removed]",
      "text/plain": [
       "<Figure size 432x288 with 1 Axes>"
      ]
     },
     "metadata": {
      "needs_background": "light",
      "tags": []
     },
     "output_type": "display_data"
    }
   ],
   "source": [
    "plot_metric(history2,'loss')"
   ]
  },
  {
   "cell_type": "code",
   "execution_count": null,
   "metadata": {
    "colab": {
     "base_uri": "https://localhost:8080/",
     "height": 236
    },
    "executionInfo": {
     "elapsed": 939,
     "status": "ok",
     "timestamp": 1626948445301,
     "user": {
      "displayName": "Ignacio Soteras",
      "photoUrl": "",
      "userId": "02050793736257155229"
     },
     "user_tz": -120
    },
    "id": "zDDWBEu9So3k",
    "outputId": "9261aa48-5d2c-4870-e829-83316bb2473c"
   },
   "outputs": [
    {
     "data": {
      "text/html": [
       "<div>\n",
       "<style scoped>\n",
       "    .dataframe tbody tr th:only-of-type {\n",
       "        vertical-align: middle;\n",
       "    }\n",
       "\n",
       "    .dataframe tbody tr th {\n",
       "        vertical-align: top;\n",
       "    }\n",
       "\n",
       "    .dataframe thead th {\n",
       "        text-align: right;\n",
       "    }\n",
       "</style>\n",
       "<table border=\"1\" class=\"dataframe\">\n",
       "  <thead>\n",
       "    <tr style=\"text-align: right;\">\n",
       "      <th></th>\n",
       "      <th>Error_metric</th>\n",
       "      <th>Train</th>\n",
       "      <th>Test</th>\n",
       "    </tr>\n",
       "  </thead>\n",
       "  <tbody>\n",
       "    <tr>\n",
       "      <th>0</th>\n",
       "      <td>Mean error</td>\n",
       "      <td>2.82</td>\n",
       "      <td>2.97</td>\n",
       "    </tr>\n",
       "    <tr>\n",
       "      <th>1</th>\n",
       "      <td>Mean absolute error</td>\n",
       "      <td>11.66</td>\n",
       "      <td>11.47</td>\n",
       "    </tr>\n",
       "    <tr>\n",
       "      <th>2</th>\n",
       "      <td>Mean squared error</td>\n",
       "      <td>264.00</td>\n",
       "      <td>253.96</td>\n",
       "    </tr>\n",
       "    <tr>\n",
       "      <th>3</th>\n",
       "      <td>Root mean squared error</td>\n",
       "      <td>16.25</td>\n",
       "      <td>15.94</td>\n",
       "    </tr>\n",
       "    <tr>\n",
       "      <th>4</th>\n",
       "      <td>Mean absolute percentual error</td>\n",
       "      <td>1301.75</td>\n",
       "      <td>1159.46</td>\n",
       "    </tr>\n",
       "    <tr>\n",
       "      <th>5</th>\n",
       "      <td>R2</td>\n",
       "      <td>0.78</td>\n",
       "      <td>0.78</td>\n",
       "    </tr>\n",
       "  </tbody>\n",
       "</table>\n",
       "</div>"
      ],
      "text/plain": [
       "                     Error_metric   Train    Test\n",
       "0                      Mean error    2.82    2.97\n",
       "1             Mean absolute error   11.66   11.47\n",
       "2              Mean squared error  264.00  253.96\n",
       "3         Root mean squared error   16.25   15.94\n",
       "4  Mean absolute percentual error 1301.75 1159.46\n",
       "5                              R2    0.78    0.78"
      ]
     },
     "execution_count": 25,
     "metadata": {
      "tags": []
     },
     "output_type": "execute_result"
    }
   ],
   "source": [
    "y_pred_train_nn2 = model2.predict(X_train)\n",
    "y_pred_test_nn2  = model2.predict(X_test)\n",
    "\n",
    "y_train = np.array(y_train).reshape(-1,1)\n",
    "y_test  = np.array(y_test).reshape(-1,1)\n",
    "\n",
    "results2, df12, df22 = model_performance(y_train, y_pred_train_nn2, y_test, y_pred_test_nn2)\n",
    "results2"
   ]
  },
  {
   "cell_type": "markdown",
   "metadata": {
    "id": "IgWexceJDl7y"
   },
   "source": [
    "You can play with different values of the dropout coefficient in order to determine which is the best according to: the architecture of your newral network and the dataset under study, the scaling,...etc."
   ]
  },
  {
   "cell_type": "markdown",
   "metadata": {
    "id": "tRhttuKFRM_7"
   },
   "source": [
    "## Adding regularization L1"
   ]
  },
  {
   "cell_type": "markdown",
   "metadata": {
    "id": "Xp3wrPvOD_5Y"
   },
   "source": [
    "As you remember from the lectures, another way to reduce overfitting is to add an additional penalty term to the error metrics in order to force the parameters to be as smallest as possible. \n",
    "\n",
    "In particular, there are two possible types of regularization. The first one is the L1 regularization and the L2.\n",
    "\n",
    "Let's cover first the L1 regularization. This type of regularization adds a penalty term which has the following form:\n",
    "\n",
    "$$\\lambda\\sum_{k}\\sum_{ij}|\\Theta_{ij}^{(k)}|$$\n",
    "\n",
    "where $\\Theta_{ij}^{(k)}$ are the weights of layer (k), and $\\lambda$ is the regularization parameter. If $\\lambda$ is high, then the penalty term will be high and then the training process will try to set to zero the wheights in order to miminize this term. In this scenario, the neural network will not do almost anything and therefore the network will underfit the problem. In contrast, when the $\\lambda$ parameter is small this term will have an small impact and the neural netork will not overfit the data. The optimal value for this regulariozation parameter will depend again on several things:\n",
    "\n",
    "* network achitecture\n",
    "* dataset\n",
    "* scaling\n",
    "\n",
    "therefore, there is no universal value and some experimentation is needed in order to find the best value for a given problem."
   ]
  },
  {
   "cell_type": "markdown",
   "metadata": {
    "id": "I5iUy2IJHJfS"
   },
   "source": [
    "Let's add an L1 regularizer to our newral network."
   ]
  },
  {
   "cell_type": "code",
   "execution_count": null,
   "metadata": {
    "id": "W3fGVLLIQtGi"
   },
   "outputs": [],
   "source": [
    "from tensorflow.keras import regularizers\n"
   ]
  },
  {
   "cell_type": "code",
   "execution_count": null,
   "metadata": {
    "colab": {
     "base_uri": "https://localhost:8080/"
    },
    "executionInfo": {
     "elapsed": 234,
     "status": "ok",
     "timestamp": 1626948625006,
     "user": {
      "displayName": "Ignacio Soteras",
      "photoUrl": "",
      "userId": "02050793736257155229"
     },
     "user_tz": -120
    },
    "id": "Ibre3AYMRLvP",
    "outputId": "268229a5-37bc-47a9-81d4-66d0b299256f"
   },
   "outputs": [
    {
     "name": "stdout",
     "output_type": "stream",
     "text": [
      "Model: \"sequential_2\"\n",
      "_________________________________________________________________\n",
      "Layer (type)                 Output Shape              Param #   \n",
      "=================================================================\n",
      "dense_6 (Dense)              (None, 9)                 729       \n",
      "_________________________________________________________________\n",
      "dropout_1 (Dropout)          (None, 9)                 0         \n",
      "_________________________________________________________________\n",
      "dense_7 (Dense)              (None, 3)                 30        \n",
      "_________________________________________________________________\n",
      "dense_8 (Dense)              (None, 1)                 4         \n",
      "=================================================================\n",
      "Total params: 763\n",
      "Trainable params: 763\n",
      "Non-trainable params: 0\n",
      "_________________________________________________________________\n"
     ]
    }
   ],
   "source": [
    "model3 = keras.Sequential()\n",
    "# Adding a hidden layer with:\n",
    "# as many inputs as the number of features\n",
    "# 9 neurons\n",
    "# each neuron will have a \"RELU\" activation function\n",
    "model3.add(Dense(units = 9,input_dim = X_train.shape[1],activation='relu'))\n",
    "# Adding a dropout layer with a 0.5 regularization parameter (it must be between [0,1) )\n",
    "model3.add(Dropout(0.5))\n",
    "# Adding a new hidden layer with three neurons with \"RELU\" activation function\n",
    "model3.add(Dense(units = 3,activation='relu'))\n",
    "# Adding the final layer\n",
    "model3.add(Dense(1, activation='relu',activity_regularizer=regularizers.l1(0.01)))\n",
    "\n",
    "# Compile the final network\n",
    "model3.compile(optimizer='adam', # Optimization method\n",
    "              loss='mse', # Error metric to minimize\n",
    "              metrics=['mae', 'mse','mape'] # Error matrics to report\n",
    "              )\n",
    "\n",
    "\n",
    "model3.summary()"
   ]
  },
  {
   "cell_type": "markdown",
   "metadata": {
    "id": "j8iOxXHjHVif"
   },
   "source": [
    "Now, we need to update the filename."
   ]
  },
  {
   "cell_type": "code",
   "execution_count": null,
   "metadata": {
    "id": "Yp-UrjtOHUpY"
   },
   "outputs": [],
   "source": [
    "checkpoint_path = '/content/drive/MyDrive/OLD_CURR/UNIT8/DAY4/reg-nn3.hdf5'\n",
    "checkpoint = ModelCheckpoint(\n",
    "    filepath=checkpoint_path,\n",
    "    save_freq='epoch',\n",
    "    save_weights_only=False,\n",
    "    verbose=1\n",
    ")"
   ]
  },
  {
   "cell_type": "code",
   "execution_count": null,
   "metadata": {
    "colab": {
     "base_uri": "https://localhost:8080/"
    },
    "executionInfo": {
     "elapsed": 6643,
     "status": "ok",
     "timestamp": 1626948680637,
     "user": {
      "displayName": "Ignacio Soteras",
      "photoUrl": "",
      "userId": "02050793736257155229"
     },
     "user_tz": -120
    },
    "id": "Scowl0t3R27I",
    "outputId": "39acafa0-d416-43d8-ce4a-6d1f5479546b"
   },
   "outputs": [
    {
     "name": "stdout",
     "output_type": "stream",
     "text": [
      "Epoch 1/60\n",
      "596/596 - 1s - loss: 1249.7897 - mae: 23.4394 - mse: 1249.6091 - mape: 933.5823 - val_loss: 508.8851 - val_mae: 15.7027 - val_mse: 508.6225 - val_mape: 1193.7517\n",
      "\n",
      "Epoch 00001: saving model to /content/drive/MyDrive/OLD_CURR/UNIT8/DAY4/reg-nn3.hdf5\n",
      "Epoch 2/60\n",
      "596/596 - 1s - loss: 627.8859 - mae: 16.7184 - mse: 627.5818 - mape: 1521.3474 - val_loss: 503.0127 - val_mae: 15.3451 - val_mse: 502.7626 - val_mape: 1123.9083\n",
      "\n",
      "Epoch 00002: saving model to /content/drive/MyDrive/OLD_CURR/UNIT8/DAY4/reg-nn3.hdf5\n",
      "Epoch 3/60\n",
      "596/596 - 1s - loss: 541.9640 - mae: 15.5874 - mse: 541.6495 - mape: 1424.9570 - val_loss: 514.5874 - val_mae: 15.5409 - val_mse: 514.3434 - val_mape: 1059.3762\n",
      "\n",
      "Epoch 00003: saving model to /content/drive/MyDrive/OLD_CURR/UNIT8/DAY4/reg-nn3.hdf5\n",
      "Epoch 4/60\n",
      "596/596 - 1s - loss: 485.9352 - mae: 14.8337 - mse: 485.6133 - mape: 1271.9956 - val_loss: 517.1751 - val_mae: 15.5969 - val_mse: 516.9326 - val_mape: 1030.6154\n",
      "\n",
      "Epoch 00004: saving model to /content/drive/MyDrive/OLD_CURR/UNIT8/DAY4/reg-nn3.hdf5\n",
      "Epoch 5/60\n",
      "596/596 - 1s - loss: 453.7059 - mae: 14.4903 - mse: 453.3774 - mape: 1240.0228 - val_loss: 575.6296 - val_mae: 16.3652 - val_mse: 575.3976 - val_mape: 1014.4150\n",
      "\n",
      "Epoch 00005: saving model to /content/drive/MyDrive/OLD_CURR/UNIT8/DAY4/reg-nn3.hdf5\n",
      "Epoch 6/60\n",
      "596/596 - 1s - loss: 436.4537 - mae: 14.2316 - mse: 436.1198 - mape: 1347.1619 - val_loss: 602.6752 - val_mae: 16.6815 - val_mse: 602.4476 - val_mape: 951.6942\n",
      "\n",
      "Epoch 00006: saving model to /content/drive/MyDrive/OLD_CURR/UNIT8/DAY4/reg-nn3.hdf5\n",
      "Epoch 7/60\n",
      "596/596 - 1s - loss: 427.1822 - mae: 14.2657 - mse: 426.8463 - mape: 1460.9493 - val_loss: 559.8539 - val_mae: 16.2220 - val_mse: 559.6182 - val_mape: 946.5583\n",
      "\n",
      "Epoch 00007: saving model to /content/drive/MyDrive/OLD_CURR/UNIT8/DAY4/reg-nn3.hdf5\n"
     ]
    }
   ],
   "source": [
    "history3 = model3.fit(\n",
    "    X_train, \n",
    "    y_train, \n",
    "    epochs=60, \n",
    "    validation_split=0.20, \n",
    "    batch_size=20, \n",
    "    verbose=2,\n",
    "    callbacks=[early_stopping,checkpoint]\n",
    ")"
   ]
  },
  {
   "cell_type": "code",
   "execution_count": null,
   "metadata": {
    "colab": {
     "base_uri": "https://localhost:8080/",
     "height": 295
    },
    "executionInfo": {
     "elapsed": 3846,
     "status": "ok",
     "timestamp": 1626948695846,
     "user": {
      "displayName": "Ignacio Soteras",
      "photoUrl": "",
      "userId": "02050793736257155229"
     },
     "user_tz": -120
    },
    "id": "cDci6FU_SB4I",
    "outputId": "da684276-8efe-4a59-d202-fa76ab7ab90b"
   },
   "outputs": [
    {
     "data": {
      "image/png": "[encoded data removed]",
      "text/plain": [
       "<Figure size 432x288 with 1 Axes>"
      ]
     },
     "metadata": {
      "needs_background": "light",
      "tags": []
     },
     "output_type": "display_data"
    }
   ],
   "source": [
    "plot_metric(history3,'loss')"
   ]
  },
  {
   "cell_type": "code",
   "execution_count": null,
   "metadata": {
    "colab": {
     "base_uri": "https://localhost:8080/",
     "height": 236
    },
    "executionInfo": {
     "elapsed": 1027,
     "status": "ok",
     "timestamp": 1626948713833,
     "user": {
      "displayName": "Ignacio Soteras",
      "photoUrl": "",
      "userId": "02050793736257155229"
     },
     "user_tz": -120
    },
    "id": "yFkJun7vS48S",
    "outputId": "be65693b-8dcd-4dab-abb1-64c91d363112"
   },
   "outputs": [
    {
     "data": {
      "text/html": [
       "<div>\n",
       "<style scoped>\n",
       "    .dataframe tbody tr th:only-of-type {\n",
       "        vertical-align: middle;\n",
       "    }\n",
       "\n",
       "    .dataframe tbody tr th {\n",
       "        vertical-align: top;\n",
       "    }\n",
       "\n",
       "    .dataframe thead th {\n",
       "        text-align: right;\n",
       "    }\n",
       "</style>\n",
       "<table border=\"1\" class=\"dataframe\">\n",
       "  <thead>\n",
       "    <tr style=\"text-align: right;\">\n",
       "      <th></th>\n",
       "      <th>Error_metric</th>\n",
       "      <th>Train</th>\n",
       "      <th>Test</th>\n",
       "    </tr>\n",
       "  </thead>\n",
       "  <tbody>\n",
       "    <tr>\n",
       "      <th>0</th>\n",
       "      <td>Mean error</td>\n",
       "      <td>10.77</td>\n",
       "      <td>10.45</td>\n",
       "    </tr>\n",
       "    <tr>\n",
       "      <th>1</th>\n",
       "      <td>Mean absolute error</td>\n",
       "      <td>16.37</td>\n",
       "      <td>16.00</td>\n",
       "    </tr>\n",
       "    <tr>\n",
       "      <th>2</th>\n",
       "      <td>Mean squared error</td>\n",
       "      <td>568.98</td>\n",
       "      <td>543.78</td>\n",
       "    </tr>\n",
       "    <tr>\n",
       "      <th>3</th>\n",
       "      <td>Root mean squared error</td>\n",
       "      <td>23.85</td>\n",
       "      <td>23.32</td>\n",
       "    </tr>\n",
       "    <tr>\n",
       "      <th>4</th>\n",
       "      <td>Mean absolute percentual error</td>\n",
       "      <td>957.01</td>\n",
       "      <td>1101.92</td>\n",
       "    </tr>\n",
       "    <tr>\n",
       "      <th>5</th>\n",
       "      <td>R2</td>\n",
       "      <td>0.52</td>\n",
       "      <td>0.53</td>\n",
       "    </tr>\n",
       "  </tbody>\n",
       "</table>\n",
       "</div>"
      ],
      "text/plain": [
       "                     Error_metric  Train    Test\n",
       "0                      Mean error  10.77   10.45\n",
       "1             Mean absolute error  16.37   16.00\n",
       "2              Mean squared error 568.98  543.78\n",
       "3         Root mean squared error  23.85   23.32\n",
       "4  Mean absolute percentual error 957.01 1101.92\n",
       "5                              R2   0.52    0.53"
      ]
     },
     "execution_count": 31,
     "metadata": {
      "tags": []
     },
     "output_type": "execute_result"
    }
   ],
   "source": [
    "y_pred_train_nn3 = model3.predict(X_train)\n",
    "y_pred_test_nn3  = model3.predict(X_test)\n",
    "\n",
    "y_train = np.array(y_train).reshape(-1,1)\n",
    "y_test  = np.array(y_test).reshape(-1,1)\n",
    "\n",
    "results3, df13, df23 = model_performance(y_train, y_pred_train_nn3, y_test, y_pred_test_nn3)\n",
    "results3"
   ]
  },
  {
   "cell_type": "markdown",
   "metadata": {
    "id": "pNg7df1WTd1g"
   },
   "source": [
    "## Replacing regularization L1 by L2"
   ]
  },
  {
   "cell_type": "markdown",
   "metadata": {
    "id": "1DQnDljwHkj3"
   },
   "source": [
    "The second type of regularization is the L2. In this case, the additonal penalty term takes the following form:\n",
    "\n",
    "$$\\lambda\\sum_{k}\\sum_{ij}(\\Theta_{ij}^{(k)})^{2}$$\n",
    "\n",
    "again, the optimal value of $\\lambda$ needs to be found by trial and error."
   ]
  },
  {
   "cell_type": "code",
   "execution_count": null,
   "metadata": {
    "colab": {
     "base_uri": "https://localhost:8080/"
    },
    "executionInfo": {
     "elapsed": 212,
     "status": "ok",
     "timestamp": 1626948778783,
     "user": {
      "displayName": "Ignacio Soteras",
      "photoUrl": "",
      "userId": "02050793736257155229"
     },
     "user_tz": -120
    },
    "id": "8aeLClsJTJte",
    "outputId": "a9af8b8a-101b-4a2c-d318-b7e9642a73a3"
   },
   "outputs": [
    {
     "name": "stdout",
     "output_type": "stream",
     "text": [
      "Model: \"sequential_3\"\n",
      "_________________________________________________________________\n",
      "Layer (type)                 Output Shape              Param #   \n",
      "=================================================================\n",
      "dense_9 (Dense)              (None, 9)                 729       \n",
      "_________________________________________________________________\n",
      "dropout_2 (Dropout)          (None, 9)                 0         \n",
      "_________________________________________________________________\n",
      "dense_10 (Dense)             (None, 3)                 30        \n",
      "_________________________________________________________________\n",
      "dense_11 (Dense)             (None, 1)                 4         \n",
      "=================================================================\n",
      "Total params: 763\n",
      "Trainable params: 763\n",
      "Non-trainable params: 0\n",
      "_________________________________________________________________\n"
     ]
    }
   ],
   "source": [
    "model4 = keras.Sequential()\n",
    "# Adding a hidden layer with:\n",
    "# as many inputs as the number of features\n",
    "# 9 neurons\n",
    "# each neuron will have a \"RELU\" activation function\n",
    "model4.add(Dense(units = 9,input_dim = X_train.shape[1],activation='relu'))\n",
    "# Adding a dropout layer with a 0.5 regularization parameter (it must be between [0,1) )\n",
    "model4.add(Dropout(0.5))\n",
    "# Adding a new hidden layer with three neurons with \"RELU\" activation function\n",
    "model4.add(Dense(units = 3,activation='relu'))\n",
    "# Adding the final layer\n",
    "model4.add(Dense(1, activation='relu',activity_regularizer=regularizers.l2(0.01)))\n",
    "\n",
    "# Compile the final network\n",
    "model4.compile(optimizer='adam', # Optimization method\n",
    "              loss='mse', # Error metric to minimize\n",
    "              metrics=['mae', 'mse','mape'] # Error matrics to report\n",
    "              )\n",
    "\n",
    "\n",
    "model4.summary()"
   ]
  },
  {
   "cell_type": "code",
   "execution_count": null,
   "metadata": {
    "id": "1yw5BEP2IIz3"
   },
   "outputs": [],
   "source": [
    "checkpoint_path = '/content/drive/MyDrive/OLD_CURR/UNIT8/DAY4/reg-nn4.hdf5'\n",
    "checkpoint = ModelCheckpoint(\n",
    "    filepath=checkpoint_path,\n",
    "    save_freq='epoch',\n",
    "    save_weights_only=False,\n",
    "    verbose=1\n",
    ")"
   ]
  },
  {
   "cell_type": "code",
   "execution_count": null,
   "metadata": {
    "colab": {
     "base_uri": "https://localhost:8080/"
    },
    "executionInfo": {
     "elapsed": 7014,
     "status": "ok",
     "timestamp": 1626948805667,
     "user": {
      "displayName": "Ignacio Soteras",
      "photoUrl": "",
      "userId": "02050793736257155229"
     },
     "user_tz": -120
    },
    "id": "BwfhuokCTum2",
    "outputId": "06c45d96-c927-4d45-cc7d-1e0dcbf5f573"
   },
   "outputs": [
    {
     "name": "stdout",
     "output_type": "stream",
     "text": [
      "Epoch 1/60\n",
      "596/596 - 2s - loss: 1121.0015 - mae: 22.4236 - mse: 1110.9030 - mape: 748.1445 - val_loss: 491.3138 - val_mae: 15.5082 - val_mse: 478.8349 - val_mape: 1081.2249\n",
      "\n",
      "Epoch 00001: saving model to /content/drive/MyDrive/OLD_CURR/UNIT8/DAY4/reg-nn4.hdf5\n",
      "Epoch 2/60\n",
      "596/596 - 1s - loss: 673.5485 - mae: 17.1058 - mse: 657.2839 - mape: 1178.5840 - val_loss: 412.2184 - val_mae: 14.0039 - val_mse: 398.5605 - val_mape: 1047.5485\n",
      "\n",
      "Epoch 00002: saving model to /content/drive/MyDrive/OLD_CURR/UNIT8/DAY4/reg-nn4.hdf5\n",
      "Epoch 3/60\n",
      "596/596 - 1s - loss: 602.1746 - mae: 16.1430 - mse: 584.9880 - mape: 1102.6289 - val_loss: 414.9762 - val_mae: 14.0832 - val_mse: 402.2864 - val_mape: 941.7540\n",
      "\n",
      "Epoch 00003: saving model to /content/drive/MyDrive/OLD_CURR/UNIT8/DAY4/reg-nn4.hdf5\n",
      "Epoch 4/60\n",
      "596/596 - 1s - loss: 549.2057 - mae: 15.4818 - mse: 531.5219 - mape: 1039.3815 - val_loss: 432.8853 - val_mae: 14.3393 - val_mse: 421.3161 - val_mape: 892.5433\n",
      "\n",
      "Epoch 00004: saving model to /content/drive/MyDrive/OLD_CURR/UNIT8/DAY4/reg-nn4.hdf5\n",
      "Epoch 5/60\n",
      "596/596 - 1s - loss: 510.5649 - mae: 14.9964 - mse: 492.4064 - mape: 1178.1008 - val_loss: 463.8599 - val_mae: 14.8040 - val_mse: 453.3276 - val_mape: 782.3690\n",
      "\n",
      "Epoch 00005: saving model to /content/drive/MyDrive/OLD_CURR/UNIT8/DAY4/reg-nn4.hdf5\n",
      "Epoch 6/60\n",
      "596/596 - 1s - loss: 478.9060 - mae: 14.5929 - mse: 460.3272 - mape: 1366.5314 - val_loss: 429.6480 - val_mae: 14.3747 - val_mse: 418.2703 - val_mape: 798.1275\n",
      "\n",
      "Epoch 00006: saving model to /content/drive/MyDrive/OLD_CURR/UNIT8/DAY4/reg-nn4.hdf5\n",
      "Epoch 7/60\n",
      "596/596 - 1s - loss: 465.7497 - mae: 14.3520 - mse: 447.0339 - mape: 1426.0303 - val_loss: 498.1244 - val_mae: 15.3331 - val_mse: 488.6511 - val_mape: 744.0228\n",
      "\n",
      "Epoch 00007: saving model to /content/drive/MyDrive/OLD_CURR/UNIT8/DAY4/reg-nn4.hdf5\n"
     ]
    }
   ],
   "source": [
    "history4 = model4.fit(\n",
    "    X_train, \n",
    "    y_train, \n",
    "    epochs=60, \n",
    "    validation_split=0.20, \n",
    "    batch_size=20, \n",
    "    verbose=2,\n",
    "    callbacks=[early_stopping,checkpoint]\n",
    ")"
   ]
  },
  {
   "cell_type": "code",
   "execution_count": null,
   "metadata": {
    "colab": {
     "base_uri": "https://localhost:8080/",
     "height": 295
    },
    "executionInfo": {
     "elapsed": 998,
     "status": "ok",
     "timestamp": 1626948812410,
     "user": {
      "displayName": "Ignacio Soteras",
      "photoUrl": "",
      "userId": "02050793736257155229"
     },
     "user_tz": -120
    },
    "id": "q-m8tf9bT2FN",
    "outputId": "659c14f1-d49c-4bc8-dd63-4a58b950ab67"
   },
   "outputs": [
    {
     "data": {
      "image/png": "[encoded data removed]",
      "text/plain": [
       "<Figure size 432x288 with 1 Axes>"
      ]
     },
     "metadata": {
      "needs_background": "light",
      "tags": []
     },
     "output_type": "display_data"
    }
   ],
   "source": [
    "plot_metric(history4,'loss')"
   ]
  },
  {
   "cell_type": "code",
   "execution_count": null,
   "metadata": {
    "colab": {
     "base_uri": "https://localhost:8080/",
     "height": 236
    },
    "executionInfo": {
     "elapsed": 1095,
     "status": "ok",
     "timestamp": 1626948825006,
     "user": {
      "displayName": "Ignacio Soteras",
      "photoUrl": "",
      "userId": "02050793736257155229"
     },
     "user_tz": -120
    },
    "id": "QWTFKVwDUalB",
    "outputId": "cc465ee3-29f5-44dd-e7f3-253a4795ef80"
   },
   "outputs": [
    {
     "data": {
      "text/html": [
       "<div>\n",
       "<style scoped>\n",
       "    .dataframe tbody tr th:only-of-type {\n",
       "        vertical-align: middle;\n",
       "    }\n",
       "\n",
       "    .dataframe tbody tr th {\n",
       "        vertical-align: top;\n",
       "    }\n",
       "\n",
       "    .dataframe thead th {\n",
       "        text-align: right;\n",
       "    }\n",
       "</style>\n",
       "<table border=\"1\" class=\"dataframe\">\n",
       "  <thead>\n",
       "    <tr style=\"text-align: right;\">\n",
       "      <th></th>\n",
       "      <th>Error_metric</th>\n",
       "      <th>Train</th>\n",
       "      <th>Test</th>\n",
       "    </tr>\n",
       "  </thead>\n",
       "  <tbody>\n",
       "    <tr>\n",
       "      <th>0</th>\n",
       "      <td>Mean error</td>\n",
       "      <td>9.86</td>\n",
       "      <td>9.59</td>\n",
       "    </tr>\n",
       "    <tr>\n",
       "      <th>1</th>\n",
       "      <td>Mean absolute error</td>\n",
       "      <td>15.54</td>\n",
       "      <td>15.23</td>\n",
       "    </tr>\n",
       "    <tr>\n",
       "      <th>2</th>\n",
       "      <td>Mean squared error</td>\n",
       "      <td>498.09</td>\n",
       "      <td>477.93</td>\n",
       "    </tr>\n",
       "    <tr>\n",
       "      <th>3</th>\n",
       "      <td>Root mean squared error</td>\n",
       "      <td>22.32</td>\n",
       "      <td>21.86</td>\n",
       "    </tr>\n",
       "    <tr>\n",
       "      <th>4</th>\n",
       "      <td>Mean absolute percentual error</td>\n",
       "      <td>941.07</td>\n",
       "      <td>938.86</td>\n",
       "    </tr>\n",
       "    <tr>\n",
       "      <th>5</th>\n",
       "      <td>R2</td>\n",
       "      <td>0.58</td>\n",
       "      <td>0.59</td>\n",
       "    </tr>\n",
       "  </tbody>\n",
       "</table>\n",
       "</div>"
      ],
      "text/plain": [
       "                     Error_metric  Train   Test\n",
       "0                      Mean error   9.86   9.59\n",
       "1             Mean absolute error  15.54  15.23\n",
       "2              Mean squared error 498.09 477.93\n",
       "3         Root mean squared error  22.32  21.86\n",
       "4  Mean absolute percentual error 941.07 938.86\n",
       "5                              R2   0.58   0.59"
      ]
     },
     "execution_count": 36,
     "metadata": {
      "tags": []
     },
     "output_type": "execute_result"
    }
   ],
   "source": [
    "y_pred_train_nn4 = model4.predict(X_train)\n",
    "y_pred_test_nn4  = model4.predict(X_test)\n",
    "\n",
    "y_train = np.array(y_train).reshape(-1,1)\n",
    "y_test  = np.array(y_test).reshape(-1,1)\n",
    "\n",
    "results4, df14, df24 = model_performance(y_train, y_pred_train_nn4, y_test, y_pred_test_nn4)\n",
    "results4"
   ]
  },
  {
   "cell_type": "markdown",
   "metadata": {
    "id": "v9vTR9AWUnUt"
   },
   "source": [
    "## Combining all the regularizers"
   ]
  },
  {
   "cell_type": "markdown",
   "metadata": {
    "id": "aLrsp16gJTBR"
   },
   "source": [
    "The different approaches used so far are not mutually exclusive, they can be used together. Let's see an example."
   ]
  },
  {
   "cell_type": "code",
   "execution_count": null,
   "metadata": {
    "colab": {
     "base_uri": "https://localhost:8080/"
    },
    "executionInfo": {
     "elapsed": 5,
     "status": "ok",
     "timestamp": 1626948877551,
     "user": {
      "displayName": "Ignacio Soteras",
      "photoUrl": "",
      "userId": "02050793736257155229"
     },
     "user_tz": -120
    },
    "id": "U6aFknw1UqEV",
    "outputId": "a2f19563-6fe1-46b4-db97-a8e5f66673aa"
   },
   "outputs": [
    {
     "name": "stdout",
     "output_type": "stream",
     "text": [
      "Model: \"sequential_4\"\n",
      "_________________________________________________________________\n",
      "Layer (type)                 Output Shape              Param #   \n",
      "=================================================================\n",
      "dense_12 (Dense)             (None, 9)                 729       \n",
      "_________________________________________________________________\n",
      "dropout_3 (Dropout)          (None, 9)                 0         \n",
      "_________________________________________________________________\n",
      "dense_13 (Dense)             (None, 3)                 30        \n",
      "_________________________________________________________________\n",
      "dense_14 (Dense)             (None, 1)                 4         \n",
      "=================================================================\n",
      "Total params: 763\n",
      "Trainable params: 763\n",
      "Non-trainable params: 0\n",
      "_________________________________________________________________\n"
     ]
    }
   ],
   "source": [
    "model5 = keras.Sequential()\n",
    "# Adding a hidden layer with:\n",
    "# as many inputs as the number of features\n",
    "# 9 neurons\n",
    "# each neuron will have a \"RELU\" activation function\n",
    "model5.add(Dense(units = 9,input_dim = X_train.shape[1],activation='relu'))\n",
    "# Adding a dropout layer with a 0.5 regularization parameter (it must be between [0,1) )\n",
    "model5.add(Dropout(0.5))\n",
    "# Adding a new hidden layer with three neurons with \"RELU\" activation function\n",
    "model5.add(Dense(units = 3,activation='relu'))\n",
    "# Adding the final layer\n",
    "model5.add(Dense(1, activation='relu',activity_regularizer=regularizers.l1_l2(l1=0.01, l2=0.01)))\n",
    "\n",
    "# Compile the final network\n",
    "model5.compile(optimizer='adam', # Optimization method\n",
    "              loss='mse', # Error metric to minimize\n",
    "              metrics=['mae', 'mse','mape'] # Error matrics to report\n",
    "              )\n",
    "\n",
    "\n",
    "model5.summary()"
   ]
  },
  {
   "cell_type": "code",
   "execution_count": null,
   "metadata": {
    "id": "ZC6gUPHkJehl"
   },
   "outputs": [],
   "source": [
    "checkpoint_path = '/content/drive/MyDrive/OLD_CURR/UNIT8/DAY4/reg-nn5.hdf5'\n",
    "checkpoint = ModelCheckpoint(\n",
    "    filepath=checkpoint_path,\n",
    "    save_freq='epoch',\n",
    "    save_weights_only=False,\n",
    "    verbose=1\n",
    ")"
   ]
  },
  {
   "cell_type": "code",
   "execution_count": null,
   "metadata": {
    "colab": {
     "base_uri": "https://localhost:8080/"
    },
    "executionInfo": {
     "elapsed": 6290,
     "status": "ok",
     "timestamp": 1626948902304,
     "user": {
      "displayName": "Ignacio Soteras",
      "photoUrl": "",
      "userId": "02050793736257155229"
     },
     "user_tz": -120
    },
    "id": "34hwp4Z-VGSJ",
    "outputId": "bb9f56de-1226-496a-db2b-e8173a7919d3"
   },
   "outputs": [
    {
     "name": "stdout",
     "output_type": "stream",
     "text": [
      "Epoch 1/60\n",
      "596/596 - 2s - loss: 2404.4177 - mae: 34.9332 - mse: 2404.4177 - mape: 100.0000 - val_loss: 2305.1643 - val_mae: 33.8993 - val_mse: 2305.1643 - val_mape: 100.0000\n",
      "\n",
      "Epoch 00001: saving model to /content/drive/MyDrive/OLD_CURR/UNIT8/DAY4/reg-nn5.hdf5\n",
      "Epoch 2/60\n",
      "596/596 - 1s - loss: 2404.4192 - mae: 34.9332 - mse: 2404.4192 - mape: 100.0000 - val_loss: 2305.1643 - val_mae: 33.8993 - val_mse: 2305.1643 - val_mape: 100.0000\n",
      "\n",
      "Epoch 00002: saving model to /content/drive/MyDrive/OLD_CURR/UNIT8/DAY4/reg-nn5.hdf5\n",
      "Epoch 3/60\n",
      "596/596 - 1s - loss: 2404.4172 - mae: 34.9332 - mse: 2404.4172 - mape: 100.0000 - val_loss: 2305.1643 - val_mae: 33.8993 - val_mse: 2305.1643 - val_mape: 100.0000\n",
      "\n",
      "Epoch 00003: saving model to /content/drive/MyDrive/OLD_CURR/UNIT8/DAY4/reg-nn5.hdf5\n",
      "Epoch 4/60\n",
      "596/596 - 1s - loss: 2404.4197 - mae: 34.9332 - mse: 2404.4194 - mape: 100.0000 - val_loss: 2305.1643 - val_mae: 33.8993 - val_mse: 2305.1643 - val_mape: 100.0000\n",
      "\n",
      "Epoch 00004: saving model to /content/drive/MyDrive/OLD_CURR/UNIT8/DAY4/reg-nn5.hdf5\n",
      "Epoch 5/60\n",
      "596/596 - 1s - loss: 2404.4167 - mae: 34.9332 - mse: 2404.4167 - mape: 100.0000 - val_loss: 2305.1643 - val_mae: 33.8993 - val_mse: 2305.1643 - val_mape: 100.0000\n",
      "\n",
      "Epoch 00005: saving model to /content/drive/MyDrive/OLD_CURR/UNIT8/DAY4/reg-nn5.hdf5\n",
      "Epoch 6/60\n",
      "596/596 - 1s - loss: 2404.4175 - mae: 34.9332 - mse: 2404.4175 - mape: 100.0000 - val_loss: 2305.1643 - val_mae: 33.8993 - val_mse: 2305.1643 - val_mape: 100.0000\n",
      "\n",
      "Epoch 00006: saving model to /content/drive/MyDrive/OLD_CURR/UNIT8/DAY4/reg-nn5.hdf5\n"
     ]
    }
   ],
   "source": [
    "history5 = model5.fit(\n",
    "    X_train, \n",
    "    y_train, \n",
    "    epochs=60, \n",
    "    validation_split=0.20, \n",
    "    batch_size=20, \n",
    "    verbose=2,\n",
    "    callbacks=[early_stopping,checkpoint]\n",
    ")"
   ]
  },
  {
   "cell_type": "code",
   "execution_count": null,
   "metadata": {
    "colab": {
     "base_uri": "https://localhost:8080/",
     "height": 295
    },
    "executionInfo": {
     "elapsed": 10750,
     "status": "ok",
     "timestamp": 1626948917760,
     "user": {
      "displayName": "Ignacio Soteras",
      "photoUrl": "",
      "userId": "02050793736257155229"
     },
     "user_tz": -120
    },
    "id": "4VsXxPKDVIIp",
    "outputId": "0922ba1b-8ce9-4030-9db2-631e1f386348"
   },
   "outputs": [
    {
     "data": {
      "image/png": "[encoded data removed]",
      "text/plain": [
       "<Figure size 432x288 with 1 Axes>"
      ]
     },
     "metadata": {
      "needs_background": "light",
      "tags": []
     },
     "output_type": "display_data"
    }
   ],
   "source": [
    "plot_metric(history5,'loss')"
   ]
  },
  {
   "cell_type": "code",
   "execution_count": null,
   "metadata": {
    "colab": {
     "base_uri": "https://localhost:8080/",
     "height": 236
    },
    "executionInfo": {
     "elapsed": 1149,
     "status": "ok",
     "timestamp": 1626948923953,
     "user": {
      "displayName": "Ignacio Soteras",
      "photoUrl": "",
      "userId": "02050793736257155229"
     },
     "user_tz": -120
    },
    "id": "LrkvNSw9VTPz",
    "outputId": "55345661-2d38-4827-bb6a-6e5714b3bb1a"
   },
   "outputs": [
    {
     "data": {
      "text/html": [
       "<div>\n",
       "<style scoped>\n",
       "    .dataframe tbody tr th:only-of-type {\n",
       "        vertical-align: middle;\n",
       "    }\n",
       "\n",
       "    .dataframe tbody tr th {\n",
       "        vertical-align: top;\n",
       "    }\n",
       "\n",
       "    .dataframe thead th {\n",
       "        text-align: right;\n",
       "    }\n",
       "</style>\n",
       "<table border=\"1\" class=\"dataframe\">\n",
       "  <thead>\n",
       "    <tr style=\"text-align: right;\">\n",
       "      <th></th>\n",
       "      <th>Error_metric</th>\n",
       "      <th>Train</th>\n",
       "      <th>Test</th>\n",
       "    </tr>\n",
       "  </thead>\n",
       "  <tbody>\n",
       "    <tr>\n",
       "      <th>0</th>\n",
       "      <td>Mean error</td>\n",
       "      <td>34.73</td>\n",
       "      <td>33.71</td>\n",
       "    </tr>\n",
       "    <tr>\n",
       "      <th>1</th>\n",
       "      <td>Mean absolute error</td>\n",
       "      <td>34.73</td>\n",
       "      <td>33.71</td>\n",
       "    </tr>\n",
       "    <tr>\n",
       "      <th>2</th>\n",
       "      <td>Mean squared error</td>\n",
       "      <td>2384.57</td>\n",
       "      <td>2296.44</td>\n",
       "    </tr>\n",
       "    <tr>\n",
       "      <th>3</th>\n",
       "      <td>Root mean squared error</td>\n",
       "      <td>48.83</td>\n",
       "      <td>47.92</td>\n",
       "    </tr>\n",
       "    <tr>\n",
       "      <th>4</th>\n",
       "      <td>Mean absolute percentual error</td>\n",
       "      <td>100.00</td>\n",
       "      <td>100.00</td>\n",
       "    </tr>\n",
       "    <tr>\n",
       "      <th>5</th>\n",
       "      <td>R2</td>\n",
       "      <td>-1.02</td>\n",
       "      <td>-0.98</td>\n",
       "    </tr>\n",
       "  </tbody>\n",
       "</table>\n",
       "</div>"
      ],
      "text/plain": [
       "                     Error_metric   Train    Test\n",
       "0                      Mean error   34.73   33.71\n",
       "1             Mean absolute error   34.73   33.71\n",
       "2              Mean squared error 2384.57 2296.44\n",
       "3         Root mean squared error   48.83   47.92\n",
       "4  Mean absolute percentual error  100.00  100.00\n",
       "5                              R2   -1.02   -0.98"
      ]
     },
     "execution_count": 41,
     "metadata": {
      "tags": []
     },
     "output_type": "execute_result"
    }
   ],
   "source": [
    "y_pred_train_nn5 = model5.predict(X_train)\n",
    "y_pred_test_nn5  = model5.predict(X_test)\n",
    "\n",
    "y_train = np.array(y_train).reshape(-1,1)\n",
    "y_test  = np.array(y_test).reshape(-1,1)\n",
    "\n",
    "results5, df15, df24 = model_performance(y_train, y_pred_train_nn5, y_test, y_pred_test_nn5)\n",
    "results5"
   ]
  },
  {
   "cell_type": "markdown",
   "metadata": {
    "id": "fggWAfBPKOn4"
   },
   "source": [
    "Now let's create a function to create a general neural network for regression."
   ]
  },
  {
   "cell_type": "code",
   "execution_count": null,
   "metadata": {
    "colab": {
     "base_uri": "https://localhost:8080/"
    },
    "executionInfo": {
     "elapsed": 225,
     "status": "ok",
     "timestamp": 1626949430796,
     "user": {
      "displayName": "Ignacio Soteras",
      "photoUrl": "",
      "userId": "02050793736257155229"
     },
     "user_tz": -120
    },
    "id": "DGlekbw3vaq2",
    "outputId": "686cff54-fde5-483c-e46d-15baeceffe44"
   },
   "outputs": [
    {
     "name": "stdout",
     "output_type": "stream",
     "text": [
      "0 1\n",
      "1 4\n",
      "2 5\n"
     ]
    }
   ],
   "source": [
    "my_list = [1,4,5]\n",
    "\n",
    "for index, value in enumerate(my_list):\n",
    "    print(index,value)"
   ]
  },
  {
   "cell_type": "code",
   "execution_count": null,
   "metadata": {
    "id": "gV3h_4_rVg4U"
   },
   "outputs": [],
   "source": [
    "def create_reg_nn_model(inputs,layer_list= [9,3,1],\n",
    "                 activations = ['relu','relu','relu'],\n",
    "                 dropouts = [0.5,0,0],\n",
    "                 regularizers = [('l1',0.01),('l2',0.01)]):\n",
    "    '''\n",
    "    This function creates a neural network with the given amount of layers, neurons,\n",
    "    activations, dropouts and regularizers.\n",
    "    Inputs: \n",
    "    inputs -> input size. It must be integer\n",
    "    activations -> a list of activation functions to be used in each layer\n",
    "    droputs -> a list of dropouts coefficients to be used in each layer except the last one\n",
    "    regularizers -> a list of regularizers to be used in the last layer. Coefficients should\n",
    "    be set to zero if no regularizers are wanted.\n",
    "    Output:\n",
    "    neural network already compiled with: 'adam' optimizer and 'mse' as the loss.\n",
    "    '''\n",
    "    \n",
    "    model = keras.Sequential()\n",
    "\n",
    "    my_list = list(zip(layer_list,activations,dropouts)) # List of tuples with [(neurons1,activation1,dropout1),(neurons2,activation2,dropout2),..]\n",
    "\n",
    "    for index, elem in enumerate(my_list):\n",
    "        if ( index == 0 ):      \n",
    "            model.add(Dense(units = elem[0],input_dim = inputs,activation=elem[1]))\n",
    "            if ( elem[2] != 0 ):\n",
    "            # Adding a dropout layer with regularization parameter (it must be between [0,1) )\n",
    "                model.add(Dropout(elem[2]))\n",
    "        else:\n",
    "            model.add(Dense(units = elem[0],activation=elem[1]))\n",
    "            if ( elem[2] != 0 ):\n",
    "                model.add(Dropout(elem[2]))\n",
    "\n",
    "        if ( index == len(my_list) ):\n",
    "            model.add(Dense(units = elem[0], activation=elem[1],\n",
    "                            activity_regularizer=\n",
    "                            regularizers.l1_l2(l1=regularizers[0][1], l2=regularizers[1][1])))\n",
    "\n",
    "    # Compile the final network\n",
    "    model.compile(optimizer='adam', # Optimization method\n",
    "              loss='mse', # Error metric to minimize\n",
    "              metrics=['mae', 'mse','mape'] # Error matrics to report\n",
    "              )\n",
    "\n",
    "    model.summary()\n",
    "\n",
    "    return model"
   ]
  },
  {
   "cell_type": "code",
   "execution_count": null,
   "metadata": {
    "colab": {
     "base_uri": "https://localhost:8080/"
    },
    "executionInfo": {
     "elapsed": 209,
     "status": "ok",
     "timestamp": 1626949782664,
     "user": {
      "displayName": "Ignacio Soteras",
      "photoUrl": "",
      "userId": "02050793736257155229"
     },
     "user_tz": -120
    },
    "id": "uNIRt9891s0i",
    "outputId": "366cba5f-ef2d-4d7e-fdfa-392ea30f5d78"
   },
   "outputs": [
    {
     "name": "stdout",
     "output_type": "stream",
     "text": [
      "Model: \"sequential_11\"\n",
      "_________________________________________________________________\n",
      "Layer (type)                 Output Shape              Param #   \n",
      "=================================================================\n",
      "dense_33 (Dense)             (None, 9)                 729       \n",
      "_________________________________________________________________\n",
      "dropout_7 (Dropout)          (None, 9)                 0         \n",
      "_________________________________________________________________\n",
      "dense_34 (Dense)             (None, 3)                 30        \n",
      "_________________________________________________________________\n",
      "dropout_8 (Dropout)          (None, 3)                 0         \n",
      "_________________________________________________________________\n",
      "dense_35 (Dense)             (None, 1)                 4         \n",
      "=================================================================\n",
      "Total params: 763\n",
      "Trainable params: 763\n",
      "Non-trainable params: 0\n",
      "_________________________________________________________________\n"
     ]
    }
   ],
   "source": [
    "my_model = create_reg_nn_model(X_train.shape[1],dropouts = [0.1,0.6,0])"
   ]
  },
  {
   "cell_type": "markdown",
   "metadata": {
    "id": "uvF3W88V7V0e"
   },
   "source": [
    "# Classification"
   ]
  },
  {
   "cell_type": "markdown",
   "metadata": {
    "id": "gSQ88J6BMq_R"
   },
   "source": [
    "Neural networks can also be used for classification. However, for this applications the things are a bit trickier. We need to discriminate between:\n",
    "\n",
    "* binary classification\n",
    "* multi class classification\n",
    "\n",
    "as both types of problems need different settings. \n",
    "In this notebook, we are going to handle multi class classification as is more advanced. \n",
    "\n",
    "In case of binary classification, **the output layer must have only one neuron** and the activation function **must** be the **sigmoid** function, ie:\n",
    "\n",
    "$$f(x)=\\frac{1}{1+e^{-x}}$$\n",
    "\n",
    "In contrast, for multi class classification, two different settings are needed. This first is that the output layer shoud contain as many neurons as the possible values of the categorical dependent variable. Thge second is that the activation function of those neurons shoud be the **softmax** function ie:\n",
    "\n",
    "$$f(x_{i})=\\frac{e^{-x_{i}}}{\\sum_{j}e^{-x_{j}}}$$\n",
    "\n",
    "this apparently strange expression is easier to understand that it may seem. The numerator can be understood as a probability of belonging to a given class, because the range of values is [0,1]. However, in general if we add all those values for every class, they will not add 1 as one would expect from a **normalized** probability. Therefore, in order to have a **normalized probability** we must divide the previous term be the sum off all the **unormalized probabilities** "
   ]
  },
  {
   "cell_type": "code",
   "execution_count": null,
   "metadata": {
    "id": "SEDYx_ZeZIy3"
   },
   "outputs": [],
   "source": [
    "from sklearn.datasets import make_classification\n"
   ]
  },
  {
   "cell_type": "markdown",
   "metadata": {
    "id": "-w3E8yt9PVWj"
   },
   "source": [
    "In this case we are going to generate a fake multiclass classification dataset to be used for illustrative purposes."
   ]
  },
  {
   "cell_type": "code",
   "execution_count": null,
   "metadata": {
    "id": "qoOv5fFUA9--"
   },
   "outputs": [],
   "source": [
    "# Setting the weights of each class at random\n",
    "np.random.seed(seed=17)\n",
    "w = np.random.random(5)\n",
    "\n",
    "# Normalizing the probabilities dividing each by the sum of the total probabilities\n",
    "w = [x/sum(w) for x in w]\n",
    "w\n",
    "\n",
    "X, y = make_classification(\n",
    "    n_samples=50000,\n",
    "    n_features=100,\n",
    "    n_informative=70,\n",
    "    n_redundant=0,\n",
    "    n_repeated=0,\n",
    "    n_classes=5,\n",
    "    n_clusters_per_class=1,\n",
    "    weights=w, # Here is were we set the probabilities of each class in the dataset.\n",
    "    class_sep=0.8,\n",
    "    random_state=0,\n",
    ")\n"
   ]
  },
  {
   "cell_type": "code",
   "execution_count": null,
   "metadata": {
    "colab": {
     "base_uri": "https://localhost:8080/",
     "height": 255
    },
    "executionInfo": {
     "elapsed": 336,
     "status": "ok",
     "timestamp": 1626950695207,
     "user": {
      "displayName": "Ignacio Soteras",
      "photoUrl": "",
      "userId": "02050793736257155229"
     },
     "user_tz": -120
    },
    "id": "VwOIc-mvCSTL",
    "outputId": "2492eaeb-9170-40f2-ea36-52a632753f72"
   },
   "outputs": [
    {
     "data": {
      "text/html": [
       "<div>\n",
       "<style scoped>\n",
       "    .dataframe tbody tr th:only-of-type {\n",
       "        vertical-align: middle;\n",
       "    }\n",
       "\n",
       "    .dataframe tbody tr th {\n",
       "        vertical-align: top;\n",
       "    }\n",
       "\n",
       "    .dataframe thead th {\n",
       "        text-align: right;\n",
       "    }\n",
       "</style>\n",
       "<table border=\"1\" class=\"dataframe\">\n",
       "  <thead>\n",
       "    <tr style=\"text-align: right;\">\n",
       "      <th></th>\n",
       "      <th>X_1</th>\n",
       "      <th>X_2</th>\n",
       "      <th>X_3</th>\n",
       "      <th>X_4</th>\n",
       "      <th>X_5</th>\n",
       "      <th>X_6</th>\n",
       "      <th>X_7</th>\n",
       "      <th>X_8</th>\n",
       "      <th>X_9</th>\n",
       "      <th>X_10</th>\n",
       "      <th>X_11</th>\n",
       "      <th>X_12</th>\n",
       "      <th>X_13</th>\n",
       "      <th>X_14</th>\n",
       "      <th>X_15</th>\n",
       "      <th>X_16</th>\n",
       "      <th>X_17</th>\n",
       "      <th>X_18</th>\n",
       "      <th>X_19</th>\n",
       "      <th>X_20</th>\n",
       "      <th>X_21</th>\n",
       "      <th>X_22</th>\n",
       "      <th>X_23</th>\n",
       "      <th>X_24</th>\n",
       "      <th>X_25</th>\n",
       "      <th>X_26</th>\n",
       "      <th>X_27</th>\n",
       "      <th>X_28</th>\n",
       "      <th>X_29</th>\n",
       "      <th>X_30</th>\n",
       "      <th>X_31</th>\n",
       "      <th>X_32</th>\n",
       "      <th>X_33</th>\n",
       "      <th>X_34</th>\n",
       "      <th>X_35</th>\n",
       "      <th>X_36</th>\n",
       "      <th>X_37</th>\n",
       "      <th>X_38</th>\n",
       "      <th>X_39</th>\n",
       "      <th>X_40</th>\n",
       "      <th>...</th>\n",
       "      <th>X_61</th>\n",
       "      <th>X_62</th>\n",
       "      <th>X_63</th>\n",
       "      <th>X_64</th>\n",
       "      <th>X_65</th>\n",
       "      <th>X_66</th>\n",
       "      <th>X_67</th>\n",
       "      <th>X_68</th>\n",
       "      <th>X_69</th>\n",
       "      <th>X_70</th>\n",
       "      <th>X_71</th>\n",
       "      <th>X_72</th>\n",
       "      <th>X_73</th>\n",
       "      <th>X_74</th>\n",
       "      <th>X_75</th>\n",
       "      <th>X_76</th>\n",
       "      <th>X_77</th>\n",
       "      <th>X_78</th>\n",
       "      <th>X_79</th>\n",
       "      <th>X_80</th>\n",
       "      <th>X_81</th>\n",
       "      <th>X_82</th>\n",
       "      <th>X_83</th>\n",
       "      <th>X_84</th>\n",
       "      <th>X_85</th>\n",
       "      <th>X_86</th>\n",
       "      <th>X_87</th>\n",
       "      <th>X_88</th>\n",
       "      <th>X_89</th>\n",
       "      <th>X_90</th>\n",
       "      <th>X_91</th>\n",
       "      <th>X_92</th>\n",
       "      <th>X_93</th>\n",
       "      <th>X_94</th>\n",
       "      <th>X_95</th>\n",
       "      <th>X_96</th>\n",
       "      <th>X_97</th>\n",
       "      <th>X_98</th>\n",
       "      <th>X_99</th>\n",
       "      <th>X_100</th>\n",
       "    </tr>\n",
       "  </thead>\n",
       "  <tbody>\n",
       "    <tr>\n",
       "      <th>0</th>\n",
       "      <td>0.17</td>\n",
       "      <td>1.06</td>\n",
       "      <td>-0.16</td>\n",
       "      <td>2.25</td>\n",
       "      <td>1.26</td>\n",
       "      <td>0.47</td>\n",
       "      <td>-7.00</td>\n",
       "      <td>3.05</td>\n",
       "      <td>-6.24</td>\n",
       "      <td>10.24</td>\n",
       "      <td>3.09</td>\n",
       "      <td>3.56</td>\n",
       "      <td>4.56</td>\n",
       "      <td>0.00</td>\n",
       "      <td>-2.84</td>\n",
       "      <td>0.38</td>\n",
       "      <td>4.78</td>\n",
       "      <td>-3.82</td>\n",
       "      <td>0.66</td>\n",
       "      <td>3.21</td>\n",
       "      <td>2.83</td>\n",
       "      <td>-1.23</td>\n",
       "      <td>-0.87</td>\n",
       "      <td>-6.74</td>\n",
       "      <td>-1.06</td>\n",
       "      <td>-2.01</td>\n",
       "      <td>-0.43</td>\n",
       "      <td>0.80</td>\n",
       "      <td>13.13</td>\n",
       "      <td>-0.30</td>\n",
       "      <td>0.31</td>\n",
       "      <td>5.89</td>\n",
       "      <td>-0.51</td>\n",
       "      <td>-4.10</td>\n",
       "      <td>-0.48</td>\n",
       "      <td>-0.63</td>\n",
       "      <td>4.42</td>\n",
       "      <td>1.81</td>\n",
       "      <td>-2.88</td>\n",
       "      <td>0.46</td>\n",
       "      <td>...</td>\n",
       "      <td>-1.19</td>\n",
       "      <td>-0.33</td>\n",
       "      <td>-1.30</td>\n",
       "      <td>6.58</td>\n",
       "      <td>0.87</td>\n",
       "      <td>3.83</td>\n",
       "      <td>-2.42</td>\n",
       "      <td>-0.53</td>\n",
       "      <td>0.57</td>\n",
       "      <td>0.21</td>\n",
       "      <td>1.05</td>\n",
       "      <td>-0.22</td>\n",
       "      <td>5.10</td>\n",
       "      <td>3.59</td>\n",
       "      <td>-0.32</td>\n",
       "      <td>7.18</td>\n",
       "      <td>1.20</td>\n",
       "      <td>-0.92</td>\n",
       "      <td>-6.64</td>\n",
       "      <td>-1.84</td>\n",
       "      <td>-1.26</td>\n",
       "      <td>5.18</td>\n",
       "      <td>-2.54</td>\n",
       "      <td>3.12</td>\n",
       "      <td>1.82</td>\n",
       "      <td>0.37</td>\n",
       "      <td>4.43</td>\n",
       "      <td>6.11</td>\n",
       "      <td>6.33</td>\n",
       "      <td>3.24</td>\n",
       "      <td>-0.31</td>\n",
       "      <td>1.02</td>\n",
       "      <td>1.78</td>\n",
       "      <td>-1.96</td>\n",
       "      <td>-4.27</td>\n",
       "      <td>-4.43</td>\n",
       "      <td>0.58</td>\n",
       "      <td>2.47</td>\n",
       "      <td>-2.24</td>\n",
       "      <td>4.65</td>\n",
       "    </tr>\n",
       "    <tr>\n",
       "      <th>1</th>\n",
       "      <td>-4.08</td>\n",
       "      <td>0.07</td>\n",
       "      <td>-0.34</td>\n",
       "      <td>7.83</td>\n",
       "      <td>3.14</td>\n",
       "      <td>-0.91</td>\n",
       "      <td>1.96</td>\n",
       "      <td>-7.97</td>\n",
       "      <td>-0.58</td>\n",
       "      <td>-4.15</td>\n",
       "      <td>6.01</td>\n",
       "      <td>-6.35</td>\n",
       "      <td>2.58</td>\n",
       "      <td>0.17</td>\n",
       "      <td>-1.02</td>\n",
       "      <td>-0.59</td>\n",
       "      <td>0.30</td>\n",
       "      <td>-0.16</td>\n",
       "      <td>-0.13</td>\n",
       "      <td>-1.76</td>\n",
       "      <td>1.04</td>\n",
       "      <td>-1.83</td>\n",
       "      <td>-0.54</td>\n",
       "      <td>-6.47</td>\n",
       "      <td>4.99</td>\n",
       "      <td>-1.83</td>\n",
       "      <td>-1.20</td>\n",
       "      <td>-0.74</td>\n",
       "      <td>1.17</td>\n",
       "      <td>-0.74</td>\n",
       "      <td>-0.65</td>\n",
       "      <td>-7.91</td>\n",
       "      <td>1.90</td>\n",
       "      <td>-7.03</td>\n",
       "      <td>0.31</td>\n",
       "      <td>3.84</td>\n",
       "      <td>0.64</td>\n",
       "      <td>-4.42</td>\n",
       "      <td>0.28</td>\n",
       "      <td>0.41</td>\n",
       "      <td>...</td>\n",
       "      <td>-3.37</td>\n",
       "      <td>0.32</td>\n",
       "      <td>-3.12</td>\n",
       "      <td>-3.44</td>\n",
       "      <td>5.20</td>\n",
       "      <td>3.14</td>\n",
       "      <td>-0.95</td>\n",
       "      <td>0.26</td>\n",
       "      <td>0.07</td>\n",
       "      <td>-1.93</td>\n",
       "      <td>-3.30</td>\n",
       "      <td>8.34</td>\n",
       "      <td>3.16</td>\n",
       "      <td>-2.30</td>\n",
       "      <td>1.55</td>\n",
       "      <td>-2.27</td>\n",
       "      <td>-1.15</td>\n",
       "      <td>0.60</td>\n",
       "      <td>-3.59</td>\n",
       "      <td>-13.94</td>\n",
       "      <td>1.01</td>\n",
       "      <td>-0.78</td>\n",
       "      <td>-0.61</td>\n",
       "      <td>11.11</td>\n",
       "      <td>1.29</td>\n",
       "      <td>0.04</td>\n",
       "      <td>7.30</td>\n",
       "      <td>6.69</td>\n",
       "      <td>-3.08</td>\n",
       "      <td>8.71</td>\n",
       "      <td>2.49</td>\n",
       "      <td>0.32</td>\n",
       "      <td>-0.91</td>\n",
       "      <td>0.31</td>\n",
       "      <td>-2.22</td>\n",
       "      <td>-4.19</td>\n",
       "      <td>1.30</td>\n",
       "      <td>-1.29</td>\n",
       "      <td>0.84</td>\n",
       "      <td>4.06</td>\n",
       "    </tr>\n",
       "    <tr>\n",
       "      <th>2</th>\n",
       "      <td>-7.61</td>\n",
       "      <td>0.03</td>\n",
       "      <td>2.38</td>\n",
       "      <td>0.21</td>\n",
       "      <td>-3.34</td>\n",
       "      <td>0.02</td>\n",
       "      <td>2.85</td>\n",
       "      <td>-5.53</td>\n",
       "      <td>3.15</td>\n",
       "      <td>-3.21</td>\n",
       "      <td>8.37</td>\n",
       "      <td>-4.41</td>\n",
       "      <td>4.20</td>\n",
       "      <td>-1.37</td>\n",
       "      <td>1.95</td>\n",
       "      <td>-1.50</td>\n",
       "      <td>-2.61</td>\n",
       "      <td>1.28</td>\n",
       "      <td>1.28</td>\n",
       "      <td>0.89</td>\n",
       "      <td>-1.06</td>\n",
       "      <td>1.99</td>\n",
       "      <td>-0.42</td>\n",
       "      <td>2.13</td>\n",
       "      <td>-10.98</td>\n",
       "      <td>1.94</td>\n",
       "      <td>-1.11</td>\n",
       "      <td>0.40</td>\n",
       "      <td>8.04</td>\n",
       "      <td>-4.62</td>\n",
       "      <td>0.73</td>\n",
       "      <td>3.44</td>\n",
       "      <td>-0.36</td>\n",
       "      <td>-1.95</td>\n",
       "      <td>2.53</td>\n",
       "      <td>2.40</td>\n",
       "      <td>3.97</td>\n",
       "      <td>-1.39</td>\n",
       "      <td>7.13</td>\n",
       "      <td>2.17</td>\n",
       "      <td>...</td>\n",
       "      <td>-1.70</td>\n",
       "      <td>0.65</td>\n",
       "      <td>-0.25</td>\n",
       "      <td>-1.54</td>\n",
       "      <td>-5.03</td>\n",
       "      <td>-1.01</td>\n",
       "      <td>-4.92</td>\n",
       "      <td>0.40</td>\n",
       "      <td>-0.59</td>\n",
       "      <td>-6.19</td>\n",
       "      <td>-0.43</td>\n",
       "      <td>3.53</td>\n",
       "      <td>0.83</td>\n",
       "      <td>4.01</td>\n",
       "      <td>2.47</td>\n",
       "      <td>-9.35</td>\n",
       "      <td>0.04</td>\n",
       "      <td>0.26</td>\n",
       "      <td>11.80</td>\n",
       "      <td>-8.37</td>\n",
       "      <td>0.96</td>\n",
       "      <td>4.22</td>\n",
       "      <td>-14.57</td>\n",
       "      <td>1.36</td>\n",
       "      <td>-4.52</td>\n",
       "      <td>-0.41</td>\n",
       "      <td>-2.26</td>\n",
       "      <td>-6.62</td>\n",
       "      <td>13.10</td>\n",
       "      <td>-7.01</td>\n",
       "      <td>-3.60</td>\n",
       "      <td>0.75</td>\n",
       "      <td>0.87</td>\n",
       "      <td>0.47</td>\n",
       "      <td>-1.69</td>\n",
       "      <td>0.50</td>\n",
       "      <td>-2.78</td>\n",
       "      <td>-8.06</td>\n",
       "      <td>-0.28</td>\n",
       "      <td>1.78</td>\n",
       "    </tr>\n",
       "    <tr>\n",
       "      <th>3</th>\n",
       "      <td>-1.55</td>\n",
       "      <td>-0.52</td>\n",
       "      <td>-0.92</td>\n",
       "      <td>0.30</td>\n",
       "      <td>4.63</td>\n",
       "      <td>-5.02</td>\n",
       "      <td>-2.88</td>\n",
       "      <td>-2.51</td>\n",
       "      <td>-0.25</td>\n",
       "      <td>3.97</td>\n",
       "      <td>2.56</td>\n",
       "      <td>-8.17</td>\n",
       "      <td>-11.50</td>\n",
       "      <td>-2.36</td>\n",
       "      <td>0.51</td>\n",
       "      <td>0.78</td>\n",
       "      <td>2.25</td>\n",
       "      <td>-0.38</td>\n",
       "      <td>-0.26</td>\n",
       "      <td>-1.91</td>\n",
       "      <td>0.17</td>\n",
       "      <td>-1.24</td>\n",
       "      <td>-1.06</td>\n",
       "      <td>-4.25</td>\n",
       "      <td>5.48</td>\n",
       "      <td>1.84</td>\n",
       "      <td>0.63</td>\n",
       "      <td>0.48</td>\n",
       "      <td>-5.22</td>\n",
       "      <td>1.43</td>\n",
       "      <td>0.58</td>\n",
       "      <td>7.79</td>\n",
       "      <td>1.78</td>\n",
       "      <td>-15.95</td>\n",
       "      <td>-0.98</td>\n",
       "      <td>5.64</td>\n",
       "      <td>-0.17</td>\n",
       "      <td>-3.80</td>\n",
       "      <td>2.09</td>\n",
       "      <td>0.47</td>\n",
       "      <td>...</td>\n",
       "      <td>-2.94</td>\n",
       "      <td>1.46</td>\n",
       "      <td>2.12</td>\n",
       "      <td>-7.43</td>\n",
       "      <td>3.62</td>\n",
       "      <td>0.62</td>\n",
       "      <td>3.93</td>\n",
       "      <td>-1.46</td>\n",
       "      <td>0.80</td>\n",
       "      <td>-0.79</td>\n",
       "      <td>-2.31</td>\n",
       "      <td>1.21</td>\n",
       "      <td>0.82</td>\n",
       "      <td>-0.83</td>\n",
       "      <td>2.02</td>\n",
       "      <td>6.45</td>\n",
       "      <td>7.90</td>\n",
       "      <td>-0.93</td>\n",
       "      <td>-0.14</td>\n",
       "      <td>1.72</td>\n",
       "      <td>-1.13</td>\n",
       "      <td>-7.16</td>\n",
       "      <td>3.70</td>\n",
       "      <td>4.31</td>\n",
       "      <td>3.45</td>\n",
       "      <td>-0.05</td>\n",
       "      <td>1.68</td>\n",
       "      <td>0.69</td>\n",
       "      <td>6.21</td>\n",
       "      <td>-1.95</td>\n",
       "      <td>10.82</td>\n",
       "      <td>-0.67</td>\n",
       "      <td>-0.72</td>\n",
       "      <td>0.88</td>\n",
       "      <td>-0.86</td>\n",
       "      <td>13.06</td>\n",
       "      <td>5.94</td>\n",
       "      <td>8.29</td>\n",
       "      <td>0.13</td>\n",
       "      <td>-2.44</td>\n",
       "    </tr>\n",
       "    <tr>\n",
       "      <th>4</th>\n",
       "      <td>0.36</td>\n",
       "      <td>0.02</td>\n",
       "      <td>-1.63</td>\n",
       "      <td>-3.47</td>\n",
       "      <td>-3.13</td>\n",
       "      <td>-0.82</td>\n",
       "      <td>-5.99</td>\n",
       "      <td>-2.76</td>\n",
       "      <td>-0.24</td>\n",
       "      <td>3.61</td>\n",
       "      <td>0.19</td>\n",
       "      <td>6.37</td>\n",
       "      <td>-2.36</td>\n",
       "      <td>-1.50</td>\n",
       "      <td>-1.63</td>\n",
       "      <td>-0.77</td>\n",
       "      <td>-4.30</td>\n",
       "      <td>7.64</td>\n",
       "      <td>-0.70</td>\n",
       "      <td>8.23</td>\n",
       "      <td>1.43</td>\n",
       "      <td>-0.83</td>\n",
       "      <td>0.04</td>\n",
       "      <td>4.11</td>\n",
       "      <td>5.63</td>\n",
       "      <td>3.84</td>\n",
       "      <td>1.29</td>\n",
       "      <td>0.86</td>\n",
       "      <td>5.99</td>\n",
       "      <td>3.22</td>\n",
       "      <td>-0.04</td>\n",
       "      <td>-0.88</td>\n",
       "      <td>0.94</td>\n",
       "      <td>-1.27</td>\n",
       "      <td>-1.45</td>\n",
       "      <td>-4.68</td>\n",
       "      <td>-2.27</td>\n",
       "      <td>1.74</td>\n",
       "      <td>0.99</td>\n",
       "      <td>-0.06</td>\n",
       "      <td>...</td>\n",
       "      <td>-12.85</td>\n",
       "      <td>0.29</td>\n",
       "      <td>3.11</td>\n",
       "      <td>-3.21</td>\n",
       "      <td>-0.19</td>\n",
       "      <td>-0.76</td>\n",
       "      <td>2.54</td>\n",
       "      <td>0.22</td>\n",
       "      <td>0.58</td>\n",
       "      <td>3.44</td>\n",
       "      <td>-0.07</td>\n",
       "      <td>-3.20</td>\n",
       "      <td>-5.78</td>\n",
       "      <td>-1.56</td>\n",
       "      <td>0.65</td>\n",
       "      <td>-12.13</td>\n",
       "      <td>2.74</td>\n",
       "      <td>-2.18</td>\n",
       "      <td>9.18</td>\n",
       "      <td>-3.78</td>\n",
       "      <td>0.21</td>\n",
       "      <td>-6.07</td>\n",
       "      <td>-2.23</td>\n",
       "      <td>-15.09</td>\n",
       "      <td>2.75</td>\n",
       "      <td>-0.30</td>\n",
       "      <td>-12.06</td>\n",
       "      <td>-0.12</td>\n",
       "      <td>-8.87</td>\n",
       "      <td>-3.47</td>\n",
       "      <td>-1.24</td>\n",
       "      <td>-0.24</td>\n",
       "      <td>0.76</td>\n",
       "      <td>-0.26</td>\n",
       "      <td>-6.02</td>\n",
       "      <td>-9.35</td>\n",
       "      <td>-0.23</td>\n",
       "      <td>0.22</td>\n",
       "      <td>2.84</td>\n",
       "      <td>-6.49</td>\n",
       "    </tr>\n",
       "  </tbody>\n",
       "</table>\n",
       "<p>5 rows × 100 columns</p>\n",
       "</div>"
      ],
      "text/plain": [
       "    X_1   X_2   X_3   X_4   X_5   X_6  ...  X_95  X_96  X_97  X_98  X_99  X_100\n",
       "0  0.17  1.06 -0.16  2.25  1.26  0.47  ... -4.27 -4.43  0.58  2.47 -2.24   4.65\n",
       "1 -4.08  0.07 -0.34  7.83  3.14 -0.91  ... -2.22 -4.19  1.30 -1.29  0.84   4.06\n",
       "2 -7.61  0.03  2.38  0.21 -3.34  0.02  ... -1.69  0.50 -2.78 -8.06 -0.28   1.78\n",
       "3 -1.55 -0.52 -0.92  0.30  4.63 -5.02  ... -0.86 13.06  5.94  8.29  0.13  -2.44\n",
       "4  0.36  0.02 -1.63 -3.47 -3.13 -0.82  ... -6.02 -9.35 -0.23  0.22  2.84  -6.49\n",
       "\n",
       "[5 rows x 100 columns]"
      ]
     },
     "execution_count": 55,
     "metadata": {
      "tags": []
     },
     "output_type": "execute_result"
    }
   ],
   "source": [
    "X = pd.DataFrame(X, columns=['X_' + str(i) for i in range(1,X.shape[1]+1)])\n",
    "X.head()"
   ]
  },
  {
   "cell_type": "code",
   "execution_count": null,
   "metadata": {
    "colab": {
     "base_uri": "https://localhost:8080/",
     "height": 348
    },
    "executionInfo": {
     "elapsed": 835,
     "status": "ok",
     "timestamp": 1626950728971,
     "user": {
      "displayName": "Ignacio Soteras",
      "photoUrl": "",
      "userId": "02050793736257155229"
     },
     "user_tz": -120
    },
    "id": "mtZSn96ICptF",
    "outputId": "5734ef0c-d123-43b7-a4b2-17f9c7abde04"
   },
   "outputs": [
    {
     "data": {
      "text/html": [
       "<div>\n",
       "<style scoped>\n",
       "    .dataframe tbody tr th:only-of-type {\n",
       "        vertical-align: middle;\n",
       "    }\n",
       "\n",
       "    .dataframe tbody tr th {\n",
       "        vertical-align: top;\n",
       "    }\n",
       "\n",
       "    .dataframe thead th {\n",
       "        text-align: right;\n",
       "    }\n",
       "</style>\n",
       "<table border=\"1\" class=\"dataframe\">\n",
       "  <thead>\n",
       "    <tr style=\"text-align: right;\">\n",
       "      <th></th>\n",
       "      <th>X_1</th>\n",
       "      <th>X_2</th>\n",
       "      <th>X_3</th>\n",
       "      <th>X_4</th>\n",
       "      <th>X_5</th>\n",
       "      <th>X_6</th>\n",
       "      <th>X_7</th>\n",
       "      <th>X_8</th>\n",
       "      <th>X_9</th>\n",
       "      <th>X_10</th>\n",
       "      <th>X_11</th>\n",
       "      <th>X_12</th>\n",
       "      <th>X_13</th>\n",
       "      <th>X_14</th>\n",
       "      <th>X_15</th>\n",
       "      <th>X_16</th>\n",
       "      <th>X_17</th>\n",
       "      <th>X_18</th>\n",
       "      <th>X_19</th>\n",
       "      <th>X_20</th>\n",
       "      <th>X_21</th>\n",
       "      <th>X_22</th>\n",
       "      <th>X_23</th>\n",
       "      <th>X_24</th>\n",
       "      <th>X_25</th>\n",
       "      <th>X_26</th>\n",
       "      <th>X_27</th>\n",
       "      <th>X_28</th>\n",
       "      <th>X_29</th>\n",
       "      <th>X_30</th>\n",
       "      <th>X_31</th>\n",
       "      <th>X_32</th>\n",
       "      <th>X_33</th>\n",
       "      <th>X_34</th>\n",
       "      <th>X_35</th>\n",
       "      <th>X_36</th>\n",
       "      <th>X_37</th>\n",
       "      <th>X_38</th>\n",
       "      <th>X_39</th>\n",
       "      <th>X_40</th>\n",
       "      <th>...</th>\n",
       "      <th>X_61</th>\n",
       "      <th>X_62</th>\n",
       "      <th>X_63</th>\n",
       "      <th>X_64</th>\n",
       "      <th>X_65</th>\n",
       "      <th>X_66</th>\n",
       "      <th>X_67</th>\n",
       "      <th>X_68</th>\n",
       "      <th>X_69</th>\n",
       "      <th>X_70</th>\n",
       "      <th>X_71</th>\n",
       "      <th>X_72</th>\n",
       "      <th>X_73</th>\n",
       "      <th>X_74</th>\n",
       "      <th>X_75</th>\n",
       "      <th>X_76</th>\n",
       "      <th>X_77</th>\n",
       "      <th>X_78</th>\n",
       "      <th>X_79</th>\n",
       "      <th>X_80</th>\n",
       "      <th>X_81</th>\n",
       "      <th>X_82</th>\n",
       "      <th>X_83</th>\n",
       "      <th>X_84</th>\n",
       "      <th>X_85</th>\n",
       "      <th>X_86</th>\n",
       "      <th>X_87</th>\n",
       "      <th>X_88</th>\n",
       "      <th>X_89</th>\n",
       "      <th>X_90</th>\n",
       "      <th>X_91</th>\n",
       "      <th>X_92</th>\n",
       "      <th>X_93</th>\n",
       "      <th>X_94</th>\n",
       "      <th>X_95</th>\n",
       "      <th>X_96</th>\n",
       "      <th>X_97</th>\n",
       "      <th>X_98</th>\n",
       "      <th>X_99</th>\n",
       "      <th>X_100</th>\n",
       "    </tr>\n",
       "  </thead>\n",
       "  <tbody>\n",
       "    <tr>\n",
       "      <th>count</th>\n",
       "      <td>50000.00</td>\n",
       "      <td>50000.00</td>\n",
       "      <td>50000.00</td>\n",
       "      <td>50000.00</td>\n",
       "      <td>50000.00</td>\n",
       "      <td>50000.00</td>\n",
       "      <td>50000.00</td>\n",
       "      <td>50000.00</td>\n",
       "      <td>50000.00</td>\n",
       "      <td>50000.00</td>\n",
       "      <td>50000.00</td>\n",
       "      <td>50000.00</td>\n",
       "      <td>50000.00</td>\n",
       "      <td>50000.00</td>\n",
       "      <td>50000.00</td>\n",
       "      <td>50000.00</td>\n",
       "      <td>50000.00</td>\n",
       "      <td>50000.00</td>\n",
       "      <td>50000.00</td>\n",
       "      <td>50000.00</td>\n",
       "      <td>50000.00</td>\n",
       "      <td>50000.00</td>\n",
       "      <td>50000.00</td>\n",
       "      <td>50000.00</td>\n",
       "      <td>50000.00</td>\n",
       "      <td>50000.00</td>\n",
       "      <td>50000.00</td>\n",
       "      <td>50000.00</td>\n",
       "      <td>50000.00</td>\n",
       "      <td>50000.00</td>\n",
       "      <td>50000.00</td>\n",
       "      <td>50000.00</td>\n",
       "      <td>50000.00</td>\n",
       "      <td>50000.00</td>\n",
       "      <td>50000.00</td>\n",
       "      <td>50000.00</td>\n",
       "      <td>50000.00</td>\n",
       "      <td>50000.00</td>\n",
       "      <td>50000.00</td>\n",
       "      <td>50000.00</td>\n",
       "      <td>...</td>\n",
       "      <td>50000.00</td>\n",
       "      <td>50000.00</td>\n",
       "      <td>50000.00</td>\n",
       "      <td>50000.00</td>\n",
       "      <td>50000.00</td>\n",
       "      <td>50000.00</td>\n",
       "      <td>50000.00</td>\n",
       "      <td>50000.00</td>\n",
       "      <td>50000.00</td>\n",
       "      <td>50000.00</td>\n",
       "      <td>50000.00</td>\n",
       "      <td>50000.00</td>\n",
       "      <td>50000.00</td>\n",
       "      <td>50000.00</td>\n",
       "      <td>50000.00</td>\n",
       "      <td>50000.00</td>\n",
       "      <td>50000.00</td>\n",
       "      <td>50000.00</td>\n",
       "      <td>50000.00</td>\n",
       "      <td>50000.00</td>\n",
       "      <td>50000.00</td>\n",
       "      <td>50000.00</td>\n",
       "      <td>50000.00</td>\n",
       "      <td>50000.00</td>\n",
       "      <td>50000.00</td>\n",
       "      <td>50000.00</td>\n",
       "      <td>50000.00</td>\n",
       "      <td>50000.00</td>\n",
       "      <td>50000.00</td>\n",
       "      <td>50000.00</td>\n",
       "      <td>50000.00</td>\n",
       "      <td>50000.00</td>\n",
       "      <td>50000.00</td>\n",
       "      <td>50000.00</td>\n",
       "      <td>50000.00</td>\n",
       "      <td>50000.00</td>\n",
       "      <td>50000.00</td>\n",
       "      <td>50000.00</td>\n",
       "      <td>50000.00</td>\n",
       "      <td>50000.00</td>\n",
       "    </tr>\n",
       "    <tr>\n",
       "      <th>mean</th>\n",
       "      <td>-0.37</td>\n",
       "      <td>0.01</td>\n",
       "      <td>-0.00</td>\n",
       "      <td>0.26</td>\n",
       "      <td>0.09</td>\n",
       "      <td>0.05</td>\n",
       "      <td>0.19</td>\n",
       "      <td>-0.51</td>\n",
       "      <td>-0.30</td>\n",
       "      <td>0.16</td>\n",
       "      <td>0.11</td>\n",
       "      <td>-0.12</td>\n",
       "      <td>0.14</td>\n",
       "      <td>0.00</td>\n",
       "      <td>0.37</td>\n",
       "      <td>0.00</td>\n",
       "      <td>-0.78</td>\n",
       "      <td>0.30</td>\n",
       "      <td>-0.01</td>\n",
       "      <td>-0.35</td>\n",
       "      <td>-0.56</td>\n",
       "      <td>-0.00</td>\n",
       "      <td>0.00</td>\n",
       "      <td>-0.80</td>\n",
       "      <td>-0.32</td>\n",
       "      <td>0.03</td>\n",
       "      <td>-0.01</td>\n",
       "      <td>0.00</td>\n",
       "      <td>-0.56</td>\n",
       "      <td>-0.18</td>\n",
       "      <td>0.00</td>\n",
       "      <td>-0.49</td>\n",
       "      <td>0.01</td>\n",
       "      <td>-0.62</td>\n",
       "      <td>0.01</td>\n",
       "      <td>0.56</td>\n",
       "      <td>0.26</td>\n",
       "      <td>-0.75</td>\n",
       "      <td>-0.14</td>\n",
       "      <td>-0.01</td>\n",
       "      <td>...</td>\n",
       "      <td>0.35</td>\n",
       "      <td>0.00</td>\n",
       "      <td>-0.07</td>\n",
       "      <td>0.19</td>\n",
       "      <td>-0.08</td>\n",
       "      <td>-0.67</td>\n",
       "      <td>0.73</td>\n",
       "      <td>-0.00</td>\n",
       "      <td>-0.00</td>\n",
       "      <td>0.49</td>\n",
       "      <td>-0.73</td>\n",
       "      <td>-0.14</td>\n",
       "      <td>-0.14</td>\n",
       "      <td>-0.77</td>\n",
       "      <td>-0.00</td>\n",
       "      <td>-0.10</td>\n",
       "      <td>0.36</td>\n",
       "      <td>-0.01</td>\n",
       "      <td>0.79</td>\n",
       "      <td>0.06</td>\n",
       "      <td>0.00</td>\n",
       "      <td>-0.55</td>\n",
       "      <td>-0.49</td>\n",
       "      <td>-0.05</td>\n",
       "      <td>0.09</td>\n",
       "      <td>-0.00</td>\n",
       "      <td>-0.56</td>\n",
       "      <td>-0.68</td>\n",
       "      <td>0.31</td>\n",
       "      <td>0.15</td>\n",
       "      <td>-0.35</td>\n",
       "      <td>-0.00</td>\n",
       "      <td>0.00</td>\n",
       "      <td>0.01</td>\n",
       "      <td>0.55</td>\n",
       "      <td>-0.08</td>\n",
       "      <td>0.76</td>\n",
       "      <td>-0.00</td>\n",
       "      <td>0.13</td>\n",
       "      <td>0.14</td>\n",
       "    </tr>\n",
       "    <tr>\n",
       "      <th>std</th>\n",
       "      <td>5.04</td>\n",
       "      <td>1.00</td>\n",
       "      <td>1.00</td>\n",
       "      <td>4.82</td>\n",
       "      <td>5.14</td>\n",
       "      <td>4.84</td>\n",
       "      <td>4.97</td>\n",
       "      <td>4.78</td>\n",
       "      <td>4.80</td>\n",
       "      <td>5.06</td>\n",
       "      <td>4.63</td>\n",
       "      <td>5.17</td>\n",
       "      <td>4.86</td>\n",
       "      <td>1.00</td>\n",
       "      <td>4.68</td>\n",
       "      <td>1.00</td>\n",
       "      <td>4.90</td>\n",
       "      <td>5.22</td>\n",
       "      <td>1.00</td>\n",
       "      <td>4.89</td>\n",
       "      <td>4.90</td>\n",
       "      <td>0.99</td>\n",
       "      <td>0.99</td>\n",
       "      <td>4.83</td>\n",
       "      <td>5.06</td>\n",
       "      <td>4.94</td>\n",
       "      <td>1.00</td>\n",
       "      <td>1.00</td>\n",
       "      <td>4.72</td>\n",
       "      <td>4.65</td>\n",
       "      <td>1.01</td>\n",
       "      <td>4.97</td>\n",
       "      <td>1.00</td>\n",
       "      <td>4.64</td>\n",
       "      <td>1.00</td>\n",
       "      <td>4.69</td>\n",
       "      <td>4.83</td>\n",
       "      <td>5.02</td>\n",
       "      <td>5.10</td>\n",
       "      <td>1.00</td>\n",
       "      <td>...</td>\n",
       "      <td>4.88</td>\n",
       "      <td>1.00</td>\n",
       "      <td>5.00</td>\n",
       "      <td>4.97</td>\n",
       "      <td>4.91</td>\n",
       "      <td>4.83</td>\n",
       "      <td>4.83</td>\n",
       "      <td>1.00</td>\n",
       "      <td>1.00</td>\n",
       "      <td>4.86</td>\n",
       "      <td>5.01</td>\n",
       "      <td>4.76</td>\n",
       "      <td>4.94</td>\n",
       "      <td>4.66</td>\n",
       "      <td>1.00</td>\n",
       "      <td>4.77</td>\n",
       "      <td>4.99</td>\n",
       "      <td>1.00</td>\n",
       "      <td>4.49</td>\n",
       "      <td>4.91</td>\n",
       "      <td>1.00</td>\n",
       "      <td>4.93</td>\n",
       "      <td>4.73</td>\n",
       "      <td>4.86</td>\n",
       "      <td>4.81</td>\n",
       "      <td>1.00</td>\n",
       "      <td>4.92</td>\n",
       "      <td>4.56</td>\n",
       "      <td>4.77</td>\n",
       "      <td>4.86</td>\n",
       "      <td>4.83</td>\n",
       "      <td>1.00</td>\n",
       "      <td>1.00</td>\n",
       "      <td>0.99</td>\n",
       "      <td>4.84</td>\n",
       "      <td>5.29</td>\n",
       "      <td>4.90</td>\n",
       "      <td>4.81</td>\n",
       "      <td>4.92</td>\n",
       "      <td>4.89</td>\n",
       "    </tr>\n",
       "    <tr>\n",
       "      <th>min</th>\n",
       "      <td>-23.26</td>\n",
       "      <td>-4.24</td>\n",
       "      <td>-4.13</td>\n",
       "      <td>-20.54</td>\n",
       "      <td>-21.08</td>\n",
       "      <td>-20.65</td>\n",
       "      <td>-19.16</td>\n",
       "      <td>-19.68</td>\n",
       "      <td>-18.61</td>\n",
       "      <td>-20.69</td>\n",
       "      <td>-20.29</td>\n",
       "      <td>-21.26</td>\n",
       "      <td>-21.46</td>\n",
       "      <td>-3.93</td>\n",
       "      <td>-19.83</td>\n",
       "      <td>-3.93</td>\n",
       "      <td>-20.42</td>\n",
       "      <td>-22.50</td>\n",
       "      <td>-4.45</td>\n",
       "      <td>-21.21</td>\n",
       "      <td>-21.67</td>\n",
       "      <td>-4.07</td>\n",
       "      <td>-4.03</td>\n",
       "      <td>-23.80</td>\n",
       "      <td>-20.45</td>\n",
       "      <td>-20.90</td>\n",
       "      <td>-4.16</td>\n",
       "      <td>-3.89</td>\n",
       "      <td>-22.73</td>\n",
       "      <td>-19.70</td>\n",
       "      <td>-4.75</td>\n",
       "      <td>-23.20</td>\n",
       "      <td>-3.93</td>\n",
       "      <td>-20.32</td>\n",
       "      <td>-4.09</td>\n",
       "      <td>-20.98</td>\n",
       "      <td>-21.65</td>\n",
       "      <td>-23.26</td>\n",
       "      <td>-20.89</td>\n",
       "      <td>-4.11</td>\n",
       "      <td>...</td>\n",
       "      <td>-20.05</td>\n",
       "      <td>-4.71</td>\n",
       "      <td>-19.58</td>\n",
       "      <td>-21.63</td>\n",
       "      <td>-20.94</td>\n",
       "      <td>-21.00</td>\n",
       "      <td>-19.06</td>\n",
       "      <td>-4.06</td>\n",
       "      <td>-4.23</td>\n",
       "      <td>-20.25</td>\n",
       "      <td>-22.97</td>\n",
       "      <td>-19.23</td>\n",
       "      <td>-20.41</td>\n",
       "      <td>-19.79</td>\n",
       "      <td>-4.19</td>\n",
       "      <td>-19.30</td>\n",
       "      <td>-21.18</td>\n",
       "      <td>-4.03</td>\n",
       "      <td>-19.65</td>\n",
       "      <td>-21.95</td>\n",
       "      <td>-4.33</td>\n",
       "      <td>-22.53</td>\n",
       "      <td>-19.08</td>\n",
       "      <td>-19.63</td>\n",
       "      <td>-18.70</td>\n",
       "      <td>-4.24</td>\n",
       "      <td>-20.40</td>\n",
       "      <td>-19.20</td>\n",
       "      <td>-18.67</td>\n",
       "      <td>-24.58</td>\n",
       "      <td>-19.70</td>\n",
       "      <td>-4.34</td>\n",
       "      <td>-3.92</td>\n",
       "      <td>-4.35</td>\n",
       "      <td>-21.24</td>\n",
       "      <td>-23.00</td>\n",
       "      <td>-19.97</td>\n",
       "      <td>-22.35</td>\n",
       "      <td>-19.79</td>\n",
       "      <td>-20.58</td>\n",
       "    </tr>\n",
       "    <tr>\n",
       "      <th>25%</th>\n",
       "      <td>-3.78</td>\n",
       "      <td>-0.67</td>\n",
       "      <td>-0.68</td>\n",
       "      <td>-2.99</td>\n",
       "      <td>-3.36</td>\n",
       "      <td>-3.19</td>\n",
       "      <td>-3.14</td>\n",
       "      <td>-3.76</td>\n",
       "      <td>-3.54</td>\n",
       "      <td>-3.28</td>\n",
       "      <td>-3.01</td>\n",
       "      <td>-3.60</td>\n",
       "      <td>-3.09</td>\n",
       "      <td>-0.68</td>\n",
       "      <td>-2.77</td>\n",
       "      <td>-0.68</td>\n",
       "      <td>-4.05</td>\n",
       "      <td>-3.22</td>\n",
       "      <td>-0.68</td>\n",
       "      <td>-3.64</td>\n",
       "      <td>-3.85</td>\n",
       "      <td>-0.67</td>\n",
       "      <td>-0.66</td>\n",
       "      <td>-4.06</td>\n",
       "      <td>-3.70</td>\n",
       "      <td>-3.30</td>\n",
       "      <td>-0.68</td>\n",
       "      <td>-0.68</td>\n",
       "      <td>-3.73</td>\n",
       "      <td>-3.29</td>\n",
       "      <td>-0.67</td>\n",
       "      <td>-3.87</td>\n",
       "      <td>-0.67</td>\n",
       "      <td>-3.75</td>\n",
       "      <td>-0.66</td>\n",
       "      <td>-2.57</td>\n",
       "      <td>-2.99</td>\n",
       "      <td>-4.13</td>\n",
       "      <td>-3.55</td>\n",
       "      <td>-0.68</td>\n",
       "      <td>...</td>\n",
       "      <td>-2.92</td>\n",
       "      <td>-0.68</td>\n",
       "      <td>-3.44</td>\n",
       "      <td>-3.14</td>\n",
       "      <td>-3.38</td>\n",
       "      <td>-3.94</td>\n",
       "      <td>-2.51</td>\n",
       "      <td>-0.67</td>\n",
       "      <td>-0.68</td>\n",
       "      <td>-2.77</td>\n",
       "      <td>-4.09</td>\n",
       "      <td>-3.34</td>\n",
       "      <td>-3.46</td>\n",
       "      <td>-3.92</td>\n",
       "      <td>-0.68</td>\n",
       "      <td>-3.33</td>\n",
       "      <td>-2.98</td>\n",
       "      <td>-0.68</td>\n",
       "      <td>-2.22</td>\n",
       "      <td>-3.26</td>\n",
       "      <td>-0.67</td>\n",
       "      <td>-3.86</td>\n",
       "      <td>-3.67</td>\n",
       "      <td>-3.33</td>\n",
       "      <td>-3.15</td>\n",
       "      <td>-0.68</td>\n",
       "      <td>-3.90</td>\n",
       "      <td>-3.79</td>\n",
       "      <td>-2.88</td>\n",
       "      <td>-3.11</td>\n",
       "      <td>-3.61</td>\n",
       "      <td>-0.68</td>\n",
       "      <td>-0.68</td>\n",
       "      <td>-0.66</td>\n",
       "      <td>-2.69</td>\n",
       "      <td>-3.64</td>\n",
       "      <td>-2.55</td>\n",
       "      <td>-3.24</td>\n",
       "      <td>-3.18</td>\n",
       "      <td>-3.17</td>\n",
       "    </tr>\n",
       "    <tr>\n",
       "      <th>50%</th>\n",
       "      <td>-0.42</td>\n",
       "      <td>0.01</td>\n",
       "      <td>-0.00</td>\n",
       "      <td>0.27</td>\n",
       "      <td>0.12</td>\n",
       "      <td>0.07</td>\n",
       "      <td>0.19</td>\n",
       "      <td>-0.51</td>\n",
       "      <td>-0.36</td>\n",
       "      <td>0.10</td>\n",
       "      <td>0.10</td>\n",
       "      <td>-0.09</td>\n",
       "      <td>0.18</td>\n",
       "      <td>0.00</td>\n",
       "      <td>0.39</td>\n",
       "      <td>0.00</td>\n",
       "      <td>-0.79</td>\n",
       "      <td>0.30</td>\n",
       "      <td>-0.01</td>\n",
       "      <td>-0.35</td>\n",
       "      <td>-0.51</td>\n",
       "      <td>-0.01</td>\n",
       "      <td>0.00</td>\n",
       "      <td>-0.79</td>\n",
       "      <td>-0.35</td>\n",
       "      <td>0.03</td>\n",
       "      <td>-0.01</td>\n",
       "      <td>0.00</td>\n",
       "      <td>-0.55</td>\n",
       "      <td>-0.19</td>\n",
       "      <td>-0.00</td>\n",
       "      <td>-0.49</td>\n",
       "      <td>0.01</td>\n",
       "      <td>-0.63</td>\n",
       "      <td>0.01</td>\n",
       "      <td>0.58</td>\n",
       "      <td>0.28</td>\n",
       "      <td>-0.78</td>\n",
       "      <td>-0.12</td>\n",
       "      <td>-0.01</td>\n",
       "      <td>...</td>\n",
       "      <td>0.31</td>\n",
       "      <td>0.00</td>\n",
       "      <td>-0.14</td>\n",
       "      <td>0.21</td>\n",
       "      <td>-0.08</td>\n",
       "      <td>-0.69</td>\n",
       "      <td>0.72</td>\n",
       "      <td>-0.00</td>\n",
       "      <td>0.00</td>\n",
       "      <td>0.48</td>\n",
       "      <td>-0.72</td>\n",
       "      <td>-0.13</td>\n",
       "      <td>-0.17</td>\n",
       "      <td>-0.77</td>\n",
       "      <td>0.00</td>\n",
       "      <td>-0.10</td>\n",
       "      <td>0.36</td>\n",
       "      <td>-0.01</td>\n",
       "      <td>0.81</td>\n",
       "      <td>0.07</td>\n",
       "      <td>-0.00</td>\n",
       "      <td>-0.54</td>\n",
       "      <td>-0.50</td>\n",
       "      <td>-0.06</td>\n",
       "      <td>0.08</td>\n",
       "      <td>-0.00</td>\n",
       "      <td>-0.58</td>\n",
       "      <td>-0.68</td>\n",
       "      <td>0.30</td>\n",
       "      <td>0.17</td>\n",
       "      <td>-0.35</td>\n",
       "      <td>-0.00</td>\n",
       "      <td>-0.00</td>\n",
       "      <td>0.01</td>\n",
       "      <td>0.55</td>\n",
       "      <td>-0.07</td>\n",
       "      <td>0.75</td>\n",
       "      <td>-0.04</td>\n",
       "      <td>0.15</td>\n",
       "      <td>0.15</td>\n",
       "    </tr>\n",
       "    <tr>\n",
       "      <th>75%</th>\n",
       "      <td>2.98</td>\n",
       "      <td>0.69</td>\n",
       "      <td>0.68</td>\n",
       "      <td>3.51</td>\n",
       "      <td>3.56</td>\n",
       "      <td>3.29</td>\n",
       "      <td>3.51</td>\n",
       "      <td>2.70</td>\n",
       "      <td>2.91</td>\n",
       "      <td>3.55</td>\n",
       "      <td>3.24</td>\n",
       "      <td>3.36</td>\n",
       "      <td>3.40</td>\n",
       "      <td>0.68</td>\n",
       "      <td>3.53</td>\n",
       "      <td>0.68</td>\n",
       "      <td>2.50</td>\n",
       "      <td>3.83</td>\n",
       "      <td>0.66</td>\n",
       "      <td>2.93</td>\n",
       "      <td>2.74</td>\n",
       "      <td>0.67</td>\n",
       "      <td>0.67</td>\n",
       "      <td>2.42</td>\n",
       "      <td>3.04</td>\n",
       "      <td>3.38</td>\n",
       "      <td>0.67</td>\n",
       "      <td>0.68</td>\n",
       "      <td>2.64</td>\n",
       "      <td>2.94</td>\n",
       "      <td>0.68</td>\n",
       "      <td>2.86</td>\n",
       "      <td>0.68</td>\n",
       "      <td>2.51</td>\n",
       "      <td>0.68</td>\n",
       "      <td>3.71</td>\n",
       "      <td>3.54</td>\n",
       "      <td>2.65</td>\n",
       "      <td>3.26</td>\n",
       "      <td>0.66</td>\n",
       "      <td>...</td>\n",
       "      <td>3.69</td>\n",
       "      <td>0.67</td>\n",
       "      <td>3.24</td>\n",
       "      <td>3.53</td>\n",
       "      <td>3.25</td>\n",
       "      <td>2.59</td>\n",
       "      <td>3.96</td>\n",
       "      <td>0.67</td>\n",
       "      <td>0.67</td>\n",
       "      <td>3.75</td>\n",
       "      <td>2.64</td>\n",
       "      <td>3.10</td>\n",
       "      <td>3.19</td>\n",
       "      <td>2.36</td>\n",
       "      <td>0.67</td>\n",
       "      <td>3.11</td>\n",
       "      <td>3.71</td>\n",
       "      <td>0.67</td>\n",
       "      <td>3.83</td>\n",
       "      <td>3.34</td>\n",
       "      <td>0.67</td>\n",
       "      <td>2.75</td>\n",
       "      <td>2.66</td>\n",
       "      <td>3.23</td>\n",
       "      <td>3.32</td>\n",
       "      <td>0.67</td>\n",
       "      <td>2.75</td>\n",
       "      <td>2.41</td>\n",
       "      <td>3.54</td>\n",
       "      <td>3.45</td>\n",
       "      <td>2.86</td>\n",
       "      <td>0.66</td>\n",
       "      <td>0.68</td>\n",
       "      <td>0.68</td>\n",
       "      <td>3.81</td>\n",
       "      <td>3.47</td>\n",
       "      <td>4.07</td>\n",
       "      <td>3.20</td>\n",
       "      <td>3.43</td>\n",
       "      <td>3.44</td>\n",
       "    </tr>\n",
       "    <tr>\n",
       "      <th>max</th>\n",
       "      <td>20.12</td>\n",
       "      <td>4.66</td>\n",
       "      <td>4.27</td>\n",
       "      <td>20.13</td>\n",
       "      <td>23.37</td>\n",
       "      <td>19.51</td>\n",
       "      <td>24.55</td>\n",
       "      <td>19.41</td>\n",
       "      <td>19.65</td>\n",
       "      <td>23.74</td>\n",
       "      <td>20.27</td>\n",
       "      <td>21.02</td>\n",
       "      <td>19.42</td>\n",
       "      <td>4.16</td>\n",
       "      <td>19.32</td>\n",
       "      <td>4.11</td>\n",
       "      <td>24.43</td>\n",
       "      <td>22.85</td>\n",
       "      <td>4.46</td>\n",
       "      <td>23.43</td>\n",
       "      <td>19.41</td>\n",
       "      <td>4.07</td>\n",
       "      <td>4.09</td>\n",
       "      <td>19.63</td>\n",
       "      <td>21.94</td>\n",
       "      <td>20.19</td>\n",
       "      <td>4.13</td>\n",
       "      <td>4.41</td>\n",
       "      <td>19.67</td>\n",
       "      <td>20.15</td>\n",
       "      <td>4.25</td>\n",
       "      <td>23.57</td>\n",
       "      <td>4.56</td>\n",
       "      <td>18.90</td>\n",
       "      <td>4.39</td>\n",
       "      <td>22.16</td>\n",
       "      <td>20.58</td>\n",
       "      <td>19.35</td>\n",
       "      <td>21.08</td>\n",
       "      <td>4.43</td>\n",
       "      <td>...</td>\n",
       "      <td>20.84</td>\n",
       "      <td>4.09</td>\n",
       "      <td>22.45</td>\n",
       "      <td>21.80</td>\n",
       "      <td>19.83</td>\n",
       "      <td>18.99</td>\n",
       "      <td>21.00</td>\n",
       "      <td>4.05</td>\n",
       "      <td>4.13</td>\n",
       "      <td>20.39</td>\n",
       "      <td>20.39</td>\n",
       "      <td>19.28</td>\n",
       "      <td>25.13</td>\n",
       "      <td>20.25</td>\n",
       "      <td>3.93</td>\n",
       "      <td>18.96</td>\n",
       "      <td>23.15</td>\n",
       "      <td>4.55</td>\n",
       "      <td>20.88</td>\n",
       "      <td>20.37</td>\n",
       "      <td>4.20</td>\n",
       "      <td>21.19</td>\n",
       "      <td>22.24</td>\n",
       "      <td>20.90</td>\n",
       "      <td>20.95</td>\n",
       "      <td>4.06</td>\n",
       "      <td>19.92</td>\n",
       "      <td>21.47</td>\n",
       "      <td>20.83</td>\n",
       "      <td>20.16</td>\n",
       "      <td>21.83</td>\n",
       "      <td>4.36</td>\n",
       "      <td>4.42</td>\n",
       "      <td>4.02</td>\n",
       "      <td>20.29</td>\n",
       "      <td>22.58</td>\n",
       "      <td>20.36</td>\n",
       "      <td>22.22</td>\n",
       "      <td>20.94</td>\n",
       "      <td>20.00</td>\n",
       "    </tr>\n",
       "  </tbody>\n",
       "</table>\n",
       "<p>8 rows × 100 columns</p>\n",
       "</div>"
      ],
      "text/plain": [
       "           X_1      X_2      X_3      X_4  ...     X_97     X_98     X_99    X_100\n",
       "count 50000.00 50000.00 50000.00 50000.00  ... 50000.00 50000.00 50000.00 50000.00\n",
       "mean     -0.37     0.01    -0.00     0.26  ...     0.76    -0.00     0.13     0.14\n",
       "std       5.04     1.00     1.00     4.82  ...     4.90     4.81     4.92     4.89\n",
       "min     -23.26    -4.24    -4.13   -20.54  ...   -19.97   -22.35   -19.79   -20.58\n",
       "25%      -3.78    -0.67    -0.68    -2.99  ...    -2.55    -3.24    -3.18    -3.17\n",
       "50%      -0.42     0.01    -0.00     0.27  ...     0.75    -0.04     0.15     0.15\n",
       "75%       2.98     0.69     0.68     3.51  ...     4.07     3.20     3.43     3.44\n",
       "max      20.12     4.66     4.27    20.13  ...    20.36    22.22    20.94    20.00\n",
       "\n",
       "[8 rows x 100 columns]"
      ]
     },
     "execution_count": 56,
     "metadata": {
      "tags": []
     },
     "output_type": "execute_result"
    }
   ],
   "source": [
    "X.describe()"
   ]
  },
  {
   "cell_type": "code",
   "execution_count": null,
   "metadata": {
    "id": "CryKnu82Ej_t"
   },
   "outputs": [],
   "source": [
    "y = pd.DataFrame(y, columns=['class'])"
   ]
  },
  {
   "cell_type": "markdown",
   "metadata": {
    "id": "n5N6QOrCHDVe"
   },
   "source": [
    "## Train test split"
   ]
  },
  {
   "cell_type": "code",
   "execution_count": null,
   "metadata": {
    "colab": {
     "base_uri": "https://localhost:8080/"
    },
    "executionInfo": {
     "elapsed": 205,
     "status": "ok",
     "timestamp": 1626950756201,
     "user": {
      "displayName": "Ignacio Soteras",
      "photoUrl": "",
      "userId": "02050793736257155229"
     },
     "user_tz": -120
    },
    "id": "r6zlQpvCHHp4",
    "outputId": "664ddedd-5b81-4391-f6be-9cb746c9c819"
   },
   "outputs": [
    {
     "name": "stdout",
     "output_type": "stream",
     "text": [
      "(40000, 100)\n",
      "(10000, 100)\n"
     ]
    }
   ],
   "source": [
    "X_train, X_test, y_train, y_test = train_test_split(X, y, test_size=0.20, random_state=7)\n",
    "\n",
    "print(X_train.shape)\n",
    "print(X_test.shape)"
   ]
  },
  {
   "cell_type": "markdown",
   "metadata": {
    "id": "dNMIxFOkP6od"
   },
   "source": [
    "Let's see how many observations we have of each class"
   ]
  },
  {
   "cell_type": "code",
   "execution_count": null,
   "metadata": {
    "colab": {
     "base_uri": "https://localhost:8080/",
     "height": 296
    },
    "executionInfo": {
     "elapsed": 355,
     "status": "ok",
     "timestamp": 1626950767582,
     "user": {
      "displayName": "Ignacio Soteras",
      "photoUrl": "",
      "userId": "02050793736257155229"
     },
     "user_tz": -120
    },
    "id": "qMTGF_NJHT11",
    "outputId": "ee82a1b1-0761-4fbe-c2ac-23df3507a3c7"
   },
   "outputs": [
    {
     "data": {
      "text/plain": [
       "<matplotlib.axes._subplots.AxesSubplot at 0x7fea4fc7cf50>"
      ]
     },
     "execution_count": 59,
     "metadata": {
      "tags": []
     },
     "output_type": "execute_result"
    },
    {
     "data": {
      "image/png": "[encoded data removed]",
      "text/plain": [
       "<Figure size 432x288 with 1 Axes>"
      ]
     },
     "metadata": {
      "needs_background": "light",
      "tags": []
     },
     "output_type": "display_data"
    }
   ],
   "source": [
    "sns.countplot(x = 'class', data = y_train )"
   ]
  },
  {
   "cell_type": "code",
   "execution_count": null,
   "metadata": {
    "colab": {
     "base_uri": "https://localhost:8080/",
     "height": 296
    },
    "executionInfo": {
     "elapsed": 678,
     "status": "ok",
     "timestamp": 1626950855422,
     "user": {
      "displayName": "Ignacio Soteras",
      "photoUrl": "",
      "userId": "02050793736257155229"
     },
     "user_tz": -120
    },
    "id": "abdYchHGJl0C",
    "outputId": "c55432b6-c5ef-4cec-b366-4176415fde4c"
   },
   "outputs": [
    {
     "data": {
      "text/plain": [
       "<matplotlib.axes._subplots.AxesSubplot at 0x7fea4e8a66d0>"
      ]
     },
     "execution_count": 61,
     "metadata": {
      "tags": []
     },
     "output_type": "execute_result"
    },
    {
     "data": {
      "image/png": "[encoded data removed]",
      "text/plain": [
       "<Figure size 432x288 with 1 Axes>"
      ]
     },
     "metadata": {
      "needs_background": "light",
      "tags": []
     },
     "output_type": "display_data"
    }
   ],
   "source": [
    "sns.countplot(x = 'class', data = y_test )"
   ]
  },
  {
   "cell_type": "markdown",
   "metadata": {
    "id": "AXpGfOREP_7s"
   },
   "source": [
    "Clearly, this dataset is not balanced as we have a different amount of observations for each class. This is not a good thing as if we directly train a model with this dataset, the model will better good predicting the class for which we have more samples ( **majority class** ) rather than the class for which we only have a few samples ( **minority class** ). However, we would like to have a model which can be good in predicting any class, not only the dominant class. Therefore we would like to have the same amount of samples of each class which is not allways possible because \n",
    "\n",
    "Let's see how we can **mitigate** this problem "
   ]
  },
  {
   "cell_type": "markdown",
   "metadata": {
    "id": "vSO5wfjJFHOO"
   },
   "source": [
    "## Balancing the dataset"
   ]
  },
  {
   "cell_type": "code",
   "execution_count": null,
   "metadata": {
    "colab": {
     "base_uri": "https://localhost:8080/"
    },
    "executionInfo": {
     "elapsed": 245,
     "status": "ok",
     "timestamp": 1626951022849,
     "user": {
      "displayName": "Ignacio Soteras",
      "photoUrl": "",
      "userId": "02050793736257155229"
     },
     "user_tz": -120
    },
    "id": "7GAlhEC6C6tH",
    "outputId": "7727c6a8-507f-4779-9edb-f5f4ba0cadd8"
   },
   "outputs": [
    {
     "data": {
      "text/plain": [
       "class\n",
       "4        16715\n",
       "1        11277\n",
       "0         6363\n",
       "2         4131\n",
       "3         1514\n",
       "dtype: int64"
      ]
     },
     "execution_count": 62,
     "metadata": {
      "tags": []
     },
     "output_type": "execute_result"
    }
   ],
   "source": [
    "y_train.value_counts()"
   ]
  },
  {
   "cell_type": "markdown",
   "metadata": {
    "id": "scUQv1QNFNg6"
   },
   "source": [
    "## Manual Downsampling"
   ]
  },
  {
   "cell_type": "markdown",
   "metadata": {
    "id": "P-dNy3frFhuC"
   },
   "source": [
    "We need to have the same amount of samples in each class as otherwise the model will be better in predicting the majority class. \n",
    "\n",
    "With the downsampling approach, we want to have as many samples of each class as samples in the minority class.\n",
    "\n",
    "We new to know first, which is the minority class and how many samples contains."
   ]
  },
  {
   "cell_type": "markdown",
   "metadata": {
    "id": "Xh7tb_JEJNNP"
   },
   "source": [
    "Let's see which is the minority class"
   ]
  },
  {
   "cell_type": "code",
   "execution_count": null,
   "metadata": {
    "colab": {
     "base_uri": "https://localhost:8080/"
    },
    "executionInfo": {
     "elapsed": 222,
     "status": "ok",
     "timestamp": 1626951172612,
     "user": {
      "displayName": "Ignacio Soteras",
      "photoUrl": "",
      "userId": "02050793736257155229"
     },
     "user_tz": -120
    },
    "id": "_LIFh553FSbB",
    "outputId": "55d0058b-ecd3-4a0a-dcf1-5cc2f6f00508"
   },
   "outputs": [
    {
     "data": {
      "text/plain": [
       "3"
      ]
     },
     "execution_count": 63,
     "metadata": {
      "tags": []
     },
     "output_type": "execute_result"
    }
   ],
   "source": [
    "minority_class = y_train.value_counts().index[-1][0]\n",
    "minority_class"
   ]
  },
  {
   "cell_type": "code",
   "execution_count": null,
   "metadata": {
    "colab": {
     "base_uri": "https://localhost:8080/"
    },
    "executionInfo": {
     "elapsed": 225,
     "status": "ok",
     "timestamp": 1626951192098,
     "user": {
      "displayName": "Ignacio Soteras",
      "photoUrl": "",
      "userId": "02050793736257155229"
     },
     "user_tz": -120
    },
    "id": "4rF9nqMQLgJj",
    "outputId": "1bf7c92e-69d0-45c6-f336-eb73353f85c4"
   },
   "outputs": [
    {
     "data": {
      "text/plain": [
       "True"
      ]
     },
     "execution_count": 64,
     "metadata": {
      "tags": []
     },
     "output_type": "execute_result"
    }
   ],
   "source": [
    "sorted(np.unique(y_train).tolist()) == sorted(np.unique(y_test).tolist())"
   ]
  },
  {
   "cell_type": "code",
   "execution_count": null,
   "metadata": {
    "colab": {
     "base_uri": "https://localhost:8080/"
    },
    "executionInfo": {
     "elapsed": 460,
     "status": "ok",
     "timestamp": 1626951197294,
     "user": {
      "displayName": "Ignacio Soteras",
      "photoUrl": "",
      "userId": "02050793736257155229"
     },
     "user_tz": -120
    },
    "id": "aZjngBJjMvq7",
    "outputId": "3240e554-f726-46fa-eb52-35bd607c687a"
   },
   "outputs": [
    {
     "data": {
      "text/plain": [
       "[0, 1, 2, 3, 4]"
      ]
     },
     "execution_count": 65,
     "metadata": {
      "tags": []
     },
     "output_type": "execute_result"
    }
   ],
   "source": [
    "np.unique(y_train).tolist()"
   ]
  },
  {
   "cell_type": "markdown",
   "metadata": {
    "id": "sqcefLZEK04m"
   },
   "source": [
    "On a first sight, downsampling may seem obvious. However if we drop some observations from X_train, we need to know which rows we dropped in order to drop the same rows in the y_train.\n",
    "\n",
    "Let's create a dictionary in which the keys will be the classes and the values will be the row indexes of the X_train observation with the corresponding  given class. \n",
    "\n",
    "The idea is to know for each class which rows contain observations of the corresponding class."
   ]
  },
  {
   "cell_type": "code",
   "execution_count": null,
   "metadata": {
    "colab": {
     "base_uri": "https://localhost:8080/"
    },
    "executionInfo": {
     "elapsed": 282,
     "status": "ok",
     "timestamp": 1626951469371,
     "user": {
      "displayName": "Ignacio Soteras",
      "photoUrl": "",
      "userId": "02050793736257155229"
     },
     "user_tz": -120
    },
    "id": "NIyRxiiILXVs",
    "outputId": "8e5e43c8-10e0-4a31-eb24-46c6d6d6e781"
   },
   "outputs": [
    {
     "data": {
      "text/plain": [
       "[1, 2, 7, 11, 15]"
      ]
     },
     "execution_count": 66,
     "metadata": {
      "tags": []
     },
     "output_type": "execute_result"
    }
   ],
   "source": [
    "samples = {str(c): list(np.where(y_train == c)[0]) for c in sorted(np.unique(y_train).tolist())}\n",
    "samples['4'][:5]"
   ]
  },
  {
   "cell_type": "markdown",
   "metadata": {
    "id": "0IbJP0QkOxTE"
   },
   "source": [
    "Now let's implement the downsampling according to the set of row indexes"
   ]
  },
  {
   "cell_type": "code",
   "execution_count": null,
   "metadata": {
    "colab": {
     "base_uri": "https://localhost:8080/"
    },
    "executionInfo": {
     "elapsed": 270,
     "status": "ok",
     "timestamp": 1626951638191,
     "user": {
      "displayName": "Ignacio Soteras",
      "photoUrl": "",
      "userId": "02050793736257155229"
     },
     "user_tz": -120
    },
    "id": "DZInkC9RKPbU",
    "outputId": "105bd805-bd71-415f-ac4e-f54f438e0a0a"
   },
   "outputs": [
    {
     "data": {
      "text/plain": [
       "[22778, 28931, 38278, 35623, 18341]"
      ]
     },
     "execution_count": 67,
     "metadata": {
      "tags": []
     },
     "output_type": "execute_result"
    }
   ],
   "source": [
    "downsamples = {str(c): list(np.random.choice(samples[str(c)], \n",
    "               size = len(list(np.where(y_train == minority_class)[0])))) \n",
    "               for c in np.unique(y_train)}\n",
    "\n",
    "downsamples['0'][:5]"
   ]
  },
  {
   "cell_type": "code",
   "execution_count": null,
   "metadata": {
    "colab": {
     "base_uri": "https://localhost:8080/"
    },
    "executionInfo": {
     "elapsed": 232,
     "status": "ok",
     "timestamp": 1626955498080,
     "user": {
      "displayName": "Ignacio Soteras",
      "photoUrl": "",
      "userId": "02050793736257155229"
     },
     "user_tz": -120
    },
    "id": "a7TwziTtWTm0",
    "outputId": "ccf90d4e-396d-41ea-b10e-8b540977937e"
   },
   "outputs": [
    {
     "data": {
      "text/plain": [
       "(40000, 100)"
      ]
     },
     "execution_count": 68,
     "metadata": {
      "tags": []
     },
     "output_type": "execute_result"
    }
   ],
   "source": [
    "X_train.shape"
   ]
  },
  {
   "cell_type": "markdown",
   "metadata": {
    "id": "GAFCq0aLPfPM"
   },
   "source": [
    "Finally get the donwsampled train set."
   ]
  },
  {
   "cell_type": "code",
   "execution_count": null,
   "metadata": {
    "colab": {
     "base_uri": "https://localhost:8080/"
    },
    "executionInfo": {
     "elapsed": 250,
     "status": "ok",
     "timestamp": 1626955568747,
     "user": {
      "displayName": "Ignacio Soteras",
      "photoUrl": "",
      "userId": "02050793736257155229"
     },
     "user_tz": -120
    },
    "id": "CYZeGNI9Ps-y",
    "outputId": "a57ad749-680b-469e-984f-755ad439f747"
   },
   "outputs": [
    {
     "name": "stdout",
     "output_type": "stream",
     "text": [
      "[22778, 28931, 38278, 35623]\n",
      "[28104, 30253, 31894, 1528]\n"
     ]
    }
   ],
   "source": [
    "selection = [downsamples[str(c)] for c in np.unique(y_train).tolist()]\n",
    "selection = [ x for sublist in selection for x in sublist ]\n",
    "print(selection[:4])\n",
    "np.random.shuffle(selection)\n",
    "print(selection[:4])"
   ]
  },
  {
   "cell_type": "code",
   "execution_count": null,
   "metadata": {
    "colab": {
     "base_uri": "https://localhost:8080/"
    },
    "executionInfo": {
     "elapsed": 210,
     "status": "ok",
     "timestamp": 1626955578298,
     "user": {
      "displayName": "Ignacio Soteras",
      "photoUrl": "",
      "userId": "02050793736257155229"
     },
     "user_tz": -120
    },
    "id": "Nw9wlLbNTruN",
    "outputId": "bb04b257-798f-4a07-f78d-bd31b336586f"
   },
   "outputs": [
    {
     "data": {
      "text/plain": [
       "7570"
      ]
     },
     "execution_count": 70,
     "metadata": {
      "tags": []
     },
     "output_type": "execute_result"
    }
   ],
   "source": [
    "len(selection)"
   ]
  },
  {
   "cell_type": "code",
   "execution_count": null,
   "metadata": {
    "colab": {
     "base_uri": "https://localhost:8080/"
    },
    "executionInfo": {
     "elapsed": 238,
     "status": "ok",
     "timestamp": 1626955584998,
     "user": {
      "displayName": "Ignacio Soteras",
      "photoUrl": "",
      "userId": "02050793736257155229"
     },
     "user_tz": -120
    },
    "id": "rwKWXu2wUE1U",
    "outputId": "8b1be72d-f656-4863-feda-d20510e9ee13"
   },
   "outputs": [
    {
     "data": {
      "text/plain": [
       "39986"
      ]
     },
     "execution_count": 71,
     "metadata": {
      "tags": []
     },
     "output_type": "execute_result"
    }
   ],
   "source": [
    "max(selection)"
   ]
  },
  {
   "cell_type": "markdown",
   "metadata": {
    "id": "lSv5ChwAbslV"
   },
   "source": [
    "Now our training set will be much smaller than before as we will only have: \n",
    "\n",
    "train_samples = n_classes * n_samples_minority_class\n",
    "\n",
    "which sustantially reduces the training set size.\n",
    "\n",
    "On the other hand, we are goig to leave the test set untouched. Why? Because we want to evaluate our model in a **realistic scenario** where all the classes will be unbalanced."
   ]
  },
  {
   "cell_type": "code",
   "execution_count": null,
   "metadata": {
    "id": "7_n5N3JPNwBI"
   },
   "outputs": [],
   "source": [
    "X_train_down = X_train.iloc[selection,:]\n",
    "y_train_down = y_train.iloc[selection]"
   ]
  },
  {
   "cell_type": "code",
   "execution_count": null,
   "metadata": {
    "colab": {
     "base_uri": "https://localhost:8080/",
     "height": 296
    },
    "executionInfo": {
     "elapsed": 345,
     "status": "ok",
     "timestamp": 1626955635133,
     "user": {
      "displayName": "Ignacio Soteras",
      "photoUrl": "",
      "userId": "02050793736257155229"
     },
     "user_tz": -120
    },
    "id": "TM894soESjVf",
    "outputId": "e5e04151-fffc-4b78-b37b-f6070dffccfd"
   },
   "outputs": [
    {
     "data": {
      "text/plain": [
       "<matplotlib.axes._subplots.AxesSubplot at 0x7fea4b520690>"
      ]
     },
     "execution_count": 73,
     "metadata": {
      "tags": []
     },
     "output_type": "execute_result"
    },
    {
     "data": {
      "image/png": "[encoded data removed]",
      "text/plain": [
       "<Figure size 432x288 with 1 Axes>"
      ]
     },
     "metadata": {
      "needs_background": "light",
      "tags": []
     },
     "output_type": "display_data"
    }
   ],
   "source": [
    "sns.countplot(x = 'class', data = y_train_down )"
   ]
  },
  {
   "cell_type": "code",
   "execution_count": null,
   "metadata": {
    "colab": {
     "base_uri": "https://localhost:8080/"
    },
    "executionInfo": {
     "elapsed": 221,
     "status": "ok",
     "timestamp": 1626955667932,
     "user": {
      "displayName": "Ignacio Soteras",
      "photoUrl": "",
      "userId": "02050793736257155229"
     },
     "user_tz": -120
    },
    "id": "tsaDHlQ1HSsk",
    "outputId": "a380f72f-8f93-4151-a0ec-158bf5c6cc9b"
   },
   "outputs": [
    {
     "data": {
      "text/plain": [
       "(7570, 100)"
      ]
     },
     "execution_count": 74,
     "metadata": {
      "tags": []
     },
     "output_type": "execute_result"
    }
   ],
   "source": [
    "X_train_down.shape"
   ]
  },
  {
   "cell_type": "markdown",
   "metadata": {
    "id": "BnVLXzyGY18u"
   },
   "source": [
    "## Scaling features"
   ]
  },
  {
   "cell_type": "code",
   "execution_count": null,
   "metadata": {
    "id": "bhbeoHR7YrlN"
   },
   "outputs": [],
   "source": [
    "from sklearn.preprocessing import PowerTransformer\n",
    "\n",
    "trans = PowerTransformer()\n",
    "trans.fit(X_train_down)\n",
    "\n",
    "X_train_down_trans = trans.transform(X_train_down)\n",
    "X_test_trans       = trans.transform(X_test)\n",
    "\n",
    "X_train_down_trans = pd.DataFrame(X_train_down_trans, columns = X_train.columns)\n",
    "X_test_trans       = pd.DataFrame(X_test_trans,  columns = X_test.columns)"
   ]
  },
  {
   "cell_type": "markdown",
   "metadata": {
    "id": "my829GzxZx8T"
   },
   "source": [
    "## Building the neural network for classification"
   ]
  },
  {
   "cell_type": "markdown",
   "metadata": {
    "id": "3PpStWOWccuS"
   },
   "source": [
    "Now remember that we need to modify the output layer in order to have as many neurons as possible classes. In addition, we also need to change the activation function of the output layer to **softmax**. "
   ]
  },
  {
   "cell_type": "code",
   "execution_count": null,
   "metadata": {
    "colab": {
     "base_uri": "https://localhost:8080/"
    },
    "executionInfo": {
     "elapsed": 246,
     "status": "ok",
     "timestamp": 1626956071141,
     "user": {
      "displayName": "Ignacio Soteras",
      "photoUrl": "",
      "userId": "02050793736257155229"
     },
     "user_tz": -120
    },
    "id": "txsUT_kZZwKj",
    "outputId": "4bd24a96-bdf8-4b43-98c8-120edf200ae5"
   },
   "outputs": [
    {
     "name": "stdout",
     "output_type": "stream",
     "text": [
      "Model: \"sequential_12\"\n",
      "_________________________________________________________________\n",
      "Layer (type)                 Output Shape              Param #   \n",
      "=================================================================\n",
      "dense_36 (Dense)             (None, 32)                3232      \n",
      "_________________________________________________________________\n",
      "dense_37 (Dense)             (None, 16)                528       \n",
      "_________________________________________________________________\n",
      "dense_38 (Dense)             (None, 5)                 85        \n",
      "=================================================================\n",
      "Total params: 3,845\n",
      "Trainable params: 3,845\n",
      "Non-trainable params: 0\n",
      "_________________________________________________________________\n"
     ]
    }
   ],
   "source": [
    "model_c1 = keras.Sequential()\n",
    "# Adding a hidden layer with:\n",
    "# as many inputs as the number of features\n",
    "# 9 neurons\n",
    "# each neuron will have a \"RELU\" activation function\n",
    "model_c1.add(Dense(units = 32,input_dim = X_train.shape[1],activation='relu'))\n",
    "# Adding a new hidden layer with three neurons with \"RELU\" activation function\n",
    "model_c1.add(Dense(units = 16,activation='relu'))\n",
    "# Adding the final layer\n",
    "model_c1.add(Dense(units = 5, activation='softmax'))\n",
    "\n",
    "# Compile the final network\n",
    "model_c1.compile(optimizer='rmsprop', # Optimization method\n",
    "              loss='categorical_crossentropy', # Error metric to minimize\n",
    "              metrics=['accuracy'] # Error metrics to report\n",
    "              )\n",
    "\n",
    "\n",
    "model_c1.summary()"
   ]
  },
  {
   "cell_type": "markdown",
   "metadata": {
    "id": "jLBix41Cmlji"
   },
   "source": [
    "Unfortunatelly when dealing with multiclass classification, Keras doesn't like to have an array with the classes of each observation. It needs a dummyfied array. "
   ]
  },
  {
   "cell_type": "code",
   "execution_count": null,
   "metadata": {
    "id": "IpHrL2J6irt1"
   },
   "outputs": [],
   "source": [
    "y_train_down_a = keras.utils.to_categorical(y_train_down, num_classes=5)"
   ]
  },
  {
   "cell_type": "code",
   "execution_count": null,
   "metadata": {
    "colab": {
     "base_uri": "https://localhost:8080/"
    },
    "executionInfo": {
     "elapsed": 266,
     "status": "ok",
     "timestamp": 1626956175527,
     "user": {
      "displayName": "Ignacio Soteras",
      "photoUrl": "",
      "userId": "02050793736257155229"
     },
     "user_tz": -120
    },
    "id": "ZFsEUjsjqgx_",
    "outputId": "4d667211-99f3-4a66-f5a6-ab528efc6472"
   },
   "outputs": [
    {
     "data": {
      "text/plain": [
       "array([[0., 0., 0., 1., 0.],\n",
       "       [0., 1., 0., 0., 0.],\n",
       "       [0., 0., 1., 0., 0.],\n",
       "       ...,\n",
       "       [0., 0., 1., 0., 0.],\n",
       "       [1., 0., 0., 0., 0.],\n",
       "       [0., 0., 0., 0., 1.]], dtype=float32)"
      ]
     },
     "execution_count": 78,
     "metadata": {
      "tags": []
     },
     "output_type": "execute_result"
    }
   ],
   "source": [
    "y_train_down_a "
   ]
  },
  {
   "cell_type": "markdown",
   "metadata": {
    "id": "Y7oNBzHkc6Vl"
   },
   "source": [
    "As you can see, Keras expect to have one row for each observation and as many columns as possible classes. Each column will contain 0 or 1 wether or not the sample belongs to the corresponding class. \n",
    "\n",
    "In the previous example, the first sample belongs to the second class, the second sample to the second class, the this samples to the thirds class and so on."
   ]
  },
  {
   "cell_type": "code",
   "execution_count": null,
   "metadata": {
    "colab": {
     "base_uri": "https://localhost:8080/"
    },
    "executionInfo": {
     "elapsed": 221,
     "status": "ok",
     "timestamp": 1626956238021,
     "user": {
      "displayName": "Ignacio Soteras",
      "photoUrl": "",
      "userId": "02050793736257155229"
     },
     "user_tz": -120
    },
    "id": "8QERoGC0EsSB",
    "outputId": "606772fa-bc9b-45a6-ef56-74e796d73a05"
   },
   "outputs": [
    {
     "data": {
      "text/plain": [
       "(7570, 5)"
      ]
     },
     "execution_count": 79,
     "metadata": {
      "tags": []
     },
     "output_type": "execute_result"
    }
   ],
   "source": [
    "y_train_down_a.shape"
   ]
  },
  {
   "cell_type": "code",
   "execution_count": null,
   "metadata": {
    "colab": {
     "base_uri": "https://localhost:8080/"
    },
    "executionInfo": {
     "elapsed": 231,
     "status": "ok",
     "timestamp": 1626956263142,
     "user": {
      "displayName": "Ignacio Soteras",
      "photoUrl": "",
      "userId": "02050793736257155229"
     },
     "user_tz": -120
    },
    "id": "7kLZ_GkpEu0T",
    "outputId": "829b3ec1-4b36-463b-b9ef-89f60a425c50"
   },
   "outputs": [
    {
     "data": {
      "text/plain": [
       "(7570, 100)"
      ]
     },
     "execution_count": 80,
     "metadata": {
      "tags": []
     },
     "output_type": "execute_result"
    }
   ],
   "source": [
    "X_train_down_trans.shape"
   ]
  },
  {
   "cell_type": "markdown",
   "metadata": {
    "id": "tgz1SnrZdiZ2"
   },
   "source": [
    "We need to replace the name of the file to store the neural network"
   ]
  },
  {
   "cell_type": "code",
   "execution_count": null,
   "metadata": {
    "id": "Flk62QHqdmrg"
   },
   "outputs": [],
   "source": [
    "checkpoint_path = '/content/drive/MyDrive/OLD_CURR/UNIT8/DAY4/cls-nn1.hdf5'\n",
    "checkpoint = ModelCheckpoint(\n",
    "    filepath=checkpoint_path,\n",
    "    save_freq='epoch',\n",
    "    save_weights_only=False,\n",
    "    verbose=1\n",
    ")"
   ]
  },
  {
   "cell_type": "code",
   "execution_count": null,
   "metadata": {
    "colab": {
     "base_uri": "https://localhost:8080/"
    },
    "executionInfo": {
     "elapsed": 9631,
     "status": "ok",
     "timestamp": 1626956385342,
     "user": {
      "displayName": "Ignacio Soteras",
      "photoUrl": "",
      "userId": "02050793736257155229"
     },
     "user_tz": -120
    },
    "id": "5FiKi3Ylbs9v",
    "outputId": "1de0e940-f1cc-419b-b890-28795dee6021"
   },
   "outputs": [
    {
     "name": "stdout",
     "output_type": "stream",
     "text": [
      "Epoch 1/60\n",
      "606/606 - 1s - loss: 1.3798 - accuracy: 0.4267 - val_loss: 1.0627 - val_accuracy: 0.6116\n",
      "\n",
      "Epoch 00001: saving model to /content/drive/MyDrive/OLD_CURR/UNIT8/DAY4/cls-nn1.hdf5\n",
      "Epoch 2/60\n",
      "606/606 - 1s - loss: 0.8199 - accuracy: 0.7031 - val_loss: 0.7389 - val_accuracy: 0.7365\n",
      "\n",
      "Epoch 00002: saving model to /content/drive/MyDrive/OLD_CURR/UNIT8/DAY4/cls-nn1.hdf5\n",
      "Epoch 3/60\n",
      "606/606 - 1s - loss: 0.5464 - accuracy: 0.8146 - val_loss: 0.5826 - val_accuracy: 0.7985\n",
      "\n",
      "Epoch 00003: saving model to /content/drive/MyDrive/OLD_CURR/UNIT8/DAY4/cls-nn1.hdf5\n",
      "Epoch 4/60\n",
      "606/606 - 1s - loss: 0.4002 - accuracy: 0.8689 - val_loss: 0.4879 - val_accuracy: 0.8283\n",
      "\n",
      "Epoch 00004: saving model to /content/drive/MyDrive/OLD_CURR/UNIT8/DAY4/cls-nn1.hdf5\n",
      "Epoch 5/60\n",
      "606/606 - 1s - loss: 0.3067 - accuracy: 0.9037 - val_loss: 0.4411 - val_accuracy: 0.8593\n",
      "\n",
      "Epoch 00005: saving model to /content/drive/MyDrive/OLD_CURR/UNIT8/DAY4/cls-nn1.hdf5\n",
      "Epoch 6/60\n",
      "606/606 - 1s - loss: 0.2387 - accuracy: 0.9300 - val_loss: 0.4081 - val_accuracy: 0.8745\n",
      "\n",
      "Epoch 00006: saving model to /content/drive/MyDrive/OLD_CURR/UNIT8/DAY4/cls-nn1.hdf5\n",
      "Epoch 7/60\n",
      "606/606 - 1s - loss: 0.1895 - accuracy: 0.9490 - val_loss: 0.3915 - val_accuracy: 0.8818\n",
      "\n",
      "Epoch 00007: saving model to /content/drive/MyDrive/OLD_CURR/UNIT8/DAY4/cls-nn1.hdf5\n",
      "Epoch 8/60\n",
      "606/606 - 1s - loss: 0.1550 - accuracy: 0.9599 - val_loss: 0.3949 - val_accuracy: 0.8884\n",
      "\n",
      "Epoch 00008: saving model to /content/drive/MyDrive/OLD_CURR/UNIT8/DAY4/cls-nn1.hdf5\n",
      "Epoch 9/60\n",
      "606/606 - 1s - loss: 0.1287 - accuracy: 0.9681 - val_loss: 0.4025 - val_accuracy: 0.8871\n",
      "\n",
      "Epoch 00009: saving model to /content/drive/MyDrive/OLD_CURR/UNIT8/DAY4/cls-nn1.hdf5\n",
      "Epoch 10/60\n",
      "606/606 - 1s - loss: 0.1088 - accuracy: 0.9756 - val_loss: 0.4049 - val_accuracy: 0.8923\n",
      "\n",
      "Epoch 00010: saving model to /content/drive/MyDrive/OLD_CURR/UNIT8/DAY4/cls-nn1.hdf5\n",
      "Epoch 11/60\n",
      "606/606 - 1s - loss: 0.0899 - accuracy: 0.9808 - val_loss: 0.4127 - val_accuracy: 0.8904\n",
      "\n",
      "Epoch 00011: saving model to /content/drive/MyDrive/OLD_CURR/UNIT8/DAY4/cls-nn1.hdf5\n",
      "Epoch 12/60\n",
      "606/606 - 1s - loss: 0.0788 - accuracy: 0.9833 - val_loss: 0.4164 - val_accuracy: 0.8996\n",
      "\n",
      "Epoch 00012: saving model to /content/drive/MyDrive/OLD_CURR/UNIT8/DAY4/cls-nn1.hdf5\n"
     ]
    }
   ],
   "source": [
    "history_c1 = model_c1.fit(\n",
    "    X_train_down_trans, \n",
    "    y_train_down_a, \n",
    "    epochs=60, \n",
    "    validation_split=0.20, \n",
    "    batch_size=10, \n",
    "    verbose=2,\n",
    "    callbacks=[early_stopping,checkpoint]\n",
    ")"
   ]
  },
  {
   "cell_type": "code",
   "execution_count": null,
   "metadata": {
    "colab": {
     "base_uri": "https://localhost:8080/",
     "height": 295
    },
    "executionInfo": {
     "elapsed": 641,
     "status": "ok",
     "timestamp": 1626956393097,
     "user": {
      "displayName": "Ignacio Soteras",
      "photoUrl": "",
      "userId": "02050793736257155229"
     },
     "user_tz": -120
    },
    "id": "qX7UCrxkLLYx",
    "outputId": "9d9b5ca0-3cb6-4408-ea37-255ddf427ef0"
   },
   "outputs": [
    {
     "data": {
      "image/png": "[encoded data removed]",
      "text/plain": [
       "<Figure size 432x288 with 1 Axes>"
      ]
     },
     "metadata": {
      "needs_background": "light",
      "tags": []
     },
     "output_type": "display_data"
    }
   ],
   "source": [
    "plot_metric(history_c1,'loss')"
   ]
  },
  {
   "cell_type": "markdown",
   "metadata": {
    "id": "yGoOgMXoLgzH"
   },
   "source": [
    "OMG!!!"
   ]
  },
  {
   "cell_type": "markdown",
   "metadata": {
    "id": "FmVfJaieeJTm"
   },
   "source": [
    "As the error metrics used in classification are different, we need to create another function to evaluate the neural network for classification."
   ]
  },
  {
   "cell_type": "code",
   "execution_count": null,
   "metadata": {
    "id": "1F7aI7g_UJgj"
   },
   "outputs": [],
   "source": [
    "def model_performance_class(y_train, y_pred_train, y_test, y_pred_test):\n",
    "\n",
    "    from sklearn.metrics import cohen_kappa_score, classification_report \n",
    "\n",
    "\n",
    "    print(\"Results obtained for the TRAIN SET\")\n",
    "    print(\"==================================\")\n",
    "    print(\"The Cohen's Kappa is: {:.2f}\".format(cohen_kappa_score(y_train, y_pred_train)))\n",
    "    print(classification_report(y_train, y_pred_train))\n",
    "    print(\"==================================\")\n",
    "    print(\"Results obtained for the TEST SET\")\n",
    "    print(\"The Cohen's Kappa is: {:.2f}\".format(cohen_kappa_score(y_test, y_pred_test)))\n",
    "    print(classification_report(y_test, y_pred_test))\n",
    "\n",
    "    "
   ]
  },
  {
   "cell_type": "code",
   "execution_count": null,
   "metadata": {
    "colab": {
     "base_uri": "https://localhost:8080/"
    },
    "executionInfo": {
     "elapsed": 1314,
     "status": "ok",
     "timestamp": 1626956484012,
     "user": {
      "displayName": "Ignacio Soteras",
      "photoUrl": "",
      "userId": "02050793736257155229"
     },
     "user_tz": -120
    },
    "id": "tS2qP52VVvml",
    "outputId": "b17e2b09-732e-41e4-e673-4276c7cd82ba"
   },
   "outputs": [
    {
     "name": "stdout",
     "output_type": "stream",
     "text": [
      "Results obtained for the TRAIN SET\n",
      "==================================\n",
      "The Cohen's Kappa is: 0.97\n",
      "              precision    recall  f1-score   support\n",
      "\n",
      "           0       0.97      0.98      0.97      1514\n",
      "           1       0.97      0.98      0.97      1514\n",
      "           2       0.98      0.96      0.97      1514\n",
      "           3       0.98      0.97      0.97      1514\n",
      "           4       0.97      0.98      0.98      1514\n",
      "\n",
      "    accuracy                           0.97      7570\n",
      "   macro avg       0.97      0.97      0.97      7570\n",
      "weighted avg       0.97      0.97      0.97      7570\n",
      "\n",
      "==================================\n",
      "Results obtained for the TEST SET\n",
      "The Cohen's Kappa is: 0.84\n",
      "              precision    recall  f1-score   support\n",
      "\n",
      "           0       0.86      0.85      0.86      1510\n",
      "           1       0.92      0.89      0.91      2859\n",
      "           2       0.73      0.85      0.79      1047\n",
      "           3       0.54      0.80      0.65       377\n",
      "           4       0.96      0.90      0.93      4207\n",
      "\n",
      "    accuracy                           0.88     10000\n",
      "   macro avg       0.80      0.86      0.82     10000\n",
      "weighted avg       0.89      0.88      0.89     10000\n",
      "\n"
     ]
    }
   ],
   "source": [
    "y_pred_train_c1 = model_c1.predict(X_train_down_trans) # This provides the probability for each class\n",
    "y_pred_test_c1  = model_c1.predict(X_test_trans) # This provides the probability for each class\n",
    "\n",
    "# We need to extract for each row which is the class which the highest probability\n",
    "# which corresponds to the index of the sublist\n",
    "y_pred_train_c1 = np.argmax(y_pred_train_c1, axis=1).reshape(-1,1)\n",
    "y_pred_test_c1  = np.argmax(y_pred_test_c1, axis=1).reshape(-1,1)\n",
    "\n",
    "model_performance_class(y_train_down, y_pred_train_c1, y_test, y_pred_test_c1)\n"
   ]
  },
  {
   "cell_type": "markdown",
   "metadata": {
    "id": "rzwqn6_Alfa3"
   },
   "source": [
    "Now let's create a function to create a generic neural network for classification"
   ]
  },
  {
   "cell_type": "code",
   "execution_count": null,
   "metadata": {
    "id": "P2mT-f9wLu4x"
   },
   "outputs": [],
   "source": [
    "def create_cla_nn_model(inputs,layer_list= [32,16,5],\n",
    "                        activations = ['relu','relu','softmax'],\n",
    "                        dropouts = [0.5,0,0],\n",
    "                        regularizers = [('l1',0.01),('l2',0.01)]):\n",
    "    '''\n",
    "    This function creates a neural network with the given amount of layers, neurons,\n",
    "    activations, dropouts and regularizers.\n",
    "    Inputs: \n",
    "    inputs -> input size. It must be integer\n",
    "    activations -> a list of activation functions to be used in each layer\n",
    "    droputs -> a list of dropouts coefficients to be used in each layer except the last one\n",
    "    regularizers -> a list of regularizers to be used in the last layer. Coefficients should\n",
    "    be set to zero if no regularizers are wanted.\n",
    "    Output:\n",
    "    neural network already compiled with: 'adam' optimizer and 'mse' as the loss.\n",
    "    '''\n",
    "    \n",
    "    model = keras.Sequential()\n",
    "\n",
    "    my_list = list(zip(layer_list,activations,dropouts))\n",
    "\n",
    "    for index, elem in enumerate(my_list):\n",
    "        if ( index == 0 ):      \n",
    "            model.add(Dense(units = elem[0],input_dim = inputs,activation=elem[1]))\n",
    "            if ( elem[2] != 0 ):\n",
    "            # Adding a dropout layer with regularization parameter (it must be between [0,1) )\n",
    "                model.add(Dropout(elem[2]))\n",
    "        else:\n",
    "            model.add(Dense(units = elem[0],activation=elem[1]))\n",
    "        if ( index == len(my_list) ):\n",
    "            model.add(Dense(1, activation=elem[1],\n",
    "                            activity_regularizer=\n",
    "                            regularizers.l1_l2(l1=regularizers[0][1], l2=regularizers[1][1])))\n",
    "\n",
    "    # Compile the final network\n",
    "    model.compile(optimizer='rmsprop', # Optimization method\n",
    "              loss='categorical_crossentropy', # Error metric to minimize\n",
    "              metrics=['accuracy'] # Error metrics to report\n",
    "              )\n",
    "\n",
    "    model.summary()\n",
    "\n",
    "    return model"
   ]
  },
  {
   "cell_type": "code",
   "execution_count": null,
   "metadata": {
    "colab": {
     "base_uri": "https://localhost:8080/"
    },
    "executionInfo": {
     "elapsed": 259,
     "status": "ok",
     "timestamp": 1626956724535,
     "user": {
      "displayName": "Ignacio Soteras",
      "photoUrl": "",
      "userId": "02050793736257155229"
     },
     "user_tz": -120
    },
    "id": "9Fk5sMDuObrv",
    "outputId": "6cdd3390-a688-40b4-9b75-aff726341957"
   },
   "outputs": [
    {
     "name": "stdout",
     "output_type": "stream",
     "text": [
      "Model: \"sequential_13\"\n",
      "_________________________________________________________________\n",
      "Layer (type)                 Output Shape              Param #   \n",
      "=================================================================\n",
      "dense_39 (Dense)             (None, 32)                3232      \n",
      "_________________________________________________________________\n",
      "dropout_9 (Dropout)          (None, 32)                0         \n",
      "_________________________________________________________________\n",
      "dense_40 (Dense)             (None, 16)                528       \n",
      "_________________________________________________________________\n",
      "dense_41 (Dense)             (None, 5)                 85        \n",
      "=================================================================\n",
      "Total params: 3,845\n",
      "Trainable params: 3,845\n",
      "Non-trainable params: 0\n",
      "_________________________________________________________________\n"
     ]
    }
   ],
   "source": [
    "model_c2 = create_cla_nn_model(X_train.shape[1])"
   ]
  },
  {
   "cell_type": "markdown",
   "metadata": {
    "id": "xK4PRvfXplR3"
   },
   "source": [
    "Let's update the name of the file to save the neural network"
   ]
  },
  {
   "cell_type": "code",
   "execution_count": null,
   "metadata": {
    "id": "x7kKAwqCpi_G"
   },
   "outputs": [],
   "source": [
    "checkpoint_path = '/content/drive/MyDrive/OLD_CURR/UNIT8/DAY4/cls-nn2.hdf5'\n",
    "checkpoint = ModelCheckpoint(\n",
    "    filepath=checkpoint_path,\n",
    "    save_freq='epoch',\n",
    "    save_weights_only=False,\n",
    "    verbose=1\n",
    ")"
   ]
  },
  {
   "cell_type": "code",
   "execution_count": null,
   "metadata": {
    "colab": {
     "base_uri": "https://localhost:8080/"
    },
    "executionInfo": {
     "elapsed": 34677,
     "status": "ok",
     "timestamp": 1626956791470,
     "user": {
      "displayName": "Ignacio Soteras",
      "photoUrl": "",
      "userId": "02050793736257155229"
     },
     "user_tz": -120
    },
    "id": "0GP-absFTRQq",
    "outputId": "418cba16-2b7e-49e6-d559-95eb42f8eb68"
   },
   "outputs": [
    {
     "name": "stdout",
     "output_type": "stream",
     "text": [
      "Epoch 1/60\n",
      "606/606 - 1s - loss: 1.5919 - accuracy: 0.3088 - val_loss: 1.3681 - val_accuracy: 0.4590\n",
      "\n",
      "Epoch 00001: saving model to /content/drive/MyDrive/OLD_CURR/UNIT8/DAY4/cls-nn2.hdf5\n",
      "Epoch 2/60\n",
      "606/606 - 1s - loss: 1.3244 - accuracy: 0.4515 - val_loss: 1.1075 - val_accuracy: 0.6083\n",
      "\n",
      "Epoch 00002: saving model to /content/drive/MyDrive/OLD_CURR/UNIT8/DAY4/cls-nn2.hdf5\n",
      "Epoch 3/60\n",
      "606/606 - 1s - loss: 1.1521 - accuracy: 0.5350 - val_loss: 0.9319 - val_accuracy: 0.6691\n",
      "\n",
      "Epoch 00003: saving model to /content/drive/MyDrive/OLD_CURR/UNIT8/DAY4/cls-nn2.hdf5\n",
      "Epoch 4/60\n",
      "606/606 - 1s - loss: 1.0351 - accuracy: 0.5911 - val_loss: 0.8285 - val_accuracy: 0.6922\n",
      "\n",
      "Epoch 00004: saving model to /content/drive/MyDrive/OLD_CURR/UNIT8/DAY4/cls-nn2.hdf5\n",
      "Epoch 5/60\n",
      "606/606 - 1s - loss: 0.9621 - accuracy: 0.6209 - val_loss: 0.7498 - val_accuracy: 0.7279\n",
      "\n",
      "Epoch 00005: saving model to /content/drive/MyDrive/OLD_CURR/UNIT8/DAY4/cls-nn2.hdf5\n",
      "Epoch 6/60\n",
      "606/606 - 1s - loss: 0.8868 - accuracy: 0.6513 - val_loss: 0.7003 - val_accuracy: 0.7477\n",
      "\n",
      "Epoch 00006: saving model to /content/drive/MyDrive/OLD_CURR/UNIT8/DAY4/cls-nn2.hdf5\n",
      "Epoch 7/60\n",
      "606/606 - 1s - loss: 0.8476 - accuracy: 0.6777 - val_loss: 0.6524 - val_accuracy: 0.7629\n",
      "\n",
      "Epoch 00007: saving model to /content/drive/MyDrive/OLD_CURR/UNIT8/DAY4/cls-nn2.hdf5\n",
      "Epoch 8/60\n",
      "606/606 - 1s - loss: 0.8081 - accuracy: 0.6808 - val_loss: 0.6207 - val_accuracy: 0.7768\n",
      "\n",
      "Epoch 00008: saving model to /content/drive/MyDrive/OLD_CURR/UNIT8/DAY4/cls-nn2.hdf5\n",
      "Epoch 9/60\n",
      "606/606 - 1s - loss: 0.7623 - accuracy: 0.7062 - val_loss: 0.5840 - val_accuracy: 0.7933\n",
      "\n",
      "Epoch 00009: saving model to /content/drive/MyDrive/OLD_CURR/UNIT8/DAY4/cls-nn2.hdf5\n",
      "Epoch 10/60\n",
      "606/606 - 1s - loss: 0.7775 - accuracy: 0.7033 - val_loss: 0.5615 - val_accuracy: 0.8098\n",
      "\n",
      "Epoch 00010: saving model to /content/drive/MyDrive/OLD_CURR/UNIT8/DAY4/cls-nn2.hdf5\n",
      "Epoch 11/60\n",
      "606/606 - 1s - loss: 0.7268 - accuracy: 0.7176 - val_loss: 0.5456 - val_accuracy: 0.8164\n",
      "\n",
      "Epoch 00011: saving model to /content/drive/MyDrive/OLD_CURR/UNIT8/DAY4/cls-nn2.hdf5\n",
      "Epoch 12/60\n",
      "606/606 - 1s - loss: 0.7143 - accuracy: 0.7221 - val_loss: 0.5216 - val_accuracy: 0.8151\n",
      "\n",
      "Epoch 00012: saving model to /content/drive/MyDrive/OLD_CURR/UNIT8/DAY4/cls-nn2.hdf5\n",
      "Epoch 13/60\n",
      "606/606 - 1s - loss: 0.6949 - accuracy: 0.7312 - val_loss: 0.5056 - val_accuracy: 0.8243\n",
      "\n",
      "Epoch 00013: saving model to /content/drive/MyDrive/OLD_CURR/UNIT8/DAY4/cls-nn2.hdf5\n",
      "Epoch 14/60\n",
      "606/606 - 1s - loss: 0.6711 - accuracy: 0.7429 - val_loss: 0.4971 - val_accuracy: 0.8289\n",
      "\n",
      "Epoch 00014: saving model to /content/drive/MyDrive/OLD_CURR/UNIT8/DAY4/cls-nn2.hdf5\n",
      "Epoch 15/60\n",
      "606/606 - 1s - loss: 0.6630 - accuracy: 0.7353 - val_loss: 0.4690 - val_accuracy: 0.8448\n",
      "\n",
      "Epoch 00015: saving model to /content/drive/MyDrive/OLD_CURR/UNIT8/DAY4/cls-nn2.hdf5\n",
      "Epoch 16/60\n",
      "606/606 - 1s - loss: 0.6602 - accuracy: 0.7429 - val_loss: 0.4656 - val_accuracy: 0.8415\n",
      "\n",
      "Epoch 00016: saving model to /content/drive/MyDrive/OLD_CURR/UNIT8/DAY4/cls-nn2.hdf5\n",
      "Epoch 17/60\n",
      "606/606 - 1s - loss: 0.6471 - accuracy: 0.7465 - val_loss: 0.4630 - val_accuracy: 0.8468\n",
      "\n",
      "Epoch 00017: saving model to /content/drive/MyDrive/OLD_CURR/UNIT8/DAY4/cls-nn2.hdf5\n",
      "Epoch 18/60\n",
      "606/606 - 1s - loss: 0.6549 - accuracy: 0.7467 - val_loss: 0.4454 - val_accuracy: 0.8554\n",
      "\n",
      "Epoch 00018: saving model to /content/drive/MyDrive/OLD_CURR/UNIT8/DAY4/cls-nn2.hdf5\n",
      "Epoch 19/60\n",
      "606/606 - 1s - loss: 0.6511 - accuracy: 0.7475 - val_loss: 0.4386 - val_accuracy: 0.8520\n",
      "\n",
      "Epoch 00019: saving model to /content/drive/MyDrive/OLD_CURR/UNIT8/DAY4/cls-nn2.hdf5\n",
      "Epoch 20/60\n",
      "606/606 - 1s - loss: 0.6344 - accuracy: 0.7564 - val_loss: 0.4355 - val_accuracy: 0.8547\n",
      "\n",
      "Epoch 00020: saving model to /content/drive/MyDrive/OLD_CURR/UNIT8/DAY4/cls-nn2.hdf5\n",
      "Epoch 21/60\n",
      "606/606 - 1s - loss: 0.6163 - accuracy: 0.7609 - val_loss: 0.4247 - val_accuracy: 0.8666\n",
      "\n",
      "Epoch 00021: saving model to /content/drive/MyDrive/OLD_CURR/UNIT8/DAY4/cls-nn2.hdf5\n",
      "Epoch 22/60\n",
      "606/606 - 1s - loss: 0.6157 - accuracy: 0.7597 - val_loss: 0.4312 - val_accuracy: 0.8646\n",
      "\n",
      "Epoch 00022: saving model to /content/drive/MyDrive/OLD_CURR/UNIT8/DAY4/cls-nn2.hdf5\n",
      "Epoch 23/60\n",
      "606/606 - 1s - loss: 0.6113 - accuracy: 0.7586 - val_loss: 0.4156 - val_accuracy: 0.8692\n",
      "\n",
      "Epoch 00023: saving model to /content/drive/MyDrive/OLD_CURR/UNIT8/DAY4/cls-nn2.hdf5\n",
      "Epoch 24/60\n",
      "606/606 - 1s - loss: 0.6141 - accuracy: 0.7630 - val_loss: 0.4331 - val_accuracy: 0.8554\n",
      "\n",
      "Epoch 00024: saving model to /content/drive/MyDrive/OLD_CURR/UNIT8/DAY4/cls-nn2.hdf5\n",
      "Epoch 25/60\n",
      "606/606 - 1s - loss: 0.6003 - accuracy: 0.7695 - val_loss: 0.4049 - val_accuracy: 0.8732\n",
      "\n",
      "Epoch 00025: saving model to /content/drive/MyDrive/OLD_CURR/UNIT8/DAY4/cls-nn2.hdf5\n",
      "Epoch 26/60\n",
      "606/606 - 1s - loss: 0.5791 - accuracy: 0.7756 - val_loss: 0.4087 - val_accuracy: 0.8732\n",
      "\n",
      "Epoch 00026: saving model to /content/drive/MyDrive/OLD_CURR/UNIT8/DAY4/cls-nn2.hdf5\n",
      "Epoch 27/60\n",
      "606/606 - 1s - loss: 0.5927 - accuracy: 0.7696 - val_loss: 0.3997 - val_accuracy: 0.8752\n",
      "\n",
      "Epoch 00027: saving model to /content/drive/MyDrive/OLD_CURR/UNIT8/DAY4/cls-nn2.hdf5\n",
      "Epoch 28/60\n",
      "606/606 - 1s - loss: 0.5963 - accuracy: 0.7730 - val_loss: 0.4000 - val_accuracy: 0.8719\n",
      "\n",
      "Epoch 00028: saving model to /content/drive/MyDrive/OLD_CURR/UNIT8/DAY4/cls-nn2.hdf5\n",
      "Epoch 29/60\n",
      "606/606 - 1s - loss: 0.5880 - accuracy: 0.7756 - val_loss: 0.4041 - val_accuracy: 0.8811\n",
      "\n",
      "Epoch 00029: saving model to /content/drive/MyDrive/OLD_CURR/UNIT8/DAY4/cls-nn2.hdf5\n",
      "Epoch 30/60\n",
      "606/606 - 1s - loss: 0.5719 - accuracy: 0.7822 - val_loss: 0.3937 - val_accuracy: 0.8785\n",
      "\n",
      "Epoch 00030: saving model to /content/drive/MyDrive/OLD_CURR/UNIT8/DAY4/cls-nn2.hdf5\n",
      "Epoch 31/60\n",
      "606/606 - 1s - loss: 0.5768 - accuracy: 0.7782 - val_loss: 0.4075 - val_accuracy: 0.8771\n",
      "\n",
      "Epoch 00031: saving model to /content/drive/MyDrive/OLD_CURR/UNIT8/DAY4/cls-nn2.hdf5\n",
      "Epoch 32/60\n",
      "606/606 - 1s - loss: 0.5717 - accuracy: 0.7781 - val_loss: 0.3840 - val_accuracy: 0.8831\n",
      "\n",
      "Epoch 00032: saving model to /content/drive/MyDrive/OLD_CURR/UNIT8/DAY4/cls-nn2.hdf5\n",
      "Epoch 33/60\n",
      "606/606 - 1s - loss: 0.5878 - accuracy: 0.7711 - val_loss: 0.3969 - val_accuracy: 0.8752\n",
      "\n",
      "Epoch 00033: saving model to /content/drive/MyDrive/OLD_CURR/UNIT8/DAY4/cls-nn2.hdf5\n",
      "Epoch 34/60\n",
      "606/606 - 1s - loss: 0.5656 - accuracy: 0.7812 - val_loss: 0.3968 - val_accuracy: 0.8725\n",
      "\n",
      "Epoch 00034: saving model to /content/drive/MyDrive/OLD_CURR/UNIT8/DAY4/cls-nn2.hdf5\n",
      "Epoch 35/60\n",
      "606/606 - 1s - loss: 0.5610 - accuracy: 0.7820 - val_loss: 0.3884 - val_accuracy: 0.8778\n",
      "\n",
      "Epoch 00035: saving model to /content/drive/MyDrive/OLD_CURR/UNIT8/DAY4/cls-nn2.hdf5\n",
      "Epoch 36/60\n",
      "606/606 - 1s - loss: 0.5696 - accuracy: 0.7830 - val_loss: 0.3784 - val_accuracy: 0.8785\n",
      "\n",
      "Epoch 00036: saving model to /content/drive/MyDrive/OLD_CURR/UNIT8/DAY4/cls-nn2.hdf5\n",
      "Epoch 37/60\n",
      "606/606 - 1s - loss: 0.5760 - accuracy: 0.7720 - val_loss: 0.3910 - val_accuracy: 0.8679\n",
      "\n",
      "Epoch 00037: saving model to /content/drive/MyDrive/OLD_CURR/UNIT8/DAY4/cls-nn2.hdf5\n",
      "Epoch 38/60\n",
      "606/606 - 1s - loss: 0.5571 - accuracy: 0.7872 - val_loss: 0.3828 - val_accuracy: 0.8765\n",
      "\n",
      "Epoch 00038: saving model to /content/drive/MyDrive/OLD_CURR/UNIT8/DAY4/cls-nn2.hdf5\n",
      "Epoch 39/60\n",
      "606/606 - 1s - loss: 0.5649 - accuracy: 0.7820 - val_loss: 0.3791 - val_accuracy: 0.8857\n",
      "\n",
      "Epoch 00039: saving model to /content/drive/MyDrive/OLD_CURR/UNIT8/DAY4/cls-nn2.hdf5\n",
      "Epoch 40/60\n",
      "606/606 - 1s - loss: 0.5686 - accuracy: 0.7804 - val_loss: 0.3798 - val_accuracy: 0.8851\n",
      "\n",
      "Epoch 00040: saving model to /content/drive/MyDrive/OLD_CURR/UNIT8/DAY4/cls-nn2.hdf5\n",
      "Epoch 41/60\n",
      "606/606 - 1s - loss: 0.5801 - accuracy: 0.7814 - val_loss: 0.3770 - val_accuracy: 0.8871\n",
      "\n",
      "Epoch 00041: saving model to /content/drive/MyDrive/OLD_CURR/UNIT8/DAY4/cls-nn2.hdf5\n",
      "Epoch 42/60\n",
      "606/606 - 1s - loss: 0.5679 - accuracy: 0.7837 - val_loss: 0.3752 - val_accuracy: 0.8884\n",
      "\n",
      "Epoch 00042: saving model to /content/drive/MyDrive/OLD_CURR/UNIT8/DAY4/cls-nn2.hdf5\n",
      "Epoch 43/60\n",
      "606/606 - 1s - loss: 0.5437 - accuracy: 0.7848 - val_loss: 0.3901 - val_accuracy: 0.8725\n",
      "\n",
      "Epoch 00043: saving model to /content/drive/MyDrive/OLD_CURR/UNIT8/DAY4/cls-nn2.hdf5\n",
      "Epoch 44/60\n",
      "606/606 - 1s - loss: 0.5470 - accuracy: 0.7916 - val_loss: 0.3760 - val_accuracy: 0.8857\n",
      "\n",
      "Epoch 00044: saving model to /content/drive/MyDrive/OLD_CURR/UNIT8/DAY4/cls-nn2.hdf5\n",
      "Epoch 45/60\n",
      "606/606 - 1s - loss: 0.5611 - accuracy: 0.7890 - val_loss: 0.3802 - val_accuracy: 0.8791\n",
      "\n",
      "Epoch 00045: saving model to /content/drive/MyDrive/OLD_CURR/UNIT8/DAY4/cls-nn2.hdf5\n",
      "Epoch 46/60\n",
      "606/606 - 1s - loss: 0.5600 - accuracy: 0.7829 - val_loss: 0.3825 - val_accuracy: 0.8824\n",
      "\n",
      "Epoch 00046: saving model to /content/drive/MyDrive/OLD_CURR/UNIT8/DAY4/cls-nn2.hdf5\n",
      "Epoch 47/60\n",
      "606/606 - 1s - loss: 0.5473 - accuracy: 0.7885 - val_loss: 0.3902 - val_accuracy: 0.8758\n",
      "\n",
      "Epoch 00047: saving model to /content/drive/MyDrive/OLD_CURR/UNIT8/DAY4/cls-nn2.hdf5\n"
     ]
    }
   ],
   "source": [
    "history_c2 = model_c2.fit(\n",
    "    X_train_down_trans, \n",
    "    y_train_down_a, \n",
    "    epochs=60, \n",
    "    validation_split=0.20, \n",
    "    batch_size=10, \n",
    "    verbose=2,\n",
    "    callbacks=[early_stopping,checkpoint]\n",
    ")"
   ]
  },
  {
   "cell_type": "code",
   "execution_count": null,
   "metadata": {
    "colab": {
     "base_uri": "https://localhost:8080/",
     "height": 295
    },
    "executionInfo": {
     "elapsed": 1186,
     "status": "ok",
     "timestamp": 1626956799059,
     "user": {
      "displayName": "Ignacio Soteras",
      "photoUrl": "",
      "userId": "02050793736257155229"
     },
     "user_tz": -120
    },
    "id": "aWqTyp_pTruf",
    "outputId": "13738137-8a05-48ae-dfce-04272e3d8b0f"
   },
   "outputs": [
    {
     "data": {
      "image/png": "[encoded data removed]",
      "text/plain": [
       "<Figure size 432x288 with 1 Axes>"
      ]
     },
     "metadata": {
      "needs_background": "light",
      "tags": []
     },
     "output_type": "display_data"
    }
   ],
   "source": [
    "plot_metric(history_c2,'loss')"
   ]
  },
  {
   "cell_type": "code",
   "execution_count": null,
   "metadata": {
    "colab": {
     "base_uri": "https://localhost:8080/"
    },
    "executionInfo": {
     "elapsed": 1015,
     "status": "ok",
     "timestamp": 1626956818086,
     "user": {
      "displayName": "Ignacio Soteras",
      "photoUrl": "",
      "userId": "02050793736257155229"
     },
     "user_tz": -120
    },
    "id": "3eTvOusDIQvT",
    "outputId": "f3bfbcbd-9c40-42da-ee24-f4ee746ecc95"
   },
   "outputs": [
    {
     "name": "stdout",
     "output_type": "stream",
     "text": [
      "Results obtained for the TRAIN SET\n",
      "==================================\n",
      "The Cohen's Kappa is: 0.92\n",
      "              precision    recall  f1-score   support\n",
      "\n",
      "           0       0.95      0.93      0.94      1514\n",
      "           1       0.94      0.96      0.95      1514\n",
      "           2       0.91      0.94      0.93      1514\n",
      "           3       0.92      0.92      0.92      1514\n",
      "           4       0.95      0.91      0.93      1514\n",
      "\n",
      "    accuracy                           0.93      7570\n",
      "   macro avg       0.93      0.93      0.93      7570\n",
      "weighted avg       0.93      0.93      0.93      7570\n",
      "\n",
      "==================================\n",
      "Results obtained for the TEST SET\n",
      "The Cohen's Kappa is: 0.81\n",
      "              precision    recall  f1-score   support\n",
      "\n",
      "           0       0.90      0.84      0.87      1510\n",
      "           1       0.92      0.92      0.92      2859\n",
      "           2       0.65      0.84      0.74      1047\n",
      "           3       0.44      0.85      0.58       377\n",
      "           4       0.96      0.84      0.90      4207\n",
      "\n",
      "    accuracy                           0.86     10000\n",
      "   macro avg       0.78      0.86      0.80     10000\n",
      "weighted avg       0.89      0.86      0.87     10000\n",
      "\n"
     ]
    }
   ],
   "source": [
    "y_pred_train_c2 = model_c2.predict(X_train_down_trans) # This provides the probability for each class\n",
    "y_pred_test_c2  = model_c2.predict(X_test_trans) # This provides the probability for each class\n",
    "\n",
    "# We need to extract for each row which is the class which the highest probability\n",
    "# which corresponds to the index of the sublist\n",
    "y_pred_train_c2 = np.argmax(y_pred_train_c2, axis=1).reshape(-1,1)\n",
    "y_pred_test_c2  = np.argmax(y_pred_test_c2, axis=1).reshape(-1,1)\n",
    "\n",
    "model_performance_class(y_train_down, y_pred_train_c2, y_test, y_pred_test_c2)\n"
   ]
  },
  {
   "cell_type": "markdown",
   "metadata": {
    "id": "CaceZzuMBWqG"
   },
   "source": [
    "## Improved class balancing"
   ]
  },
  {
   "cell_type": "markdown",
   "metadata": {
    "id": "5eJVeQkjKIpm"
   },
   "source": [
    "As you have seen, downsampling is a bit dangerous by several reasons:\n",
    "\n",
    "* If the minority class only contains a few observations, then with downsampling will reduce the dataset size a lot. Therefore, we will be in the risk of having a model which will not properly learn how to discriminate between classes.\n",
    "\n",
    "* Downsampling reduces the variability of the dominant classes and then we are in the risk of not covering properly all the possible cases within the majority clases\n",
    "\n",
    "One strategy to alleviate the last problem of downsampling is to perform first a clustering of the observations corresponding to the majority class and then perform a stratified downsampling."
   ]
  },
  {
   "cell_type": "markdown",
   "metadata": {
    "id": "N1NWlsOEK3fY"
   },
   "source": [
    "Another possible strategy is upsampling. Upsampling consists of repeating samples from the minority class in as many times as needed in order to have as many samples as samples in the majority class. However, this doesn't add information to the model. Is just only duplicating information and therefore new observations form the minority class which have different features will not be properly predicted."
   ]
  },
  {
   "cell_type": "markdown",
   "metadata": {
    "id": "0GPUGzpTLYU8"
   },
   "source": [
    "A third posibility is to use the SMOTE method, which creates fake samples and uses a K-NN method to predict the corresponding class. If the corresponding class belongs to the dominant class, the fake sample is discarded, otherwise is kept. \n",
    "\n",
    "However, this approach is dangerous as it can generate no sense fake data."
   ]
  },
  {
   "cell_type": "markdown",
   "metadata": {
    "id": "UpKQarM8L7oy"
   },
   "source": [
    "Finally all the approaches can be use together, ie: use a bit of downsampling and a bit of upsampling alongside with SMOTE. \n"
   ]
  }
 ],
 "metadata": {
  "colab": {
   "authorship_tag": "ABX9TyNEhvPWu0j0vU91DPms6JiE",
   "mount_file_id": "15G3VmicnJeJBb7EtZYRKjaJJy6TxeR7d",
   "name": "Neural networks.ipynb",
   "provenance": []
  },
  "kernelspec": {
   "display_name": "Python 3",
   "language": "python",
   "name": "python3"
  },
  "language_info": {
   "codemirror_mode": {
    "name": "ipython",
    "version": 3
   },
   "file_extension": ".py",
   "mimetype": "text/x-python",
   "name": "python",
   "nbconvert_exporter": "python",
   "pygments_lexer": "ipython3",
   "version": "3.9.6"
  }
 },
 "nbformat": 4,
 "nbformat_minor": 1
}
