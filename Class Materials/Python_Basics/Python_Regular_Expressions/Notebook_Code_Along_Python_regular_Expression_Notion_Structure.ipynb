{
 "cells": [
  {
   "cell_type": "code",
   "execution_count": 1,
   "metadata": {
    "executionInfo": {
     "elapsed": 807,
     "status": "ok",
     "timestamp": 1623223446761,
     "user": {
      "displayName": "Ignacio Soteras",
      "photoUrl": "",
      "userId": "02050793736257155229"
     },
     "user_tz": -120
    },
    "id": "_x_sNJ5ps0H6",
    "scrolled": true
   },
   "outputs": [],
   "source": [
    "import re"
   ]
  },
  {
   "cell_type": "markdown",
   "metadata": {
    "id": "klJEpQY6s0IC"
   },
   "source": [
    "### RegEx \n",
    "\n",
    "https://docs.python.org/3/library/re.html\n",
    "\n",
    "Functions:\n",
    "\n",
    "- `findall`\tReturns a list containing all matches\n",
    "- `search`\tReturns a Match object if there is a match anywhere in the string. If there is more than one match, only the first occurrence of the match will be returned.\n",
    "- `split`\tReturns a list where the string has been split at each match\n",
    "- `sub`\tReplaces one or many matches with a string"
   ]
  },
  {
   "cell_type": "code",
   "execution_count": 2,
   "metadata": {
    "executionInfo": {
     "elapsed": 267,
     "status": "ok",
     "timestamp": 1623223467839,
     "user": {
      "displayName": "Ignacio Soteras",
      "photoUrl": "",
      "userId": "02050793736257155229"
     },
     "user_tz": -120
    },
    "id": "zKl-BdcCs0ID"
   },
   "outputs": [],
   "source": [
    "my_string = \"Raul is a great TA, he deserves some holidays. Maybe in Raul would like to travel to Bahamas?\""
   ]
  },
  {
   "cell_type": "code",
   "execution_count": 3,
   "metadata": {
    "colab": {
     "base_uri": "https://localhost:8080/"
    },
    "executionInfo": {
     "elapsed": 618,
     "status": "ok",
     "timestamp": 1623223501174,
     "user": {
      "displayName": "Ignacio Soteras",
      "photoUrl": "",
      "userId": "02050793736257155229"
     },
     "user_tz": -120
    },
    "id": "EID-W-WGs0ID",
    "outputId": "eb12d157-3239-408a-b332-b1db05ee4b63"
   },
   "outputs": [
    {
     "data": {
      "text/plain": [
       "['Raul', 'Raul']"
      ]
     },
     "execution_count": 3,
     "metadata": {
      "tags": []
     },
     "output_type": "execute_result"
    }
   ],
   "source": [
    "# return all occurrances of 'Raul' using re.findall()\n",
    "\n",
    "re.findall(\"Raul\", my_string)"
   ]
  },
  {
   "cell_type": "code",
   "execution_count": 4,
   "metadata": {
    "colab": {
     "base_uri": "https://localhost:8080/"
    },
    "executionInfo": {
     "elapsed": 221,
     "status": "ok",
     "timestamp": 1623223581684,
     "user": {
      "displayName": "Ignacio Soteras",
      "photoUrl": "",
      "userId": "02050793736257155229"
     },
     "user_tz": -120
    },
    "id": "Ej5vzWVas0IE",
    "outputId": "5dac65a3-f5ea-4b17-cdfd-61dd00d0d92e",
    "scrolled": true
   },
   "outputs": [
    {
     "data": {
      "text/plain": [
       "['Raul is a great TA',\n",
       " ' he deserves some holidays. Maybe in Raul would like to travel to Bahamas?']"
      ]
     },
     "execution_count": 4,
     "metadata": {
      "tags": []
     },
     "output_type": "execute_result"
    }
   ],
   "source": [
    "# use re.split() to split my_string whenever there's a comma\n",
    "re.split(\",\", my_string)"
   ]
  },
  {
   "cell_type": "code",
   "execution_count": 5,
   "metadata": {
    "colab": {
     "base_uri": "https://localhost:8080/"
    },
    "executionInfo": {
     "elapsed": 232,
     "status": "ok",
     "timestamp": 1623223605928,
     "user": {
      "displayName": "Ignacio Soteras",
      "photoUrl": "",
      "userId": "02050793736257155229"
     },
     "user_tz": -120
    },
    "id": "ZXMdC0T-qmcH",
    "outputId": "72ba5bb4-3669-4290-e497-93ebdde5d0a9"
   },
   "outputs": [
    {
     "data": {
      "text/plain": [
       "['Raul is a great TA',\n",
       " ' he deserves some holidays. Maybe in Raul would like to travel to Bahamas?']"
      ]
     },
     "execution_count": 5,
     "metadata": {
      "tags": []
     },
     "output_type": "execute_result"
    }
   ],
   "source": [
    "my_string.split(\",\")"
   ]
  },
  {
   "cell_type": "code",
   "execution_count": 8,
   "metadata": {
    "executionInfo": {
     "elapsed": 223,
     "status": "ok",
     "timestamp": 1623223721978,
     "user": {
      "displayName": "Ignacio Soteras",
      "photoUrl": "",
      "userId": "02050793736257155229"
     },
     "user_tz": -120
    },
    "id": "6fY9oGjBs0IE"
   },
   "outputs": [],
   "source": [
    "# use re.sub() to replace \"TA\" by \"Teacher Assistant\"\n",
    "\n",
    "my_string = re.sub(\"TA\", \"Teacher Assistant\", my_string)"
   ]
  },
  {
   "cell_type": "code",
   "execution_count": 7,
   "metadata": {
    "colab": {
     "base_uri": "https://localhost:8080/",
     "height": 35
    },
    "executionInfo": {
     "elapsed": 232,
     "status": "ok",
     "timestamp": 1623223694922,
     "user": {
      "displayName": "Ignacio Soteras",
      "photoUrl": "",
      "userId": "02050793736257155229"
     },
     "user_tz": -120
    },
    "id": "gF8FDIMnq61w",
    "outputId": "539bded1-e2c4-49fa-8430-02e85bddab0f"
   },
   "outputs": [
    {
     "data": {
      "application/vnd.google.colaboratory.intrinsic+json": {
       "type": "string"
      },
      "text/plain": [
       "'Raul is a great Teacher Assistant, he deserves some holidays. Maybe in Raul would like to travel to Bahamas?'"
      ]
     },
     "execution_count": 7,
     "metadata": {
      "tags": []
     },
     "output_type": "execute_result"
    }
   ],
   "source": [
    "my_string.replace(\"TA\",\"Teacher Assistant\")"
   ]
  },
  {
   "cell_type": "code",
   "execution_count": 9,
   "metadata": {
    "colab": {
     "base_uri": "https://localhost:8080/",
     "height": 35
    },
    "executionInfo": {
     "elapsed": 223,
     "status": "ok",
     "timestamp": 1623223725330,
     "user": {
      "displayName": "Ignacio Soteras",
      "photoUrl": "",
      "userId": "02050793736257155229"
     },
     "user_tz": -120
    },
    "id": "cbSteb-Ls0IF",
    "outputId": "0134ee8b-69fa-4915-ba39-38024cfddb08"
   },
   "outputs": [
    {
     "data": {
      "application/vnd.google.colaboratory.intrinsic+json": {
       "type": "string"
      },
      "text/plain": [
       "'Raul is a great Teacher Assistant, he deserves some holidays. Maybe in Raul would like to travel to Bahamas?'"
      ]
     },
     "execution_count": 9,
     "metadata": {
      "tags": []
     },
     "output_type": "execute_result"
    }
   ],
   "source": [
    "my_string"
   ]
  },
  {
   "cell_type": "code",
   "execution_count": null,
   "metadata": {
    "id": "MqcWys53s0IF"
   },
   "outputs": [],
   "source": [
    "# use re.search() to find \"e\" in my_string. Explore the \"match object\" returned"
   ]
  },
  {
   "cell_type": "code",
   "execution_count": 10,
   "metadata": {
    "colab": {
     "base_uri": "https://localhost:8080/"
    },
    "executionInfo": {
     "elapsed": 239,
     "status": "ok",
     "timestamp": 1623223757189,
     "user": {
      "displayName": "Ignacio Soteras",
      "photoUrl": "",
      "userId": "02050793736257155229"
     },
     "user_tz": -120
    },
    "id": "V1hJ4oxnrL_M",
    "outputId": "efad4457-45ab-4249-966b-d557c7413227"
   },
   "outputs": [
    {
     "data": {
      "text/plain": [
       "True"
      ]
     },
     "execution_count": 10,
     "metadata": {
      "tags": []
     },
     "output_type": "execute_result"
    }
   ],
   "source": [
    "\"e\" in my_string"
   ]
  },
  {
   "cell_type": "code",
   "execution_count": 12,
   "metadata": {
    "colab": {
     "base_uri": "https://localhost:8080/"
    },
    "executionInfo": {
     "elapsed": 259,
     "status": "ok",
     "timestamp": 1623223791569,
     "user": {
      "displayName": "Ignacio Soteras",
      "photoUrl": "",
      "userId": "02050793736257155229"
     },
     "user_tz": -120
    },
    "id": "ubAgxwK9s0IF",
    "outputId": "4c85127c-e9e1-447b-f4ff-358b656b96e0"
   },
   "outputs": [
    {
     "data": {
      "text/plain": [
       "<re.Match object; span=(12, 13), match='e'>"
      ]
     },
     "execution_count": 12,
     "metadata": {
      "tags": []
     },
     "output_type": "execute_result"
    }
   ],
   "source": [
    "TA_match = re.search(\"e\", my_string)\n",
    "TA_match"
   ]
  },
  {
   "cell_type": "markdown",
   "metadata": {
    "id": "ZU6a751os0IF"
   },
   "source": [
    "**The Match object** has properties and methods used to retrieve information about the search, and the result:\n",
    "\n",
    "- `.span()` returns a tuple containing the start-, and end positions of the match.\n",
    "- `.string` returns the string passed into the function\n",
    "- `.group()` returns the part of the string where there was a match"
   ]
  },
  {
   "cell_type": "code",
   "execution_count": 13,
   "metadata": {
    "colab": {
     "base_uri": "https://localhost:8080/",
     "height": 35
    },
    "executionInfo": {
     "elapsed": 245,
     "status": "ok",
     "timestamp": 1623223838390,
     "user": {
      "displayName": "Ignacio Soteras",
      "photoUrl": "",
      "userId": "02050793736257155229"
     },
     "user_tz": -120
    },
    "id": "j0Obt3v-s0IG",
    "outputId": "45564bb0-8223-4ad4-f21d-ba28230fd21d"
   },
   "outputs": [
    {
     "data": {
      "application/vnd.google.colaboratory.intrinsic+json": {
       "type": "string"
      },
      "text/plain": [
       "'e'"
      ]
     },
     "execution_count": 13,
     "metadata": {
      "tags": []
     },
     "output_type": "execute_result"
    }
   ],
   "source": [
    "TA_match.group()"
   ]
  },
  {
   "cell_type": "markdown",
   "metadata": {
    "id": "9rdesEUZs0IG"
   },
   "source": [
    "### Metacharacters\n",
    "\n",
    "Some characters are special metacharacters, and don’t match themselves. Instead, they signal that some out-of-the-ordinary thing should be matched, or they affect other portions of the RE by repeating them or changing their meaning.\n",
    "\n",
    "` . ^ $ * + ? { } [ ] \\ | ( )`\n",
    "\n",
    " #### `[]` means set of characters:\n",
    " \n",
    " - `[abc]` will match any of the characters a, b, or c\n",
    " - `[a-c]` will do the same\n",
    " - `[a-z]` will match any lowercase letter"
   ]
  },
  {
   "cell_type": "code",
   "execution_count": 14,
   "metadata": {
    "executionInfo": {
     "elapsed": 247,
     "status": "ok",
     "timestamp": 1623223917164,
     "user": {
      "displayName": "Ignacio Soteras",
      "photoUrl": "",
      "userId": "02050793736257155229"
     },
     "user_tz": -120
    },
    "id": "1-Q-WLjQs0IG"
   },
   "outputs": [],
   "source": [
    "alphanumeric = \"4298fsfsDFGHv012rvv21v9\""
   ]
  },
  {
   "cell_type": "code",
   "execution_count": 15,
   "metadata": {
    "colab": {
     "base_uri": "https://localhost:8080/"
    },
    "executionInfo": {
     "elapsed": 241,
     "status": "ok",
     "timestamp": 1623223932376,
     "user": {
      "displayName": "Ignacio Soteras",
      "photoUrl": "",
      "userId": "02050793736257155229"
     },
     "user_tz": -120
    },
    "id": "i3RzLbBts0IH",
    "outputId": "a5d6d038-7fca-4ba7-b824-1997e98012e2"
   },
   "outputs": [
    {
     "data": {
      "text/plain": [
       "['f', 's', 'f', 's', 'D', 'F', 'G', 'H', 'v', 'r', 'v', 'v', 'v']"
      ]
     },
     "execution_count": 15,
     "metadata": {
      "tags": []
     },
     "output_type": "execute_result"
    }
   ],
   "source": [
    "re.findall(\"[A-z]\", alphanumeric)"
   ]
  },
  {
   "cell_type": "code",
   "execution_count": 16,
   "metadata": {
    "colab": {
     "base_uri": "https://localhost:8080/"
    },
    "executionInfo": {
     "elapsed": 230,
     "status": "ok",
     "timestamp": 1623223980410,
     "user": {
      "displayName": "Ignacio Soteras",
      "photoUrl": "",
      "userId": "02050793736257155229"
     },
     "user_tz": -120
    },
    "id": "7atpz1hysBz3",
    "outputId": "4d4dd8e5-b511-4a6d-8742-4b9ba7eb0e53"
   },
   "outputs": [
    {
     "data": {
      "text/plain": [
       "<re.Match object; span=(4, 5), match='f'>"
      ]
     },
     "execution_count": 16,
     "metadata": {
      "tags": []
     },
     "output_type": "execute_result"
    }
   ],
   "source": [
    "re.search(\"[A-z]\", alphanumeric)"
   ]
  },
  {
   "cell_type": "markdown",
   "metadata": {
    "id": "RfedeC9Ys0IH"
   },
   "source": [
    "#### `\\` Signals a special sequence (can also be used to escape special characters)"
   ]
  },
  {
   "cell_type": "code",
   "execution_count": 17,
   "metadata": {
    "colab": {
     "base_uri": "https://localhost:8080/"
    },
    "executionInfo": {
     "elapsed": 224,
     "status": "ok",
     "timestamp": 1623224086776,
     "user": {
      "displayName": "Ignacio Soteras",
      "photoUrl": "",
      "userId": "02050793736257155229"
     },
     "user_tz": -120
    },
    "id": "h8gBqoYss0IH",
    "outputId": "ef3dbc61-9ec7-41e7-d6b3-0da38cc3c5f5"
   },
   "outputs": [
    {
     "data": {
      "text/plain": [
       "['f', 'e', 'a', 'b', 'a', 'm', 'f', 'f', 'e']"
      ]
     },
     "execution_count": 17,
     "metadata": {
      "tags": []
     },
     "output_type": "execute_result"
    }
   ],
   "source": [
    "string_with_specials = \"fea8b21[a-m]39f fewv02\"\n",
    "re.findall(\"[a-m]\", string_with_specials)"
   ]
  },
  {
   "cell_type": "code",
   "execution_count": null,
   "metadata": {
    "id": "n_uRhmVctBkN"
   },
   "outputs": [],
   "source": [
    "#[ letter in string_with_specials for letter in ['a','b','c','d','e']]"
   ]
  },
  {
   "cell_type": "code",
   "execution_count": 18,
   "metadata": {
    "colab": {
     "base_uri": "https://localhost:8080/"
    },
    "executionInfo": {
     "elapsed": 221,
     "status": "ok",
     "timestamp": 1623224134044,
     "user": {
      "displayName": "Ignacio Soteras",
      "photoUrl": "",
      "userId": "02050793736257155229"
     },
     "user_tz": -120
    },
    "id": "1MtZMZpzs0IH",
    "outputId": "f7a98e92-da24-42a0-db04-e3051e3595db"
   },
   "outputs": [
    {
     "data": {
      "text/plain": [
       "['[a-m]']"
      ]
     },
     "execution_count": 18,
     "metadata": {
      "tags": []
     },
     "output_type": "execute_result"
    }
   ],
   "source": [
    "# use \\ to escape the square brackets\n",
    "re.findall(\"\\[a-m]\", string_with_specials)"
   ]
  },
  {
   "cell_type": "markdown",
   "metadata": {
    "id": "O8-hkdj3s0II"
   },
   "source": [
    "#### Some special sequences:\n",
    "\n",
    "- `\\A`- Returns a match if the specified characters are at the beginning of the string\n",
    "- `\\b` - Returns a match where the specified characters are at the beginning or at the end of a word\n",
    "- `\\d` - \tReturns a match where the string contains digits (numbers from 0-9) (`\\D` for where the string DOES NOT contain digits)\n",
    "- `\\s`- Returns a match where the string contains a white space character (`\\S` for where the string DOES NOT contain a white space)"
   ]
  },
  {
   "cell_type": "code",
   "execution_count": 19,
   "metadata": {
    "executionInfo": {
     "elapsed": 378,
     "status": "ok",
     "timestamp": 1623224344491,
     "user": {
      "displayName": "Ignacio Soteras",
      "photoUrl": "",
      "userId": "02050793736257155229"
     },
     "user_tz": -120
    },
    "id": "4kxWfyBfs0II"
   },
   "outputs": [],
   "source": [
    "strings = [\"there is this rat and there is that cat\", \n",
    "           \"if you capitalize this string you die\",\n",
    "           \"this is the end\"]"
   ]
  },
  {
   "cell_type": "code",
   "execution_count": 24,
   "metadata": {
    "colab": {
     "base_uri": "https://localhost:8080/"
    },
    "executionInfo": {
     "elapsed": 227,
     "status": "ok",
     "timestamp": 1623224575891,
     "user": {
      "displayName": "Ignacio Soteras",
      "photoUrl": "",
      "userId": "02050793736257155229"
     },
     "user_tz": -120
    },
    "id": "VCkUvcfns0II",
    "outputId": "c309bcc4-328a-4630-8766-f8d6e1720b3e"
   },
   "outputs": [
    {
     "name": "stdout",
     "output_type": "stream",
     "text": [
      "There is this rat and there is that cat\n",
      "if you capitalize this string you die\n",
      "This is the end\n"
     ]
    }
   ],
   "source": [
    "# Use a special sequence to capitalize the strings above without dying\n",
    "for string in strings:\n",
    "    print(re.sub(\"^t\", \"T\", string)) "
   ]
  },
  {
   "cell_type": "code",
   "execution_count": 25,
   "metadata": {
    "executionInfo": {
     "elapsed": 238,
     "status": "ok",
     "timestamp": 1623224598046,
     "user": {
      "displayName": "Ignacio Soteras",
      "photoUrl": "",
      "userId": "02050793736257155229"
     },
     "user_tz": -120
    },
    "id": "KgXDay6Vs0II"
   },
   "outputs": [],
   "source": [
    "some_nums = \"I have had 3 coffees this morning and I plan to drink 7 more\""
   ]
  },
  {
   "cell_type": "code",
   "execution_count": 26,
   "metadata": {
    "colab": {
     "base_uri": "https://localhost:8080/"
    },
    "executionInfo": {
     "elapsed": 6,
     "status": "ok",
     "timestamp": 1623224644848,
     "user": {
      "displayName": "Ignacio Soteras",
      "photoUrl": "",
      "userId": "02050793736257155229"
     },
     "user_tz": -120
    },
    "id": "RnKd3ErZs0II",
    "outputId": "5c8edf54-25ac-44a6-a7e7-ece195393bfc"
   },
   "outputs": [
    {
     "data": {
      "text/plain": [
       "['3', '7']"
      ]
     },
     "execution_count": 26,
     "metadata": {
      "tags": []
     },
     "output_type": "execute_result"
    }
   ],
   "source": [
    "# use a special sequence to find the numbers in the string above\n",
    "re.findall(\"\\d\", some_nums)"
   ]
  },
  {
   "cell_type": "code",
   "execution_count": null,
   "metadata": {
    "id": "oY18Tmv0s0IJ"
   },
   "outputs": [],
   "source": []
  },
  {
   "cell_type": "markdown",
   "metadata": {
    "id": "O3r1Aords0IJ"
   },
   "source": [
    "### `.`\tAny character (except newline character)\n",
    "### `*`\tZero or more occurences\n"
   ]
  },
  {
   "cell_type": "code",
   "execution_count": 27,
   "metadata": {
    "executionInfo": {
     "elapsed": 217,
     "status": "ok",
     "timestamp": 1623224670927,
     "user": {
      "displayName": "Ignacio Soteras",
      "photoUrl": "",
      "userId": "02050793736257155229"
     },
     "user_tz": -120
    },
    "id": "Am9Ma9dUs0IJ",
    "scrolled": true
   },
   "outputs": [],
   "source": [
    "similar_words = [\"hey\", \"hay\", \"how\", \"h i j k\", \"h\", \"ha\", \"oops\"]\n"
   ]
  },
  {
   "cell_type": "code",
   "execution_count": 31,
   "metadata": {
    "colab": {
     "base_uri": "https://localhost:8080/"
    },
    "executionInfo": {
     "elapsed": 261,
     "status": "ok",
     "timestamp": 1623224832293,
     "user": {
      "displayName": "Ignacio Soteras",
      "photoUrl": "",
      "userId": "02050793736257155229"
     },
     "user_tz": -120
    },
    "id": "6_Bwx-MJs0IJ",
    "outputId": "bafdd605-7f33-463b-bb30-f6dfb94b1d5e",
    "scrolled": true
   },
   "outputs": [
    {
     "name": "stdout",
     "output_type": "stream",
     "text": [
      "hey <re.Match object; span=(0, 2), match='he'>\n",
      "hay <re.Match object; span=(0, 2), match='ha'>\n",
      "how <re.Match object; span=(0, 2), match='ho'>\n",
      "h i j k <re.Match object; span=(0, 2), match='h '>\n",
      "h None\n",
      "ha <re.Match object; span=(0, 2), match='ha'>\n",
      "oops None\n"
     ]
    }
   ],
   "source": [
    "# use \".\" and \"*\" to return everything following an \"h\" (including the \"h\")\n",
    "for string in similar_words:\n",
    "    print(string, re.search(\"h.\",string))"
   ]
  },
  {
   "cell_type": "code",
   "execution_count": 32,
   "metadata": {
    "colab": {
     "base_uri": "https://localhost:8080/"
    },
    "executionInfo": {
     "elapsed": 228,
     "status": "ok",
     "timestamp": 1623224893810,
     "user": {
      "displayName": "Ignacio Soteras",
      "photoUrl": "",
      "userId": "02050793736257155229"
     },
     "user_tz": -120
    },
    "id": "zEVQEfolvh5P",
    "outputId": "3e18c988-c3f7-45c4-c9f2-7a13f3f98ba0"
   },
   "outputs": [
    {
     "name": "stdout",
     "output_type": "stream",
     "text": [
      "hey <re.Match object; span=(0, 1), match='h'>\n",
      "hay <re.Match object; span=(0, 1), match='h'>\n",
      "how <re.Match object; span=(0, 1), match='h'>\n",
      "h i j k <re.Match object; span=(0, 1), match='h'>\n",
      "h <re.Match object; span=(0, 1), match='h'>\n",
      "ha <re.Match object; span=(0, 1), match='h'>\n",
      "oops <re.Match object; span=(0, 0), match=''>\n"
     ]
    }
   ],
   "source": [
    "for string in similar_words:\n",
    "    print(string, re.search(\"h*\",string))"
   ]
  },
  {
   "cell_type": "code",
   "execution_count": 33,
   "metadata": {
    "executionInfo": {
     "elapsed": 238,
     "status": "ok",
     "timestamp": 1623224907069,
     "user": {
      "displayName": "Ignacio Soteras",
      "photoUrl": "",
      "userId": "02050793736257155229"
     },
     "user_tz": -120
    },
    "id": "iq4BHxDws0IJ"
   },
   "outputs": [],
   "source": [
    "stupid_string = [\"yessss\", \"yes\", \"yeah\", \"yep\", \"ye\", \"no\", \"nothing\"]"
   ]
  },
  {
   "cell_type": "code",
   "execution_count": 42,
   "metadata": {
    "colab": {
     "base_uri": "https://localhost:8080/"
    },
    "executionInfo": {
     "elapsed": 244,
     "status": "ok",
     "timestamp": 1623225245223,
     "user": {
      "displayName": "Ignacio Soteras",
      "photoUrl": "",
      "userId": "02050793736257155229"
     },
     "user_tz": -120
    },
    "id": "E3g6JM0Ss0IJ",
    "outputId": "4724cf54-8b08-4f85-f02e-34ff4c284b01",
    "scrolled": true
   },
   "outputs": [
    {
     "name": "stdout",
     "output_type": "stream",
     "text": [
      "yes\n",
      "yes\n",
      "yes\n",
      "yes\n",
      "yes\n",
      "no\n",
      "nothing\n"
     ]
    }
   ],
   "source": [
    "# replace all affirmative strings with \"yes\"\n",
    "for string in stupid_string:\n",
    "    print(re.sub(\"y.*\",\"yes\",string))"
   ]
  },
  {
   "cell_type": "code",
   "execution_count": null,
   "metadata": {
    "id": "96GeTeB5s0IJ"
   },
   "outputs": [],
   "source": [
    "new_stupid_string"
   ]
  },
  {
   "cell_type": "markdown",
   "metadata": {
    "id": "8PshFRBus0IK"
   },
   "source": [
    "### `+`One or more occurrences"
   ]
  },
  {
   "cell_type": "code",
   "execution_count": 44,
   "metadata": {
    "colab": {
     "base_uri": "https://localhost:8080/",
     "height": 35
    },
    "executionInfo": {
     "elapsed": 224,
     "status": "ok",
     "timestamp": 1623225368221,
     "user": {
      "displayName": "Ignacio Soteras",
      "photoUrl": "",
      "userId": "02050793736257155229"
     },
     "user_tz": -120
    },
    "id": "nq-JbDWNs0IK",
    "outputId": "77b5deb3-667d-45cf-b930-eaf853b094a9"
   },
   "outputs": [
    {
     "data": {
      "application/vnd.google.colaboratory.intrinsic+json": {
       "type": "string"
      },
      "text/plain": [
       "'I have too many spaces'"
      ]
     },
     "execution_count": 44,
     "metadata": {
      "tags": []
     },
     "output_type": "execute_result"
    }
   ],
   "source": [
    "# use re.sub() together with + to fix the occurrance of too many whitespaces\n",
    "spaces = \"I   have too   many     spaces\"\n",
    "#re.sub(\" {1,}\",\" \",spaces)\n",
    "re.sub(\" +\",\" \",spaces)"
   ]
  },
  {
   "cell_type": "markdown",
   "metadata": {
    "id": "SPHomGgDs0IK"
   },
   "source": [
    "### `{}`- Exactly the specified number of occurrences"
   ]
  },
  {
   "cell_type": "code",
   "execution_count": 45,
   "metadata": {
    "colab": {
     "base_uri": "https://localhost:8080/",
     "height": 35
    },
    "executionInfo": {
     "elapsed": 220,
     "status": "ok",
     "timestamp": 1623225418396,
     "user": {
      "displayName": "Ignacio Soteras",
      "photoUrl": "",
      "userId": "02050793736257155229"
     },
     "user_tz": -120
    },
    "id": "uCLJ1iDus0IK",
    "outputId": "0eeba5a6-70a2-468a-83ed-6cb34e8b6db3"
   },
   "outputs": [
    {
     "data": {
      "application/vnd.google.colaboratory.intrinsic+json": {
       "type": "string"
      },
      "text/plain": [
       "'I have a lot of spaces here but this is too much'"
      ]
     },
     "execution_count": 45,
     "metadata": {
      "tags": []
     },
     "output_type": "execute_result"
    }
   ],
   "source": [
    "# we only want to fix spaces if there are more than 4\n",
    "spaces2 = \"I   have a  lot   of     spaces here   but                this is too much\"\n",
    "re.sub(\" {1,}\",\" \",spaces2)"
   ]
  },
  {
   "cell_type": "code",
   "execution_count": 46,
   "metadata": {
    "colab": {
     "base_uri": "https://localhost:8080/",
     "height": 35
    },
    "executionInfo": {
     "elapsed": 243,
     "status": "ok",
     "timestamp": 1623225450132,
     "user": {
      "displayName": "Ignacio Soteras",
      "photoUrl": "",
      "userId": "02050793736257155229"
     },
     "user_tz": -120
    },
    "id": "YIGnA8RnxqPD",
    "outputId": "0b3e237d-b7cd-4d06-fe10-570b4755f4ab"
   },
   "outputs": [
    {
     "data": {
      "application/vnd.google.colaboratory.intrinsic+json": {
       "type": "string"
      },
      "text/plain": [
       "'I have a lot of  spaces here but      this is too much'"
      ]
     },
     "execution_count": 46,
     "metadata": {
      "tags": []
     },
     "output_type": "execute_result"
    }
   ],
   "source": [
    "re.sub(\" {1,3}\",\" \",spaces2)"
   ]
  },
  {
   "cell_type": "code",
   "execution_count": 48,
   "metadata": {
    "colab": {
     "base_uri": "https://localhost:8080/",
     "height": 35
    },
    "executionInfo": {
     "elapsed": 222,
     "status": "ok",
     "timestamp": 1623225549578,
     "user": {
      "displayName": "Ignacio Soteras",
      "photoUrl": "",
      "userId": "02050793736257155229"
     },
     "user_tz": -120
    },
    "id": "zy4cL4O4x000",
    "outputId": "2f2b6dc6-6478-459a-ae2e-a35bd7d44b11"
   },
   "outputs": [
    {
     "data": {
      "application/vnd.google.colaboratory.intrinsic+json": {
       "type": "string"
      },
      "text/plain": [
       "'I have a lot of  spaces here but      this is too much'"
      ]
     },
     "execution_count": 48,
     "metadata": {
      "tags": []
     },
     "output_type": "execute_result"
    }
   ],
   "source": [
    "re.sub(\"( {1,3}| {1,4})\",\" \",spaces2)"
   ]
  },
  {
   "cell_type": "markdown",
   "metadata": {
    "id": "Tzxj0kkps0IK"
   },
   "source": [
    "### `^`- Starts with"
   ]
  },
  {
   "cell_type": "code",
   "execution_count": 58,
   "metadata": {
    "colab": {
     "base_uri": "https://localhost:8080/"
    },
    "executionInfo": {
     "elapsed": 222,
     "status": "ok",
     "timestamp": 1623225902353,
     "user": {
      "displayName": "Ignacio Soteras",
      "photoUrl": "",
      "userId": "02050793736257155229"
     },
     "user_tz": -120
    },
    "id": "tKKtyomhs0IK",
    "outputId": "6e2d4a2d-8a63-47a6-eef5-cfa8c621a755",
    "scrolled": true
   },
   "outputs": [
    {
     "name": "stdout",
     "output_type": "stream",
     "text": [
      "[]\n",
      "[]\n",
      "['apple ']\n",
      "[]\n",
      "['asparagus are ']\n",
      "[]\n"
     ]
    }
   ],
   "source": [
    "# print all veggies that start with a\n",
    "veggies = [\"tomato\", \"potato\", \"apple juice\",\n",
    "           \"pear\", \"asparagus are tasty\", \"peach\"]\n",
    "\n",
    "for veggi in veggies:\n",
    "    print(re.findall(\"^a.* \",veggi))"
   ]
  },
  {
   "cell_type": "markdown",
   "metadata": {
    "id": "uZ8ob5OUs0IL"
   },
   "source": [
    "### `()`Group a regular expression, so that you can use regex operators on it..."
   ]
  },
  {
   "cell_type": "code",
   "execution_count": 55,
   "metadata": {
    "executionInfo": {
     "elapsed": 335,
     "status": "ok",
     "timestamp": 1623225826104,
     "user": {
      "displayName": "Ignacio Soteras",
      "photoUrl": "",
      "userId": "02050793736257155229"
     },
     "user_tz": -120
    },
    "id": "4_5xkSJBs0IL"
   },
   "outputs": [],
   "source": [
    "ratsandcats = \"there is this rat and there is that cat\""
   ]
  },
  {
   "cell_type": "code",
   "execution_count": 62,
   "metadata": {
    "colab": {
     "base_uri": "https://localhost:8080/"
    },
    "executionInfo": {
     "elapsed": 218,
     "status": "ok",
     "timestamp": 1623225980031,
     "user": {
      "displayName": "Ignacio Soteras",
      "photoUrl": "",
      "userId": "02050793736257155229"
     },
     "user_tz": -120
    },
    "id": "uwYYgQxds0IL",
    "outputId": "cfbabf3d-3ad8-4ef2-c715-3af525e74773"
   },
   "outputs": [
    {
     "data": {
      "text/plain": [
       "['there', 'this', 'there', 'that']"
      ]
     },
     "execution_count": 62,
     "metadata": {
      "tags": []
     },
     "output_type": "execute_result"
    }
   ],
   "source": [
    "# find all words that either start with t or end with t\n",
    "re.findall(r\"\\bt\\S*\", ratsandcats)"
   ]
  },
  {
   "cell_type": "code",
   "execution_count": 63,
   "metadata": {
    "colab": {
     "base_uri": "https://localhost:8080/"
    },
    "executionInfo": {
     "elapsed": 234,
     "status": "ok",
     "timestamp": 1623225982602,
     "user": {
      "displayName": "Ignacio Soteras",
      "photoUrl": "",
      "userId": "02050793736257155229"
     },
     "user_tz": -120
    },
    "id": "DjP7vxtrs0IL",
    "outputId": "07d6d269-a009-47cd-cadd-4ce0a1275cb4",
    "scrolled": false
   },
   "outputs": [
    {
     "data": {
      "text/plain": [
       "['rat', 'that', 'cat']"
      ]
     },
     "execution_count": 63,
     "metadata": {
      "tags": []
     },
     "output_type": "execute_result"
    }
   ],
   "source": [
    "re.findall(r\"\\S*t\\b\", ratsandcats)"
   ]
  },
  {
   "cell_type": "code",
   "execution_count": 64,
   "metadata": {
    "executionInfo": {
     "elapsed": 229,
     "status": "ok",
     "timestamp": 1623225994026,
     "user": {
      "displayName": "Ignacio Soteras",
      "photoUrl": "",
      "userId": "02050793736257155229"
     },
     "user_tz": -120
    },
    "id": "RB8-W56ts0IL",
    "scrolled": true
   },
   "outputs": [],
   "source": [
    "t_words = re.findall(r\"(\\bt\\S*)|(\\S*t\\b)\", ratsandcats)"
   ]
  },
  {
   "cell_type": "code",
   "execution_count": 65,
   "metadata": {
    "colab": {
     "base_uri": "https://localhost:8080/"
    },
    "executionInfo": {
     "elapsed": 234,
     "status": "ok",
     "timestamp": 1623225995378,
     "user": {
      "displayName": "Ignacio Soteras",
      "photoUrl": "",
      "userId": "02050793736257155229"
     },
     "user_tz": -120
    },
    "id": "3lOlYL-Ls0IL",
    "outputId": "3e2a9173-d7db-4daa-8fb1-f65aca490c45"
   },
   "outputs": [
    {
     "data": {
      "text/plain": [
       "[('there', ''),\n",
       " ('this', ''),\n",
       " ('', 'rat'),\n",
       " ('there', ''),\n",
       " ('that', ''),\n",
       " ('', 'cat')]"
      ]
     },
     "execution_count": 65,
     "metadata": {
      "tags": []
     },
     "output_type": "execute_result"
    }
   ],
   "source": [
    "t_words"
   ]
  },
  {
   "cell_type": "code",
   "execution_count": 66,
   "metadata": {
    "colab": {
     "base_uri": "https://localhost:8080/"
    },
    "executionInfo": {
     "elapsed": 230,
     "status": "ok",
     "timestamp": 1623226017584,
     "user": {
      "displayName": "Ignacio Soteras",
      "photoUrl": "",
      "userId": "02050793736257155229"
     },
     "user_tz": -120
    },
    "id": "jlcuKr_xs0IL",
    "outputId": "71501329-0177-4736-ed76-de80905366c0"
   },
   "outputs": [
    {
     "data": {
      "text/plain": [
       "['there', 'this', 'rat', 'there', 'that', 'cat']"
      ]
     },
     "execution_count": 66,
     "metadata": {
      "tags": []
     },
     "output_type": "execute_result"
    }
   ],
   "source": [
    "[i[0]+i[1] for i in t_words]"
   ]
  },
  {
   "cell_type": "code",
   "execution_count": null,
   "metadata": {
    "id": "8WnCnKers0IM"
   },
   "outputs": [],
   "source": []
  },
  {
   "cell_type": "markdown",
   "metadata": {
    "id": "U1rxr8bzs0IM"
   },
   "source": [
    "### Some exercises"
   ]
  },
  {
   "cell_type": "code",
   "execution_count": 67,
   "metadata": {
    "executionInfo": {
     "elapsed": 216,
     "status": "ok",
     "timestamp": 1623226028545,
     "user": {
      "displayName": "Ignacio Soteras",
      "photoUrl": "",
      "userId": "02050793736257155229"
     },
     "user_tz": -120
    },
    "id": "2uvSy9sps0IM"
   },
   "outputs": [],
   "source": [
    "poke = \"VenusaurMega Venusaur\""
   ]
  },
  {
   "cell_type": "code",
   "execution_count": null,
   "metadata": {
    "id": "mM9BNuccs0IM"
   },
   "outputs": [],
   "source": []
  },
  {
   "cell_type": "code",
   "execution_count": 69,
   "metadata": {
    "executionInfo": {
     "elapsed": 236,
     "status": "ok",
     "timestamp": 1623226182793,
     "user": {
      "displayName": "Ignacio Soteras",
      "photoUrl": "",
      "userId": "02050793736257155229"
     },
     "user_tz": -120
    },
    "id": "ptxmfKBAs0IM"
   },
   "outputs": [],
   "source": [
    "# Capitalize all strings and words that come after special characters like : or ?\n",
    "\n",
    "quotes = [\"work hard all day, all days\", \n",
    "          \"There are 3 types of people: those who can count and those who can't\",\n",
    "          \"Nice to be nice\",\n",
    "          \"Some people feel the rain, others just get wet\",\n",
    "          \"could you complete the exercise? wow\"\n",
    "         ]"
   ]
  },
  {
   "cell_type": "code",
   "execution_count": 91,
   "metadata": {
    "colab": {
     "base_uri": "https://localhost:8080/"
    },
    "executionInfo": {
     "elapsed": 227,
     "status": "ok",
     "timestamp": 1623228746229,
     "user": {
      "displayName": "Ignacio Soteras",
      "photoUrl": "",
      "userId": "02050793736257155229"
     },
     "user_tz": -120
    },
    "id": "PFwAqhpis0IM",
    "outputId": "7474eaeb-3a08-4888-9678-e97c197a1ee1"
   },
   "outputs": [
    {
     "name": "stdout",
     "output_type": "stream",
     "text": [
      "work hard all day, all days\n",
      "There are 3 types of people : THOSE WHO CAN COUNT AND THOSE WHO CAN'T\n",
      "Nice to be nice\n",
      "Some people feel the rain, others just get wet\n",
      "could you complete the exercise ? WOW\n"
     ]
    }
   ],
   "source": [
    "# Look for a match and if there is any, look in which index of the string it is and then capitalize.\n",
    "# Split\n",
    "# Capitalize\n",
    "# Join\n",
    "\n",
    "for quote in quotes:\n",
    "    if ( re.search(\"(\\:|\\?) \\w.*\",quote) ):\n",
    "        our_list = re.split(\"(\\:|\\?) \",quote) \n",
    "        #our_list.pop(1)\n",
    "        our_list[2] = our_list[2].capitalize()\n",
    "        #our_list[2] = our_list[2].upper()\n",
    "        our_string = \" \".join(our_list)\n",
    "        print(our_string)\n",
    "        #print(re.search(\"(\\:|\\?) \\w.*\",quote))\n",
    "    else:\n",
    "        print(quote)"
   ]
  },
  {
   "cell_type": "markdown",
   "metadata": {
    "id": "1WWu7aw_s0IM"
   },
   "source": [
    "### `?` Makes the preceeding expression optional"
   ]
  },
  {
   "cell_type": "code",
   "execution_count": null,
   "metadata": {
    "id": "BSd0PEq2s0IM"
   },
   "outputs": [],
   "source": [
    "color = \"British people say colour but Americans say color\""
   ]
  },
  {
   "cell_type": "code",
   "execution_count": null,
   "metadata": {
    "id": "Y8hboIjTs0IN"
   },
   "outputs": [],
   "source": []
  },
  {
   "cell_type": "markdown",
   "metadata": {
    "id": "9SdBdKgxs0IN"
   },
   "source": [
    "#### Raw text\n",
    "\n",
    "Prevents built-in python especial characters to mess with regular expressions"
   ]
  },
  {
   "cell_type": "code",
   "execution_count": null,
   "metadata": {
    "id": "ti7LeoM3s0IN"
   },
   "outputs": [],
   "source": [
    "print(\"\\tbefore this sentence there is a large whitespace, known as tab\")"
   ]
  },
  {
   "cell_type": "code",
   "execution_count": null,
   "metadata": {
    "id": "Nw8IyzMCs0IN",
    "scrolled": true
   },
   "outputs": [],
   "source": [
    "print(r\"\\bI don't have a tab anymore\")"
   ]
  },
  {
   "cell_type": "markdown",
   "metadata": {
    "id": "nwGLmtNRs0IN"
   },
   "source": [
    "#### Compiling the regex expression to reuse it"
   ]
  },
  {
   "cell_type": "code",
   "execution_count": 92,
   "metadata": {
    "executionInfo": {
     "elapsed": 231,
     "status": "ok",
     "timestamp": 1623228799109,
     "user": {
      "displayName": "Ignacio Soteras",
      "photoUrl": "",
      "userId": "02050793736257155229"
     },
     "user_tz": -120
    },
    "id": "C5zolo1as0IN"
   },
   "outputs": [],
   "source": [
    "pattern = re.compile(r\"abc\")"
   ]
  },
  {
   "cell_type": "code",
   "execution_count": 93,
   "metadata": {
    "colab": {
     "base_uri": "https://localhost:8080/"
    },
    "executionInfo": {
     "elapsed": 240,
     "status": "ok",
     "timestamp": 1623228809793,
     "user": {
      "displayName": "Ignacio Soteras",
      "photoUrl": "",
      "userId": "02050793736257155229"
     },
     "user_tz": -120
    },
    "id": "Sm2cvALms0IN",
    "outputId": "83963f5a-b381-49a2-dfbd-05278ce72f9c"
   },
   "outputs": [
    {
     "data": {
      "text/plain": [
       "['abc']"
      ]
     },
     "execution_count": 93,
     "metadata": {
      "tags": []
     },
     "output_type": "execute_result"
    }
   ],
   "source": [
    "re.findall(pattern, \"oiwejabcoiqwefj\")"
   ]
  },
  {
   "cell_type": "markdown",
   "metadata": {
    "id": "L7rDvC4bs0IO"
   },
   "source": [
    "### Using regex in pandas dataframes"
   ]
  },
  {
   "cell_type": "code",
   "execution_count": 94,
   "metadata": {
    "executionInfo": {
     "elapsed": 225,
     "status": "ok",
     "timestamp": 1623228832997,
     "user": {
      "displayName": "Ignacio Soteras",
      "photoUrl": "",
      "userId": "02050793736257155229"
     },
     "user_tz": -120
    },
    "id": "fvObqUwLs0IO"
   },
   "outputs": [],
   "source": [
    "import pandas as pd"
   ]
  },
  {
   "cell_type": "code",
   "execution_count": 96,
   "metadata": {
    "executionInfo": {
     "elapsed": 252,
     "status": "ok",
     "timestamp": 1623228925418,
     "user": {
      "displayName": "Ignacio Soteras",
      "photoUrl": "",
      "userId": "02050793736257155229"
     },
     "user_tz": -120
    },
    "id": "-jUuLfs2s0IO"
   },
   "outputs": [],
   "source": [
    "name = [\"YIDI CHI\",\"Nick Deitmers\",\"Erik Termes\",\"Carla Feriche\",\"Víctor López\",\"Marc Sarrau\",\"Reka Varga\",\"Oscar Tomás\",\"Anna Fonte\" ,\"Pol Serramalera\",\"André Santa Clara\",\"Miguel Simon\",\"Miguel Chacón\",\"Áine Gates\",\"Alex Gómez\",\"Daria Gavrilova\",\"Raul Castrillo\",\"Sergio Monge\",\"Filipe Santos\",\"Sara Peña\",\"Maria Gonzalez\",\"Pau Sancho\",\"Arnau Angerri\",\"Jorge 'Yuyu' Gonzalez\",\"Toni Espadas\"]\n",
    "favourite_animal = [\"dog\", \"Dolphin\", \"Cats\", \"Elephant\", \"Tiger\", \"I love the tropical fish when scubbadiving\", \"Panda\", \"Wolf\", \"Fish\", \"Otter\", \"Orca\", \"Tiger\", \"Nan\", \"Nan\", \"Squirrel\", \"None\", \"ants\", \"Chimp\", \"tiger\", \"Dog\", \"Panda\", \"cat\", \"Eagle\", \"Dog\", \"Hippogriff\"]\n",
    "coronavirus = [0,1,0,0,0,0,0,0,0,0,0,0,\"NaN\",\"NaN\",0,0,0,0,0,0,0,0,0,0,0]\n",
    "drive_license = ['B','B','B','B','None','B','B','B','B','A1,B','B','B','NaN','NaN','AM, B','B','A','B','B','None','B','B','B','B','B']\n",
    "Heights = [163, 185, 182, 170, 171, 183, 161, 178, 168, 178, 179, 185, \"N/A\", \"N/A\", 187, 165, 178, 181, 169, 170, 164 ,178, 172, 175, 174]\n",
    "Own_vehicle=[0,1,1,1,0,0,0,0,0,1,1,1,None,None,1,1,1,1,0,0,0,1,1,0,1]\n",
    "favourite_food = [\"Japanese\", \"Indian\", \"Spanish\", \"Pasta\", \"Everything\", \"Everything\", \"Curry\", \"burger\", \"Cheese\", \"Mediterranean\", \"Mexican\", \"Mexican\", \"Nan\", \"Nan\", \"Seafood pasta\", \"Burger\", \"Steak\", \"Sushi\", \"Picanha\", \"Ajiaco\", \"sushi\", \"sushi\", \"Catalan\", \"Octopus\", \"Burger\"]\n",
    "nicest_TA = [\"Mar\",\"Pol\",\"Javi\",\"Mar\",\"Mar\",\"Can't decide\",\"Mar\",\"Javi\",\"Pol\",\"Mar\",\"Javi\",\"Javi\", \" \",\" \",\"Mar\",\"Mar\",\"Sea\",\"Pol\",\"trying to find out\",\"Mar\",\"Javi\",\"Pol\",\"Javi\",\"Javi\",\"Mar\"] \n",
    "beers_consumed_last_Ironbeers = [0, 4, 4-5, 0, 1, 0, 0, 0, 4, 0, 4, 3, 0, 0, 1, 0, 2, 5, \"too many to be counted\", 3, 4, 0, \"NaN\", 4, 2]\n",
    "pets=[0,1,1,1,1,0,0,0,0,0,0,0,0,\"none\",0,0,1,0,0,1,0,1,0,0,0]\n",
    "film_genre = [\"Comedy\",\"Action\",\"Thriller\",\"Comedy\",\"Thriller\",\"Horror, Suspense, Comedy\",\"Comedy\",\"Drama\",\"Drama\",\"Thriller\",\"Comedy\",\"Horror\",\"Horror\",\"Null\",\"Comedy\",\"Action\",\"Thriller\",\"Action\",\"Action\",\"Drama\",\"Action\",\"Thriller\",\"Cience Fiction\",\"Action\",\"Adventure\"]\n",
    "sex_week = [\"NaN\",\"No\",\"Wrote some sexy code.\",\"Nan\",\"Yes\",\"No\",\"Yes\",\"No\",\"No\",\"Yes\",\"Yes, with code. Python love\",\"yeah baby\",\"Nan\",\"NaN\",\"Yes\",\"yeap\",\"Yes\",\"NaN\",\"NaN\",\"lots\", \"plenty\", \"not yet\",\"Kind of\",\"No\",\"NaN\"]\n",
    "Siblings= [1, 2, 1, 2, 1, 3, 2, 1 ,0, 3, 2, 1, None, None, 1, 2, 2, 1, 1, 2, 1, 0, 2, 0, 1]\n",
    "favourite_season = [\"Spring\", \"Summer\", \"Summer\", \"Spring\", \"Autumn\", \"Spring\", \"Spring\", \"Winter\", \"Spring\", \"Spring\", \"Summer\", \"Spring\", \"\", \"\", \"Summer\", \"Winter\", \"Spring\", \"Summer\", \"Summer\", \"Spring\", \"Summer\", \"Autumn\", \"Spring\", \"Summer\", \"Spring\"]\n",
    "coffee = [1, 0, 3, 0, 0, 0, 2, 1, 3, 0, 3, 0, \"NaN\", \"NaN\", 0, 1, 1, 1, 4, 0, 2, 2, 3, 2, 0]\n",
    "crush_javi = [\"nan\", \"Yeah\", \"nan\", \"nan\", \"Pythonically\",\"That accent tho, talk dirty to me\", \"No\", \"nan\",\"Encoded answer\", \"Too young for me\", \"Yes\", \"Since the first day\", \"nan\", \"nan\", \"Not yet\", \"nan\", \"Of course\", \"nan\", \"nan\", \"can't help it\",\"Of course\", \"No\", \"Platonicaly\", \"nan\", \"nan\"]\n",
    "sports_per_week = [3, 3, \"6 usually, 4 in bootcamp\", 2, 1, \"It depends\", 4, 4, 0, 3, 3, 3, \"NaN\", \"NaN\", 3, 0, 0, 3, 3,3, 5, 2, 3, 4, 3]\n",
    "ironbeers = ['no', 'Yes', 'Yes', 'No', 'Virtual', 'Nothing', 'nothing', 'no', 'Yes', 'No', 'Yes', 'Yes', 'Yes', 'NaN', 'Virtual', 'no', 'Virtual', 'Yes', '0', 'Yes', 'Yes', 'No', 'YES, I cleaned the mess', 'Yes', 'Yes']\n",
    "football_team = ['None','Real Madrid','FCB','RCDE','Sant Andreu','None','FCB','None','FCB','RCD ESPANYOL','Benfica','Sabadell','Steelers','','FC Barcelona','None','Atletico de Madrid','Fc Barcelona','Benfica','None','None','F.C. Barcelona','FC Barcelona','FC Barcelona','Referee VAR Team']\n",
    "sex_partners = [\"N/A\", 12, 99, 1, 1, 1, 99, 31, 10, 20, 69, 40, 69, \"N/A\", 4, 1, \"N/A\", 7, 31, 6, 1, 2, 3245, 1, \"N/A\"]\n",
    "Favourite_sport = ['swim', 'Kitesurf', 'Muay Thai & MMA', 'Basket', 'Football', 'Artistic Rollerskating', 'Cycling', 'Ski', 'Swimming', 'Surf', 'Surf', 'Mountain hike', None, None, 'Padel', 'Mountain Ski', 'Football', 'Football', 'Football', 'Cycling', 'Yoga', 'quidditch', 'Football', 'Hiking', 'Quidditch']\n",
    "music_genre= [\"Pop\",\"Hip Hop\",\"Techno, Rock, Rap\",\"Deep house\",\"Hip Hop\",\"EDM, Tropical House, Pop\",\"NaN\",\"Techno\",\"Flamenco\",\"Hip Hop\",\"Disney\",\"Trap\",\"Hip Hop\",\"NaN\",\"Pop\",\"Electronic\",\"NaN\",\"Punk-rock,Hip Hop\",\"Reggaeton\",\"Gospel\",\"Pop\" ,\"Jazz\",\"Techno,Hard-rock\",\"Pop-rock\",\"Classical Music\"]"
   ]
  },
  {
   "cell_type": "code",
   "execution_count": 107,
   "metadata": {
    "executionInfo": {
     "elapsed": 225,
     "status": "ok",
     "timestamp": 1623229787609,
     "user": {
      "displayName": "Ignacio Soteras",
      "photoUrl": "",
      "userId": "02050793736257155229"
     },
     "user_tz": -120
    },
    "id": "0gDRLfQEs0IR"
   },
   "outputs": [],
   "source": [
    "data_analysts = pd.DataFrame({\n",
    "    \"names\":name,\n",
    "    \"favourite_animal\":favourite_animal,\n",
    "    \"coronavirus\":coronavirus,\n",
    "    \"drive_license\":drive_license,\n",
    "    \"Heights\":Heights,\n",
    "    \"Own_vehicle\":Own_vehicle,\n",
    "    \"favourite_food\":favourite_food,\n",
    "    \"nicest_TA\":nicest_TA,\n",
    "    \"beers_consumed\":beers_consumed_last_Ironbeers,\n",
    "    \"pets\":pets,\n",
    "    \"film_genre\":film_genre,\n",
    "    \"sex_week\":sex_week,\n",
    "    \"Siblings\":Siblings,\n",
    "    \"favourite_season\":favourite_season,\n",
    "    \"coffee\":coffee,\n",
    "    \"crush_javi\":crush_javi,\n",
    "    \"sports_per_week\":sports_per_week,\n",
    "    \"ironbeers\":ironbeers,\n",
    "    \"football_team\":football_team,\n",
    "    \"sex_partners\":sex_partners,\n",
    "    \"Favourite_sport\":Favourite_sport,\n",
    "    \"music_genre\":music_genre\n",
    "})"
   ]
  },
  {
   "cell_type": "code",
   "execution_count": 108,
   "metadata": {
    "colab": {
     "base_uri": "https://localhost:8080/",
     "height": 305
    },
    "executionInfo": {
     "elapsed": 231,
     "status": "ok",
     "timestamp": 1623229791077,
     "user": {
      "displayName": "Ignacio Soteras",
      "photoUrl": "",
      "userId": "02050793736257155229"
     },
     "user_tz": -120
    },
    "id": "0J63lh-b--dp",
    "outputId": "797c9cb2-7a8a-4433-b3a9-1364f6fc9a1a"
   },
   "outputs": [
    {
     "data": {
      "text/html": [
       "<div>\n",
       "<style scoped>\n",
       "    .dataframe tbody tr th:only-of-type {\n",
       "        vertical-align: middle;\n",
       "    }\n",
       "\n",
       "    .dataframe tbody tr th {\n",
       "        vertical-align: top;\n",
       "    }\n",
       "\n",
       "    .dataframe thead th {\n",
       "        text-align: right;\n",
       "    }\n",
       "</style>\n",
       "<table border=\"1\" class=\"dataframe\">\n",
       "  <thead>\n",
       "    <tr style=\"text-align: right;\">\n",
       "      <th></th>\n",
       "      <th>names</th>\n",
       "      <th>favourite_animal</th>\n",
       "      <th>coronavirus</th>\n",
       "      <th>drive_license</th>\n",
       "      <th>Heights</th>\n",
       "      <th>Own_vehicle</th>\n",
       "      <th>favourite_food</th>\n",
       "      <th>nicest_TA</th>\n",
       "      <th>beers_consumed</th>\n",
       "      <th>pets</th>\n",
       "      <th>film_genre</th>\n",
       "      <th>sex_week</th>\n",
       "      <th>Siblings</th>\n",
       "      <th>favourite_season</th>\n",
       "      <th>coffee</th>\n",
       "      <th>crush_javi</th>\n",
       "      <th>sports_per_week</th>\n",
       "      <th>ironbeers</th>\n",
       "      <th>football_team</th>\n",
       "      <th>sex_partners</th>\n",
       "      <th>Favourite_sport</th>\n",
       "      <th>music_genre</th>\n",
       "    </tr>\n",
       "  </thead>\n",
       "  <tbody>\n",
       "    <tr>\n",
       "      <th>0</th>\n",
       "      <td>YIDI CHI</td>\n",
       "      <td>dog</td>\n",
       "      <td>0</td>\n",
       "      <td>B</td>\n",
       "      <td>163</td>\n",
       "      <td>0.0</td>\n",
       "      <td>Japanese</td>\n",
       "      <td>Mar</td>\n",
       "      <td>0</td>\n",
       "      <td>0</td>\n",
       "      <td>Comedy</td>\n",
       "      <td>NaN</td>\n",
       "      <td>1.0</td>\n",
       "      <td>Spring</td>\n",
       "      <td>1</td>\n",
       "      <td>nan</td>\n",
       "      <td>3</td>\n",
       "      <td>no</td>\n",
       "      <td>None</td>\n",
       "      <td>N/A</td>\n",
       "      <td>swim</td>\n",
       "      <td>Pop</td>\n",
       "    </tr>\n",
       "    <tr>\n",
       "      <th>1</th>\n",
       "      <td>Nick Deitmers</td>\n",
       "      <td>Dolphin</td>\n",
       "      <td>1</td>\n",
       "      <td>B</td>\n",
       "      <td>185</td>\n",
       "      <td>1.0</td>\n",
       "      <td>Indian</td>\n",
       "      <td>Pol</td>\n",
       "      <td>4</td>\n",
       "      <td>1</td>\n",
       "      <td>Action</td>\n",
       "      <td>No</td>\n",
       "      <td>2.0</td>\n",
       "      <td>Summer</td>\n",
       "      <td>0</td>\n",
       "      <td>Yeah</td>\n",
       "      <td>3</td>\n",
       "      <td>Yes</td>\n",
       "      <td>Real Madrid</td>\n",
       "      <td>12</td>\n",
       "      <td>Kitesurf</td>\n",
       "      <td>Hip Hop</td>\n",
       "    </tr>\n",
       "    <tr>\n",
       "      <th>2</th>\n",
       "      <td>Erik Termes</td>\n",
       "      <td>Cats</td>\n",
       "      <td>0</td>\n",
       "      <td>B</td>\n",
       "      <td>182</td>\n",
       "      <td>1.0</td>\n",
       "      <td>Spanish</td>\n",
       "      <td>Javi</td>\n",
       "      <td>-1</td>\n",
       "      <td>1</td>\n",
       "      <td>Thriller</td>\n",
       "      <td>Wrote some sexy code.</td>\n",
       "      <td>1.0</td>\n",
       "      <td>Summer</td>\n",
       "      <td>3</td>\n",
       "      <td>nan</td>\n",
       "      <td>6 usually, 4 in bootcamp</td>\n",
       "      <td>Yes</td>\n",
       "      <td>FCB</td>\n",
       "      <td>99</td>\n",
       "      <td>Muay Thai &amp; MMA</td>\n",
       "      <td>Techno, Rock, Rap</td>\n",
       "    </tr>\n",
       "    <tr>\n",
       "      <th>3</th>\n",
       "      <td>Carla Feriche</td>\n",
       "      <td>Elephant</td>\n",
       "      <td>0</td>\n",
       "      <td>B</td>\n",
       "      <td>170</td>\n",
       "      <td>1.0</td>\n",
       "      <td>Pasta</td>\n",
       "      <td>Mar</td>\n",
       "      <td>0</td>\n",
       "      <td>1</td>\n",
       "      <td>Comedy</td>\n",
       "      <td>Nan</td>\n",
       "      <td>2.0</td>\n",
       "      <td>Spring</td>\n",
       "      <td>0</td>\n",
       "      <td>nan</td>\n",
       "      <td>2</td>\n",
       "      <td>No</td>\n",
       "      <td>RCDE</td>\n",
       "      <td>1</td>\n",
       "      <td>Basket</td>\n",
       "      <td>Deep house</td>\n",
       "    </tr>\n",
       "    <tr>\n",
       "      <th>4</th>\n",
       "      <td>Víctor López</td>\n",
       "      <td>Tiger</td>\n",
       "      <td>0</td>\n",
       "      <td>None</td>\n",
       "      <td>171</td>\n",
       "      <td>0.0</td>\n",
       "      <td>Everything</td>\n",
       "      <td>Mar</td>\n",
       "      <td>1</td>\n",
       "      <td>1</td>\n",
       "      <td>Thriller</td>\n",
       "      <td>Yes</td>\n",
       "      <td>1.0</td>\n",
       "      <td>Autumn</td>\n",
       "      <td>0</td>\n",
       "      <td>Pythonically</td>\n",
       "      <td>1</td>\n",
       "      <td>Virtual</td>\n",
       "      <td>Sant Andreu</td>\n",
       "      <td>1</td>\n",
       "      <td>Football</td>\n",
       "      <td>Hip Hop</td>\n",
       "    </tr>\n",
       "  </tbody>\n",
       "</table>\n",
       "</div>"
      ],
      "text/plain": [
       "           names favourite_animal  ...  Favourite_sport        music_genre\n",
       "0       YIDI CHI              dog  ...             swim                Pop\n",
       "1  Nick Deitmers          Dolphin  ...         Kitesurf            Hip Hop\n",
       "2    Erik Termes             Cats  ...  Muay Thai & MMA  Techno, Rock, Rap\n",
       "3  Carla Feriche         Elephant  ...           Basket         Deep house\n",
       "4   Víctor López            Tiger  ...         Football            Hip Hop\n",
       "\n",
       "[5 rows x 22 columns]"
      ]
     },
     "execution_count": 108,
     "metadata": {
      "tags": []
     },
     "output_type": "execute_result"
    }
   ],
   "source": [
    "data_analysts.head()"
   ]
  },
  {
   "cell_type": "code",
   "execution_count": null,
   "metadata": {
    "id": "7cPUlnH3s0IU"
   },
   "outputs": [],
   "source": [
    "# Replace anything starting with \"no\" (case insensitive) to \"No\"\n",
    "# \"No\", \"no\", \"Nothing\" and \"nothing\" should become \"No\""
   ]
  },
  {
   "cell_type": "code",
   "execution_count": 109,
   "metadata": {
    "colab": {
     "base_uri": "https://localhost:8080/"
    },
    "executionInfo": {
     "elapsed": 224,
     "status": "ok",
     "timestamp": 1623229794875,
     "user": {
      "displayName": "Ignacio Soteras",
      "photoUrl": "",
      "userId": "02050793736257155229"
     },
     "user_tz": -120
    },
    "id": "u337i3VMs0IU",
    "outputId": "cb6e9cb6-0910-4873-d5d3-a71d9569bca6",
    "scrolled": true
   },
   "outputs": [
    {
     "data": {
      "text/plain": [
       "Yes                        11\n",
       "Virtual                     3\n",
       "No                          3\n",
       "no                          3\n",
       "YES, I cleaned the mess     1\n",
       "nothing                     1\n",
       "NaN                         1\n",
       "Nothing                     1\n",
       "0                           1\n",
       "Name: ironbeers, dtype: int64"
      ]
     },
     "execution_count": 109,
     "metadata": {
      "tags": []
     },
     "output_type": "execute_result"
    }
   ],
   "source": [
    "data_analysts[\"ironbeers\"].value_counts()"
   ]
  },
  {
   "cell_type": "code",
   "execution_count": 103,
   "metadata": {
    "colab": {
     "base_uri": "https://localhost:8080/",
     "height": 35
    },
    "executionInfo": {
     "elapsed": 233,
     "status": "ok",
     "timestamp": 1623229600574,
     "user": {
      "displayName": "Ignacio Soteras",
      "photoUrl": "",
      "userId": "02050793736257155229"
     },
     "user_tz": -120
    },
    "id": "XDYQ5eAPA0rP",
    "outputId": "23042025-f8ef-4499-bb54-7b81cb5f6313"
   },
   "outputs": [
    {
     "data": {
      "application/vnd.google.colaboratory.intrinsic+json": {
       "type": "string"
      },
      "text/plain": [
       "'YES'"
      ]
     },
     "execution_count": 103,
     "metadata": {
      "tags": []
     },
     "output_type": "execute_result"
    }
   ],
   "source": [
    "# \"nothing\"\n",
    "re.sub(\"[Nn].*\",\"No\",\"YES\")"
   ]
  },
  {
   "cell_type": "code",
   "execution_count": 114,
   "metadata": {
    "executionInfo": {
     "elapsed": 234,
     "status": "ok",
     "timestamp": 1623229865027,
     "user": {
      "displayName": "Ignacio Soteras",
      "photoUrl": "",
      "userId": "02050793736257155229"
     },
     "user_tz": -120
    },
    "id": "MYO3mcZsCgLO"
   },
   "outputs": [],
   "source": [
    "import numpy as np"
   ]
  },
  {
   "cell_type": "code",
   "execution_count": 115,
   "metadata": {
    "colab": {
     "base_uri": "https://localhost:8080/"
    },
    "executionInfo": {
     "elapsed": 239,
     "status": "ok",
     "timestamp": 1623229866318,
     "user": {
      "displayName": "Ignacio Soteras",
      "photoUrl": "",
      "userId": "02050793736257155229"
     },
     "user_tz": -120
    },
    "id": "NVTMRh99CYob",
    "outputId": "fe5e2c3b-e027-480a-e28b-08b6f14133f0"
   },
   "outputs": [
    {
     "data": {
      "text/plain": [
       "array(['0', 'No', 'Virtual', 'YES, I cleaned the mess', 'Yes'],\n",
       "      dtype='<U23')"
      ]
     },
     "execution_count": 115,
     "metadata": {
      "tags": []
     },
     "output_type": "execute_result"
    }
   ],
   "source": [
    "np.unique(list( map(lambda x: re.sub(\"^[Nn].*\",\"No\",x) ,data_analysts[\"ironbeers\"]) ) )"
   ]
  },
  {
   "cell_type": "code",
   "execution_count": 110,
   "metadata": {
    "executionInfo": {
     "elapsed": 229,
     "status": "ok",
     "timestamp": 1623229799072,
     "user": {
      "displayName": "Ignacio Soteras",
      "photoUrl": "",
      "userId": "02050793736257155229"
     },
     "user_tz": -120
    },
    "id": "xEbS1cBms0IU"
   },
   "outputs": [],
   "source": [
    "data_analysts[\"ironbeers\"] = list( map(lambda x: re.sub(\"^[Nn].*\",\"No\",x) ,data_analysts[\"ironbeers\"]) )"
   ]
  },
  {
   "cell_type": "code",
   "execution_count": 111,
   "metadata": {
    "colab": {
     "base_uri": "https://localhost:8080/"
    },
    "executionInfo": {
     "elapsed": 236,
     "status": "ok",
     "timestamp": 1623229801436,
     "user": {
      "displayName": "Ignacio Soteras",
      "photoUrl": "",
      "userId": "02050793736257155229"
     },
     "user_tz": -120
    },
    "id": "LVH_XWiDB6B7",
    "outputId": "2bad11dd-7bd3-4495-b8cf-eedeba0197ab"
   },
   "outputs": [
    {
     "data": {
      "text/plain": [
       "Yes                        11\n",
       "No                          9\n",
       "Virtual                     3\n",
       "YES, I cleaned the mess     1\n",
       "0                           1\n",
       "Name: ironbeers, dtype: int64"
      ]
     },
     "execution_count": 111,
     "metadata": {
      "tags": []
     },
     "output_type": "execute_result"
    }
   ],
   "source": [
    "data_analysts[\"ironbeers\"].value_counts()"
   ]
  },
  {
   "cell_type": "code",
   "execution_count": null,
   "metadata": {
    "id": "FoYgwNFZs0IU",
    "scrolled": true
   },
   "outputs": [],
   "source": [
    "# a compiled regex can be used within pandas' replace function\n",
    "my_regex = re.compile(r\"^[Nn].\")"
   ]
  },
  {
   "cell_type": "code",
   "execution_count": 116,
   "metadata": {
    "colab": {
     "base_uri": "https://localhost:8080/"
    },
    "executionInfo": {
     "elapsed": 24912,
     "status": "ok",
     "timestamp": 1623229968490,
     "user": {
      "displayName": "Ignacio Soteras",
      "photoUrl": "",
      "userId": "02050793736257155229"
     },
     "user_tz": -120
    },
    "id": "36OtPwuInrT-",
    "outputId": "a84e64b7-a64c-4cba-cb18-d22e5a9344ca"
   },
   "outputs": [
    {
     "name": "stdout",
     "output_type": "stream",
     "text": [
      "Mounted at /content/drive\n"
     ]
    }
   ],
   "source": [
    "from google.colab import drive\n",
    "drive.mount('/content/drive')"
   ]
  },
  {
   "cell_type": "code",
   "execution_count": 130,
   "metadata": {
    "executionInfo": {
     "elapsed": 371,
     "status": "ok",
     "timestamp": 1623230656964,
     "user": {
      "displayName": "Ignacio Soteras",
      "photoUrl": "",
      "userId": "02050793736257155229"
     },
     "user_tz": -120
    },
    "id": "ADacE1B7s0IU"
   },
   "outputs": [],
   "source": [
    "# load the cars dataset!\n",
    "\n",
    "cars = pd.read_csv(\"/content/drive/MyDrive/OLD_CURR/UNIT2/DAY2/data/vehicles.csv\")"
   ]
  },
  {
   "cell_type": "code",
   "execution_count": 131,
   "metadata": {
    "colab": {
     "base_uri": "https://localhost:8080/"
    },
    "collapsed": true,
    "executionInfo": {
     "elapsed": 4,
     "status": "ok",
     "timestamp": 1623230658393,
     "user": {
      "displayName": "Ignacio Soteras",
      "photoUrl": "",
      "userId": "02050793736257155229"
     },
     "user_tz": -120
    },
    "id": "RJP5WmRds0IU",
    "outputId": "571ec178-9bfe-4a4f-ad5f-2772d204d516",
    "scrolled": true
   },
   "outputs": [
    {
     "data": {
      "text/plain": [
       "array(['Automatic 3-spd', 'Automatic 4-spd', 'Manual 5-spd',\n",
       "       'Automatic (S5)', 'Manual 6-spd', 'Automatic 5-spd', 'Auto(AM8)',\n",
       "       'Auto(AM-S8)', 'Auto(AV-S7)', 'Automatic (S6)', 'Automatic (S9)',\n",
       "       'Automatic (S4)', 'Auto(AM-S9)', 'Automatic (S7)', 'Auto(AM7)',\n",
       "       'Auto(AM-S7)', 'Auto(AM6)', 'Automatic 6-spd', 'Manual 4-spd',\n",
       "       'Automatic (S8)', 'Manual(M7)', 'Auto(AM-S6)',\n",
       "       'Automatic (variable gear ratios)', 'Automatic (AV)',\n",
       "       'Auto(AV-S8)', 'Automatic (AM6)', 'Automatic 8-spd', 'Auto(A1)',\n",
       "       'Automatic (A1)', 'Automatic (A6)', 'Auto(AV-S6)', 'Manual 3-spd',\n",
       "       'Manual 7-spd', 'Automatic 9-spd', 'Auto (AV)', 'Automatic 6spd',\n",
       "       'Auto(L4)', 'Auto(L3)', 'Auto (AV-S6)', 'Auto (AV-S8)',\n",
       "       'Automatic (AV-S6)', 'Automatic 7-spd', 'Manual 5 spd',\n",
       "       'Auto(AM5)', 'Automatic (AM5)'], dtype=object)"
      ]
     },
     "execution_count": 131,
     "metadata": {
      "tags": []
     },
     "output_type": "execute_result"
    }
   ],
   "source": [
    "# the \"Transmission\" column is a mess. These are its unique values:\n",
    "cars.Transmission.unique()\n",
    "cars['Transmission'].unique()"
   ]
  },
  {
   "cell_type": "code",
   "execution_count": 120,
   "metadata": {
    "colab": {
     "base_uri": "https://localhost:8080/",
     "height": 35
    },
    "executionInfo": {
     "elapsed": 232,
     "status": "ok",
     "timestamp": 1623230175641,
     "user": {
      "displayName": "Ignacio Soteras",
      "photoUrl": "",
      "userId": "02050793736257155229"
     },
     "user_tz": -120
    },
    "id": "R-sYXXdLDYIo",
    "outputId": "ef4c113c-9d9f-45dc-f71d-5247c473b9a0"
   },
   "outputs": [
    {
     "data": {
      "application/vnd.google.colaboratory.intrinsic+json": {
       "type": "string"
      },
      "text/plain": [
       "'Automatic'"
      ]
     },
     "execution_count": 120,
     "metadata": {
      "tags": []
     },
     "output_type": "execute_result"
    }
   ],
   "source": [
    "re.sub(\"Auto.*\",\"Automatic\",'Auto(AM-S7)')"
   ]
  },
  {
   "cell_type": "code",
   "execution_count": 121,
   "metadata": {
    "executionInfo": {
     "elapsed": 227,
     "status": "ok",
     "timestamp": 1623230277054,
     "user": {
      "displayName": "Ignacio Soteras",
      "photoUrl": "",
      "userId": "02050793736257155229"
     },
     "user_tz": -120
    },
    "id": "mg54PKiaDy5Q"
   },
   "outputs": [],
   "source": [
    "y = lambda x: re.sub(\"Auto.*\",\"Automatic\",x) if ( \"Auto\" in x ) else \"Manual\""
   ]
  },
  {
   "cell_type": "code",
   "execution_count": 122,
   "metadata": {
    "colab": {
     "base_uri": "https://localhost:8080/",
     "height": 35
    },
    "executionInfo": {
     "elapsed": 227,
     "status": "ok",
     "timestamp": 1623230295058,
     "user": {
      "displayName": "Ignacio Soteras",
      "photoUrl": "",
      "userId": "02050793736257155229"
     },
     "user_tz": -120
    },
    "id": "1pJNALEIEG9t",
    "outputId": "0eaf2e0f-9524-47d1-fc3b-126d3390e327"
   },
   "outputs": [
    {
     "data": {
      "application/vnd.google.colaboratory.intrinsic+json": {
       "type": "string"
      },
      "text/plain": [
       "'Automatic'"
      ]
     },
     "execution_count": 122,
     "metadata": {
      "tags": []
     },
     "output_type": "execute_result"
    }
   ],
   "source": [
    "y(\"Auto(AM-S7)\")"
   ]
  },
  {
   "cell_type": "code",
   "execution_count": 123,
   "metadata": {
    "colab": {
     "base_uri": "https://localhost:8080/",
     "height": 35
    },
    "executionInfo": {
     "elapsed": 267,
     "status": "ok",
     "timestamp": 1623230314541,
     "user": {
      "displayName": "Ignacio Soteras",
      "photoUrl": "",
      "userId": "02050793736257155229"
     },
     "user_tz": -120
    },
    "id": "9eSJCYHtEMRh",
    "outputId": "326300dd-2813-4798-c0c4-557dd29e18e4"
   },
   "outputs": [
    {
     "data": {
      "application/vnd.google.colaboratory.intrinsic+json": {
       "type": "string"
      },
      "text/plain": [
       "'Manual'"
      ]
     },
     "execution_count": 123,
     "metadata": {
      "tags": []
     },
     "output_type": "execute_result"
    }
   ],
   "source": [
    "y(\"Manual 3-spd\")"
   ]
  },
  {
   "cell_type": "code",
   "execution_count": 124,
   "metadata": {
    "colab": {
     "base_uri": "https://localhost:8080/"
    },
    "executionInfo": {
     "elapsed": 216,
     "status": "ok",
     "timestamp": 1623230373592,
     "user": {
      "displayName": "Ignacio Soteras",
      "photoUrl": "",
      "userId": "02050793736257155229"
     },
     "user_tz": -120
    },
    "id": "VBuhrIDFDOBf",
    "outputId": "e1b4e4dc-3da2-484b-fb7e-addeddfbd180"
   },
   "outputs": [
    {
     "data": {
      "text/plain": [
       "array(['Automatic', 'Manual'], dtype='<U9')"
      ]
     },
     "execution_count": 124,
     "metadata": {
      "tags": []
     },
     "output_type": "execute_result"
    }
   ],
   "source": [
    "np.unique(list( map(lambda x: re.sub(\"Auto.*\",\"Automatic\",x) if ( \"Auto\" in x ) else \"Manual\",cars['Transmission'] )))"
   ]
  },
  {
   "cell_type": "code",
   "execution_count": 133,
   "metadata": {
    "executionInfo": {
     "elapsed": 232,
     "status": "ok",
     "timestamp": 1623230683849,
     "user": {
      "displayName": "Ignacio Soteras",
      "photoUrl": "",
      "userId": "02050793736257155229"
     },
     "user_tz": -120
    },
    "id": "7PtJVcFPEg6L"
   },
   "outputs": [],
   "source": [
    "cars['Transmission_new'] = list( map(lambda x: re.sub(\"Auto.*\",\"Automatic\",x) if ( \"Auto\" in x ) else \"Manual\",cars['Transmission']) )"
   ]
  },
  {
   "cell_type": "code",
   "execution_count": 134,
   "metadata": {
    "colab": {
     "base_uri": "https://localhost:8080/"
    },
    "executionInfo": {
     "elapsed": 239,
     "status": "ok",
     "timestamp": 1623230685060,
     "user": {
      "displayName": "Ignacio Soteras",
      "photoUrl": "",
      "userId": "02050793736257155229"
     },
     "user_tz": -120
    },
    "id": "ftR-PG1VEsFA",
    "outputId": "7ec14329-4162-476b-d65b-bbf23a6b6735"
   },
   "outputs": [
    {
     "data": {
      "text/plain": [
       "array(['Automatic', 'Manual'], dtype=object)"
      ]
     },
     "execution_count": 134,
     "metadata": {
      "tags": []
     },
     "output_type": "execute_result"
    }
   ],
   "source": [
    "cars['Transmission_new'].unique()"
   ]
  },
  {
   "cell_type": "code",
   "execution_count": null,
   "metadata": {
    "id": "Z1VmLpqZs0IU"
   },
   "outputs": [],
   "source": [
    "# create a column called \"speeds\" where you store \n",
    "# the number of speeds in a car if known or NaN if unknown"
   ]
  },
  {
   "cell_type": "code",
   "execution_count": 135,
   "metadata": {
    "colab": {
     "base_uri": "https://localhost:8080/",
     "height": 477
    },
    "executionInfo": {
     "elapsed": 252,
     "status": "ok",
     "timestamp": 1623230689049,
     "user": {
      "displayName": "Ignacio Soteras",
      "photoUrl": "",
      "userId": "02050793736257155229"
     },
     "user_tz": -120
    },
    "id": "u2YbKMQME6X1",
    "outputId": "1bb6a7e2-a6f1-47c3-b481-cb5a87dc93e4"
   },
   "outputs": [
    {
     "data": {
      "text/html": [
       "<div>\n",
       "<style scoped>\n",
       "    .dataframe tbody tr th:only-of-type {\n",
       "        vertical-align: middle;\n",
       "    }\n",
       "\n",
       "    .dataframe tbody tr th {\n",
       "        vertical-align: top;\n",
       "    }\n",
       "\n",
       "    .dataframe thead th {\n",
       "        text-align: right;\n",
       "    }\n",
       "</style>\n",
       "<table border=\"1\" class=\"dataframe\">\n",
       "  <thead>\n",
       "    <tr style=\"text-align: right;\">\n",
       "      <th></th>\n",
       "      <th>Make</th>\n",
       "      <th>Model</th>\n",
       "      <th>Year</th>\n",
       "      <th>Engine Displacement</th>\n",
       "      <th>Cylinders</th>\n",
       "      <th>Transmission</th>\n",
       "      <th>Drivetrain</th>\n",
       "      <th>Vehicle Class</th>\n",
       "      <th>Fuel Type</th>\n",
       "      <th>Fuel Barrels/Year</th>\n",
       "      <th>City MPG</th>\n",
       "      <th>Highway MPG</th>\n",
       "      <th>Combined MPG</th>\n",
       "      <th>CO2 Emission Grams/Mile</th>\n",
       "      <th>Fuel Cost/Year</th>\n",
       "      <th>Transmission_new</th>\n",
       "    </tr>\n",
       "  </thead>\n",
       "  <tbody>\n",
       "    <tr>\n",
       "      <th>0</th>\n",
       "      <td>AM General</td>\n",
       "      <td>DJ Po Vehicle 2WD</td>\n",
       "      <td>1984</td>\n",
       "      <td>2.5</td>\n",
       "      <td>4.0</td>\n",
       "      <td>Automatic 3-spd</td>\n",
       "      <td>2-Wheel Drive</td>\n",
       "      <td>Special Purpose Vehicle 2WD</td>\n",
       "      <td>Regular</td>\n",
       "      <td>19.388824</td>\n",
       "      <td>18</td>\n",
       "      <td>17</td>\n",
       "      <td>17</td>\n",
       "      <td>522.764706</td>\n",
       "      <td>1950</td>\n",
       "      <td>Automatic</td>\n",
       "    </tr>\n",
       "    <tr>\n",
       "      <th>1</th>\n",
       "      <td>AM General</td>\n",
       "      <td>FJ8c Post Office</td>\n",
       "      <td>1984</td>\n",
       "      <td>4.2</td>\n",
       "      <td>6.0</td>\n",
       "      <td>Automatic 3-spd</td>\n",
       "      <td>2-Wheel Drive</td>\n",
       "      <td>Special Purpose Vehicle 2WD</td>\n",
       "      <td>Regular</td>\n",
       "      <td>25.354615</td>\n",
       "      <td>13</td>\n",
       "      <td>13</td>\n",
       "      <td>13</td>\n",
       "      <td>683.615385</td>\n",
       "      <td>2550</td>\n",
       "      <td>Automatic</td>\n",
       "    </tr>\n",
       "    <tr>\n",
       "      <th>2</th>\n",
       "      <td>AM General</td>\n",
       "      <td>Post Office DJ5 2WD</td>\n",
       "      <td>1985</td>\n",
       "      <td>2.5</td>\n",
       "      <td>4.0</td>\n",
       "      <td>Automatic 3-spd</td>\n",
       "      <td>Rear-Wheel Drive</td>\n",
       "      <td>Special Purpose Vehicle 2WD</td>\n",
       "      <td>Regular</td>\n",
       "      <td>20.600625</td>\n",
       "      <td>16</td>\n",
       "      <td>17</td>\n",
       "      <td>16</td>\n",
       "      <td>555.437500</td>\n",
       "      <td>2100</td>\n",
       "      <td>Automatic</td>\n",
       "    </tr>\n",
       "    <tr>\n",
       "      <th>3</th>\n",
       "      <td>AM General</td>\n",
       "      <td>Post Office DJ8 2WD</td>\n",
       "      <td>1985</td>\n",
       "      <td>4.2</td>\n",
       "      <td>6.0</td>\n",
       "      <td>Automatic 3-spd</td>\n",
       "      <td>Rear-Wheel Drive</td>\n",
       "      <td>Special Purpose Vehicle 2WD</td>\n",
       "      <td>Regular</td>\n",
       "      <td>25.354615</td>\n",
       "      <td>13</td>\n",
       "      <td>13</td>\n",
       "      <td>13</td>\n",
       "      <td>683.615385</td>\n",
       "      <td>2550</td>\n",
       "      <td>Automatic</td>\n",
       "    </tr>\n",
       "    <tr>\n",
       "      <th>4</th>\n",
       "      <td>ASC Incorporated</td>\n",
       "      <td>GNX</td>\n",
       "      <td>1987</td>\n",
       "      <td>3.8</td>\n",
       "      <td>6.0</td>\n",
       "      <td>Automatic 4-spd</td>\n",
       "      <td>Rear-Wheel Drive</td>\n",
       "      <td>Midsize Cars</td>\n",
       "      <td>Premium</td>\n",
       "      <td>20.600625</td>\n",
       "      <td>14</td>\n",
       "      <td>21</td>\n",
       "      <td>16</td>\n",
       "      <td>555.437500</td>\n",
       "      <td>2550</td>\n",
       "      <td>Automatic</td>\n",
       "    </tr>\n",
       "  </tbody>\n",
       "</table>\n",
       "</div>"
      ],
      "text/plain": [
       "               Make                Model  ...  Fuel Cost/Year  Transmission_new\n",
       "0        AM General    DJ Po Vehicle 2WD  ...            1950         Automatic\n",
       "1        AM General     FJ8c Post Office  ...            2550         Automatic\n",
       "2        AM General  Post Office DJ5 2WD  ...            2100         Automatic\n",
       "3        AM General  Post Office DJ8 2WD  ...            2550         Automatic\n",
       "4  ASC Incorporated                  GNX  ...            2550         Automatic\n",
       "\n",
       "[5 rows x 16 columns]"
      ]
     },
     "execution_count": 135,
     "metadata": {
      "tags": []
     },
     "output_type": "execute_result"
    }
   ],
   "source": [
    "cars.head()"
   ]
  },
  {
   "cell_type": "code",
   "execution_count": 137,
   "metadata": {
    "colab": {
     "base_uri": "https://localhost:8080/"
    },
    "executionInfo": {
     "elapsed": 242,
     "status": "ok",
     "timestamp": 1623230763075,
     "user": {
      "displayName": "Ignacio Soteras",
      "photoUrl": "",
      "userId": "02050793736257155229"
     },
     "user_tz": -120
    },
    "id": "vysJ5ftEF5XV",
    "outputId": "77d0ff94-cd5c-49de-cc56-18804f1f1122"
   },
   "outputs": [
    {
     "data": {
      "text/plain": [
       "array(['Automatic 3-spd', 'Automatic 4-spd', 'Manual 5-spd',\n",
       "       'Automatic (S5)', 'Manual 6-spd', 'Automatic 5-spd', 'Auto(AM8)',\n",
       "       'Auto(AM-S8)', 'Auto(AV-S7)', 'Automatic (S6)', 'Automatic (S9)',\n",
       "       'Automatic (S4)', 'Auto(AM-S9)', 'Automatic (S7)', 'Auto(AM7)',\n",
       "       'Auto(AM-S7)', 'Auto(AM6)', 'Automatic 6-spd', 'Manual 4-spd',\n",
       "       'Automatic (S8)', 'Manual(M7)', 'Auto(AM-S6)',\n",
       "       'Automatic (variable gear ratios)', 'Automatic (AV)',\n",
       "       'Auto(AV-S8)', 'Automatic (AM6)', 'Automatic 8-spd', 'Auto(A1)',\n",
       "       'Automatic (A1)', 'Automatic (A6)', 'Auto(AV-S6)', 'Manual 3-spd',\n",
       "       'Manual 7-spd', 'Automatic 9-spd', 'Auto (AV)', 'Automatic 6spd',\n",
       "       'Auto(L4)', 'Auto(L3)', 'Auto (AV-S6)', 'Auto (AV-S8)',\n",
       "       'Automatic (AV-S6)', 'Automatic 7-spd', 'Manual 5 spd',\n",
       "       'Auto(AM5)', 'Automatic (AM5)'], dtype=object)"
      ]
     },
     "execution_count": 137,
     "metadata": {
      "tags": []
     },
     "output_type": "execute_result"
    }
   ],
   "source": [
    "cars['Transmission'].unique()"
   ]
  },
  {
   "cell_type": "code",
   "execution_count": 145,
   "metadata": {
    "colab": {
     "base_uri": "https://localhost:8080/"
    },
    "executionInfo": {
     "elapsed": 243,
     "status": "ok",
     "timestamp": 1623230994905,
     "user": {
      "displayName": "Ignacio Soteras",
      "photoUrl": "",
      "userId": "02050793736257155229"
     },
     "user_tz": -120
    },
    "id": "O6DRdpSbFOJd",
    "outputId": "6a460012-1b3c-4d94-b186-bf840aeca581"
   },
   "outputs": [
    {
     "data": {
      "text/plain": [
       "<re.Match object; span=(10, 14), match='4spd'>"
      ]
     },
     "execution_count": 145,
     "metadata": {
      "tags": []
     },
     "output_type": "execute_result"
    }
   ],
   "source": [
    "re.search(\"\\d(-| )?spd\",\"Automatic 4spd\")"
   ]
  },
  {
   "cell_type": "code",
   "execution_count": 148,
   "metadata": {
    "colab": {
     "base_uri": "https://localhost:8080/"
    },
    "executionInfo": {
     "elapsed": 228,
     "status": "ok",
     "timestamp": 1623231042724,
     "user": {
      "displayName": "Ignacio Soteras",
      "photoUrl": "",
      "userId": "02050793736257155229"
     },
     "user_tz": -120
    },
    "id": "yuWHzck7GpIl",
    "outputId": "04c35884-71c4-4378-a7cd-334ac875d6e5"
   },
   "outputs": [
    {
     "data": {
      "text/plain": [
       "4"
      ]
     },
     "execution_count": 148,
     "metadata": {
      "tags": []
     },
     "output_type": "execute_result"
    }
   ],
   "source": [
    "int(\"Automatic 4spd\"[re.search(\"\\d(-| )?spd\",\"Automatic 4spd\").span()[0]])"
   ]
  },
  {
   "cell_type": "code",
   "execution_count": null,
   "metadata": {
    "id": "wHJGLu8NHDVS"
   },
   "outputs": [],
   "source": [
    "for car in cars['Transmission']:\n",
    "    if ( re.search(\"\\d(-| )?spd\", car ) ):\n",
    "        speed = int(car[re.search(\"\\d(-| )?spd\",car).span()[0]])\n",
    "        print(speed)\n",
    "    else:\n",
    "        speed = np.nan\n",
    "        print(speed)\n"
   ]
  },
  {
   "cell_type": "code",
   "execution_count": 152,
   "metadata": {
    "executionInfo": {
     "elapsed": 233,
     "status": "ok",
     "timestamp": 1623231398128,
     "user": {
      "displayName": "Ignacio Soteras",
      "photoUrl": "",
      "userId": "02050793736257155229"
     },
     "user_tz": -120
    },
    "id": "OJH4QGKKH_6V"
   },
   "outputs": [],
   "source": [
    "y1 = lambda x: int(x[re.search(\"\\d(-| )?spd\",x).span()[0]]) if ( re.search(\"\\d(-| )?spd\", x ) ) else np.nan"
   ]
  },
  {
   "cell_type": "code",
   "execution_count": 154,
   "metadata": {
    "colab": {
     "base_uri": "https://localhost:8080/"
    },
    "executionInfo": {
     "elapsed": 222,
     "status": "ok",
     "timestamp": 1623231424255,
     "user": {
      "displayName": "Ignacio Soteras",
      "photoUrl": "",
      "userId": "02050793736257155229"
     },
     "user_tz": -120
    },
    "id": "GnxkU56HIYs7",
    "outputId": "95582772-68b2-4bca-93fd-34a21be4e9e2"
   },
   "outputs": [
    {
     "data": {
      "text/plain": [
       "4"
      ]
     },
     "execution_count": 154,
     "metadata": {
      "tags": []
     },
     "output_type": "execute_result"
    }
   ],
   "source": [
    "y1(\"Automatic 4spd\")"
   ]
  },
  {
   "cell_type": "code",
   "execution_count": 155,
   "metadata": {
    "colab": {
     "base_uri": "https://localhost:8080/"
    },
    "executionInfo": {
     "elapsed": 225,
     "status": "ok",
     "timestamp": 1623231463356,
     "user": {
      "displayName": "Ignacio Soteras",
      "photoUrl": "",
      "userId": "02050793736257155229"
     },
     "user_tz": -120
    },
    "id": "r24xLOlwIgFO",
    "outputId": "ed963d78-7156-404b-d3ba-9d43135d8da8"
   },
   "outputs": [
    {
     "data": {
      "text/plain": [
       "array([ 3.,  4.,  5., ..., nan, nan, nan])"
      ]
     },
     "execution_count": 155,
     "metadata": {
      "tags": []
     },
     "output_type": "execute_result"
    }
   ],
   "source": [
    "np.unique(list( map(y1,cars['Transmission'] )))"
   ]
  },
  {
   "cell_type": "code",
   "execution_count": 156,
   "metadata": {
    "executionInfo": {
     "elapsed": 223,
     "status": "ok",
     "timestamp": 1623231501569,
     "user": {
      "displayName": "Ignacio Soteras",
      "photoUrl": "",
      "userId": "02050793736257155229"
     },
     "user_tz": -120
    },
    "id": "JJa8FKg9IqLd"
   },
   "outputs": [],
   "source": [
    "cars['speeds'] = list( map(y1,cars['Transmission'] ))"
   ]
  },
  {
   "cell_type": "code",
   "execution_count": 157,
   "metadata": {
    "colab": {
     "base_uri": "https://localhost:8080/",
     "height": 477
    },
    "executionInfo": {
     "elapsed": 258,
     "status": "ok",
     "timestamp": 1623231509822,
     "user": {
      "displayName": "Ignacio Soteras",
      "photoUrl": "",
      "userId": "02050793736257155229"
     },
     "user_tz": -120
    },
    "id": "58kwiRNhIx6i",
    "outputId": "fc2c9a93-6a09-4025-f7a0-12c86799dc06"
   },
   "outputs": [
    {
     "data": {
      "text/html": [
       "<div>\n",
       "<style scoped>\n",
       "    .dataframe tbody tr th:only-of-type {\n",
       "        vertical-align: middle;\n",
       "    }\n",
       "\n",
       "    .dataframe tbody tr th {\n",
       "        vertical-align: top;\n",
       "    }\n",
       "\n",
       "    .dataframe thead th {\n",
       "        text-align: right;\n",
       "    }\n",
       "</style>\n",
       "<table border=\"1\" class=\"dataframe\">\n",
       "  <thead>\n",
       "    <tr style=\"text-align: right;\">\n",
       "      <th></th>\n",
       "      <th>Make</th>\n",
       "      <th>Model</th>\n",
       "      <th>Year</th>\n",
       "      <th>Engine Displacement</th>\n",
       "      <th>Cylinders</th>\n",
       "      <th>Transmission</th>\n",
       "      <th>Drivetrain</th>\n",
       "      <th>Vehicle Class</th>\n",
       "      <th>Fuel Type</th>\n",
       "      <th>Fuel Barrels/Year</th>\n",
       "      <th>City MPG</th>\n",
       "      <th>Highway MPG</th>\n",
       "      <th>Combined MPG</th>\n",
       "      <th>CO2 Emission Grams/Mile</th>\n",
       "      <th>Fuel Cost/Year</th>\n",
       "      <th>Transmission_new</th>\n",
       "      <th>speeds</th>\n",
       "    </tr>\n",
       "  </thead>\n",
       "  <tbody>\n",
       "    <tr>\n",
       "      <th>0</th>\n",
       "      <td>AM General</td>\n",
       "      <td>DJ Po Vehicle 2WD</td>\n",
       "      <td>1984</td>\n",
       "      <td>2.5</td>\n",
       "      <td>4.0</td>\n",
       "      <td>Automatic 3-spd</td>\n",
       "      <td>2-Wheel Drive</td>\n",
       "      <td>Special Purpose Vehicle 2WD</td>\n",
       "      <td>Regular</td>\n",
       "      <td>19.388824</td>\n",
       "      <td>18</td>\n",
       "      <td>17</td>\n",
       "      <td>17</td>\n",
       "      <td>522.764706</td>\n",
       "      <td>1950</td>\n",
       "      <td>Automatic</td>\n",
       "      <td>3.0</td>\n",
       "    </tr>\n",
       "    <tr>\n",
       "      <th>1</th>\n",
       "      <td>AM General</td>\n",
       "      <td>FJ8c Post Office</td>\n",
       "      <td>1984</td>\n",
       "      <td>4.2</td>\n",
       "      <td>6.0</td>\n",
       "      <td>Automatic 3-spd</td>\n",
       "      <td>2-Wheel Drive</td>\n",
       "      <td>Special Purpose Vehicle 2WD</td>\n",
       "      <td>Regular</td>\n",
       "      <td>25.354615</td>\n",
       "      <td>13</td>\n",
       "      <td>13</td>\n",
       "      <td>13</td>\n",
       "      <td>683.615385</td>\n",
       "      <td>2550</td>\n",
       "      <td>Automatic</td>\n",
       "      <td>3.0</td>\n",
       "    </tr>\n",
       "    <tr>\n",
       "      <th>2</th>\n",
       "      <td>AM General</td>\n",
       "      <td>Post Office DJ5 2WD</td>\n",
       "      <td>1985</td>\n",
       "      <td>2.5</td>\n",
       "      <td>4.0</td>\n",
       "      <td>Automatic 3-spd</td>\n",
       "      <td>Rear-Wheel Drive</td>\n",
       "      <td>Special Purpose Vehicle 2WD</td>\n",
       "      <td>Regular</td>\n",
       "      <td>20.600625</td>\n",
       "      <td>16</td>\n",
       "      <td>17</td>\n",
       "      <td>16</td>\n",
       "      <td>555.437500</td>\n",
       "      <td>2100</td>\n",
       "      <td>Automatic</td>\n",
       "      <td>3.0</td>\n",
       "    </tr>\n",
       "    <tr>\n",
       "      <th>3</th>\n",
       "      <td>AM General</td>\n",
       "      <td>Post Office DJ8 2WD</td>\n",
       "      <td>1985</td>\n",
       "      <td>4.2</td>\n",
       "      <td>6.0</td>\n",
       "      <td>Automatic 3-spd</td>\n",
       "      <td>Rear-Wheel Drive</td>\n",
       "      <td>Special Purpose Vehicle 2WD</td>\n",
       "      <td>Regular</td>\n",
       "      <td>25.354615</td>\n",
       "      <td>13</td>\n",
       "      <td>13</td>\n",
       "      <td>13</td>\n",
       "      <td>683.615385</td>\n",
       "      <td>2550</td>\n",
       "      <td>Automatic</td>\n",
       "      <td>3.0</td>\n",
       "    </tr>\n",
       "    <tr>\n",
       "      <th>4</th>\n",
       "      <td>ASC Incorporated</td>\n",
       "      <td>GNX</td>\n",
       "      <td>1987</td>\n",
       "      <td>3.8</td>\n",
       "      <td>6.0</td>\n",
       "      <td>Automatic 4-spd</td>\n",
       "      <td>Rear-Wheel Drive</td>\n",
       "      <td>Midsize Cars</td>\n",
       "      <td>Premium</td>\n",
       "      <td>20.600625</td>\n",
       "      <td>14</td>\n",
       "      <td>21</td>\n",
       "      <td>16</td>\n",
       "      <td>555.437500</td>\n",
       "      <td>2550</td>\n",
       "      <td>Automatic</td>\n",
       "      <td>4.0</td>\n",
       "    </tr>\n",
       "  </tbody>\n",
       "</table>\n",
       "</div>"
      ],
      "text/plain": [
       "               Make                Model  ...  Transmission_new  speeds\n",
       "0        AM General    DJ Po Vehicle 2WD  ...         Automatic     3.0\n",
       "1        AM General     FJ8c Post Office  ...         Automatic     3.0\n",
       "2        AM General  Post Office DJ5 2WD  ...         Automatic     3.0\n",
       "3        AM General  Post Office DJ8 2WD  ...         Automatic     3.0\n",
       "4  ASC Incorporated                  GNX  ...         Automatic     4.0\n",
       "\n",
       "[5 rows x 17 columns]"
      ]
     },
     "execution_count": 157,
     "metadata": {
      "tags": []
     },
     "output_type": "execute_result"
    }
   ],
   "source": [
    "cars.head()"
   ]
  }
 ],
 "metadata": {
  "colab": {
   "name": "Regex_Code_Along _Structure.ipynb",
   "provenance": []
  },
  "kernelspec": {
   "display_name": "Python 3",
   "language": "python",
   "name": "python3"
  },
  "language_info": {
   "codemirror_mode": {
    "name": "ipython",
    "version": 3
   },
   "file_extension": ".py",
   "mimetype": "text/x-python",
   "name": "python",
   "nbconvert_exporter": "python",
   "pygments_lexer": "ipython3",
   "version": "3.8.8"
  },
  "toc": {
   "base_numbering": 1,
   "nav_menu": {},
   "number_sections": true,
   "sideBar": true,
   "skip_h1_title": false,
   "title_cell": "Table of Contents",
   "title_sidebar": "Contents",
   "toc_cell": false,
   "toc_position": {},
   "toc_section_display": true,
   "toc_window_display": false
  },
  "varInspector": {
   "cols": {
    "lenName": 16,
    "lenType": 16,
    "lenVar": 40
   },
   "kernels_config": {
    "python": {
     "delete_cmd_postfix": "",
     "delete_cmd_prefix": "del ",
     "library": "var_list.py",
     "varRefreshCmd": "print(var_dic_list())"
    },
    "r": {
     "delete_cmd_postfix": ") ",
     "delete_cmd_prefix": "rm(",
     "library": "var_list.r",
     "varRefreshCmd": "cat(var_dic_list()) "
    }
   },
   "types_to_exclude": [
    "module",
    "function",
    "builtin_function_or_method",
    "instance",
    "_Feature"
   ],
   "window_display": false
  }
 },
 "nbformat": 4,
 "nbformat_minor": 1
}
