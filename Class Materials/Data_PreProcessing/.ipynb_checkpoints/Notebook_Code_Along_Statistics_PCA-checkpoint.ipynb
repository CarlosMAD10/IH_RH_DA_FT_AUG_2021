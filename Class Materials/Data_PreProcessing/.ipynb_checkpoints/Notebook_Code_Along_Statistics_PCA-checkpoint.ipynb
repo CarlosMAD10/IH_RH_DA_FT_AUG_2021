{
 "cells": [
  {
   "cell_type": "markdown",
   "metadata": {
    "id": "JIbtOgdA10lH"
   },
   "source": [
    "# PCA\n"
   ]
  },
  {
   "cell_type": "code",
   "execution_count": 1,
   "metadata": {
    "executionInfo": {
     "elapsed": 1022,
     "status": "ok",
     "timestamp": 1626422791927,
     "user": {
      "displayName": "Ignacio Soteras",
      "photoUrl": "",
      "userId": "02050793736257155229"
     },
     "user_tz": -120
    },
    "id": "Xie9v3Xc3vB8"
   },
   "outputs": [],
   "source": [
    "import pandas as pd\n",
    "import numpy as np\n",
    "from sklearn.model_selection import train_test_split"
   ]
  },
  {
   "cell_type": "code",
   "execution_count": 2,
   "metadata": {
    "colab": {
     "base_uri": "https://localhost:8080/"
    },
    "executionInfo": {
     "elapsed": 22440,
     "status": "ok",
     "timestamp": 1626422818154,
     "user": {
      "displayName": "Ignacio Soteras",
      "photoUrl": "",
      "userId": "02050793736257155229"
     },
     "user_tz": -120
    },
    "id": "BtptrDnQGMfU",
    "outputId": "2fb689ab-1cce-4250-bff9-9ebd7599b33c"
   },
   "outputs": [
    {
     "name": "stdout",
     "output_type": "stream",
     "text": [
      "Mounted at /content/drive\n"
     ]
    }
   ],
   "source": [
    "from google.colab import drive\n",
    "drive.mount('/content/drive')"
   ]
  },
  {
   "cell_type": "code",
   "execution_count": 3,
   "metadata": {
    "executionInfo": {
     "elapsed": 594,
     "status": "ok",
     "timestamp": 1626422822011,
     "user": {
      "displayName": "Ignacio Soteras",
      "photoUrl": "",
      "userId": "02050793736257155229"
     },
     "user_tz": -120
    },
    "id": "hakKlTeEFzQG"
   },
   "outputs": [],
   "source": [
    "data = pd.read_csv('/content/drive/MyDrive/OLD_CURR/UNIT7/DAY1/housing_prices.csv')"
   ]
  },
  {
   "cell_type": "code",
   "execution_count": 5,
   "metadata": {
    "colab": {
     "base_uri": "https://localhost:8080/",
     "height": 255
    },
    "executionInfo": {
     "elapsed": 216,
     "status": "ok",
     "timestamp": 1626422859401,
     "user": {
      "displayName": "Ignacio Soteras",
      "photoUrl": "",
      "userId": "02050793736257155229"
     },
     "user_tz": -120
    },
    "id": "5GcsqgmO8YEE",
    "outputId": "c5fb0be8-4448-4ad1-837d-6fee73102b84"
   },
   "outputs": [
    {
     "data": {
      "text/html": [
       "<div>\n",
       "<style scoped>\n",
       "    .dataframe tbody tr th:only-of-type {\n",
       "        vertical-align: middle;\n",
       "    }\n",
       "\n",
       "    .dataframe tbody tr th {\n",
       "        vertical-align: top;\n",
       "    }\n",
       "\n",
       "    .dataframe thead th {\n",
       "        text-align: right;\n",
       "    }\n",
       "</style>\n",
       "<table border=\"1\" class=\"dataframe\">\n",
       "  <thead>\n",
       "    <tr style=\"text-align: right;\">\n",
       "      <th></th>\n",
       "      <th>Id</th>\n",
       "      <th>MSSubClass</th>\n",
       "      <th>MSZoning</th>\n",
       "      <th>LotFrontage</th>\n",
       "      <th>LotArea</th>\n",
       "      <th>Street</th>\n",
       "      <th>Alley</th>\n",
       "      <th>LotShape</th>\n",
       "      <th>LandContour</th>\n",
       "      <th>Utilities</th>\n",
       "      <th>LotConfig</th>\n",
       "      <th>LandSlope</th>\n",
       "      <th>Neighborhood</th>\n",
       "      <th>Condition1</th>\n",
       "      <th>Condition2</th>\n",
       "      <th>BldgType</th>\n",
       "      <th>HouseStyle</th>\n",
       "      <th>OverallQual</th>\n",
       "      <th>OverallCond</th>\n",
       "      <th>YearBuilt</th>\n",
       "      <th>YearRemodAdd</th>\n",
       "      <th>RoofStyle</th>\n",
       "      <th>RoofMatl</th>\n",
       "      <th>Exterior1st</th>\n",
       "      <th>Exterior2nd</th>\n",
       "      <th>MasVnrType</th>\n",
       "      <th>MasVnrArea</th>\n",
       "      <th>ExterQual</th>\n",
       "      <th>ExterCond</th>\n",
       "      <th>Foundation</th>\n",
       "      <th>BsmtQual</th>\n",
       "      <th>BsmtCond</th>\n",
       "      <th>BsmtExposure</th>\n",
       "      <th>BsmtFinType1</th>\n",
       "      <th>BsmtFinSF1</th>\n",
       "      <th>BsmtFinType2</th>\n",
       "      <th>BsmtFinSF2</th>\n",
       "      <th>BsmtUnfSF</th>\n",
       "      <th>TotalBsmtSF</th>\n",
       "      <th>Heating</th>\n",
       "      <th>...</th>\n",
       "      <th>Electrical</th>\n",
       "      <th>1stFlrSF</th>\n",
       "      <th>2ndFlrSF</th>\n",
       "      <th>LowQualFinSF</th>\n",
       "      <th>GrLivArea</th>\n",
       "      <th>BsmtFullBath</th>\n",
       "      <th>BsmtHalfBath</th>\n",
       "      <th>FullBath</th>\n",
       "      <th>HalfBath</th>\n",
       "      <th>BedroomAbvGr</th>\n",
       "      <th>KitchenAbvGr</th>\n",
       "      <th>KitchenQual</th>\n",
       "      <th>TotRmsAbvGrd</th>\n",
       "      <th>Functional</th>\n",
       "      <th>Fireplaces</th>\n",
       "      <th>FireplaceQu</th>\n",
       "      <th>GarageType</th>\n",
       "      <th>GarageYrBlt</th>\n",
       "      <th>GarageFinish</th>\n",
       "      <th>GarageCars</th>\n",
       "      <th>GarageArea</th>\n",
       "      <th>GarageQual</th>\n",
       "      <th>GarageCond</th>\n",
       "      <th>PavedDrive</th>\n",
       "      <th>WoodDeckSF</th>\n",
       "      <th>OpenPorchSF</th>\n",
       "      <th>EnclosedPorch</th>\n",
       "      <th>3SsnPorch</th>\n",
       "      <th>ScreenPorch</th>\n",
       "      <th>PoolArea</th>\n",
       "      <th>PoolQC</th>\n",
       "      <th>Fence</th>\n",
       "      <th>MiscFeature</th>\n",
       "      <th>MiscVal</th>\n",
       "      <th>MoSold</th>\n",
       "      <th>YrSold</th>\n",
       "      <th>SaleType</th>\n",
       "      <th>SaleCondition</th>\n",
       "      <th>SalePrice</th>\n",
       "      <th>Antiquity</th>\n",
       "    </tr>\n",
       "  </thead>\n",
       "  <tbody>\n",
       "    <tr>\n",
       "      <th>0</th>\n",
       "      <td>1</td>\n",
       "      <td>60</td>\n",
       "      <td>RL</td>\n",
       "      <td>65.0</td>\n",
       "      <td>8450</td>\n",
       "      <td>Pave</td>\n",
       "      <td>NaN</td>\n",
       "      <td>Reg</td>\n",
       "      <td>Lvl</td>\n",
       "      <td>AllPub</td>\n",
       "      <td>Inside</td>\n",
       "      <td>Gtl</td>\n",
       "      <td>CollgCr</td>\n",
       "      <td>Norm</td>\n",
       "      <td>Norm</td>\n",
       "      <td>1Fam</td>\n",
       "      <td>2Story</td>\n",
       "      <td>7</td>\n",
       "      <td>5</td>\n",
       "      <td>2003</td>\n",
       "      <td>2003</td>\n",
       "      <td>Gable</td>\n",
       "      <td>CompShg</td>\n",
       "      <td>VinylSd</td>\n",
       "      <td>VinylSd</td>\n",
       "      <td>BrkFace</td>\n",
       "      <td>196.0</td>\n",
       "      <td>Gd</td>\n",
       "      <td>TA</td>\n",
       "      <td>PConc</td>\n",
       "      <td>Gd</td>\n",
       "      <td>TA</td>\n",
       "      <td>No</td>\n",
       "      <td>GLQ</td>\n",
       "      <td>706</td>\n",
       "      <td>Unf</td>\n",
       "      <td>0</td>\n",
       "      <td>150</td>\n",
       "      <td>856</td>\n",
       "      <td>GasA</td>\n",
       "      <td>...</td>\n",
       "      <td>SBrkr</td>\n",
       "      <td>856</td>\n",
       "      <td>854</td>\n",
       "      <td>0</td>\n",
       "      <td>1710</td>\n",
       "      <td>1</td>\n",
       "      <td>0</td>\n",
       "      <td>2</td>\n",
       "      <td>1</td>\n",
       "      <td>3</td>\n",
       "      <td>1</td>\n",
       "      <td>Gd</td>\n",
       "      <td>8</td>\n",
       "      <td>Typ</td>\n",
       "      <td>0</td>\n",
       "      <td>NaN</td>\n",
       "      <td>Attchd</td>\n",
       "      <td>2003.0</td>\n",
       "      <td>RFn</td>\n",
       "      <td>2</td>\n",
       "      <td>548</td>\n",
       "      <td>TA</td>\n",
       "      <td>TA</td>\n",
       "      <td>Y</td>\n",
       "      <td>0</td>\n",
       "      <td>61</td>\n",
       "      <td>0</td>\n",
       "      <td>0</td>\n",
       "      <td>0</td>\n",
       "      <td>0</td>\n",
       "      <td>NaN</td>\n",
       "      <td>NaN</td>\n",
       "      <td>NaN</td>\n",
       "      <td>0</td>\n",
       "      <td>2</td>\n",
       "      <td>2008</td>\n",
       "      <td>WD</td>\n",
       "      <td>Normal</td>\n",
       "      <td>208500</td>\n",
       "      <td>5</td>\n",
       "    </tr>\n",
       "    <tr>\n",
       "      <th>1</th>\n",
       "      <td>2</td>\n",
       "      <td>20</td>\n",
       "      <td>RL</td>\n",
       "      <td>80.0</td>\n",
       "      <td>9600</td>\n",
       "      <td>Pave</td>\n",
       "      <td>NaN</td>\n",
       "      <td>Reg</td>\n",
       "      <td>Lvl</td>\n",
       "      <td>AllPub</td>\n",
       "      <td>FR2</td>\n",
       "      <td>Gtl</td>\n",
       "      <td>Veenker</td>\n",
       "      <td>Feedr</td>\n",
       "      <td>Norm</td>\n",
       "      <td>1Fam</td>\n",
       "      <td>1Story</td>\n",
       "      <td>6</td>\n",
       "      <td>8</td>\n",
       "      <td>1976</td>\n",
       "      <td>1976</td>\n",
       "      <td>Gable</td>\n",
       "      <td>CompShg</td>\n",
       "      <td>MetalSd</td>\n",
       "      <td>MetalSd</td>\n",
       "      <td>None</td>\n",
       "      <td>0.0</td>\n",
       "      <td>TA</td>\n",
       "      <td>TA</td>\n",
       "      <td>CBlock</td>\n",
       "      <td>Gd</td>\n",
       "      <td>TA</td>\n",
       "      <td>Gd</td>\n",
       "      <td>ALQ</td>\n",
       "      <td>978</td>\n",
       "      <td>Unf</td>\n",
       "      <td>0</td>\n",
       "      <td>284</td>\n",
       "      <td>1262</td>\n",
       "      <td>GasA</td>\n",
       "      <td>...</td>\n",
       "      <td>SBrkr</td>\n",
       "      <td>1262</td>\n",
       "      <td>0</td>\n",
       "      <td>0</td>\n",
       "      <td>1262</td>\n",
       "      <td>0</td>\n",
       "      <td>1</td>\n",
       "      <td>2</td>\n",
       "      <td>0</td>\n",
       "      <td>3</td>\n",
       "      <td>1</td>\n",
       "      <td>TA</td>\n",
       "      <td>6</td>\n",
       "      <td>Typ</td>\n",
       "      <td>1</td>\n",
       "      <td>TA</td>\n",
       "      <td>Attchd</td>\n",
       "      <td>1976.0</td>\n",
       "      <td>RFn</td>\n",
       "      <td>2</td>\n",
       "      <td>460</td>\n",
       "      <td>TA</td>\n",
       "      <td>TA</td>\n",
       "      <td>Y</td>\n",
       "      <td>298</td>\n",
       "      <td>0</td>\n",
       "      <td>0</td>\n",
       "      <td>0</td>\n",
       "      <td>0</td>\n",
       "      <td>0</td>\n",
       "      <td>NaN</td>\n",
       "      <td>NaN</td>\n",
       "      <td>NaN</td>\n",
       "      <td>0</td>\n",
       "      <td>5</td>\n",
       "      <td>2007</td>\n",
       "      <td>WD</td>\n",
       "      <td>Normal</td>\n",
       "      <td>181500</td>\n",
       "      <td>31</td>\n",
       "    </tr>\n",
       "    <tr>\n",
       "      <th>2</th>\n",
       "      <td>3</td>\n",
       "      <td>60</td>\n",
       "      <td>RL</td>\n",
       "      <td>68.0</td>\n",
       "      <td>11250</td>\n",
       "      <td>Pave</td>\n",
       "      <td>NaN</td>\n",
       "      <td>IR1</td>\n",
       "      <td>Lvl</td>\n",
       "      <td>AllPub</td>\n",
       "      <td>Inside</td>\n",
       "      <td>Gtl</td>\n",
       "      <td>CollgCr</td>\n",
       "      <td>Norm</td>\n",
       "      <td>Norm</td>\n",
       "      <td>1Fam</td>\n",
       "      <td>2Story</td>\n",
       "      <td>7</td>\n",
       "      <td>5</td>\n",
       "      <td>2001</td>\n",
       "      <td>2002</td>\n",
       "      <td>Gable</td>\n",
       "      <td>CompShg</td>\n",
       "      <td>VinylSd</td>\n",
       "      <td>VinylSd</td>\n",
       "      <td>BrkFace</td>\n",
       "      <td>162.0</td>\n",
       "      <td>Gd</td>\n",
       "      <td>TA</td>\n",
       "      <td>PConc</td>\n",
       "      <td>Gd</td>\n",
       "      <td>TA</td>\n",
       "      <td>Mn</td>\n",
       "      <td>GLQ</td>\n",
       "      <td>486</td>\n",
       "      <td>Unf</td>\n",
       "      <td>0</td>\n",
       "      <td>434</td>\n",
       "      <td>920</td>\n",
       "      <td>GasA</td>\n",
       "      <td>...</td>\n",
       "      <td>SBrkr</td>\n",
       "      <td>920</td>\n",
       "      <td>866</td>\n",
       "      <td>0</td>\n",
       "      <td>1786</td>\n",
       "      <td>1</td>\n",
       "      <td>0</td>\n",
       "      <td>2</td>\n",
       "      <td>1</td>\n",
       "      <td>3</td>\n",
       "      <td>1</td>\n",
       "      <td>Gd</td>\n",
       "      <td>6</td>\n",
       "      <td>Typ</td>\n",
       "      <td>1</td>\n",
       "      <td>TA</td>\n",
       "      <td>Attchd</td>\n",
       "      <td>2001.0</td>\n",
       "      <td>RFn</td>\n",
       "      <td>2</td>\n",
       "      <td>608</td>\n",
       "      <td>TA</td>\n",
       "      <td>TA</td>\n",
       "      <td>Y</td>\n",
       "      <td>0</td>\n",
       "      <td>42</td>\n",
       "      <td>0</td>\n",
       "      <td>0</td>\n",
       "      <td>0</td>\n",
       "      <td>0</td>\n",
       "      <td>NaN</td>\n",
       "      <td>NaN</td>\n",
       "      <td>NaN</td>\n",
       "      <td>0</td>\n",
       "      <td>9</td>\n",
       "      <td>2008</td>\n",
       "      <td>WD</td>\n",
       "      <td>Normal</td>\n",
       "      <td>223500</td>\n",
       "      <td>6</td>\n",
       "    </tr>\n",
       "    <tr>\n",
       "      <th>3</th>\n",
       "      <td>4</td>\n",
       "      <td>70</td>\n",
       "      <td>RL</td>\n",
       "      <td>60.0</td>\n",
       "      <td>9550</td>\n",
       "      <td>Pave</td>\n",
       "      <td>NaN</td>\n",
       "      <td>IR1</td>\n",
       "      <td>Lvl</td>\n",
       "      <td>AllPub</td>\n",
       "      <td>Corner</td>\n",
       "      <td>Gtl</td>\n",
       "      <td>Crawfor</td>\n",
       "      <td>Norm</td>\n",
       "      <td>Norm</td>\n",
       "      <td>1Fam</td>\n",
       "      <td>2Story</td>\n",
       "      <td>7</td>\n",
       "      <td>5</td>\n",
       "      <td>1915</td>\n",
       "      <td>1970</td>\n",
       "      <td>Gable</td>\n",
       "      <td>CompShg</td>\n",
       "      <td>Wd Sdng</td>\n",
       "      <td>Wd Shng</td>\n",
       "      <td>None</td>\n",
       "      <td>0.0</td>\n",
       "      <td>TA</td>\n",
       "      <td>TA</td>\n",
       "      <td>BrkTil</td>\n",
       "      <td>TA</td>\n",
       "      <td>Gd</td>\n",
       "      <td>No</td>\n",
       "      <td>ALQ</td>\n",
       "      <td>216</td>\n",
       "      <td>Unf</td>\n",
       "      <td>0</td>\n",
       "      <td>540</td>\n",
       "      <td>756</td>\n",
       "      <td>GasA</td>\n",
       "      <td>...</td>\n",
       "      <td>SBrkr</td>\n",
       "      <td>961</td>\n",
       "      <td>756</td>\n",
       "      <td>0</td>\n",
       "      <td>1717</td>\n",
       "      <td>1</td>\n",
       "      <td>0</td>\n",
       "      <td>1</td>\n",
       "      <td>0</td>\n",
       "      <td>3</td>\n",
       "      <td>1</td>\n",
       "      <td>Gd</td>\n",
       "      <td>7</td>\n",
       "      <td>Typ</td>\n",
       "      <td>1</td>\n",
       "      <td>Gd</td>\n",
       "      <td>Detchd</td>\n",
       "      <td>1998.0</td>\n",
       "      <td>Unf</td>\n",
       "      <td>3</td>\n",
       "      <td>642</td>\n",
       "      <td>TA</td>\n",
       "      <td>TA</td>\n",
       "      <td>Y</td>\n",
       "      <td>0</td>\n",
       "      <td>35</td>\n",
       "      <td>272</td>\n",
       "      <td>0</td>\n",
       "      <td>0</td>\n",
       "      <td>0</td>\n",
       "      <td>NaN</td>\n",
       "      <td>NaN</td>\n",
       "      <td>NaN</td>\n",
       "      <td>0</td>\n",
       "      <td>2</td>\n",
       "      <td>2006</td>\n",
       "      <td>WD</td>\n",
       "      <td>Abnorml</td>\n",
       "      <td>140000</td>\n",
       "      <td>36</td>\n",
       "    </tr>\n",
       "    <tr>\n",
       "      <th>4</th>\n",
       "      <td>5</td>\n",
       "      <td>60</td>\n",
       "      <td>RL</td>\n",
       "      <td>84.0</td>\n",
       "      <td>14260</td>\n",
       "      <td>Pave</td>\n",
       "      <td>NaN</td>\n",
       "      <td>IR1</td>\n",
       "      <td>Lvl</td>\n",
       "      <td>AllPub</td>\n",
       "      <td>FR2</td>\n",
       "      <td>Gtl</td>\n",
       "      <td>NoRidge</td>\n",
       "      <td>Norm</td>\n",
       "      <td>Norm</td>\n",
       "      <td>1Fam</td>\n",
       "      <td>2Story</td>\n",
       "      <td>8</td>\n",
       "      <td>5</td>\n",
       "      <td>2000</td>\n",
       "      <td>2000</td>\n",
       "      <td>Gable</td>\n",
       "      <td>CompShg</td>\n",
       "      <td>VinylSd</td>\n",
       "      <td>VinylSd</td>\n",
       "      <td>BrkFace</td>\n",
       "      <td>350.0</td>\n",
       "      <td>Gd</td>\n",
       "      <td>TA</td>\n",
       "      <td>PConc</td>\n",
       "      <td>Gd</td>\n",
       "      <td>TA</td>\n",
       "      <td>Av</td>\n",
       "      <td>GLQ</td>\n",
       "      <td>655</td>\n",
       "      <td>Unf</td>\n",
       "      <td>0</td>\n",
       "      <td>490</td>\n",
       "      <td>1145</td>\n",
       "      <td>GasA</td>\n",
       "      <td>...</td>\n",
       "      <td>SBrkr</td>\n",
       "      <td>1145</td>\n",
       "      <td>1053</td>\n",
       "      <td>0</td>\n",
       "      <td>2198</td>\n",
       "      <td>1</td>\n",
       "      <td>0</td>\n",
       "      <td>2</td>\n",
       "      <td>1</td>\n",
       "      <td>4</td>\n",
       "      <td>1</td>\n",
       "      <td>Gd</td>\n",
       "      <td>9</td>\n",
       "      <td>Typ</td>\n",
       "      <td>1</td>\n",
       "      <td>TA</td>\n",
       "      <td>Attchd</td>\n",
       "      <td>2000.0</td>\n",
       "      <td>RFn</td>\n",
       "      <td>3</td>\n",
       "      <td>836</td>\n",
       "      <td>TA</td>\n",
       "      <td>TA</td>\n",
       "      <td>Y</td>\n",
       "      <td>192</td>\n",
       "      <td>84</td>\n",
       "      <td>0</td>\n",
       "      <td>0</td>\n",
       "      <td>0</td>\n",
       "      <td>0</td>\n",
       "      <td>NaN</td>\n",
       "      <td>NaN</td>\n",
       "      <td>NaN</td>\n",
       "      <td>0</td>\n",
       "      <td>12</td>\n",
       "      <td>2008</td>\n",
       "      <td>WD</td>\n",
       "      <td>Normal</td>\n",
       "      <td>250000</td>\n",
       "      <td>8</td>\n",
       "    </tr>\n",
       "  </tbody>\n",
       "</table>\n",
       "<p>5 rows × 82 columns</p>\n",
       "</div>"
      ],
      "text/plain": [
       "   Id  MSSubClass MSZoning  ...  SaleCondition  SalePrice Antiquity\n",
       "0   1          60       RL  ...         Normal     208500         5\n",
       "1   2          20       RL  ...         Normal     181500        31\n",
       "2   3          60       RL  ...         Normal     223500         6\n",
       "3   4          70       RL  ...        Abnorml     140000        36\n",
       "4   5          60       RL  ...         Normal     250000         8\n",
       "\n",
       "[5 rows x 82 columns]"
      ]
     },
     "execution_count": 5,
     "metadata": {
      "tags": []
     },
     "output_type": "execute_result"
    }
   ],
   "source": [
    "# Let's construct a dataframe with this features\n",
    "data['Antiquity'] = data['YrSold'] - data['YearRemodAdd']\n",
    "\n",
    "X = data.drop(columns=['Id','SalePrice','YearBuilt', 'YearRemodAdd', 'YrSold',\n",
    "                       'LotFrontage','MasVnrArea','GarageYrBlt'], axis = 1)\n",
    "y = np.log(data['SalePrice'])\n",
    "\n",
    "data.head()"
   ]
  },
  {
   "cell_type": "code",
   "execution_count": 6,
   "metadata": {
    "colab": {
     "base_uri": "https://localhost:8080/",
     "height": 225
    },
    "executionInfo": {
     "elapsed": 203,
     "status": "ok",
     "timestamp": 1626422902058,
     "user": {
      "displayName": "Ignacio Soteras",
      "photoUrl": "",
      "userId": "02050793736257155229"
     },
     "user_tz": -120
    },
    "id": "F7CQG_8rGRAZ",
    "outputId": "685bff9b-c2a8-4a0c-8607-0bb9e4c81f71"
   },
   "outputs": [
    {
     "data": {
      "text/html": [
       "<div>\n",
       "<style scoped>\n",
       "    .dataframe tbody tr th:only-of-type {\n",
       "        vertical-align: middle;\n",
       "    }\n",
       "\n",
       "    .dataframe tbody tr th {\n",
       "        vertical-align: top;\n",
       "    }\n",
       "\n",
       "    .dataframe thead th {\n",
       "        text-align: right;\n",
       "    }\n",
       "</style>\n",
       "<table border=\"1\" class=\"dataframe\">\n",
       "  <thead>\n",
       "    <tr style=\"text-align: right;\">\n",
       "      <th></th>\n",
       "      <th>MSSubClass</th>\n",
       "      <th>LotArea</th>\n",
       "      <th>OverallQual</th>\n",
       "      <th>OverallCond</th>\n",
       "      <th>BsmtFinSF1</th>\n",
       "      <th>BsmtFinSF2</th>\n",
       "      <th>BsmtUnfSF</th>\n",
       "      <th>TotalBsmtSF</th>\n",
       "      <th>1stFlrSF</th>\n",
       "      <th>2ndFlrSF</th>\n",
       "      <th>LowQualFinSF</th>\n",
       "      <th>GrLivArea</th>\n",
       "      <th>BsmtFullBath</th>\n",
       "      <th>BsmtHalfBath</th>\n",
       "      <th>FullBath</th>\n",
       "      <th>HalfBath</th>\n",
       "      <th>BedroomAbvGr</th>\n",
       "      <th>KitchenAbvGr</th>\n",
       "      <th>TotRmsAbvGrd</th>\n",
       "      <th>Fireplaces</th>\n",
       "      <th>GarageCars</th>\n",
       "      <th>GarageArea</th>\n",
       "      <th>WoodDeckSF</th>\n",
       "      <th>OpenPorchSF</th>\n",
       "      <th>EnclosedPorch</th>\n",
       "      <th>3SsnPorch</th>\n",
       "      <th>ScreenPorch</th>\n",
       "      <th>PoolArea</th>\n",
       "      <th>MiscVal</th>\n",
       "      <th>MoSold</th>\n",
       "      <th>Antiquity</th>\n",
       "    </tr>\n",
       "  </thead>\n",
       "  <tbody>\n",
       "    <tr>\n",
       "      <th>0</th>\n",
       "      <td>60</td>\n",
       "      <td>8450</td>\n",
       "      <td>7</td>\n",
       "      <td>5</td>\n",
       "      <td>706</td>\n",
       "      <td>0</td>\n",
       "      <td>150</td>\n",
       "      <td>856</td>\n",
       "      <td>856</td>\n",
       "      <td>854</td>\n",
       "      <td>0</td>\n",
       "      <td>1710</td>\n",
       "      <td>1</td>\n",
       "      <td>0</td>\n",
       "      <td>2</td>\n",
       "      <td>1</td>\n",
       "      <td>3</td>\n",
       "      <td>1</td>\n",
       "      <td>8</td>\n",
       "      <td>0</td>\n",
       "      <td>2</td>\n",
       "      <td>548</td>\n",
       "      <td>0</td>\n",
       "      <td>61</td>\n",
       "      <td>0</td>\n",
       "      <td>0</td>\n",
       "      <td>0</td>\n",
       "      <td>0</td>\n",
       "      <td>0</td>\n",
       "      <td>2</td>\n",
       "      <td>5</td>\n",
       "    </tr>\n",
       "    <tr>\n",
       "      <th>1</th>\n",
       "      <td>20</td>\n",
       "      <td>9600</td>\n",
       "      <td>6</td>\n",
       "      <td>8</td>\n",
       "      <td>978</td>\n",
       "      <td>0</td>\n",
       "      <td>284</td>\n",
       "      <td>1262</td>\n",
       "      <td>1262</td>\n",
       "      <td>0</td>\n",
       "      <td>0</td>\n",
       "      <td>1262</td>\n",
       "      <td>0</td>\n",
       "      <td>1</td>\n",
       "      <td>2</td>\n",
       "      <td>0</td>\n",
       "      <td>3</td>\n",
       "      <td>1</td>\n",
       "      <td>6</td>\n",
       "      <td>1</td>\n",
       "      <td>2</td>\n",
       "      <td>460</td>\n",
       "      <td>298</td>\n",
       "      <td>0</td>\n",
       "      <td>0</td>\n",
       "      <td>0</td>\n",
       "      <td>0</td>\n",
       "      <td>0</td>\n",
       "      <td>0</td>\n",
       "      <td>5</td>\n",
       "      <td>31</td>\n",
       "    </tr>\n",
       "    <tr>\n",
       "      <th>2</th>\n",
       "      <td>60</td>\n",
       "      <td>11250</td>\n",
       "      <td>7</td>\n",
       "      <td>5</td>\n",
       "      <td>486</td>\n",
       "      <td>0</td>\n",
       "      <td>434</td>\n",
       "      <td>920</td>\n",
       "      <td>920</td>\n",
       "      <td>866</td>\n",
       "      <td>0</td>\n",
       "      <td>1786</td>\n",
       "      <td>1</td>\n",
       "      <td>0</td>\n",
       "      <td>2</td>\n",
       "      <td>1</td>\n",
       "      <td>3</td>\n",
       "      <td>1</td>\n",
       "      <td>6</td>\n",
       "      <td>1</td>\n",
       "      <td>2</td>\n",
       "      <td>608</td>\n",
       "      <td>0</td>\n",
       "      <td>42</td>\n",
       "      <td>0</td>\n",
       "      <td>0</td>\n",
       "      <td>0</td>\n",
       "      <td>0</td>\n",
       "      <td>0</td>\n",
       "      <td>9</td>\n",
       "      <td>6</td>\n",
       "    </tr>\n",
       "    <tr>\n",
       "      <th>3</th>\n",
       "      <td>70</td>\n",
       "      <td>9550</td>\n",
       "      <td>7</td>\n",
       "      <td>5</td>\n",
       "      <td>216</td>\n",
       "      <td>0</td>\n",
       "      <td>540</td>\n",
       "      <td>756</td>\n",
       "      <td>961</td>\n",
       "      <td>756</td>\n",
       "      <td>0</td>\n",
       "      <td>1717</td>\n",
       "      <td>1</td>\n",
       "      <td>0</td>\n",
       "      <td>1</td>\n",
       "      <td>0</td>\n",
       "      <td>3</td>\n",
       "      <td>1</td>\n",
       "      <td>7</td>\n",
       "      <td>1</td>\n",
       "      <td>3</td>\n",
       "      <td>642</td>\n",
       "      <td>0</td>\n",
       "      <td>35</td>\n",
       "      <td>272</td>\n",
       "      <td>0</td>\n",
       "      <td>0</td>\n",
       "      <td>0</td>\n",
       "      <td>0</td>\n",
       "      <td>2</td>\n",
       "      <td>36</td>\n",
       "    </tr>\n",
       "    <tr>\n",
       "      <th>4</th>\n",
       "      <td>60</td>\n",
       "      <td>14260</td>\n",
       "      <td>8</td>\n",
       "      <td>5</td>\n",
       "      <td>655</td>\n",
       "      <td>0</td>\n",
       "      <td>490</td>\n",
       "      <td>1145</td>\n",
       "      <td>1145</td>\n",
       "      <td>1053</td>\n",
       "      <td>0</td>\n",
       "      <td>2198</td>\n",
       "      <td>1</td>\n",
       "      <td>0</td>\n",
       "      <td>2</td>\n",
       "      <td>1</td>\n",
       "      <td>4</td>\n",
       "      <td>1</td>\n",
       "      <td>9</td>\n",
       "      <td>1</td>\n",
       "      <td>3</td>\n",
       "      <td>836</td>\n",
       "      <td>192</td>\n",
       "      <td>84</td>\n",
       "      <td>0</td>\n",
       "      <td>0</td>\n",
       "      <td>0</td>\n",
       "      <td>0</td>\n",
       "      <td>0</td>\n",
       "      <td>12</td>\n",
       "      <td>8</td>\n",
       "    </tr>\n",
       "  </tbody>\n",
       "</table>\n",
       "</div>"
      ],
      "text/plain": [
       "   MSSubClass  LotArea  OverallQual  ...  MiscVal  MoSold  Antiquity\n",
       "0          60     8450            7  ...        0       2          5\n",
       "1          20     9600            6  ...        0       5         31\n",
       "2          60    11250            7  ...        0       9          6\n",
       "3          70     9550            7  ...        0       2         36\n",
       "4          60    14260            8  ...        0      12          8\n",
       "\n",
       "[5 rows x 31 columns]"
      ]
     },
     "execution_count": 6,
     "metadata": {
      "tags": []
     },
     "output_type": "execute_result"
    }
   ],
   "source": [
    "X_cols = X.select_dtypes(include=np.number).columns\n",
    "X = X.select_dtypes(include=np.number)\n",
    "\n",
    "X.head()"
   ]
  },
  {
   "cell_type": "code",
   "execution_count": 7,
   "metadata": {
    "colab": {
     "base_uri": "https://localhost:8080/"
    },
    "executionInfo": {
     "elapsed": 211,
     "status": "ok",
     "timestamp": 1626422910768,
     "user": {
      "displayName": "Ignacio Soteras",
      "photoUrl": "",
      "userId": "02050793736257155229"
     },
     "user_tz": -120
    },
    "id": "D3Hh1vJBHvuq",
    "outputId": "84e77b2d-c41c-4d27-b250-b9df59d0a012"
   },
   "outputs": [
    {
     "data": {
      "text/plain": [
       "MSSubClass       0\n",
       "LotArea          0\n",
       "OverallQual      0\n",
       "OverallCond      0\n",
       "BsmtFinSF1       0\n",
       "BsmtFinSF2       0\n",
       "BsmtUnfSF        0\n",
       "TotalBsmtSF      0\n",
       "1stFlrSF         0\n",
       "2ndFlrSF         0\n",
       "LowQualFinSF     0\n",
       "GrLivArea        0\n",
       "BsmtFullBath     0\n",
       "BsmtHalfBath     0\n",
       "FullBath         0\n",
       "HalfBath         0\n",
       "BedroomAbvGr     0\n",
       "KitchenAbvGr     0\n",
       "TotRmsAbvGrd     0\n",
       "Fireplaces       0\n",
       "GarageCars       0\n",
       "GarageArea       0\n",
       "WoodDeckSF       0\n",
       "OpenPorchSF      0\n",
       "EnclosedPorch    0\n",
       "3SsnPorch        0\n",
       "ScreenPorch      0\n",
       "PoolArea         0\n",
       "MiscVal          0\n",
       "MoSold           0\n",
       "Antiquity        0\n",
       "dtype: int64"
      ]
     },
     "execution_count": 7,
     "metadata": {
      "tags": []
     },
     "output_type": "execute_result"
    }
   ],
   "source": [
    "X.isna().sum()"
   ]
  },
  {
   "cell_type": "markdown",
   "metadata": {
    "id": "YW4TNP_XBpp-"
   },
   "source": [
    "# Scaling the data before PCA"
   ]
  },
  {
   "cell_type": "code",
   "execution_count": 8,
   "metadata": {
    "executionInfo": {
     "elapsed": 201,
     "status": "ok",
     "timestamp": 1626422969811,
     "user": {
      "displayName": "Ignacio Soteras",
      "photoUrl": "",
      "userId": "02050793736257155229"
     },
     "user_tz": -120
    },
    "id": "LfxVqHwy5CmB"
   },
   "outputs": [],
   "source": [
    "from sklearn.preprocessing import StandardScaler\n",
    "from sklearn.model_selection import train_test_split\n",
    "\n",
    "X_train, X_test, y_train, y_test = train_test_split(X, y, test_size=0.30, random_state=42)\n",
    "\n",
    "scaler = StandardScaler()\n",
    "\n",
    "scaler.fit(X_train)\n",
    "\n",
    "X_train = scaler.transform(X_train)\n",
    "X_test  = scaler.transform(X_test)\n",
    "\n",
    "X_train = pd.DataFrame(X_train, columns = X.columns)\n",
    "X_test  = pd.DataFrame(X_test , columns = X.columns)"
   ]
  },
  {
   "cell_type": "code",
   "execution_count": 9,
   "metadata": {
    "colab": {
     "base_uri": "https://localhost:8080/"
    },
    "executionInfo": {
     "elapsed": 213,
     "status": "ok",
     "timestamp": 1626422979582,
     "user": {
      "displayName": "Ignacio Soteras",
      "photoUrl": "",
      "userId": "02050793736257155229"
     },
     "user_tz": -120
    },
    "id": "PjdFdVKl0z8R",
    "outputId": "ec87a69b-0c71-47f2-c83a-03e7bd8ec697"
   },
   "outputs": [
    {
     "data": {
      "text/plain": [
       "(1022, 31)"
      ]
     },
     "execution_count": 9,
     "metadata": {
      "tags": []
     },
     "output_type": "execute_result"
    }
   ],
   "source": [
    "X_train.shape"
   ]
  },
  {
   "cell_type": "markdown",
   "metadata": {
    "id": "RxdMEL4lCWMD"
   },
   "source": [
    "# Performing PCA"
   ]
  },
  {
   "cell_type": "code",
   "execution_count": 19,
   "metadata": {
    "executionInfo": {
     "elapsed": 211,
     "status": "ok",
     "timestamp": 1626423259204,
     "user": {
      "displayName": "Ignacio Soteras",
      "photoUrl": "",
      "userId": "02050793736257155229"
     },
     "user_tz": -120
    },
    "id": "7zp2BOXXBgoL"
   },
   "outputs": [],
   "source": [
    "from sklearn.decomposition import PCA\n",
    "\n",
    "pca = PCA(svd_solver='full')\n",
    "\n",
    "pca.fit(X_train)\n",
    "\n",
    "X_train = pca.transform(X_train)\n",
    "X_test  = pca.transform(X_test)\n",
    "\n",
    "cols = [ 'PCA_' + str(i) for i in list(range(1,len(X.columns)+1))]\n",
    "\n",
    "X_train = pd.DataFrame(X_train, columns = cols)\n",
    "X_test  = pd.DataFrame(X_test , columns = cols)\n",
    "\n",
    "#X_train = pd.DataFrame(X_train, columns = X.columns)\n",
    "#X_test  = pd.DataFrame(X_test , columns = X.columns)"
   ]
  },
  {
   "cell_type": "code",
   "execution_count": 20,
   "metadata": {
    "colab": {
     "base_uri": "https://localhost:8080/",
     "height": 312
    },
    "executionInfo": {
     "elapsed": 200,
     "status": "ok",
     "timestamp": 1626423263561,
     "user": {
      "displayName": "Ignacio Soteras",
      "photoUrl": "",
      "userId": "02050793736257155229"
     },
     "user_tz": -120
    },
    "id": "rnDlgsCl1CDw",
    "outputId": "d90425a7-7de9-429b-d9fc-bef0fabd8343"
   },
   "outputs": [
    {
     "data": {
      "text/html": [
       "<div>\n",
       "<style scoped>\n",
       "    .dataframe tbody tr th:only-of-type {\n",
       "        vertical-align: middle;\n",
       "    }\n",
       "\n",
       "    .dataframe tbody tr th {\n",
       "        vertical-align: top;\n",
       "    }\n",
       "\n",
       "    .dataframe thead th {\n",
       "        text-align: right;\n",
       "    }\n",
       "</style>\n",
       "<table border=\"1\" class=\"dataframe\">\n",
       "  <thead>\n",
       "    <tr style=\"text-align: right;\">\n",
       "      <th></th>\n",
       "      <th>PCA_1</th>\n",
       "      <th>PCA_2</th>\n",
       "      <th>PCA_3</th>\n",
       "      <th>PCA_4</th>\n",
       "      <th>PCA_5</th>\n",
       "      <th>PCA_6</th>\n",
       "      <th>PCA_7</th>\n",
       "      <th>PCA_8</th>\n",
       "      <th>PCA_9</th>\n",
       "      <th>PCA_10</th>\n",
       "      <th>PCA_11</th>\n",
       "      <th>PCA_12</th>\n",
       "      <th>PCA_13</th>\n",
       "      <th>PCA_14</th>\n",
       "      <th>PCA_15</th>\n",
       "      <th>PCA_16</th>\n",
       "      <th>PCA_17</th>\n",
       "      <th>PCA_18</th>\n",
       "      <th>PCA_19</th>\n",
       "      <th>PCA_20</th>\n",
       "      <th>PCA_21</th>\n",
       "      <th>PCA_22</th>\n",
       "      <th>PCA_23</th>\n",
       "      <th>PCA_24</th>\n",
       "      <th>PCA_25</th>\n",
       "      <th>PCA_26</th>\n",
       "      <th>PCA_27</th>\n",
       "      <th>PCA_28</th>\n",
       "      <th>PCA_29</th>\n",
       "      <th>PCA_30</th>\n",
       "      <th>PCA_31</th>\n",
       "    </tr>\n",
       "  </thead>\n",
       "  <tbody>\n",
       "    <tr>\n",
       "      <th>0</th>\n",
       "      <td>0.941454</td>\n",
       "      <td>0.345513</td>\n",
       "      <td>-2.112678</td>\n",
       "      <td>1.660708</td>\n",
       "      <td>-0.452819</td>\n",
       "      <td>0.104519</td>\n",
       "      <td>0.265846</td>\n",
       "      <td>-0.543530</td>\n",
       "      <td>0.242605</td>\n",
       "      <td>-0.068156</td>\n",
       "      <td>-0.320562</td>\n",
       "      <td>0.452209</td>\n",
       "      <td>0.097847</td>\n",
       "      <td>-0.660809</td>\n",
       "      <td>0.622391</td>\n",
       "      <td>-0.240397</td>\n",
       "      <td>0.268645</td>\n",
       "      <td>-0.004240</td>\n",
       "      <td>0.179604</td>\n",
       "      <td>0.512576</td>\n",
       "      <td>-0.576271</td>\n",
       "      <td>-0.480751</td>\n",
       "      <td>0.265092</td>\n",
       "      <td>0.139323</td>\n",
       "      <td>0.542344</td>\n",
       "      <td>0.105571</td>\n",
       "      <td>0.666165</td>\n",
       "      <td>-0.172675</td>\n",
       "      <td>-0.006821</td>\n",
       "      <td>-1.533391e-17</td>\n",
       "      <td>-4.248015e-17</td>\n",
       "    </tr>\n",
       "    <tr>\n",
       "      <th>1</th>\n",
       "      <td>-2.107544</td>\n",
       "      <td>0.860526</td>\n",
       "      <td>0.401491</td>\n",
       "      <td>-2.145899</td>\n",
       "      <td>2.044390</td>\n",
       "      <td>0.026212</td>\n",
       "      <td>0.147927</td>\n",
       "      <td>0.476597</td>\n",
       "      <td>-1.206812</td>\n",
       "      <td>0.924042</td>\n",
       "      <td>-0.135448</td>\n",
       "      <td>-0.696570</td>\n",
       "      <td>0.039403</td>\n",
       "      <td>-0.307597</td>\n",
       "      <td>0.419582</td>\n",
       "      <td>-0.204459</td>\n",
       "      <td>-0.397547</td>\n",
       "      <td>0.487461</td>\n",
       "      <td>0.163041</td>\n",
       "      <td>-0.121837</td>\n",
       "      <td>0.051413</td>\n",
       "      <td>-0.502128</td>\n",
       "      <td>-0.884767</td>\n",
       "      <td>-1.061572</td>\n",
       "      <td>-1.410468</td>\n",
       "      <td>0.167552</td>\n",
       "      <td>0.658051</td>\n",
       "      <td>-0.306940</td>\n",
       "      <td>-0.047905</td>\n",
       "      <td>9.326948e-17</td>\n",
       "      <td>-6.642932e-19</td>\n",
       "    </tr>\n",
       "    <tr>\n",
       "      <th>2</th>\n",
       "      <td>0.631129</td>\n",
       "      <td>-1.755853</td>\n",
       "      <td>-1.144649</td>\n",
       "      <td>-1.749626</td>\n",
       "      <td>-0.139473</td>\n",
       "      <td>-0.046576</td>\n",
       "      <td>0.344210</td>\n",
       "      <td>-0.548844</td>\n",
       "      <td>-0.099450</td>\n",
       "      <td>-0.126007</td>\n",
       "      <td>0.066165</td>\n",
       "      <td>-0.008507</td>\n",
       "      <td>0.445479</td>\n",
       "      <td>0.219793</td>\n",
       "      <td>-0.341981</td>\n",
       "      <td>0.716320</td>\n",
       "      <td>0.395574</td>\n",
       "      <td>0.336970</td>\n",
       "      <td>0.258881</td>\n",
       "      <td>-0.325586</td>\n",
       "      <td>0.522350</td>\n",
       "      <td>0.367198</td>\n",
       "      <td>0.163487</td>\n",
       "      <td>0.268237</td>\n",
       "      <td>0.085463</td>\n",
       "      <td>-0.238612</td>\n",
       "      <td>-0.053587</td>\n",
       "      <td>0.024210</td>\n",
       "      <td>0.438600</td>\n",
       "      <td>-3.260564e-17</td>\n",
       "      <td>3.865535e-17</td>\n",
       "    </tr>\n",
       "    <tr>\n",
       "      <th>3</th>\n",
       "      <td>3.932944</td>\n",
       "      <td>0.935698</td>\n",
       "      <td>-3.826203</td>\n",
       "      <td>1.154840</td>\n",
       "      <td>-0.540938</td>\n",
       "      <td>1.228420</td>\n",
       "      <td>-0.153198</td>\n",
       "      <td>-0.029159</td>\n",
       "      <td>-0.716549</td>\n",
       "      <td>0.329924</td>\n",
       "      <td>-0.378396</td>\n",
       "      <td>0.028697</td>\n",
       "      <td>0.523694</td>\n",
       "      <td>-0.327837</td>\n",
       "      <td>-1.067036</td>\n",
       "      <td>-0.690147</td>\n",
       "      <td>-1.107363</td>\n",
       "      <td>-0.082702</td>\n",
       "      <td>-0.286069</td>\n",
       "      <td>0.502363</td>\n",
       "      <td>-0.397305</td>\n",
       "      <td>-0.395770</td>\n",
       "      <td>-0.562257</td>\n",
       "      <td>0.341707</td>\n",
       "      <td>-0.316715</td>\n",
       "      <td>-0.297497</td>\n",
       "      <td>0.266608</td>\n",
       "      <td>0.027728</td>\n",
       "      <td>-0.090186</td>\n",
       "      <td>-2.723766e-17</td>\n",
       "      <td>9.983567e-17</td>\n",
       "    </tr>\n",
       "    <tr>\n",
       "      <th>4</th>\n",
       "      <td>0.725932</td>\n",
       "      <td>-0.413855</td>\n",
       "      <td>1.562954</td>\n",
       "      <td>-1.820942</td>\n",
       "      <td>-0.565672</td>\n",
       "      <td>-0.015590</td>\n",
       "      <td>0.544393</td>\n",
       "      <td>-1.357035</td>\n",
       "      <td>-0.693071</td>\n",
       "      <td>0.104439</td>\n",
       "      <td>-0.892871</td>\n",
       "      <td>-0.840564</td>\n",
       "      <td>0.345822</td>\n",
       "      <td>0.562979</td>\n",
       "      <td>-0.448863</td>\n",
       "      <td>-0.351298</td>\n",
       "      <td>0.515457</td>\n",
       "      <td>-0.224000</td>\n",
       "      <td>0.485082</td>\n",
       "      <td>0.164040</td>\n",
       "      <td>-0.620247</td>\n",
       "      <td>0.297722</td>\n",
       "      <td>-0.223689</td>\n",
       "      <td>0.433532</td>\n",
       "      <td>0.884804</td>\n",
       "      <td>0.001743</td>\n",
       "      <td>-0.231202</td>\n",
       "      <td>-0.365035</td>\n",
       "      <td>0.055632</td>\n",
       "      <td>8.047576e-17</td>\n",
       "      <td>-7.391170e-17</td>\n",
       "    </tr>\n",
       "  </tbody>\n",
       "</table>\n",
       "</div>"
      ],
      "text/plain": [
       "      PCA_1     PCA_2     PCA_3  ...    PCA_29        PCA_30        PCA_31\n",
       "0  0.941454  0.345513 -2.112678  ... -0.006821 -1.533391e-17 -4.248015e-17\n",
       "1 -2.107544  0.860526  0.401491  ... -0.047905  9.326948e-17 -6.642932e-19\n",
       "2  0.631129 -1.755853 -1.144649  ...  0.438600 -3.260564e-17  3.865535e-17\n",
       "3  3.932944  0.935698 -3.826203  ... -0.090186 -2.723766e-17  9.983567e-17\n",
       "4  0.725932 -0.413855  1.562954  ...  0.055632  8.047576e-17 -7.391170e-17\n",
       "\n",
       "[5 rows x 31 columns]"
      ]
     },
     "execution_count": 20,
     "metadata": {
      "tags": []
     },
     "output_type": "execute_result"
    }
   ],
   "source": [
    "X_train.head()"
   ]
  },
  {
   "cell_type": "markdown",
   "metadata": {
    "id": "ULRwKeARCb3D"
   },
   "source": [
    "# Getting variances"
   ]
  },
  {
   "cell_type": "code",
   "execution_count": 21,
   "metadata": {
    "colab": {
     "base_uri": "https://localhost:8080/"
    },
    "executionInfo": {
     "elapsed": 251,
     "status": "ok",
     "timestamp": 1626423394922,
     "user": {
      "displayName": "Ignacio Soteras",
      "photoUrl": "",
      "userId": "02050793736257155229"
     },
     "user_tz": -120
    },
    "id": "tt2nU1uiCdfb",
    "outputId": "a1cf4200-ecec-483d-d183-2806a09b28f2"
   },
   "outputs": [
    {
     "name": "stdout",
     "output_type": "stream",
     "text": [
      "[1.95647880e-01 9.92818113e-02 6.85530557e-02 5.90067826e-02\n",
      " 4.75434968e-02 3.93473881e-02 3.71146490e-02 3.52248651e-02\n",
      " 3.41908311e-02 3.31054042e-02 3.15754859e-02 3.11760392e-02\n",
      " 2.98620215e-02 2.87441856e-02 2.81198161e-02 2.69006068e-02\n",
      " 2.56107816e-02 2.43162090e-02 2.11343301e-02 1.99361673e-02\n",
      " 1.80217404e-02 1.38315490e-02 1.24798515e-02 8.92806905e-03\n",
      " 8.44527982e-03 8.16602907e-03 6.26052596e-03 4.20425906e-03\n",
      " 3.27088864e-03 3.85847410e-32 1.95335251e-33]\n"
     ]
    }
   ],
   "source": [
    "# Getting\n",
    "print(pca.explained_variance_ratio_) # Individual variances of each principal components\n",
    "#print(pca.singular_values_)"
   ]
  },
  {
   "cell_type": "code",
   "execution_count": 23,
   "metadata": {
    "executionInfo": {
     "elapsed": 214,
     "status": "ok",
     "timestamp": 1626423495456,
     "user": {
      "displayName": "Ignacio Soteras",
      "photoUrl": "",
      "userId": "02050793736257155229"
     },
     "user_tz": -120
    },
    "id": "gNXO9WGEP_y-"
   },
   "outputs": [],
   "source": [
    "variances = pca.explained_variance_ratio_.tolist()"
   ]
  },
  {
   "cell_type": "code",
   "execution_count": 24,
   "metadata": {
    "colab": {
     "base_uri": "https://localhost:8080/"
    },
    "executionInfo": {
     "elapsed": 201,
     "status": "ok",
     "timestamp": 1626423498986,
     "user": {
      "displayName": "Ignacio Soteras",
      "photoUrl": "",
      "userId": "02050793736257155229"
     },
     "user_tz": -120
    },
    "id": "JKmM34WbSOG4",
    "outputId": "982ef7ab-6b7e-4b2d-8e03-61a02b71f099"
   },
   "outputs": [
    {
     "data": {
      "text/plain": [
       "[0.1956478803436213, 0.09928181134833837]"
      ]
     },
     "execution_count": 24,
     "metadata": {
      "tags": []
     },
     "output_type": "execute_result"
    }
   ],
   "source": [
    "variances[:2]"
   ]
  },
  {
   "cell_type": "code",
   "execution_count": 25,
   "metadata": {
    "colab": {
     "base_uri": "https://localhost:8080/",
     "height": 236
    },
    "executionInfo": {
     "elapsed": 215,
     "status": "ok",
     "timestamp": 1626423663595,
     "user": {
      "displayName": "Ignacio Soteras",
      "photoUrl": "",
      "userId": "02050793736257155229"
     },
     "user_tz": -120
    },
    "id": "S1o-Ems8QsJO",
    "outputId": "7eee79f8-bbce-429b-9874-0076cdb12447"
   },
   "outputs": [
    {
     "data": {
      "text/html": [
       "<div>\n",
       "<style scoped>\n",
       "    .dataframe tbody tr th:only-of-type {\n",
       "        vertical-align: middle;\n",
       "    }\n",
       "\n",
       "    .dataframe tbody tr th {\n",
       "        vertical-align: top;\n",
       "    }\n",
       "\n",
       "    .dataframe thead th {\n",
       "        text-align: right;\n",
       "    }\n",
       "</style>\n",
       "<table border=\"1\" class=\"dataframe\">\n",
       "  <thead>\n",
       "    <tr style=\"text-align: right;\">\n",
       "      <th></th>\n",
       "      <th>num_pca</th>\n",
       "      <th>variance</th>\n",
       "      <th>cum_variance</th>\n",
       "    </tr>\n",
       "  </thead>\n",
       "  <tbody>\n",
       "    <tr>\n",
       "      <th>0</th>\n",
       "      <td>1</td>\n",
       "      <td>0.195648</td>\n",
       "      <td>0.195648</td>\n",
       "    </tr>\n",
       "    <tr>\n",
       "      <th>1</th>\n",
       "      <td>2</td>\n",
       "      <td>0.099282</td>\n",
       "      <td>0.294930</td>\n",
       "    </tr>\n",
       "    <tr>\n",
       "      <th>2</th>\n",
       "      <td>3</td>\n",
       "      <td>0.068553</td>\n",
       "      <td>0.363483</td>\n",
       "    </tr>\n",
       "    <tr>\n",
       "      <th>3</th>\n",
       "      <td>4</td>\n",
       "      <td>0.059007</td>\n",
       "      <td>0.422490</td>\n",
       "    </tr>\n",
       "    <tr>\n",
       "      <th>4</th>\n",
       "      <td>5</td>\n",
       "      <td>0.047543</td>\n",
       "      <td>0.470033</td>\n",
       "    </tr>\n",
       "    <tr>\n",
       "      <th>5</th>\n",
       "      <td>6</td>\n",
       "      <td>0.039347</td>\n",
       "      <td>0.509380</td>\n",
       "    </tr>\n",
       "  </tbody>\n",
       "</table>\n",
       "</div>"
      ],
      "text/plain": [
       "   num_pca  variance  cum_variance\n",
       "0        1  0.195648      0.195648\n",
       "1        2  0.099282      0.294930\n",
       "2        3  0.068553      0.363483\n",
       "3        4  0.059007      0.422490\n",
       "4        5  0.047543      0.470033\n",
       "5        6  0.039347      0.509380"
      ]
     },
     "execution_count": 25,
     "metadata": {
      "tags": []
     },
     "output_type": "execute_result"
    }
   ],
   "source": [
    "total_variance = [sum(variances[:i]) for i in range(1, len(variances)+1)]\n",
    "scree = pd.DataFrame({'num_pca': range(1,len(variances)+1),'variance': variances,'cum_variance': total_variance})\n",
    "scree.head(6)"
   ]
  },
  {
   "cell_type": "code",
   "execution_count": 26,
   "metadata": {
    "colab": {
     "base_uri": "https://localhost:8080/",
     "height": 515
    },
    "executionInfo": {
     "elapsed": 1573,
     "status": "ok",
     "timestamp": 1626423811432,
     "user": {
      "displayName": "Ignacio Soteras",
      "photoUrl": "",
      "userId": "02050793736257155229"
     },
     "user_tz": -120
    },
    "id": "sOkM5yK5JEnx",
    "outputId": "de5e7c0b-f903-4c58-e7f6-f521b669a5ee"
   },
   "outputs": [
    {
     "data": {
      "text/plain": [
       "<matplotlib.axes._subplots.AxesSubplot at 0x7fbfddab8c50>"
      ]
     },
     "execution_count": 26,
     "metadata": {
      "tags": []
     },
     "output_type": "execute_result"
    },
    {
     "data": {
      "image/png": "[encoded data removed]",
      "text/plain": [
       "<Figure size 1152x576 with 2 Axes>"
      ]
     },
     "metadata": {
      "tags": []
     },
     "output_type": "display_data"
    }
   ],
   "source": [
    "import matplotlib.pyplot as plt\n",
    "import seaborn as sns\n",
    "%matplotlib inline\n",
    "\n",
    "sns.set_style(\"darkgrid\", {\"axes.facecolor\": \".9\"})\n",
    "\n",
    "fig, ax = plt.subplots(1,2,figsize=(16,8))\n",
    "\n",
    "sns.lineplot(x=\"num_pca\", y=\"variance\", data=scree, ax = ax[0], color = 'black')\n",
    "ax[0].set_xticks(range(1,32))\n",
    "sns.barplot(x=\"num_pca\", y=\"cum_variance\", data=scree, ax = ax[1], color = 'lightblue')"
   ]
  },
  {
   "cell_type": "markdown",
   "metadata": {
    "id": "Tqw3OlSmUCF0"
   },
   "source": [
    "Here we have a very bad scenario. On the left plot it looks that there is an elbow at 6 pca's. However, with five principal components we are only able to explain\n",
    "\n",
    "```\n",
    "cum_variance[6] = 0.51\n",
    "```\n",
    "\n",
    "only 51% of the total variability of the data!!!\n",
    "\n",
    "Bear in mind that we only selected the numerical columns and we didn't take into account the categorical ones. \n"
   ]
  },
  {
   "cell_type": "markdown",
   "metadata": {
    "id": "MYifnhkumyK5"
   },
   "source": [
    "# Getting the pca coeficients"
   ]
  },
  {
   "cell_type": "code",
   "execution_count": 27,
   "metadata": {
    "colab": {
     "base_uri": "https://localhost:8080/"
    },
    "executionInfo": {
     "elapsed": 261,
     "status": "ok",
     "timestamp": 1626423965953,
     "user": {
      "displayName": "Ignacio Soteras",
      "photoUrl": "",
      "userId": "02050793736257155229"
     },
     "user_tz": -120
    },
    "id": "cQymnyxmmxhj",
    "outputId": "ed79975c-eda4-47f7-c0c1-bc63e23784a6"
   },
   "outputs": [
    {
     "data": {
      "text/plain": [
       "array([[ 1.00000000e+00, -1.69218409e-17,  8.46092045e-17,\n",
       "        -4.79452159e-17, -1.12812273e-17,  3.52538352e-18,\n",
       "        -8.46092045e-18,  8.46092045e-18,  3.52538352e-19,\n",
       "        -4.40672940e-18,  4.23046023e-18, -1.12812273e-17,\n",
       "        -1.58642258e-18,  1.41015341e-18, -1.41015341e-17,\n",
       "        -1.86845327e-17, -2.82030682e-18, -3.11776105e-18,\n",
       "         2.82030682e-18,  1.55116875e-17,  1.26913807e-17,\n",
       "        -1.26913807e-17, -4.93553693e-18, -2.82030682e-18,\n",
       "         4.23046023e-18, -3.52538352e-19, -1.12812273e-17,\n",
       "        -1.05761506e-18,  1.43218706e-18,  2.34837717e-34,\n",
       "         6.11556556e-34],\n",
       "       [ 1.69218409e-17,  1.00000000e+00,  1.45251819e-16,\n",
       "        -2.28425170e-15, -4.95837624e-16, -1.02657179e-16,\n",
       "        -7.00363331e-17, -5.48637572e-17,  2.30166956e-16,\n",
       "        -2.58521862e-16, -2.07843120e-16, -5.37470987e-16,\n",
       "         2.29729474e-16,  9.44953952e-16,  2.44095261e-16,\n",
       "        -2.93441447e-16, -3.02843383e-17,  1.09500772e-16,\n",
       "         9.62038304e-17, -3.43444841e-16, -1.16990105e-16,\n",
       "         8.92345296e-17,  4.93510931e-17, -8.57954895e-17,\n",
       "         2.80792727e-17, -2.91818055e-18,  1.84173979e-16,\n",
       "        -1.37124079e-16, -9.39630236e-17, -1.13758917e-33,\n",
       "        -1.95896670e-32],\n",
       "       [-8.46092045e-17,  3.37652036e-16,  1.00000000e+00,\n",
       "         2.83145664e-15,  7.18400084e-16,  3.91027197e-17,\n",
       "         2.21823611e-16, -3.05090338e-16, -1.83345605e-16,\n",
       "         8.63548091e-17,  9.72550114e-17,  1.06329057e-17,\n",
       "        -2.00798067e-16, -5.61644796e-16, -1.00899728e-16,\n",
       "         9.33920685e-17,  6.16388246e-17, -3.09721235e-17,\n",
       "        -2.65822643e-18, -3.95347635e-17, -3.11944220e-17,\n",
       "         2.80994603e-16,  1.59356480e-16,  8.24555063e-17,\n",
       "        -2.28873002e-16,  2.93888965e-17,  4.13088752e-16,\n",
       "         4.50751862e-17, -7.09607773e-17,  3.02569728e-31,\n",
       "         8.04610159e-31],\n",
       "       [ 4.79452159e-17,  2.37173587e-15, -2.53280596e-15,\n",
       "         1.00000000e+00, -9.71097747e-16, -1.20831602e-16,\n",
       "         2.05901391e-16,  1.41043304e-16, -1.46811830e-16,\n",
       "        -5.33839446e-17,  4.79702468e-17, -1.59247160e-16,\n",
       "        -2.65825807e-17,  5.67211152e-16,  8.08705632e-17,\n",
       "        -1.22395942e-16,  2.11723114e-16,  1.04140057e-16,\n",
       "         7.62409830e-17,  3.12190833e-17, -1.34284049e-16,\n",
       "         3.84084230e-16,  2.18491278e-16,  2.46417584e-16,\n",
       "        -3.07648066e-16,  3.25369214e-17,  6.17908957e-16,\n",
       "        -6.18658616e-17, -1.62982334e-16,  1.53549245e-29,\n",
       "         3.99945290e-29],\n",
       "       [ 1.12812273e-17,  1.60611553e-16, -8.16935551e-16,\n",
       "         1.01417098e-15,  1.00000000e+00, -4.92229605e-16,\n",
       "        -9.61002706e-16,  2.82725827e-16,  1.13202225e-15,\n",
       "        -1.79719505e-16, -2.39408890e-16, -4.09611251e-16,\n",
       "         7.33874099e-17,  2.73029171e-16, -2.37649840e-16,\n",
       "        -8.16867049e-16,  3.35614865e-16, -6.19133890e-16,\n",
       "        -6.93348115e-17,  3.57315298e-16, -1.25662835e-16,\n",
       "         4.91689488e-16,  1.43621364e-16,  7.19368967e-17,\n",
       "        -4.53647239e-16,  7.25738861e-18, -1.45933282e-16,\n",
       "        -1.96778432e-16,  3.72721085e-16,  2.05564118e-26,\n",
       "         5.35324711e-26],\n",
       "       [-3.52538352e-18,  4.15376814e-17, -2.38077185e-17,\n",
       "        -5.11032161e-17,  2.26488738e-16,  1.00000000e+00,\n",
       "        -1.25099664e-14, -3.63850237e-16, -1.50608214e-15,\n",
       "         1.37738830e-15,  2.46591343e-15,  2.52716575e-15,\n",
       "        -7.43283770e-16, -2.45459292e-15,  2.39574673e-16,\n",
       "         6.41736138e-16, -2.85335181e-16,  3.95580823e-16,\n",
       "         2.67987946e-16, -5.33944554e-16, -5.55473432e-16,\n",
       "        -6.85933388e-17, -6.60130414e-17, -8.48661989e-17,\n",
       "        -3.53409847e-17, -7.58501406e-17, -4.74773227e-16,\n",
       "        -7.97982814e-17, -2.07290989e-16,  6.09898721e-24,\n",
       "         1.58833241e-23],\n",
       "       [ 8.46092045e-18, -3.72939483e-17, -2.36802787e-16,\n",
       "        -1.54134600e-16,  8.55561454e-16,  1.20927336e-14,\n",
       "         1.00000000e+00, -2.27271251e-14, -5.73091366e-15,\n",
       "         4.95105546e-16,  2.81389873e-15,  9.71787927e-16,\n",
       "        -3.77570963e-17, -4.93740464e-17, -1.44492985e-15,\n",
       "         1.31723955e-15,  9.90179119e-16, -4.17191584e-16,\n",
       "        -5.59317176e-16, -3.02402157e-16, -1.73257462e-16,\n",
       "         4.75099347e-16,  4.80062323e-16, -2.29331485e-16,\n",
       "        -1.62019398e-16, -1.24103332e-16, -5.59972902e-16,\n",
       "        -1.02501417e-16,  3.46840365e-16, -2.86560333e-25,\n",
       "        -7.34493959e-25],\n",
       "       [-8.46092045e-18,  1.24592912e-16,  3.76236165e-16,\n",
       "        -7.38325704e-17, -6.75064140e-16, -1.68370847e-18,\n",
       "         2.20663185e-14,  1.00000000e+00,  7.06090178e-15,\n",
       "        -3.08843167e-17,  3.91191717e-15, -4.79763448e-15,\n",
       "         1.54799506e-15,  1.12272344e-15, -1.76788728e-15,\n",
       "        -1.57039373e-15, -6.64246428e-16,  5.93927621e-16,\n",
       "         1.36521964e-18, -8.70497682e-16, -1.94058645e-16,\n",
       "        -9.56401752e-17,  3.66357760e-16,  1.07705519e-16,\n",
       "        -6.14669470e-17, -1.24664167e-16, -1.99143159e-18,\n",
       "         3.75321858e-16,  3.25294763e-16,  5.70930873e-24,\n",
       "         1.54710858e-23],\n",
       "       [-3.52538352e-19, -2.28656315e-16,  1.87882622e-16,\n",
       "         1.70082325e-16, -1.21613841e-15,  1.44115070e-15,\n",
       "         5.59555609e-15, -7.17504892e-15,  1.00000000e+00,\n",
       "        -2.75058368e-14,  2.50538004e-15,  1.24104318e-15,\n",
       "         5.09185566e-16,  2.74439891e-15,  1.76610285e-15,\n",
       "        -1.38403178e-15, -8.19803129e-16,  1.64926315e-15,\n",
       "        -2.18699922e-16,  8.21979839e-17,  4.11711354e-17,\n",
       "         4.01779662e-16, -8.09475863e-16, -9.37129340e-17,\n",
       "         8.48986895e-17, -2.78060487e-17, -3.58759268e-17,\n",
       "        -5.05205746e-16, -7.68856171e-17,  1.16812824e-22,\n",
       "         1.96722185e-22],\n",
       "       [ 4.40672940e-18,  2.55446224e-16, -1.04558049e-16,\n",
       "         2.70618838e-17,  2.05320162e-16, -9.21581851e-16,\n",
       "         6.61990628e-17,  2.30004971e-16,  2.73762480e-14,\n",
       "         1.00000000e+00, -1.49001134e-14,  7.62863560e-15,\n",
       "         6.63823186e-15, -2.39979673e-15,  1.60118979e-15,\n",
       "        -1.04332037e-15, -1.34523078e-15,  5.90874805e-16,\n",
       "        -1.11439027e-15, -4.61736024e-16,  6.14194387e-16,\n",
       "         1.36940878e-16,  9.75191123e-18, -1.18998121e-16,\n",
       "        -2.97644862e-16, -9.86971456e-17, -9.04501905e-17,\n",
       "         1.00811538e-16,  1.14829973e-16,  9.30784134e-23,\n",
       "         2.25085786e-22],\n",
       "       [-4.23046023e-18,  2.04878147e-16, -2.51900105e-17,\n",
       "         1.49163064e-17,  1.95973749e-16, -2.56562789e-15,\n",
       "        -2.91905448e-15, -4.03978874e-15, -2.61754708e-15,\n",
       "         1.45653933e-14,  1.00000000e+00, -1.87784316e-14,\n",
       "         1.44926999e-15,  1.05520601e-15, -1.75478531e-15,\n",
       "         2.01031781e-15, -1.23882190e-15,  1.90639931e-15,\n",
       "         1.19447803e-15,  5.47743747e-16, -7.68618082e-16,\n",
       "         1.48807318e-17,  1.92672822e-16,  8.26037046e-17,\n",
       "        -2.68691022e-16,  1.15872545e-16,  2.16340396e-17,\n",
       "        -5.79405081e-18,  4.84209709e-17,  3.67888683e-22,\n",
       "         4.80360764e-22],\n",
       "       [ 1.12812273e-17,  5.35558277e-16, -1.24278426e-16,\n",
       "         3.64852222e-17,  4.68323130e-16, -2.52450950e-15,\n",
       "        -1.20374077e-15,  4.24731310e-15, -1.29870994e-15,\n",
       "        -6.91688762e-15,  1.82769679e-14,  1.00000000e+00,\n",
       "        -2.31920684e-15,  3.01625697e-15,  1.51133596e-16,\n",
       "        -4.08067545e-16,  1.40294456e-15,  1.15707862e-15,\n",
       "        -1.95143339e-16, -7.61807259e-16, -5.64587358e-17,\n",
       "        -3.16506812e-16, -2.39680642e-16, -1.51918825e-17,\n",
       "         3.04365307e-16, -8.08831136e-17,  2.63625760e-16,\n",
       "         2.37568362e-16,  1.08859627e-16,  8.94570286e-23,\n",
       "         1.16042369e-22],\n",
       "       [ 1.58642258e-18, -2.50031154e-16,  1.91974449e-16,\n",
       "         9.70110736e-18, -8.34471137e-17,  6.23999869e-16,\n",
       "        -2.29233392e-17, -1.62571448e-15, -4.50277078e-16,\n",
       "        -6.71415133e-15, -1.22886562e-15,  2.59388173e-15,\n",
       "         1.00000000e+00, -9.35832271e-15,  6.45278842e-15,\n",
       "        -1.35069485e-15, -1.75363369e-15, -9.79202320e-17,\n",
       "         1.15946309e-16,  5.60770653e-16, -2.42904897e-16,\n",
       "        -4.37757227e-16,  2.45280983e-16,  1.36158507e-17,\n",
       "         1.54793197e-16, -6.96656267e-17,  3.90677318e-17,\n",
       "        -8.54274128e-17,  4.25718332e-17, -7.12262988e-22,\n",
       "        -6.60276729e-22],\n",
       "       [-1.41015341e-18, -9.36212564e-16,  5.78441798e-16,\n",
       "        -5.60157565e-16, -2.54678356e-16,  2.39564125e-15,\n",
       "         5.09605977e-17, -1.03411513e-15, -3.03625739e-15,\n",
       "         2.49184538e-15, -1.20742330e-15, -3.08054290e-15,\n",
       "         9.83514651e-15,  1.00000000e+00, -5.19718404e-15,\n",
       "         2.42563265e-17,  3.89518622e-15,  4.35710419e-16,\n",
       "        -2.73625707e-16, -1.17335043e-15,  2.79754256e-16,\n",
       "         2.02498870e-16,  4.63899856e-17, -2.98424812e-17,\n",
       "         1.55025433e-17,  1.78164933e-16, -5.33535155e-16,\n",
       "        -2.18191818e-17, -3.03854204e-16, -5.93208294e-22,\n",
       "         1.13900742e-21],\n",
       "       [ 1.41015341e-17, -3.67998090e-16,  1.46900336e-16,\n",
       "        -5.52377748e-17,  8.01115027e-17, -2.20576239e-16,\n",
       "         1.19668153e-15,  1.47652735e-15, -1.69488887e-15,\n",
       "        -1.68674538e-15,  1.77302623e-15,  1.26949037e-16,\n",
       "        -6.30704307e-15,  4.83897186e-15,  1.00000000e+00,\n",
       "         2.36040000e-14, -4.69755262e-15, -3.84912018e-15,\n",
       "         8.72053672e-16, -1.04108913e-15, -7.70039689e-16,\n",
       "        -1.92731840e-16,  2.27731423e-16, -8.88260225e-17,\n",
       "         2.94174465e-16, -9.67552244e-17, -4.82580346e-17,\n",
       "        -1.60809011e-17, -9.77674414e-17, -1.06366336e-22,\n",
       "        -1.81256574e-23],\n",
       "       [ 1.86845327e-17,  8.61960041e-17, -9.79131132e-17,\n",
       "         1.45234790e-16,  5.17979094e-16, -4.02429089e-16,\n",
       "        -1.15697795e-15,  2.02780914e-15,  1.24636658e-15,\n",
       "         1.13590901e-15, -2.05395390e-15,  5.28387435e-16,\n",
       "         1.43836038e-15, -1.61751294e-17, -2.28533541e-14,\n",
       "         1.00000000e+00,  1.09992721e-14,  9.50733001e-15,\n",
       "        -1.47709370e-16, -6.92183761e-16,  1.06986215e-15,\n",
       "         1.79138752e-16, -5.83977777e-16,  1.84138563e-16,\n",
       "        -1.76115737e-16,  4.65915176e-19, -9.61130168e-17,\n",
       "         4.66310194e-17, -9.98505590e-17, -4.91942687e-23,\n",
       "        -7.16658053e-23],\n",
       "       [ 2.82030682e-18,  1.38777878e-17, -5.55111512e-17,\n",
       "        -2.23779328e-16, -3.91180144e-16,  3.23851189e-16,\n",
       "        -9.85756615e-16,  7.72385628e-16,  9.03275935e-16,\n",
       "         1.25431349e-15,  5.80481843e-16, -1.62456854e-15,\n",
       "         1.60792603e-15, -3.90887409e-15,  4.65816621e-15,\n",
       "        -1.06008952e-14,  1.00000000e+00,  4.75335916e-15,\n",
       "        -3.66004969e-15, -8.20957885e-16, -1.05341083e-15,\n",
       "         6.26668856e-16, -4.41053444e-16, -2.36139233e-16,\n",
       "        -2.80808363e-16,  2.17247010e-16, -7.02563008e-17,\n",
       "        -3.92101716e-16, -1.80031771e-16, -3.94321120e-23,\n",
       "         8.61683504e-23],\n",
       "       [ 3.11776105e-18, -1.11022302e-16,  4.85722573e-17,\n",
       "        -1.02348685e-16,  5.67688258e-16, -3.63099308e-16,\n",
       "         4.20670443e-16, -4.31078784e-16, -1.23031197e-15,\n",
       "        -4.59484881e-16, -1.73342243e-15, -1.20346441e-15,\n",
       "         1.77538106e-16, -4.97486167e-16,  3.81162116e-15,\n",
       "        -9.27296434e-15, -4.65328730e-15,  1.00000000e+00,\n",
       "        -5.38902690e-15,  1.60982339e-15,  1.32055825e-15,\n",
       "         3.27429056e-16, -8.55435514e-16, -1.10046521e-16,\n",
       "         3.68628739e-17, -3.18091365e-16,  1.18394877e-16,\n",
       "        -2.50775962e-16,  8.47846099e-17,  1.12839250e-23,\n",
       "        -2.70512766e-23],\n",
       "       [-2.82030682e-18, -9.02056208e-17, -3.46944695e-18,\n",
       "        -9.71445147e-17,  9.10729825e-17, -2.97396656e-16,\n",
       "         4.58400679e-16, -2.57172755e-16,  2.69288715e-16,\n",
       "         9.44123252e-16, -1.02717314e-15,  2.02095285e-16,\n",
       "        -2.99836111e-16, -3.87060176e-17, -6.70036943e-16,\n",
       "        -1.12757026e-17,  3.52083813e-15,  4.79228202e-15,\n",
       "         1.00000000e+00, -4.91664001e-15,  1.08029904e-15,\n",
       "         2.41560244e-16, -5.60315683e-16, -8.42858769e-16,\n",
       "        -6.93238869e-16,  5.70967969e-16,  4.33680869e-18,\n",
       "        -1.61058233e-16, -7.69783542e-18, -3.61346312e-24,\n",
       "        -1.34458047e-23],\n",
       "       [-1.55116875e-17,  3.60822483e-16, -5.55111512e-17,\n",
       "        -1.38777878e-16, -3.45209972e-16,  4.11996826e-16,\n",
       "         2.91433544e-16,  1.06165077e-15,  7.54062611e-17,\n",
       "         4.56232274e-16, -6.45317133e-16,  6.26235175e-16,\n",
       "        -5.71157704e-16,  1.21929376e-15,  9.19403442e-16,\n",
       "         5.16947596e-16,  7.35956435e-16, -1.74730022e-15,\n",
       "         5.14822560e-15,  1.00000000e+00,  1.13693777e-14,\n",
       "        -4.51028104e-17, -1.17527515e-15, -1.38344197e-16,\n",
       "        -3.81639165e-16,  2.02149495e-16, -2.48065457e-16,\n",
       "         3.31332184e-16, -3.33934269e-16, -3.75997020e-24,\n",
       "        -9.31622251e-24],\n",
       "       [-1.26913807e-17,  2.77555756e-16, -1.38777878e-17,\n",
       "         3.46944695e-17,  2.30718222e-16,  3.68195058e-16,\n",
       "        -2.27248775e-16,  6.07153217e-17,  3.50739403e-17,\n",
       "        -4.38885039e-16,  7.69349862e-16, -1.09287579e-16,\n",
       "         2.45463372e-16, -2.76037873e-16,  5.81132364e-16,\n",
       "        -1.01307851e-15,  1.21127067e-15, -1.15966264e-15,\n",
       "        -1.26678182e-15, -1.11993748e-14,  1.00000000e+00,\n",
       "        -2.51881849e-15,  2.90652918e-15, -2.84060969e-16,\n",
       "        -3.30464822e-16, -3.69441890e-16, -2.60208521e-17,\n",
       "         5.64869332e-16, -1.10805462e-16,  8.64705984e-25,\n",
       "         2.01977007e-24],\n",
       "       [ 1.26913807e-17, -6.93889390e-17, -9.71445147e-17,\n",
       "        -2.15105711e-16, -3.81639165e-17,  1.05818132e-16,\n",
       "         9.54097912e-17, -2.61943245e-16, -3.76760255e-16,\n",
       "        -2.51534904e-17, -6.07153217e-18,  1.76941795e-16,\n",
       "         4.87674137e-16, -2.26815094e-16,  2.01227923e-16,\n",
       "         6.59194921e-17, -5.73326109e-16, -1.53523028e-16,\n",
       "        -3.39138440e-16,  3.17454396e-16,  2.77382284e-15,\n",
       "         1.00000000e+00, -7.87390986e-15, -5.62917768e-16,\n",
       "        -2.68882139e-17,  3.80554963e-17, -3.46944695e-18,\n",
       "        -5.01551925e-16, -3.98986399e-16,  5.92419135e-25,\n",
       "         1.53308158e-24],\n",
       "       [ 4.93553693e-18,  6.24500451e-17, -1.38777878e-17,\n",
       "        -7.97972799e-17,  1.46584134e-16, -3.72965547e-17,\n",
       "        -5.81132364e-16, -7.68482500e-16,  8.40771680e-16,\n",
       "        -4.19369400e-16, -1.67400815e-16,  1.88217497e-16,\n",
       "        -2.14021509e-16, -1.15033851e-16,  2.77555756e-17,\n",
       "         6.67001177e-16,  4.36499795e-16,  8.23126289e-16,\n",
       "         5.41884246e-16,  9.38485401e-16, -2.51361432e-15,\n",
       "         7.69696806e-15,  1.00000000e+00,  1.61264231e-15,\n",
       "        -3.20923843e-17, -1.83745163e-16,  3.99853761e-16,\n",
       "        -3.10298662e-16,  1.62630326e-18,  3.50036181e-24,\n",
       "         9.15690702e-24],\n",
       "       [ 2.82030682e-18,  7.28583860e-17, -1.38777878e-17,\n",
       "        -1.33573708e-16,  1.02348685e-16,  8.04478012e-17,\n",
       "         2.15756232e-16, -5.85469173e-18,  1.63551898e-16,\n",
       "         4.13081028e-17, -4.19586241e-17,  1.90819582e-17,\n",
       "         1.89735380e-18,  4.57533317e-17,  6.67868538e-17,\n",
       "        -1.14491749e-16,  3.10949183e-16,  3.57895137e-16,\n",
       "         4.21971486e-16,  3.73832909e-16,  2.31151903e-16,\n",
       "         1.67834496e-16, -9.70577785e-16,  1.00000000e+00,\n",
       "        -3.09590678e-14,  3.98384667e-15,  2.28116137e-15,\n",
       "         5.07704772e-16,  1.06907755e-15, -1.44238060e-24,\n",
       "        -3.90501562e-24],\n",
       "       [-4.23046023e-18, -1.11022302e-16,  5.20417043e-17,\n",
       "         1.26634814e-16,  2.10768902e-16,  3.62123526e-17,\n",
       "         2.25514052e-17,  1.56125113e-17, -8.41069835e-17,\n",
       "         1.14925430e-16,  2.47198095e-16, -3.13117587e-16,\n",
       "        -5.74627151e-17, -9.44340092e-17, -3.11382864e-16,\n",
       "         5.29090660e-17,  2.24429850e-16,  2.21177243e-17,\n",
       "         4.86806775e-16,  4.96998276e-16, -7.45931095e-17,\n",
       "        -1.82145965e-16,  3.47378376e-16,  3.05820907e-14,\n",
       "         1.00000000e+00,  1.12710134e-14, -5.44442963e-15,\n",
       "        -7.56556276e-16, -1.94126399e-16, -8.86228830e-25,\n",
       "        -2.65007738e-24],\n",
       "       [ 3.52538352e-19,  3.46944695e-18, -1.90819582e-17,\n",
       "        -1.69135539e-17,  3.52365706e-18,  7.49590277e-17,\n",
       "         1.15874107e-16,  1.51490149e-16,  1.78986532e-16,\n",
       "         2.15796890e-16, -3.88618716e-16, -7.45388994e-17,\n",
       "        -8.89926696e-17, -5.69883767e-18,  3.23634348e-17,\n",
       "         8.33751471e-17, -1.69555667e-16,  1.91199053e-16,\n",
       "        -6.36114967e-16, -1.22731686e-16,  3.05582382e-16,\n",
       "        -9.87166078e-17,  3.07452631e-16, -4.02378597e-15,\n",
       "        -1.11839113e-14,  1.00000000e+00,  7.29505432e-16,\n",
       "         4.89500340e-16, -8.94466792e-19, -1.96512113e-25,\n",
       "        -1.92472463e-24],\n",
       "       [ 1.12812273e-17, -1.66533454e-16, -2.08166817e-16,\n",
       "        -2.77555756e-16,  1.92554306e-16,  2.56739074e-16,\n",
       "         4.65773253e-16, -8.67361738e-19,  3.62665627e-17,\n",
       "         1.03649728e-16,  3.07913417e-17, -2.44596010e-16,\n",
       "         5.57279917e-17,  5.19766521e-16,  1.94289029e-16,\n",
       "        -2.08166817e-17,  3.94649591e-17, -1.51788304e-16,\n",
       "         1.25767452e-17,  2.63677968e-16,  1.21430643e-17,\n",
       "        -3.98986399e-17, -4.20670443e-16, -2.29894229e-15,\n",
       "         5.57496757e-15, -7.44467422e-16,  1.00000000e+00,\n",
       "        -2.73468314e-15, -4.26958816e-16,  1.65462999e-26,\n",
       "         4.49253926e-26],\n",
       "       [ 1.05761506e-18,  1.63064007e-16,  3.46944695e-18,\n",
       "         7.50267903e-17,  1.94072189e-16,  3.74591851e-17,\n",
       "         5.73542949e-17, -2.04805790e-16,  4.40599434e-16,\n",
       "         1.57209315e-18, -6.68410639e-17, -6.61363325e-17,\n",
       "         1.61546124e-17, -4.51841255e-17, -1.11672824e-16,\n",
       "         1.30971622e-16,  4.22567797e-16,  1.93313247e-16,\n",
       "         9.95839695e-17, -3.98769559e-16, -3.54750951e-16,\n",
       "         7.71084585e-16,  1.72767616e-16, -6.38649290e-16,\n",
       "         5.64598281e-16, -4.25474814e-16,  2.59059267e-15,\n",
       "         1.00000000e+00,  2.08676392e-15, -6.78839929e-25,\n",
       "        -1.76856245e-24],\n",
       "       [-1.43218706e-18,  7.11236625e-17, -1.90819582e-17,\n",
       "         9.80118764e-17, -3.33717429e-16, -7.58399420e-17,\n",
       "        -3.21682785e-16, -3.64400350e-16,  3.78860897e-17,\n",
       "         2.43945489e-18,  1.82959117e-16, -2.07949977e-16,\n",
       "        -5.37764278e-17,  3.17644131e-16, -4.70543743e-17,\n",
       "         1.29670580e-16,  2.26001943e-16, -1.23002736e-16,\n",
       "        -4.08202118e-17,  1.69135539e-16, -8.67361738e-18,\n",
       "         3.17454396e-16, -1.03758148e-16, -1.03557571e-15,\n",
       "        -1.34983170e-17,  3.76285916e-17,  4.26958816e-16,\n",
       "        -2.36539033e-15,  1.00000000e+00, -1.08772620e-25,\n",
       "        -2.83731152e-25],\n",
       "       [-6.55094557e-34, -1.15555797e-32, -1.30963236e-32,\n",
       "        -4.12149008e-32,  1.83155938e-31, -1.01419827e-27,\n",
       "        -2.74455836e-26, -1.22032444e-24,  1.94223981e-22,\n",
       "         5.74949064e-23,  6.48457410e-22,  3.59316400e-22,\n",
       "        -2.27698327e-21, -4.71939959e-21, -3.85168740e-22,\n",
       "         1.28290102e-22, -2.35133438e-22,  4.86697895e-23,\n",
       "         8.01216017e-24, -6.59982008e-25,  1.13205321e-25,\n",
       "         1.59773237e-26, -3.59255577e-26,  2.25347827e-25,\n",
       "         3.29488280e-25,  2.27893386e-24, -1.07056417e-27,\n",
       "         7.38302945e-28,  1.28912939e-28,  3.58476306e-01,\n",
       "         9.33538825e-01],\n",
       "       [-0.00000000e+00, -6.68899237e-33,  4.55601267e-33,\n",
       "         2.81805597e-33, -8.32051578e-32,  2.03018077e-28,\n",
       "         6.31424092e-27,  2.54395177e-25, -4.32040891e-23,\n",
       "        -1.07407970e-23, -1.91635546e-22, -7.04137317e-23,\n",
       "         5.69438419e-22,  1.10793431e-21,  1.34025463e-22,\n",
       "         1.45792044e-23,  5.34027358e-23, -1.43334438e-23,\n",
       "        -1.44636693e-24,  3.13292253e-25, -7.27247291e-26,\n",
       "        -1.06894954e-26,  1.70372798e-26, -9.25737110e-26,\n",
       "        -1.44546014e-25, -1.02818482e-24,  7.06331533e-28,\n",
       "        -5.05139953e-28, -1.73168722e-28,  9.33538825e-01,\n",
       "        -3.58476306e-01]])"
      ]
     },
     "execution_count": 27,
     "metadata": {
      "tags": []
     },
     "output_type": "execute_result"
    }
   ],
   "source": [
    "pca.components_"
   ]
  },
  {
   "cell_type": "code",
   "execution_count": 28,
   "metadata": {
    "colab": {
     "base_uri": "https://localhost:8080/"
    },
    "executionInfo": {
     "elapsed": 227,
     "status": "ok",
     "timestamp": 1626424263798,
     "user": {
      "displayName": "Ignacio Soteras",
      "photoUrl": "",
      "userId": "02050793736257155229"
     },
     "user_tz": -120
    },
    "id": "xgCXk-Z3nB1a",
    "outputId": "18e1eb6d-7d03-463d-b678-43ad41d18480"
   },
   "outputs": [
    {
     "data": {
      "text/plain": [
       "array([ 1.00000000e+00, -1.69218409e-17,  8.46092045e-17, -4.79452159e-17,\n",
       "       -1.12812273e-17,  3.52538352e-18, -8.46092045e-18,  8.46092045e-18,\n",
       "        3.52538352e-19, -4.40672940e-18,  4.23046023e-18, -1.12812273e-17,\n",
       "       -1.58642258e-18,  1.41015341e-18, -1.41015341e-17, -1.86845327e-17,\n",
       "       -2.82030682e-18, -3.11776105e-18,  2.82030682e-18,  1.55116875e-17,\n",
       "        1.26913807e-17, -1.26913807e-17, -4.93553693e-18, -2.82030682e-18,\n",
       "        4.23046023e-18, -3.52538352e-19, -1.12812273e-17, -1.05761506e-18,\n",
       "        1.43218706e-18,  2.34837717e-34,  6.11556556e-34])"
      ]
     },
     "execution_count": 28,
     "metadata": {
      "tags": []
     },
     "output_type": "execute_result"
    }
   ],
   "source": [
    "# Fisrt pca components\n",
    "pca.components_[0,:]"
   ]
  },
  {
   "cell_type": "code",
   "execution_count": 29,
   "metadata": {
    "colab": {
     "base_uri": "https://localhost:8080/"
    },
    "executionInfo": {
     "elapsed": 222,
     "status": "ok",
     "timestamp": 1626424589642,
     "user": {
      "displayName": "Ignacio Soteras",
      "photoUrl": "",
      "userId": "02050793736257155229"
     },
     "user_tz": -120
    },
    "id": "J4PHai6CnMl-",
    "outputId": "e9dd4bdb-cf86-47b3-b03f-c515b2397874"
   },
   "outputs": [
    {
     "name": "stdout",
     "output_type": "stream",
     "text": [
      "Principal component  1\n",
      "[(1, 'MSSubClass', 1.0), (3, 'OverallQual', 0.0), (4, 'OverallCond', -0.0), (16, 'HalfBath', -0.0), (2, 'LotArea', -0.0), (20, 'Fireplaces', 0.0), (15, 'FullBath', -0.0), (22, 'GarageArea', -0.0), (21, 'GarageCars', 0.0), (27, 'ScreenPorch', -0.0), (12, 'GrLivArea', -0.0), (5, 'BsmtFinSF1', -0.0), (8, 'TotalBsmtSF', 0.0), (7, 'BsmtUnfSF', -0.0), (23, 'WoodDeckSF', -0.0), (10, '2ndFlrSF', -0.0), (25, 'EnclosedPorch', 0.0), (11, 'LowQualFinSF', 0.0), (6, 'BsmtFinSF2', 0.0), (18, 'KitchenAbvGr', -0.0), (24, 'OpenPorchSF', -0.0), (19, 'TotRmsAbvGrd', 0.0), (17, 'BedroomAbvGr', -0.0), (13, 'BsmtFullBath', -0.0), (29, 'MiscVal', 0.0), (14, 'BsmtHalfBath', 0.0), (28, 'PoolArea', -0.0), (26, '3SsnPorch', -0.0), (9, '1stFlrSF', 0.0), (31, 'Antiquity', 0.0), (30, 'MoSold', 0.0)]\n",
      "\n",
      "Principal component  2\n",
      "[(2, 'LotArea', 1.0), (4, 'OverallCond', -0.0), (14, 'BsmtHalfBath', 0.0), (12, 'GrLivArea', -0.0), (5, 'BsmtFinSF1', -0.0), (20, 'Fireplaces', -0.0), (16, 'HalfBath', -0.0), (10, '2ndFlrSF', -0.0), (15, 'FullBath', 0.0), (9, '1stFlrSF', 0.0), (13, 'BsmtFullBath', 0.0), (11, 'LowQualFinSF', -0.0), (27, 'ScreenPorch', 0.0), (3, 'OverallQual', 0.0), (28, 'PoolArea', -0.0), (21, 'GarageCars', -0.0), (18, 'KitchenAbvGr', 0.0), (6, 'BsmtFinSF2', -0.0), (19, 'TotRmsAbvGrd', 0.0), (29, 'MiscVal', -0.0), (22, 'GarageArea', 0.0), (24, 'OpenPorchSF', -0.0), (7, 'BsmtUnfSF', -0.0), (8, 'TotalBsmtSF', -0.0), (23, 'WoodDeckSF', 0.0), (17, 'BedroomAbvGr', -0.0), (25, 'EnclosedPorch', 0.0), (1, 'MSSubClass', 0.0), (26, '3SsnPorch', -0.0), (31, 'Antiquity', -0.0), (30, 'MoSold', -0.0)]\n",
      "\n",
      "Principal component  3\n",
      "[(3, 'OverallQual', 1.0), (4, 'OverallCond', 0.0), (5, 'BsmtFinSF1', 0.0), (14, 'BsmtHalfBath', -0.0), (27, 'ScreenPorch', 0.0), (2, 'LotArea', 0.0), (8, 'TotalBsmtSF', -0.0), (22, 'GarageArea', 0.0), (25, 'EnclosedPorch', -0.0), (7, 'BsmtUnfSF', 0.0), (13, 'BsmtFullBath', -0.0), (9, '1stFlrSF', -0.0), (23, 'WoodDeckSF', 0.0), (15, 'FullBath', -0.0), (11, 'LowQualFinSF', 0.0), (16, 'HalfBath', 0.0), (10, '2ndFlrSF', 0.0), (1, 'MSSubClass', -0.0), (24, 'OpenPorchSF', 0.0), (29, 'MiscVal', -0.0), (17, 'BedroomAbvGr', 0.0), (28, 'PoolArea', 0.0), (20, 'Fireplaces', -0.0), (6, 'BsmtFinSF2', 0.0), (21, 'GarageCars', -0.0), (18, 'KitchenAbvGr', -0.0), (26, '3SsnPorch', 0.0), (12, 'GrLivArea', 0.0), (19, 'TotRmsAbvGrd', -0.0), (31, 'Antiquity', 0.0), (30, 'MoSold', 0.0)]\n",
      "\n",
      "Principal component  4\n",
      "[(4, 'OverallCond', 1.0), (3, 'OverallQual', -0.0), (2, 'LotArea', 0.0), (5, 'BsmtFinSF1', -0.0), (27, 'ScreenPorch', 0.0), (14, 'BsmtHalfBath', 0.0), (22, 'GarageArea', 0.0), (25, 'EnclosedPorch', -0.0), (24, 'OpenPorchSF', 0.0), (23, 'WoodDeckSF', 0.0), (17, 'BedroomAbvGr', 0.0), (7, 'BsmtUnfSF', 0.0), (29, 'MiscVal', -0.0), (12, 'GrLivArea', -0.0), (9, '1stFlrSF', -0.0), (8, 'TotalBsmtSF', 0.0), (21, 'GarageCars', -0.0), (16, 'HalfBath', -0.0), (6, 'BsmtFinSF2', -0.0), (18, 'KitchenAbvGr', 0.0), (15, 'FullBath', 0.0), (19, 'TotRmsAbvGrd', 0.0), (28, 'PoolArea', -0.0), (10, '2ndFlrSF', -0.0), (11, 'LowQualFinSF', 0.0), (1, 'MSSubClass', 0.0), (26, '3SsnPorch', 0.0), (20, 'Fireplaces', 0.0), (13, 'BsmtFullBath', -0.0), (31, 'Antiquity', 0.0), (30, 'MoSold', 0.0)]\n",
      "\n",
      "Principal component  5\n",
      "[(5, 'BsmtFinSF1', 1.0), (9, '1stFlrSF', 0.0), (4, 'OverallCond', 0.0), (7, 'BsmtUnfSF', -0.0), (3, 'OverallQual', -0.0), (16, 'HalfBath', -0.0), (18, 'KitchenAbvGr', -0.0), (6, 'BsmtFinSF2', -0.0), (22, 'GarageArea', 0.0), (25, 'EnclosedPorch', -0.0), (12, 'GrLivArea', -0.0), (29, 'MiscVal', 0.0), (20, 'Fireplaces', 0.0), (17, 'BedroomAbvGr', 0.0), (8, 'TotalBsmtSF', 0.0), (14, 'BsmtHalfBath', 0.0), (11, 'LowQualFinSF', -0.0), (15, 'FullBath', -0.0), (28, 'PoolArea', -0.0), (10, '2ndFlrSF', -0.0), (2, 'LotArea', 0.0), (27, 'ScreenPorch', -0.0), (23, 'WoodDeckSF', 0.0), (21, 'GarageCars', -0.0), (13, 'BsmtFullBath', 0.0), (24, 'OpenPorchSF', 0.0), (19, 'TotRmsAbvGrd', -0.0), (1, 'MSSubClass', 0.0), (26, '3SsnPorch', 0.0), (31, 'Antiquity', 0.0), (30, 'MoSold', 0.0)]\n",
      "\n",
      "Principal component  6\n",
      "[(6, 'BsmtFinSF2', 1.0), (7, 'BsmtUnfSF', -0.0), (12, 'GrLivArea', 0.0), (11, 'LowQualFinSF', 0.0), (14, 'BsmtHalfBath', -0.0), (9, '1stFlrSF', -0.0), (10, '2ndFlrSF', 0.0), (13, 'BsmtFullBath', -0.0), (16, 'HalfBath', 0.0), (21, 'GarageCars', -0.0), (20, 'Fireplaces', -0.0), (27, 'ScreenPorch', -0.0), (18, 'KitchenAbvGr', 0.0), (8, 'TotalBsmtSF', -0.0), (17, 'BedroomAbvGr', -0.0), (19, 'TotRmsAbvGrd', 0.0), (15, 'FullBath', 0.0), (5, 'BsmtFinSF1', 0.0), (29, 'MiscVal', -0.0), (24, 'OpenPorchSF', -0.0), (28, 'PoolArea', -0.0), (26, '3SsnPorch', -0.0), (22, 'GarageArea', -0.0), (23, 'WoodDeckSF', -0.0), (4, 'OverallCond', -0.0), (2, 'LotArea', 0.0), (25, 'EnclosedPorch', -0.0), (3, 'OverallQual', -0.0), (1, 'MSSubClass', -0.0), (31, 'Antiquity', 0.0), (30, 'MoSold', 0.0)]\n",
      "\n",
      "Principal component  7\n",
      "[(7, 'BsmtUnfSF', 1.0), (8, 'TotalBsmtSF', -0.0), (6, 'BsmtFinSF2', 0.0), (9, '1stFlrSF', -0.0), (11, 'LowQualFinSF', 0.0), (15, 'FullBath', -0.0), (16, 'HalfBath', 0.0), (17, 'BedroomAbvGr', 0.0), (12, 'GrLivArea', 0.0), (5, 'BsmtFinSF1', 0.0), (27, 'ScreenPorch', -0.0), (19, 'TotRmsAbvGrd', -0.0), (10, '2ndFlrSF', 0.0), (23, 'WoodDeckSF', 0.0), (22, 'GarageArea', 0.0), (18, 'KitchenAbvGr', -0.0), (29, 'MiscVal', 0.0), (20, 'Fireplaces', -0.0), (3, 'OverallQual', -0.0), (24, 'OpenPorchSF', -0.0), (21, 'GarageCars', -0.0), (25, 'EnclosedPorch', -0.0), (4, 'OverallCond', -0.0), (26, '3SsnPorch', -0.0), (28, 'PoolArea', -0.0), (14, 'BsmtHalfBath', -0.0), (13, 'BsmtFullBath', -0.0), (2, 'LotArea', -0.0), (1, 'MSSubClass', 0.0), (31, 'Antiquity', -0.0), (30, 'MoSold', -0.0)]\n",
      "\n",
      "Principal component  8\n",
      "[(8, 'TotalBsmtSF', 1.0), (7, 'BsmtUnfSF', 0.0), (9, '1stFlrSF', 0.0), (12, 'GrLivArea', -0.0), (11, 'LowQualFinSF', 0.0), (15, 'FullBath', -0.0), (16, 'HalfBath', -0.0), (13, 'BsmtFullBath', 0.0), (14, 'BsmtHalfBath', 0.0), (20, 'Fireplaces', -0.0), (5, 'BsmtFinSF1', -0.0), (17, 'BedroomAbvGr', -0.0), (18, 'KitchenAbvGr', 0.0), (3, 'OverallQual', 0.0), (28, 'PoolArea', 0.0), (23, 'WoodDeckSF', 0.0), (29, 'MiscVal', 0.0), (21, 'GarageCars', -0.0), (26, '3SsnPorch', -0.0), (2, 'LotArea', 0.0), (24, 'OpenPorchSF', 0.0), (22, 'GarageArea', -0.0), (4, 'OverallCond', -0.0), (25, 'EnclosedPorch', -0.0), (10, '2ndFlrSF', -0.0), (1, 'MSSubClass', -0.0), (27, 'ScreenPorch', -0.0), (6, 'BsmtFinSF2', -0.0), (19, 'TotRmsAbvGrd', 0.0), (31, 'Antiquity', 0.0), (30, 'MoSold', 0.0)]\n",
      "\n",
      "Principal component  9\n",
      "[(9, '1stFlrSF', 1.0), (10, '2ndFlrSF', -0.0), (8, 'TotalBsmtSF', -0.0), (7, 'BsmtUnfSF', 0.0), (14, 'BsmtHalfBath', 0.0), (11, 'LowQualFinSF', 0.0), (15, 'FullBath', 0.0), (18, 'KitchenAbvGr', 0.0), (6, 'BsmtFinSF2', 0.0), (16, 'HalfBath', -0.0), (12, 'GrLivArea', 0.0), (5, 'BsmtFinSF1', -0.0), (17, 'BedroomAbvGr', -0.0), (23, 'WoodDeckSF', -0.0), (13, 'BsmtFullBath', 0.0), (28, 'PoolArea', -0.0), (22, 'GarageArea', 0.0), (2, 'LotArea', -0.0), (19, 'TotRmsAbvGrd', -0.0), (3, 'OverallQual', 0.0), (4, 'OverallCond', 0.0), (24, 'OpenPorchSF', -0.0), (25, 'EnclosedPorch', 0.0), (20, 'Fireplaces', 0.0), (29, 'MiscVal', -0.0), (21, 'GarageCars', 0.0), (27, 'ScreenPorch', -0.0), (26, '3SsnPorch', -0.0), (1, 'MSSubClass', -0.0), (31, 'Antiquity', 0.0), (30, 'MoSold', 0.0)]\n",
      "\n",
      "Principal component  10\n",
      "[(10, '2ndFlrSF', 1.0), (9, '1stFlrSF', 0.0), (11, 'LowQualFinSF', -0.0), (12, 'GrLivArea', 0.0), (13, 'BsmtFullBath', 0.0), (14, 'BsmtHalfBath', -0.0), (15, 'FullBath', 0.0), (17, 'BedroomAbvGr', -0.0), (19, 'TotRmsAbvGrd', -0.0), (16, 'HalfBath', -0.0), (6, 'BsmtFinSF2', -0.0), (21, 'GarageCars', 0.0), (18, 'KitchenAbvGr', 0.0), (20, 'Fireplaces', -0.0), (25, 'EnclosedPorch', -0.0), (2, 'LotArea', 0.0), (8, 'TotalBsmtSF', 0.0), (5, 'BsmtFinSF1', 0.0), (22, 'GarageArea', 0.0), (24, 'OpenPorchSF', -0.0), (29, 'MiscVal', 0.0), (3, 'OverallQual', -0.0), (28, 'PoolArea', 0.0), (26, '3SsnPorch', -0.0), (27, 'ScreenPorch', -0.0), (7, 'BsmtUnfSF', 0.0), (4, 'OverallCond', 0.0), (23, 'WoodDeckSF', 0.0), (1, 'MSSubClass', 0.0), (31, 'Antiquity', 0.0), (30, 'MoSold', 0.0)]\n",
      "\n",
      "Principal component  11\n",
      "[(11, 'LowQualFinSF', 1.0), (12, 'GrLivArea', -0.0), (10, '2ndFlrSF', 0.0), (8, 'TotalBsmtSF', -0.0), (7, 'BsmtUnfSF', -0.0), (9, '1stFlrSF', -0.0), (6, 'BsmtFinSF2', -0.0), (16, 'HalfBath', 0.0), (18, 'KitchenAbvGr', 0.0), (15, 'FullBath', -0.0), (13, 'BsmtFullBath', 0.0), (17, 'BedroomAbvGr', -0.0), (19, 'TotRmsAbvGrd', 0.0), (14, 'BsmtHalfBath', 0.0), (21, 'GarageCars', -0.0), (20, 'Fireplaces', 0.0), (25, 'EnclosedPorch', -0.0), (2, 'LotArea', 0.0), (5, 'BsmtFinSF1', 0.0), (23, 'WoodDeckSF', 0.0), (26, '3SsnPorch', 0.0), (24, 'OpenPorchSF', 0.0), (29, 'MiscVal', 0.0), (3, 'OverallQual', -0.0), (27, 'ScreenPorch', 0.0), (4, 'OverallCond', 0.0), (22, 'GarageArea', 0.0), (28, 'PoolArea', -0.0), (1, 'MSSubClass', -0.0), (31, 'Antiquity', 0.0), (30, 'MoSold', 0.0)]\n",
      "\n",
      "Principal component  12\n",
      "[(12, 'GrLivArea', 1.0), (11, 'LowQualFinSF', 0.0), (10, '2ndFlrSF', -0.0), (8, 'TotalBsmtSF', 0.0), (14, 'BsmtHalfBath', 0.0), (6, 'BsmtFinSF2', -0.0), (13, 'BsmtFullBath', -0.0), (17, 'BedroomAbvGr', 0.0), (9, '1stFlrSF', -0.0), (7, 'BsmtUnfSF', -0.0), (18, 'KitchenAbvGr', 0.0), (20, 'Fireplaces', -0.0), (2, 'LotArea', 0.0), (5, 'BsmtFinSF1', 0.0), (16, 'HalfBath', -0.0), (22, 'GarageArea', -0.0), (25, 'EnclosedPorch', 0.0), (27, 'ScreenPorch', 0.0), (23, 'WoodDeckSF', -0.0), (28, 'PoolArea', 0.0), (19, 'TotRmsAbvGrd', -0.0), (15, 'FullBath', 0.0), (3, 'OverallQual', -0.0), (29, 'MiscVal', 0.0), (26, '3SsnPorch', -0.0), (21, 'GarageCars', -0.0), (4, 'OverallCond', 0.0), (24, 'OpenPorchSF', -0.0), (1, 'MSSubClass', 0.0), (31, 'Antiquity', 0.0), (30, 'MoSold', 0.0)]\n",
      "\n",
      "Principal component  13\n",
      "[(13, 'BsmtFullBath', 1.0), (14, 'BsmtHalfBath', -0.0), (10, '2ndFlrSF', -0.0), (15, 'FullBath', 0.0), (12, 'GrLivArea', 0.0), (17, 'BedroomAbvGr', -0.0), (8, 'TotalBsmtSF', -0.0), (16, 'HalfBath', -0.0), (11, 'LowQualFinSF', -0.0), (6, 'BsmtFinSF2', 0.0), (20, 'Fireplaces', 0.0), (9, '1stFlrSF', -0.0), (22, 'GarageArea', -0.0), (2, 'LotArea', -0.0), (23, 'WoodDeckSF', 0.0), (21, 'GarageCars', -0.0), (3, 'OverallQual', 0.0), (25, 'EnclosedPorch', 0.0), (19, 'TotRmsAbvGrd', 0.0), (18, 'KitchenAbvGr', -0.0), (28, 'PoolArea', -0.0), (5, 'BsmtFinSF1', -0.0), (26, '3SsnPorch', -0.0), (29, 'MiscVal', 0.0), (27, 'ScreenPorch', 0.0), (7, 'BsmtUnfSF', -0.0), (24, 'OpenPorchSF', 0.0), (4, 'OverallCond', 0.0), (1, 'MSSubClass', 0.0), (30, 'MoSold', -0.0), (31, 'Antiquity', -0.0)]\n",
      "\n",
      "Principal component  14\n",
      "[(14, 'BsmtHalfBath', 1.0), (13, 'BsmtFullBath', 0.0), (15, 'FullBath', -0.0), (17, 'BedroomAbvGr', 0.0), (12, 'GrLivArea', -0.0), (9, '1stFlrSF', -0.0), (10, '2ndFlrSF', 0.0), (6, 'BsmtFinSF2', 0.0), (11, 'LowQualFinSF', -0.0), (20, 'Fireplaces', -0.0), (8, 'TotalBsmtSF', -0.0), (2, 'LotArea', -0.0), (3, 'OverallQual', 0.0), (4, 'OverallCond', -0.0), (27, 'ScreenPorch', -0.0), (18, 'KitchenAbvGr', 0.0), (29, 'MiscVal', -0.0), (21, 'GarageCars', 0.0), (19, 'TotRmsAbvGrd', -0.0), (5, 'BsmtFinSF1', -0.0), (22, 'GarageArea', 0.0), (26, '3SsnPorch', 0.0), (7, 'BsmtUnfSF', 0.0), (23, 'WoodDeckSF', 0.0), (24, 'OpenPorchSF', -0.0), (16, 'HalfBath', 0.0), (28, 'PoolArea', -0.0), (25, 'EnclosedPorch', 0.0), (1, 'MSSubClass', -0.0), (31, 'Antiquity', 0.0), (30, 'MoSold', -0.0)]\n",
      "\n",
      "Principal component  15\n",
      "[(15, 'FullBath', 1.0), (16, 'HalfBath', 0.0), (13, 'BsmtFullBath', -0.0), (14, 'BsmtHalfBath', 0.0), (17, 'BedroomAbvGr', -0.0), (18, 'KitchenAbvGr', -0.0), (11, 'LowQualFinSF', 0.0), (9, '1stFlrSF', -0.0), (10, '2ndFlrSF', -0.0), (8, 'TotalBsmtSF', 0.0), (7, 'BsmtUnfSF', 0.0), (20, 'Fireplaces', -0.0), (19, 'TotRmsAbvGrd', 0.0), (21, 'GarageCars', -0.0), (2, 'LotArea', -0.0), (25, 'EnclosedPorch', 0.0), (23, 'WoodDeckSF', 0.0), (6, 'BsmtFinSF2', -0.0), (22, 'GarageArea', -0.0), (3, 'OverallQual', 0.0), (12, 'GrLivArea', 0.0), (29, 'MiscVal', -0.0), (26, '3SsnPorch', -0.0), (24, 'OpenPorchSF', -0.0), (5, 'BsmtFinSF1', 0.0), (4, 'OverallCond', -0.0), (27, 'ScreenPorch', -0.0), (28, 'PoolArea', -0.0), (1, 'MSSubClass', 0.0), (30, 'MoSold', -0.0), (31, 'Antiquity', -0.0)]\n",
      "\n",
      "Principal component  16\n",
      "[(16, 'HalfBath', 1.0), (15, 'FullBath', -0.0), (17, 'BedroomAbvGr', 0.0), (18, 'KitchenAbvGr', 0.0), (11, 'LowQualFinSF', -0.0), (8, 'TotalBsmtSF', 0.0), (13, 'BsmtFullBath', 0.0), (9, '1stFlrSF', 0.0), (7, 'BsmtUnfSF', -0.0), (10, '2ndFlrSF', 0.0), (21, 'GarageCars', 0.0), (20, 'Fireplaces', -0.0), (23, 'WoodDeckSF', -0.0), (12, 'GrLivArea', 0.0), (5, 'BsmtFinSF1', 0.0), (6, 'BsmtFinSF2', -0.0), (24, 'OpenPorchSF', 0.0), (22, 'GarageArea', 0.0), (25, 'EnclosedPorch', -0.0), (19, 'TotRmsAbvGrd', -0.0), (4, 'OverallCond', 0.0), (29, 'MiscVal', -0.0), (3, 'OverallQual', -0.0), (27, 'ScreenPorch', -0.0), (2, 'LotArea', 0.0), (28, 'PoolArea', 0.0), (1, 'MSSubClass', 0.0), (14, 'BsmtHalfBath', -0.0), (26, '3SsnPorch', 0.0), (31, 'Antiquity', -0.0), (30, 'MoSold', -0.0)]\n",
      "\n",
      "Principal component  17\n",
      "[(17, 'BedroomAbvGr', 1.0), (16, 'HalfBath', -0.0), (18, 'KitchenAbvGr', 0.0), (15, 'FullBath', 0.0), (14, 'BsmtHalfBath', -0.0), (19, 'TotRmsAbvGrd', -0.0), (12, 'GrLivArea', -0.0), (13, 'BsmtFullBath', 0.0), (10, '2ndFlrSF', 0.0), (21, 'GarageCars', -0.0), (7, 'BsmtUnfSF', -0.0), (9, '1stFlrSF', 0.0), (20, 'Fireplaces', -0.0), (8, 'TotalBsmtSF', 0.0), (22, 'GarageArea', 0.0), (11, 'LowQualFinSF', 0.0), (23, 'WoodDeckSF', -0.0), (28, 'PoolArea', -0.0), (5, 'BsmtFinSF1', -0.0), (6, 'BsmtFinSF2', 0.0), (25, 'EnclosedPorch', -0.0), (24, 'OpenPorchSF', -0.0), (4, 'OverallCond', -0.0), (26, '3SsnPorch', 0.0), (29, 'MiscVal', -0.0), (27, 'ScreenPorch', -0.0), (3, 'OverallQual', -0.0), (2, 'LotArea', 0.0), (1, 'MSSubClass', 0.0), (31, 'Antiquity', 0.0), (30, 'MoSold', -0.0)]\n",
      "\n",
      "Principal component  18\n",
      "[(18, 'KitchenAbvGr', 1.0), (16, 'HalfBath', -0.0), (19, 'TotRmsAbvGrd', -0.0), (17, 'BedroomAbvGr', -0.0), (15, 'FullBath', 0.0), (11, 'LowQualFinSF', -0.0), (20, 'Fireplaces', 0.0), (21, 'GarageCars', 0.0), (9, '1stFlrSF', -0.0), (12, 'GrLivArea', -0.0), (23, 'WoodDeckSF', -0.0), (5, 'BsmtFinSF1', 0.0), (14, 'BsmtHalfBath', -0.0), (10, '2ndFlrSF', -0.0), (8, 'TotalBsmtSF', -0.0), (7, 'BsmtUnfSF', 0.0), (6, 'BsmtFinSF2', -0.0), (22, 'GarageArea', 0.0), (26, '3SsnPorch', -0.0), (28, 'PoolArea', -0.0), (13, 'BsmtFullBath', 0.0), (27, 'ScreenPorch', 0.0), (2, 'LotArea', -0.0), (24, 'OpenPorchSF', -0.0), (4, 'OverallCond', -0.0), (29, 'MiscVal', 0.0), (3, 'OverallQual', 0.0), (25, 'EnclosedPorch', 0.0), (1, 'MSSubClass', 0.0), (31, 'Antiquity', -0.0), (30, 'MoSold', 0.0)]\n",
      "\n",
      "Principal component  19\n",
      "[(19, 'TotRmsAbvGrd', 1.0), (20, 'Fireplaces', -0.0), (18, 'KitchenAbvGr', 0.0), (17, 'BedroomAbvGr', 0.0), (21, 'GarageCars', 0.0), (11, 'LowQualFinSF', -0.0), (10, '2ndFlrSF', 0.0), (24, 'OpenPorchSF', -0.0), (25, 'EnclosedPorch', -0.0), (15, 'FullBath', -0.0), (26, '3SsnPorch', 0.0), (23, 'WoodDeckSF', -0.0), (7, 'BsmtUnfSF', 0.0), (13, 'BsmtFullBath', -0.0), (6, 'BsmtFinSF2', -0.0), (9, '1stFlrSF', 0.0), (8, 'TotalBsmtSF', -0.0), (22, 'GarageArea', 0.0), (12, 'GrLivArea', 0.0), (28, 'PoolArea', -0.0), (4, 'OverallCond', -0.0), (5, 'BsmtFinSF1', 0.0), (2, 'LotArea', -0.0), (14, 'BsmtHalfBath', -0.0), (16, 'HalfBath', -0.0), (29, 'MiscVal', -0.0), (27, 'ScreenPorch', 0.0), (3, 'OverallQual', -0.0), (1, 'MSSubClass', -0.0), (31, 'Antiquity', -0.0), (30, 'MoSold', -0.0)]\n",
      "\n",
      "Principal component  20\n",
      "[(20, 'Fireplaces', 1.0), (21, 'GarageCars', 0.0), (19, 'TotRmsAbvGrd', 0.0), (18, 'KitchenAbvGr', -0.0), (14, 'BsmtHalfBath', 0.0), (23, 'WoodDeckSF', -0.0), (8, 'TotalBsmtSF', 0.0), (15, 'FullBath', 0.0), (17, 'BedroomAbvGr', 0.0), (11, 'LowQualFinSF', -0.0), (12, 'GrLivArea', 0.0), (13, 'BsmtFullBath', -0.0), (16, 'HalfBath', 0.0), (10, '2ndFlrSF', 0.0), (6, 'BsmtFinSF2', 0.0), (25, 'EnclosedPorch', -0.0), (2, 'LotArea', 0.0), (5, 'BsmtFinSF1', -0.0), (29, 'MiscVal', -0.0), (28, 'PoolArea', 0.0), (7, 'BsmtUnfSF', 0.0), (27, 'ScreenPorch', -0.0), (26, '3SsnPorch', 0.0), (4, 'OverallCond', -0.0), (24, 'OpenPorchSF', -0.0), (9, '1stFlrSF', 0.0), (3, 'OverallQual', -0.0), (22, 'GarageArea', -0.0), (1, 'MSSubClass', -0.0), (31, 'Antiquity', -0.0), (30, 'MoSold', -0.0)]\n",
      "\n",
      "Principal component  21\n",
      "[(21, 'GarageCars', 1.0), (20, 'Fireplaces', -0.0), (23, 'WoodDeckSF', 0.0), (22, 'GarageArea', -0.0), (19, 'TotRmsAbvGrd', -0.0), (17, 'BedroomAbvGr', 0.0), (18, 'KitchenAbvGr', -0.0), (16, 'HalfBath', -0.0), (11, 'LowQualFinSF', 0.0), (15, 'FullBath', 0.0), (28, 'PoolArea', 0.0), (10, '2ndFlrSF', -0.0), (26, '3SsnPorch', -0.0), (6, 'BsmtFinSF2', 0.0), (25, 'EnclosedPorch', -0.0), (24, 'OpenPorchSF', -0.0), (2, 'LotArea', 0.0), (14, 'BsmtHalfBath', -0.0), (13, 'BsmtFullBath', 0.0), (5, 'BsmtFinSF1', 0.0), (7, 'BsmtUnfSF', -0.0), (29, 'MiscVal', -0.0), (12, 'GrLivArea', -0.0), (8, 'TotalBsmtSF', 0.0), (9, '1stFlrSF', 0.0), (4, 'OverallCond', 0.0), (27, 'ScreenPorch', -0.0), (3, 'OverallQual', -0.0), (1, 'MSSubClass', -0.0), (31, 'Antiquity', 0.0), (30, 'MoSold', 0.0)]\n",
      "\n",
      "Principal component  22\n",
      "[(22, 'GarageArea', 1.0), (23, 'WoodDeckSF', -0.0), (21, 'GarageCars', 0.0), (17, 'BedroomAbvGr', -0.0), (24, 'OpenPorchSF', -0.0), (28, 'PoolArea', -0.0), (13, 'BsmtFullBath', 0.0), (29, 'MiscVal', -0.0), (9, '1stFlrSF', -0.0), (19, 'TotRmsAbvGrd', -0.0), (20, 'Fireplaces', 0.0), (8, 'TotalBsmtSF', -0.0), (14, 'BsmtHalfBath', -0.0), (4, 'OverallCond', -0.0), (15, 'FullBath', 0.0), (12, 'GrLivArea', 0.0), (18, 'KitchenAbvGr', -0.0), (6, 'BsmtFinSF2', 0.0), (3, 'OverallQual', -0.0), (7, 'BsmtUnfSF', 0.0), (2, 'LotArea', -0.0), (16, 'HalfBath', 0.0), (5, 'BsmtFinSF1', -0.0), (26, '3SsnPorch', 0.0), (25, 'EnclosedPorch', -0.0), (10, '2ndFlrSF', -0.0), (1, 'MSSubClass', 0.0), (11, 'LowQualFinSF', -0.0), (27, 'ScreenPorch', -0.0), (31, 'Antiquity', 0.0), (30, 'MoSold', 0.0)]\n",
      "\n",
      "Principal component  23\n",
      "[(23, 'WoodDeckSF', 1.0), (22, 'GarageArea', 0.0), (21, 'GarageCars', -0.0), (24, 'OpenPorchSF', 0.0), (20, 'Fireplaces', 0.0), (9, '1stFlrSF', 0.0), (18, 'KitchenAbvGr', 0.0), (8, 'TotalBsmtSF', -0.0), (16, 'HalfBath', 0.0), (7, 'BsmtUnfSF', -0.0), (19, 'TotRmsAbvGrd', 0.0), (17, 'BedroomAbvGr', 0.0), (10, '2ndFlrSF', -0.0), (27, 'ScreenPorch', 0.0), (28, 'PoolArea', -0.0), (13, 'BsmtFullBath', -0.0), (12, 'GrLivArea', 0.0), (26, '3SsnPorch', -0.0), (11, 'LowQualFinSF', -0.0), (5, 'BsmtFinSF1', 0.0), (14, 'BsmtHalfBath', -0.0), (4, 'OverallCond', -0.0), (2, 'LotArea', 0.0), (6, 'BsmtFinSF2', -0.0), (25, 'EnclosedPorch', -0.0), (15, 'FullBath', 0.0), (3, 'OverallQual', -0.0), (1, 'MSSubClass', 0.0), (29, 'MiscVal', 0.0), (31, 'Antiquity', 0.0), (30, 'MoSold', 0.0)]\n",
      "\n",
      "Principal component  24\n",
      "[(24, 'OpenPorchSF', 1.0), (25, 'EnclosedPorch', -0.0), (26, '3SsnPorch', 0.0), (27, 'ScreenPorch', 0.0), (29, 'MiscVal', 0.0), (23, 'WoodDeckSF', -0.0), (28, 'PoolArea', 0.0), (19, 'TotRmsAbvGrd', 0.0), (20, 'Fireplaces', 0.0), (18, 'KitchenAbvGr', 0.0), (17, 'BedroomAbvGr', 0.0), (21, 'GarageCars', 0.0), (7, 'BsmtUnfSF', 0.0), (22, 'GarageArea', 0.0), (9, '1stFlrSF', 0.0), (4, 'OverallCond', -0.0), (16, 'HalfBath', -0.0), (5, 'BsmtFinSF1', 0.0), (6, 'BsmtFinSF2', 0.0), (2, 'LotArea', 0.0), (15, 'FullBath', 0.0), (14, 'BsmtHalfBath', 0.0), (11, 'LowQualFinSF', -0.0), (10, '2ndFlrSF', 0.0), (12, 'GrLivArea', 0.0), (3, 'OverallQual', -0.0), (8, 'TotalBsmtSF', -0.0), (1, 'MSSubClass', 0.0), (13, 'BsmtFullBath', 0.0), (31, 'Antiquity', -0.0), (30, 'MoSold', -0.0)]\n",
      "\n",
      "Principal component  25\n",
      "[(25, 'EnclosedPorch', 1.0), (24, 'OpenPorchSF', 0.0), (26, '3SsnPorch', 0.0), (27, 'ScreenPorch', -0.0), (28, 'PoolArea', -0.0), (20, 'Fireplaces', 0.0), (19, 'TotRmsAbvGrd', 0.0), (23, 'WoodDeckSF', 0.0), (12, 'GrLivArea', -0.0), (15, 'FullBath', -0.0), (11, 'LowQualFinSF', 0.0), (17, 'BedroomAbvGr', 0.0), (5, 'BsmtFinSF1', 0.0), (29, 'MiscVal', -0.0), (22, 'GarageArea', -0.0), (4, 'OverallCond', 0.0), (10, '2ndFlrSF', 0.0), (2, 'LotArea', -0.0), (14, 'BsmtHalfBath', -0.0), (9, '1stFlrSF', -0.0), (21, 'GarageCars', -0.0), (13, 'BsmtFullBath', -0.0), (16, 'HalfBath', 0.0), (3, 'OverallQual', 0.0), (6, 'BsmtFinSF2', 0.0), (7, 'BsmtUnfSF', 0.0), (18, 'KitchenAbvGr', 0.0), (8, 'TotalBsmtSF', 0.0), (1, 'MSSubClass', -0.0), (31, 'Antiquity', -0.0), (30, 'MoSold', -0.0)]\n",
      "\n",
      "Principal component  26\n",
      "[(26, '3SsnPorch', 1.0), (25, 'EnclosedPorch', -0.0), (24, 'OpenPorchSF', -0.0), (27, 'ScreenPorch', 0.0), (19, 'TotRmsAbvGrd', -0.0), (28, 'PoolArea', 0.0), (11, 'LowQualFinSF', -0.0), (23, 'WoodDeckSF', 0.0), (21, 'GarageCars', 0.0), (10, '2ndFlrSF', 0.0), (18, 'KitchenAbvGr', 0.0), (9, '1stFlrSF', 0.0), (17, 'BedroomAbvGr', -0.0), (8, 'TotalBsmtSF', 0.0), (20, 'Fireplaces', -0.0), (7, 'BsmtUnfSF', 0.0), (22, 'GarageArea', -0.0), (13, 'BsmtFullBath', -0.0), (16, 'HalfBath', 0.0), (6, 'BsmtFinSF2', 0.0), (12, 'GrLivArea', -0.0), (15, 'FullBath', 0.0), (3, 'OverallQual', -0.0), (4, 'OverallCond', -0.0), (14, 'BsmtHalfBath', -0.0), (5, 'BsmtFinSF1', 0.0), (2, 'LotArea', 0.0), (29, 'MiscVal', -0.0), (1, 'MSSubClass', 0.0), (31, 'Antiquity', -0.0), (30, 'MoSold', -0.0)]\n",
      "\n",
      "Principal component  27\n",
      "[(27, 'ScreenPorch', 1.0), (25, 'EnclosedPorch', 0.0), (28, 'PoolArea', -0.0), (24, 'OpenPorchSF', -0.0), (26, '3SsnPorch', -0.0), (14, 'BsmtHalfBath', 0.0), (7, 'BsmtUnfSF', 0.0), (29, 'MiscVal', -0.0), (23, 'WoodDeckSF', -0.0), (4, 'OverallCond', -0.0), (20, 'Fireplaces', 0.0), (6, 'BsmtFinSF2', 0.0), (12, 'GrLivArea', -0.0), (3, 'OverallQual', -0.0), (15, 'FullBath', 0.0), (5, 'BsmtFinSF1', 0.0), (2, 'LotArea', -0.0), (18, 'KitchenAbvGr', -0.0), (10, '2ndFlrSF', 0.0), (13, 'BsmtFullBath', 0.0), (22, 'GarageArea', -0.0), (17, 'BedroomAbvGr', 0.0), (9, '1stFlrSF', 0.0), (11, 'LowQualFinSF', 0.0), (16, 'HalfBath', -0.0), (19, 'TotRmsAbvGrd', 0.0), (21, 'GarageCars', 0.0), (1, 'MSSubClass', 0.0), (8, 'TotalBsmtSF', -0.0), (31, 'Antiquity', 0.0), (30, 'MoSold', 0.0)]\n",
      "\n",
      "Principal component  28\n",
      "[(28, 'PoolArea', 1.0), (27, 'ScreenPorch', 0.0), (29, 'MiscVal', 0.0), (22, 'GarageArea', 0.0), (24, 'OpenPorchSF', -0.0), (25, 'EnclosedPorch', 0.0), (9, '1stFlrSF', 0.0), (26, '3SsnPorch', -0.0), (17, 'BedroomAbvGr', 0.0), (20, 'Fireplaces', -0.0), (21, 'GarageCars', -0.0), (8, 'TotalBsmtSF', -0.0), (5, 'BsmtFinSF1', 0.0), (18, 'KitchenAbvGr', 0.0), (23, 'WoodDeckSF', 0.0), (2, 'LotArea', 0.0), (16, 'HalfBath', 0.0), (15, 'FullBath', -0.0), (19, 'TotRmsAbvGrd', 0.0), (4, 'OverallCond', 0.0), (11, 'LowQualFinSF', -0.0), (12, 'GrLivArea', -0.0), (7, 'BsmtUnfSF', 0.0), (14, 'BsmtHalfBath', -0.0), (6, 'BsmtFinSF2', 0.0), (13, 'BsmtFullBath', 0.0), (3, 'OverallQual', 0.0), (10, '2ndFlrSF', 0.0), (1, 'MSSubClass', 0.0), (31, 'Antiquity', -0.0), (30, 'MoSold', -0.0)]\n",
      "\n",
      "Principal component  29\n",
      "[(29, 'MiscVal', 1.0), (28, 'PoolArea', -0.0), (24, 'OpenPorchSF', -0.0), (27, 'ScreenPorch', 0.0), (8, 'TotalBsmtSF', -0.0), (5, 'BsmtFinSF1', -0.0), (7, 'BsmtUnfSF', -0.0), (14, 'BsmtHalfBath', 0.0), (22, 'GarageArea', 0.0), (17, 'BedroomAbvGr', 0.0), (12, 'GrLivArea', -0.0), (11, 'LowQualFinSF', 0.0), (20, 'Fireplaces', 0.0), (16, 'HalfBath', 0.0), (18, 'KitchenAbvGr', -0.0), (23, 'WoodDeckSF', -0.0), (4, 'OverallCond', 0.0), (6, 'BsmtFinSF2', -0.0), (2, 'LotArea', 0.0), (13, 'BsmtFullBath', -0.0), (15, 'FullBath', -0.0), (19, 'TotRmsAbvGrd', -0.0), (9, '1stFlrSF', 0.0), (26, '3SsnPorch', 0.0), (3, 'OverallQual', -0.0), (25, 'EnclosedPorch', -0.0), (21, 'GarageCars', -0.0), (10, '2ndFlrSF', 0.0), (1, 'MSSubClass', -0.0), (31, 'Antiquity', -0.0), (30, 'MoSold', -0.0)]\n",
      "\n",
      "Principal component  30\n",
      "[(31, 'Antiquity', 0.93), (30, 'MoSold', 0.36), (14, 'BsmtHalfBath', -0.0), (13, 'BsmtFullBath', -0.0), (11, 'LowQualFinSF', 0.0), (15, 'FullBath', -0.0), (12, 'GrLivArea', 0.0), (17, 'BedroomAbvGr', -0.0), (9, '1stFlrSF', 0.0), (16, 'HalfBath', 0.0), (10, '2ndFlrSF', 0.0), (18, 'KitchenAbvGr', 0.0), (19, 'TotRmsAbvGrd', 0.0), (26, '3SsnPorch', 0.0), (8, 'TotalBsmtSF', -0.0), (20, 'Fireplaces', -0.0), (25, 'EnclosedPorch', 0.0), (24, 'OpenPorchSF', 0.0), (21, 'GarageCars', 0.0), (23, 'WoodDeckSF', -0.0), (7, 'BsmtUnfSF', -0.0), (22, 'GarageArea', 0.0), (27, 'ScreenPorch', -0.0), (6, 'BsmtFinSF2', -0.0), (28, 'PoolArea', 0.0), (29, 'MiscVal', 0.0), (5, 'BsmtFinSF1', 0.0), (4, 'OverallCond', -0.0), (3, 'OverallQual', -0.0), (2, 'LotArea', -0.0), (1, 'MSSubClass', -0.0)]\n",
      "\n",
      "Principal component  31\n",
      "[(30, 'MoSold', 0.93), (31, 'Antiquity', -0.36), (14, 'BsmtHalfBath', 0.0), (13, 'BsmtFullBath', 0.0), (11, 'LowQualFinSF', -0.0), (15, 'FullBath', 0.0), (12, 'GrLivArea', -0.0), (17, 'BedroomAbvGr', 0.0), (9, '1stFlrSF', -0.0), (16, 'HalfBath', 0.0), (18, 'KitchenAbvGr', -0.0), (10, '2ndFlrSF', -0.0), (19, 'TotRmsAbvGrd', -0.0), (26, '3SsnPorch', -0.0), (20, 'Fireplaces', 0.0), (8, 'TotalBsmtSF', 0.0), (25, 'EnclosedPorch', -0.0), (24, 'OpenPorchSF', -0.0), (21, 'GarageCars', -0.0), (23, 'WoodDeckSF', 0.0), (22, 'GarageArea', -0.0), (7, 'BsmtUnfSF', 0.0), (27, 'ScreenPorch', 0.0), (28, 'PoolArea', -0.0), (6, 'BsmtFinSF2', 0.0), (29, 'MiscVal', -0.0), (5, 'BsmtFinSF1', -0.0), (2, 'LotArea', -0.0), (3, 'OverallQual', 0.0), (4, 'OverallCond', 0.0), (1, 'MSSubClass', -0.0)]\n",
      "\n"
     ]
    }
   ],
   "source": [
    "for comp in range(1,len(pca.components_)+1):\n",
    "    print(\"Principal component \",comp)\n",
    "    my_list = [(abs(value),index+1,X.columns[index],value) for index,value in enumerate(pca.components_[comp-1,:]) ]\n",
    "    my_list.sort(reverse=True)\n",
    "    my_list = [(elem[1],elem[2],round(elem[3],2)) for elem in my_list]\n",
    "    print(my_list)\n",
    "    print()"
   ]
  },
  {
   "cell_type": "markdown",
   "metadata": {
    "id": "YZNYgOWGqqIH"
   },
   "source": [
    "# Generating a regression model with the pca"
   ]
  },
  {
   "cell_type": "code",
   "execution_count": 30,
   "metadata": {
    "executionInfo": {
     "elapsed": 213,
     "status": "ok",
     "timestamp": 1626424748835,
     "user": {
      "displayName": "Ignacio Soteras",
      "photoUrl": "",
      "userId": "02050793736257155229"
     },
     "user_tz": -120
    },
    "id": "S06GdLaUrgp-"
   },
   "outputs": [],
   "source": [
    "from matplotlib.ticker import FuncFormatter\n",
    "import matplotlib.ticker as ticker\n",
    "\n",
    "def show_errors(y_real_train, y_pred_train, y_real_test, y_pred_test):\n",
    "\n",
    "    plt.style.use('seaborn') \n",
    "\n",
    "    fig, ax = plt.subplots(2,2,figsize=(10,10))\n",
    "    \n",
    "    ax[0,0].scatter(x = np.exp(y_real_train), y = np.exp(y_pred_train), c = 'green')\n",
    "    ax[0,0].plot([0,700000], [0,700000], linestyle = '--',c = 'black')\n",
    "    ax[0,0].set_xlim(0,700000)\n",
    "    ax[0,0].set_ylim(0,700000)\n",
    "\n",
    "    ax[0,0].xaxis.set_major_formatter(FuncFormatter(lambda x, p: f'{int(x/1000)}K'))\n",
    "    ax[0,0].yaxis.set_major_formatter(FuncFormatter(lambda x, p: f'{int(x/1000)}K'))\n",
    "    ax[0,0].set_title('Train set')\n",
    "\n",
    "    ax[0,1].hist(x = np.exp(y_real_train)-np.exp(y_pred_train), bins = 50,color = 'green')\n",
    "    ax[0,1].set_xlim(-200000,200000)\n",
    "    ax[0,1].xaxis.set_major_formatter(FuncFormatter(lambda x, p: f'{int(x/1000)}K'))\n",
    "    ax[0,1].set_title('Train set')\n",
    "\n",
    "    ax[1,0].scatter(x = np.exp(y_real_test), y = np.exp(y_pred_test), c = 'blue')\n",
    "    ax[1,0].plot([0,700000], [0,700000], linestyle = '--',c = 'black')\n",
    "    ax[1,0].set_xlim(0,700000)\n",
    "    ax[1,0].set_ylim(0,700000)\n",
    "    ax[1,0].xaxis.set_major_formatter(FuncFormatter(lambda x, p: f'{int(x/1000)}K'))\n",
    "    ax[1,0].yaxis.set_major_formatter(FuncFormatter(lambda x, p: f'{int(x/1000)}K'))\n",
    "    ax[1,0].set_title('Test set')   \n",
    "\n",
    "    ax[1,1].hist(x = np.exp(y_real_test)-np.exp(y_pred_test), bins = 50,color = 'blue')\n",
    "    ax[1,1].set_xlim(-200000,200000)\n",
    "    ax[1,1].xaxis.set_major_formatter(FuncFormatter(lambda x, p: f'{int(x/1000)}K'))\n",
    "    ax[1,1].set_title('Test set')\n",
    "\n",
    "    fig.tight_layout()\n",
    "    pass"
   ]
  },
  {
   "cell_type": "code",
   "execution_count": 31,
   "metadata": {
    "colab": {
     "base_uri": "https://localhost:8080/",
     "height": 729
    },
    "executionInfo": {
     "elapsed": 2317,
     "status": "ok",
     "timestamp": 1626424783724,
     "user": {
      "displayName": "Ignacio Soteras",
      "photoUrl": "",
      "userId": "02050793736257155229"
     },
     "user_tz": -120
    },
    "id": "YUVB7MDU10lO",
    "outputId": "9d237145-cd93-4e9d-d989-c245c5f33182"
   },
   "outputs": [
    {
     "data": {
      "image/png": "[encoded data removed]",
      "text/plain": [
       "<Figure size 720x720 with 4 Axes>"
      ]
     },
     "metadata": {
      "tags": []
     },
     "output_type": "display_data"
    }
   ],
   "source": [
    "from sklearn.linear_model import LinearRegression\n",
    "\n",
    "lm = LinearRegression()\n",
    "\n",
    "lm.fit(X_train,y_train)\n",
    "\n",
    "y_pred_train = lm.predict(X_train)\n",
    "y_pred_test  = lm.predict(X_test)\n",
    "\n",
    "show_errors(y_train, y_pred_train, y_test, y_pred_test)"
   ]
  },
  {
   "cell_type": "code",
   "execution_count": 32,
   "metadata": {
    "colab": {
     "base_uri": "https://localhost:8080/",
     "height": 327
    },
    "executionInfo": {
     "elapsed": 208,
     "status": "error",
     "timestamp": 1626424870528,
     "user": {
      "displayName": "Ignacio Soteras",
      "photoUrl": "",
      "userId": "02050793736257155229"
     },
     "user_tz": -120
    },
    "id": "p1H__uSXsxux",
    "outputId": "b9e91fb0-1d4d-4404-f30e-18183664aa7a"
   },
   "outputs": [
    {
     "ename": "TypeError",
     "evalue": "ignored",
     "output_type": "error",
     "traceback": [
      "\u001b[0;31m---------------------------------------------------------------------------\u001b[0m",
      "\u001b[0;31mTypeError\u001b[0m                                 Traceback (most recent call last)",
      "\u001b[0;32m<ipython-input-32-978d7bf076a8>\u001b[0m in \u001b[0;36m<module>\u001b[0;34m()\u001b[0m\n\u001b[0;32m----> 1\u001b[0;31m \u001b[0msns\u001b[0m\u001b[0;34m.\u001b[0m\u001b[0mpairplot\u001b[0m\u001b[0;34m(\u001b[0m\u001b[0;36m6\u001b[0m\u001b[0;34m)\u001b[0m\u001b[0;34m\u001b[0m\u001b[0;34m\u001b[0m\u001b[0m\n\u001b[0m",
      "\u001b[0;32m/usr/local/lib/python3.7/dist-packages/seaborn/_decorators.py\u001b[0m in \u001b[0;36minner_f\u001b[0;34m(*args, **kwargs)\u001b[0m\n\u001b[1;32m     44\u001b[0m             )\n\u001b[1;32m     45\u001b[0m         \u001b[0mkwargs\u001b[0m\u001b[0;34m.\u001b[0m\u001b[0mupdate\u001b[0m\u001b[0;34m(\u001b[0m\u001b[0;34m{\u001b[0m\u001b[0mk\u001b[0m\u001b[0;34m:\u001b[0m \u001b[0marg\u001b[0m \u001b[0;32mfor\u001b[0m \u001b[0mk\u001b[0m\u001b[0;34m,\u001b[0m \u001b[0marg\u001b[0m \u001b[0;32min\u001b[0m \u001b[0mzip\u001b[0m\u001b[0;34m(\u001b[0m\u001b[0msig\u001b[0m\u001b[0;34m.\u001b[0m\u001b[0mparameters\u001b[0m\u001b[0;34m,\u001b[0m \u001b[0margs\u001b[0m\u001b[0;34m)\u001b[0m\u001b[0;34m}\u001b[0m\u001b[0;34m)\u001b[0m\u001b[0;34m\u001b[0m\u001b[0;34m\u001b[0m\u001b[0m\n\u001b[0;32m---> 46\u001b[0;31m         \u001b[0;32mreturn\u001b[0m \u001b[0mf\u001b[0m\u001b[0;34m(\u001b[0m\u001b[0;34m**\u001b[0m\u001b[0mkwargs\u001b[0m\u001b[0;34m)\u001b[0m\u001b[0;34m\u001b[0m\u001b[0;34m\u001b[0m\u001b[0m\n\u001b[0m\u001b[1;32m     47\u001b[0m     \u001b[0;32mreturn\u001b[0m \u001b[0minner_f\u001b[0m\u001b[0;34m\u001b[0m\u001b[0;34m\u001b[0m\u001b[0m\n\u001b[1;32m     48\u001b[0m \u001b[0;34m\u001b[0m\u001b[0m\n",
      "\u001b[0;32m/usr/local/lib/python3.7/dist-packages/seaborn/axisgrid.py\u001b[0m in \u001b[0;36mpairplot\u001b[0;34m(data, hue, hue_order, palette, vars, x_vars, y_vars, kind, diag_kind, markers, height, aspect, corner, dropna, plot_kws, diag_kws, grid_kws, size)\u001b[0m\n\u001b[1;32m   1972\u001b[0m         raise TypeError(\n\u001b[1;32m   1973\u001b[0m             \"'data' must be pandas DataFrame object, not: {typefound}\".format(\n\u001b[0;32m-> 1974\u001b[0;31m                 typefound=type(data)))\n\u001b[0m\u001b[1;32m   1975\u001b[0m \u001b[0;34m\u001b[0m\u001b[0m\n\u001b[1;32m   1976\u001b[0m     \u001b[0mplot_kws\u001b[0m \u001b[0;34m=\u001b[0m \u001b[0;34m{\u001b[0m\u001b[0;34m}\u001b[0m \u001b[0;32mif\u001b[0m \u001b[0mplot_kws\u001b[0m \u001b[0;32mis\u001b[0m \u001b[0;32mNone\u001b[0m \u001b[0;32melse\u001b[0m \u001b[0mplot_kws\u001b[0m\u001b[0;34m.\u001b[0m\u001b[0mcopy\u001b[0m\u001b[0;34m(\u001b[0m\u001b[0;34m)\u001b[0m\u001b[0;34m\u001b[0m\u001b[0;34m\u001b[0m\u001b[0m\n",
      "\u001b[0;31mTypeError\u001b[0m: 'data' must be pandas DataFrame object, not: <class 'int'>"
     ]
    }
   ],
   "source": [
    "sns.pairplot(6)"
   ]
  },
  {
   "cell_type": "markdown",
   "metadata": {
    "id": "QCkPBoJ_sHz_"
   },
   "source": [
    "# Doing the same preprocessing"
   ]
  },
  {
   "cell_type": "code",
   "execution_count": 33,
   "metadata": {
    "executionInfo": {
     "elapsed": 202,
     "status": "ok",
     "timestamp": 1626424876230,
     "user": {
      "displayName": "Ignacio Soteras",
      "photoUrl": "",
      "userId": "02050793736257155229"
     },
     "user_tz": -120
    },
    "id": "02Uucq4FsKIy"
   },
   "outputs": [],
   "source": [
    "def preprocessing(df):\n",
    "    '''\n",
    "    Function to trasnform an input dataframe.\n",
    "    It will add another column named \"Antiquity\"\n",
    "    Drop all the Year related columns\n",
    "    Drop any column not in\n",
    "    cols_to_keep = ['Id',\n",
    "   'OverallQual',\n",
    "   'TotalBsmtSF',\n",
    "   'GrLivArea',\n",
    "   'FullBath',\n",
    "   'KitchenQual',\n",
    "   'GarageCars',\n",
    "   'Antiquity',\n",
    "   'SalePrice']\n",
    "    Replace values of variable KitchenQual to\n",
    "    {'Fa': 1, 'TA': 1.61, 'Gd': 1.61, 'Ex': 3.14}\n",
    "    Drop any row with 'LotArea' < 25000   \n",
    "    Input: \n",
    "    df = Pandas DataFrame object\n",
    "    Output:\n",
    "    Transformed DataFrame\n",
    "    '''\n",
    "    df2 = df.copy()\n",
    "\n",
    "    # Computing Antiquity\n",
    "    df2['Antiquity'] = df2['YrSold'] - df2['YearRemodAdd']\n",
    "    year_cols = ['YearBuilt', 'YearRemodAdd', 'YrSold']\n",
    "    df2.drop(columns = year_cols, axis = 1, inplace = True)\n",
    "\n",
    "    # Filtering by LotArea\n",
    "    df2 = df2[df2['LotArea'] < 25000 ]\n",
    "\n",
    "    # Droping unwanted columns\n",
    "    cols_to_keep = ['Id',\n",
    "   'OverallQual',\n",
    "   'TotalBsmtSF',\n",
    "   'GrLivArea',\n",
    "   'FullBath',\n",
    "   'KitchenQual',\n",
    "   'GarageCars',\n",
    "   'Antiquity',\n",
    "   'SalePrice']\n",
    "    df2 = df2[cols_to_keep]\n",
    "\n",
    "    # Replacing KitchenQual values by numerical ones.\n",
    "    df2['KitchenQual'] = df2['KitchenQual'].replace({'Fa': 1, 'TA': 1.61, 'Gd': 1.61, 'Ex': 3.14})\n",
    "\n",
    "    return df2"
   ]
  },
  {
   "cell_type": "code",
   "execution_count": 34,
   "metadata": {
    "colab": {
     "base_uri": "https://localhost:8080/",
     "height": 205
    },
    "executionInfo": {
     "elapsed": 203,
     "status": "ok",
     "timestamp": 1626424884060,
     "user": {
      "displayName": "Ignacio Soteras",
      "photoUrl": "",
      "userId": "02050793736257155229"
     },
     "user_tz": -120
    },
    "id": "W7Lf9dJusOb3",
    "outputId": "fcd3ca97-beb0-4d87-f3ac-9e04924b75b7"
   },
   "outputs": [
    {
     "data": {
      "text/html": [
       "<div>\n",
       "<style scoped>\n",
       "    .dataframe tbody tr th:only-of-type {\n",
       "        vertical-align: middle;\n",
       "    }\n",
       "\n",
       "    .dataframe tbody tr th {\n",
       "        vertical-align: top;\n",
       "    }\n",
       "\n",
       "    .dataframe thead th {\n",
       "        text-align: right;\n",
       "    }\n",
       "</style>\n",
       "<table border=\"1\" class=\"dataframe\">\n",
       "  <thead>\n",
       "    <tr style=\"text-align: right;\">\n",
       "      <th></th>\n",
       "      <th>Id</th>\n",
       "      <th>OverallQual</th>\n",
       "      <th>TotalBsmtSF</th>\n",
       "      <th>GrLivArea</th>\n",
       "      <th>FullBath</th>\n",
       "      <th>KitchenQual</th>\n",
       "      <th>GarageCars</th>\n",
       "      <th>Antiquity</th>\n",
       "      <th>SalePrice</th>\n",
       "    </tr>\n",
       "  </thead>\n",
       "  <tbody>\n",
       "    <tr>\n",
       "      <th>0</th>\n",
       "      <td>1</td>\n",
       "      <td>7</td>\n",
       "      <td>856</td>\n",
       "      <td>1710</td>\n",
       "      <td>2</td>\n",
       "      <td>1.61</td>\n",
       "      <td>2</td>\n",
       "      <td>5</td>\n",
       "      <td>208500</td>\n",
       "    </tr>\n",
       "    <tr>\n",
       "      <th>1</th>\n",
       "      <td>2</td>\n",
       "      <td>6</td>\n",
       "      <td>1262</td>\n",
       "      <td>1262</td>\n",
       "      <td>2</td>\n",
       "      <td>1.61</td>\n",
       "      <td>2</td>\n",
       "      <td>31</td>\n",
       "      <td>181500</td>\n",
       "    </tr>\n",
       "    <tr>\n",
       "      <th>2</th>\n",
       "      <td>3</td>\n",
       "      <td>7</td>\n",
       "      <td>920</td>\n",
       "      <td>1786</td>\n",
       "      <td>2</td>\n",
       "      <td>1.61</td>\n",
       "      <td>2</td>\n",
       "      <td>6</td>\n",
       "      <td>223500</td>\n",
       "    </tr>\n",
       "    <tr>\n",
       "      <th>3</th>\n",
       "      <td>4</td>\n",
       "      <td>7</td>\n",
       "      <td>756</td>\n",
       "      <td>1717</td>\n",
       "      <td>1</td>\n",
       "      <td>1.61</td>\n",
       "      <td>3</td>\n",
       "      <td>36</td>\n",
       "      <td>140000</td>\n",
       "    </tr>\n",
       "    <tr>\n",
       "      <th>4</th>\n",
       "      <td>5</td>\n",
       "      <td>8</td>\n",
       "      <td>1145</td>\n",
       "      <td>2198</td>\n",
       "      <td>2</td>\n",
       "      <td>1.61</td>\n",
       "      <td>3</td>\n",
       "      <td>8</td>\n",
       "      <td>250000</td>\n",
       "    </tr>\n",
       "  </tbody>\n",
       "</table>\n",
       "</div>"
      ],
      "text/plain": [
       "   Id  OverallQual  TotalBsmtSF  ...  GarageCars  Antiquity  SalePrice\n",
       "0   1            7          856  ...           2          5     208500\n",
       "1   2            6         1262  ...           2         31     181500\n",
       "2   3            7          920  ...           2          6     223500\n",
       "3   4            7          756  ...           3         36     140000\n",
       "4   5            8         1145  ...           3          8     250000\n",
       "\n",
       "[5 rows x 9 columns]"
      ]
     },
     "execution_count": 34,
     "metadata": {
      "tags": []
     },
     "output_type": "execute_result"
    }
   ],
   "source": [
    "data2 = pd.read_csv('/content/drive/MyDrive/OLD_CURR/UNIT7/DAY1/housing_prices.csv')\n",
    "\n",
    "data2 = preprocessing(data2)\n",
    "data2.head()"
   ]
  },
  {
   "cell_type": "code",
   "execution_count": 35,
   "metadata": {
    "executionInfo": {
     "elapsed": 201,
     "status": "ok",
     "timestamp": 1626424888849,
     "user": {
      "displayName": "Ignacio Soteras",
      "photoUrl": "",
      "userId": "02050793736257155229"
     },
     "user_tz": -120
    },
    "id": "xzXTtqzLsdjA"
   },
   "outputs": [],
   "source": [
    "X = data2.drop(['Id','SalePrice'], axis=1)\n",
    "y = np.log(data2['SalePrice'])"
   ]
  },
  {
   "cell_type": "code",
   "execution_count": 36,
   "metadata": {
    "colab": {
     "base_uri": "https://localhost:8080/",
     "height": 205
    },
    "executionInfo": {
     "elapsed": 210,
     "status": "ok",
     "timestamp": 1626424892875,
     "user": {
      "displayName": "Ignacio Soteras",
      "photoUrl": "",
      "userId": "02050793736257155229"
     },
     "user_tz": -120
    },
    "id": "PZ1iOCldut6O",
    "outputId": "afb9d613-b404-4904-87aa-b36904dd165c"
   },
   "outputs": [
    {
     "data": {
      "text/html": [
       "<div>\n",
       "<style scoped>\n",
       "    .dataframe tbody tr th:only-of-type {\n",
       "        vertical-align: middle;\n",
       "    }\n",
       "\n",
       "    .dataframe tbody tr th {\n",
       "        vertical-align: top;\n",
       "    }\n",
       "\n",
       "    .dataframe thead th {\n",
       "        text-align: right;\n",
       "    }\n",
       "</style>\n",
       "<table border=\"1\" class=\"dataframe\">\n",
       "  <thead>\n",
       "    <tr style=\"text-align: right;\">\n",
       "      <th></th>\n",
       "      <th>OverallQual</th>\n",
       "      <th>TotalBsmtSF</th>\n",
       "      <th>GrLivArea</th>\n",
       "      <th>FullBath</th>\n",
       "      <th>KitchenQual</th>\n",
       "      <th>GarageCars</th>\n",
       "      <th>Antiquity</th>\n",
       "    </tr>\n",
       "  </thead>\n",
       "  <tbody>\n",
       "    <tr>\n",
       "      <th>0</th>\n",
       "      <td>-0.052554</td>\n",
       "      <td>-0.546283</td>\n",
       "      <td>-1.335617</td>\n",
       "      <td>-1.026416</td>\n",
       "      <td>-1.782494</td>\n",
       "      <td>-1.025568</td>\n",
       "      <td>-0.717109</td>\n",
       "    </tr>\n",
       "    <tr>\n",
       "      <th>1</th>\n",
       "      <td>2.864209</td>\n",
       "      <td>2.495175</td>\n",
       "      <td>1.211424</td>\n",
       "      <td>0.821133</td>\n",
       "      <td>3.758118</td>\n",
       "      <td>1.681282</td>\n",
       "      <td>-1.097384</td>\n",
       "    </tr>\n",
       "    <tr>\n",
       "      <th>2</th>\n",
       "      <td>1.405827</td>\n",
       "      <td>2.273452</td>\n",
       "      <td>1.013139</td>\n",
       "      <td>0.821133</td>\n",
       "      <td>-0.203160</td>\n",
       "      <td>0.327857</td>\n",
       "      <td>-0.431902</td>\n",
       "    </tr>\n",
       "    <tr>\n",
       "      <th>3</th>\n",
       "      <td>-0.052554</td>\n",
       "      <td>-0.787286</td>\n",
       "      <td>0.132100</td>\n",
       "      <td>0.821133</td>\n",
       "      <td>-0.203160</td>\n",
       "      <td>0.327857</td>\n",
       "      <td>0.233580</td>\n",
       "    </tr>\n",
       "    <tr>\n",
       "      <th>4</th>\n",
       "      <td>1.405827</td>\n",
       "      <td>0.581611</td>\n",
       "      <td>1.959592</td>\n",
       "      <td>0.821133</td>\n",
       "      <td>-0.203160</td>\n",
       "      <td>1.681282</td>\n",
       "      <td>-0.574505</td>\n",
       "    </tr>\n",
       "  </tbody>\n",
       "</table>\n",
       "</div>"
      ],
      "text/plain": [
       "   OverallQual  TotalBsmtSF  GrLivArea  ...  KitchenQual  GarageCars  Antiquity\n",
       "0    -0.052554    -0.546283  -1.335617  ...    -1.782494   -1.025568  -0.717109\n",
       "1     2.864209     2.495175   1.211424  ...     3.758118    1.681282  -1.097384\n",
       "2     1.405827     2.273452   1.013139  ...    -0.203160    0.327857  -0.431902\n",
       "3    -0.052554    -0.787286   0.132100  ...    -0.203160    0.327857   0.233580\n",
       "4     1.405827     0.581611   1.959592  ...    -0.203160    1.681282  -0.574505\n",
       "\n",
       "[5 rows x 7 columns]"
      ]
     },
     "execution_count": 36,
     "metadata": {
      "tags": []
     },
     "output_type": "execute_result"
    }
   ],
   "source": [
    "X_train, X_test, y_train, y_test = train_test_split(X, y, test_size=0.30, random_state=42)\n",
    "\n",
    "scaler = StandardScaler()\n",
    "\n",
    "scaler.fit(X_train)\n",
    "\n",
    "X_train = scaler.transform(X_train)\n",
    "X_test  = scaler.transform(X_test)\n",
    "\n",
    "X_train = pd.DataFrame(X_train, columns = X.columns)\n",
    "X_test  = pd.DataFrame(X_test , columns = X.columns)\n",
    "\n",
    "X_train.head()"
   ]
  },
  {
   "cell_type": "markdown",
   "metadata": {
    "id": "2-oqspOcve89"
   },
   "source": [
    "# Computing the pca"
   ]
  },
  {
   "cell_type": "code",
   "execution_count": 37,
   "metadata": {
    "executionInfo": {
     "elapsed": 207,
     "status": "ok",
     "timestamp": 1626424909580,
     "user": {
      "displayName": "Ignacio Soteras",
      "photoUrl": "",
      "userId": "02050793736257155229"
     },
     "user_tz": -120
    },
    "id": "KVw_KksOvhuR"
   },
   "outputs": [],
   "source": [
    "pca = PCA(svd_solver='full')\n",
    "\n",
    "pca.fit(X_train)\n",
    "\n",
    "X_train = pca.transform(X_train)\n",
    "X_test  = pca.transform(X_test)\n",
    "\n",
    "X_train = pd.DataFrame(X_train, columns = X.columns)\n",
    "X_test  = pd.DataFrame(X_test , columns = X.columns)"
   ]
  },
  {
   "cell_type": "code",
   "execution_count": 38,
   "metadata": {
    "colab": {
     "base_uri": "https://localhost:8080/",
     "height": 236
    },
    "executionInfo": {
     "elapsed": 201,
     "status": "ok",
     "timestamp": 1626424914829,
     "user": {
      "displayName": "Ignacio Soteras",
      "photoUrl": "",
      "userId": "02050793736257155229"
     },
     "user_tz": -120
    },
    "id": "SVxnxNeHv7Pr",
    "outputId": "44037cb2-b1b8-47d1-b05a-1131511ac402"
   },
   "outputs": [
    {
     "data": {
      "text/html": [
       "<div>\n",
       "<style scoped>\n",
       "    .dataframe tbody tr th:only-of-type {\n",
       "        vertical-align: middle;\n",
       "    }\n",
       "\n",
       "    .dataframe tbody tr th {\n",
       "        vertical-align: top;\n",
       "    }\n",
       "\n",
       "    .dataframe thead th {\n",
       "        text-align: right;\n",
       "    }\n",
       "</style>\n",
       "<table border=\"1\" class=\"dataframe\">\n",
       "  <thead>\n",
       "    <tr style=\"text-align: right;\">\n",
       "      <th></th>\n",
       "      <th>num_pca</th>\n",
       "      <th>variance</th>\n",
       "      <th>cum_variance</th>\n",
       "    </tr>\n",
       "  </thead>\n",
       "  <tbody>\n",
       "    <tr>\n",
       "      <th>0</th>\n",
       "      <td>1</td>\n",
       "      <td>0.525403</td>\n",
       "      <td>0.525403</td>\n",
       "    </tr>\n",
       "    <tr>\n",
       "      <th>1</th>\n",
       "      <td>2</td>\n",
       "      <td>0.130041</td>\n",
       "      <td>0.655444</td>\n",
       "    </tr>\n",
       "    <tr>\n",
       "      <th>2</th>\n",
       "      <td>3</td>\n",
       "      <td>0.103425</td>\n",
       "      <td>0.758869</td>\n",
       "    </tr>\n",
       "    <tr>\n",
       "      <th>3</th>\n",
       "      <td>4</td>\n",
       "      <td>0.089549</td>\n",
       "      <td>0.848418</td>\n",
       "    </tr>\n",
       "    <tr>\n",
       "      <th>4</th>\n",
       "      <td>5</td>\n",
       "      <td>0.064804</td>\n",
       "      <td>0.913222</td>\n",
       "    </tr>\n",
       "    <tr>\n",
       "      <th>5</th>\n",
       "      <td>6</td>\n",
       "      <td>0.048159</td>\n",
       "      <td>0.961382</td>\n",
       "    </tr>\n",
       "  </tbody>\n",
       "</table>\n",
       "</div>"
      ],
      "text/plain": [
       "   num_pca  variance  cum_variance\n",
       "0        1  0.525403      0.525403\n",
       "1        2  0.130041      0.655444\n",
       "2        3  0.103425      0.758869\n",
       "3        4  0.089549      0.848418\n",
       "4        5  0.064804      0.913222\n",
       "5        6  0.048159      0.961382"
      ]
     },
     "execution_count": 38,
     "metadata": {
      "tags": []
     },
     "output_type": "execute_result"
    }
   ],
   "source": [
    "variances = pca.explained_variance_ratio_.tolist()\n",
    "total_variance = [sum(variances[:i]) for i in range(1, len(variances)+1)]\n",
    "scree = pd.DataFrame({'num_pca': range(1,len(variances)+1),'variance':variances,'cum_variance': total_variance})\n",
    "scree.head(6)"
   ]
  },
  {
   "cell_type": "code",
   "execution_count": 39,
   "metadata": {
    "colab": {
     "base_uri": "https://localhost:8080/",
     "height": 515
    },
    "executionInfo": {
     "elapsed": 765,
     "status": "ok",
     "timestamp": 1626424936478,
     "user": {
      "displayName": "Ignacio Soteras",
      "photoUrl": "",
      "userId": "02050793736257155229"
     },
     "user_tz": -120
    },
    "id": "xqyBikTUvwoJ",
    "outputId": "4412420d-5e30-4431-f8ef-f1acfccbf912"
   },
   "outputs": [
    {
     "data": {
      "text/plain": [
       "<matplotlib.axes._subplots.AxesSubplot at 0x7fbfdb88f290>"
      ]
     },
     "execution_count": 39,
     "metadata": {
      "tags": []
     },
     "output_type": "execute_result"
    },
    {
     "data": {
      "image/png": "[encoded data removed]",
      "text/plain": [
       "<Figure size 1152x576 with 2 Axes>"
      ]
     },
     "metadata": {
      "tags": []
     },
     "output_type": "display_data"
    }
   ],
   "source": [
    "import matplotlib.pyplot as plt\n",
    "import seaborn as sns\n",
    "%matplotlib inline\n",
    "\n",
    "sns.set_style(\"darkgrid\", {\"axes.facecolor\": \".9\"})\n",
    "\n",
    "fig, ax = plt.subplots(1,2,figsize=(16,8))\n",
    "\n",
    "sns.lineplot(x=\"num_pca\", y=\"variance\", data=scree, ax = ax[0], color = 'black')\n",
    "ax[0].set_xticks(range(1,9))\n",
    "sns.barplot(x=\"num_pca\", y=\"cum_variance\", data=scree, ax = ax[1], color = 'lightblue')"
   ]
  },
  {
   "cell_type": "markdown",
   "metadata": {
    "id": "YLYxwAjXxaS8"
   },
   "source": [
    "According to the scree plot, with two principal components it should be enough. However, from ther right plot we see that with two principal components we only account for around 62% of the total variability of the houses characteristics. \n",
    "\n",
    "In contrast, if we pick four principal components we can account for more than 80% of the total variability of the houses characteristics. In particular:\n",
    "\n",
    "```\n",
    "cum_variance[4] = 0.85\n",
    "```\n",
    "\n",
    "meaning that with four principal components, we can account for 85% of the total variability in the houses characteristics."
   ]
  },
  {
   "cell_type": "markdown",
   "metadata": {
    "id": "u4io3bQyyf4Y"
   },
   "source": [
    "# Inspecting the coeficients"
   ]
  },
  {
   "cell_type": "code",
   "execution_count": 41,
   "metadata": {
    "colab": {
     "base_uri": "https://localhost:8080/"
    },
    "executionInfo": {
     "elapsed": 222,
     "status": "ok",
     "timestamp": 1626425204726,
     "user": {
      "displayName": "Ignacio Soteras",
      "photoUrl": "",
      "userId": "02050793736257155229"
     },
     "user_tz": -120
    },
    "id": "T6qHcJ0KyjLP",
    "outputId": "7fa0bce6-2965-44f3-e3d4-e8e5757675f4"
   },
   "outputs": [
    {
     "name": "stdout",
     "output_type": "stream",
     "text": [
      "Principal component  1\n",
      "[(1, 'OverallQual', 0.45), (6, 'GarageCars', 0.41), (3, 'GrLivArea', 0.39), (4, 'FullBath', 0.39), (2, 'TotalBsmtSF', 0.35), (7, 'Antiquity', -0.34), (5, 'KitchenQual', 0.28)]\n",
      "\n",
      "Principal component  2\n",
      "[(5, 'KitchenQual', 0.71), (4, 'FullBath', -0.51), (2, 'TotalBsmtSF', 0.37), (3, 'GrLivArea', -0.29), (7, 'Antiquity', 0.09), (1, 'OverallQual', 0.07), (6, 'GarageCars', -0.05)]\n",
      "\n",
      "Principal component  3\n",
      "[(7, 'Antiquity', 0.82), (3, 'GrLivArea', 0.51), (2, 'TotalBsmtSF', 0.21), (4, 'FullBath', 0.1), (5, 'KitchenQual', 0.06), (1, 'OverallQual', -0.05), (6, 'GarageCars', -0.05)]\n",
      "\n",
      "Principal component  4\n",
      "[(2, 'TotalBsmtSF', 0.69), (5, 'KitchenQual', -0.59), (6, 'GarageCars', 0.27), (3, 'GrLivArea', -0.22), (4, 'FullBath', -0.22), (7, 'Antiquity', 0.05), (1, 'OverallQual', 0.01)]\n",
      "\n",
      "Principal component  5\n",
      "[(6, 'GarageCars', 0.83), (2, 'TotalBsmtSF', -0.43), (4, 'FullBath', -0.25), (7, 'Antiquity', 0.24), (3, 'GrLivArea', -0.1), (1, 'OverallQual', 0.04), (5, 'KitchenQual', 0.03)]\n",
      "\n",
      "Principal component  6\n",
      "[(4, 'FullBath', 0.6), (1, 'OverallQual', -0.58), (3, 'GrLivArea', -0.4), (5, 'KitchenQual', 0.23), (6, 'GarageCars', 0.22), (2, 'TotalBsmtSF', 0.18), (7, 'Antiquity', 0.09)]\n",
      "\n",
      "Principal component  7\n",
      "[(1, 'OverallQual', -0.67), (3, 'GrLivArea', 0.53), (7, 'Antiquity', -0.35), (4, 'FullBath', -0.33), (6, 'GarageCars', 0.14), (2, 'TotalBsmtSF', 0.09), (5, 'KitchenQual', 0.05)]\n",
      "\n"
     ]
    }
   ],
   "source": [
    "for comp in range(1,len(pca.components_)+1):\n",
    "    print(\"Principal component \",comp)\n",
    "    my_list = [(abs(value),index+1,X.columns[index],value) for index,value in enumerate(pca.components_[comp-1,:]) ]\n",
    "    my_list.sort(reverse=True)\n",
    "    my_list = [(elem[1],elem[2],round(elem[-1],2)) for elem in my_list]\n",
    "    print(my_list)\n",
    "    print()"
   ]
  },
  {
   "cell_type": "markdown",
   "metadata": {
    "id": "2aXedy0ly-MZ"
   },
   "source": [
    "# Re-fitting a linear model with pca's"
   ]
  },
  {
   "cell_type": "code",
   "execution_count": 42,
   "metadata": {
    "colab": {
     "base_uri": "https://localhost:8080/",
     "height": 729
    },
    "executionInfo": {
     "elapsed": 2084,
     "status": "ok",
     "timestamp": 1626425259427,
     "user": {
      "displayName": "Ignacio Soteras",
      "photoUrl": "",
      "userId": "02050793736257155229"
     },
     "user_tz": -120
    },
    "id": "1Nh5IAIRzB5D",
    "outputId": "cf60083d-3df9-4725-93d4-395b7c274272"
   },
   "outputs": [
    {
     "data": {
      "image/png": "[encoded data removed]",
      "text/plain": [
       "<Figure size 720x720 with 4 Axes>"
      ]
     },
     "metadata": {
      "tags": []
     },
     "output_type": "display_data"
    }
   ],
   "source": [
    "lm = LinearRegression()\n",
    "\n",
    "lm.fit(X_train,y_train)\n",
    "\n",
    "y_pred_train = lm.predict(X_train)\n",
    "y_pred_test  = lm.predict(X_test)\n",
    "\n",
    "show_errors(y_train, y_pred_train, y_test, y_pred_test)"
   ]
  },
  {
   "cell_type": "markdown",
   "metadata": {
    "id": "tuZD3T-vzrS2"
   },
   "source": [
    "Pca components, are NOT related with the dependent feature!!! They are related with the independent features. "
   ]
  }
 ],
 "metadata": {
  "colab": {
   "collapsed_sections": [],
   "name": "PCA_code_along.ipynb",
   "provenance": []
  },
  "kernelspec": {
   "display_name": "Python 3",
   "language": "python",
   "name": "python3"
  },
  "language_info": {
   "codemirror_mode": {
    "name": "ipython",
    "version": 3
   },
   "file_extension": ".py",
   "mimetype": "text/x-python",
   "name": "python",
   "nbconvert_exporter": "python",
   "pygments_lexer": "ipython3",
   "version": "3.8.8"
  },
  "toc": {
   "base_numbering": 1,
   "nav_menu": {},
   "number_sections": true,
   "sideBar": true,
   "skip_h1_title": false,
   "title_cell": "Table of Contents",
   "title_sidebar": "Contents",
   "toc_cell": false,
   "toc_position": {},
   "toc_section_display": true,
   "toc_window_display": false
  },
  "varInspector": {
   "cols": {
    "lenName": 16,
    "lenType": 16,
    "lenVar": 40
   },
   "kernels_config": {
    "python": {
     "delete_cmd_postfix": "",
     "delete_cmd_prefix": "del ",
     "library": "var_list.py",
     "varRefreshCmd": "print(var_dic_list())"
    },
    "r": {
     "delete_cmd_postfix": ") ",
     "delete_cmd_prefix": "rm(",
     "library": "var_list.r",
     "varRefreshCmd": "cat(var_dic_list()) "
    }
   },
   "types_to_exclude": [
    "module",
    "function",
    "builtin_function_or_method",
    "instance",
    "_Feature"
   ],
   "window_display": false
  }
 },
 "nbformat": 4,
 "nbformat_minor": 1
}
