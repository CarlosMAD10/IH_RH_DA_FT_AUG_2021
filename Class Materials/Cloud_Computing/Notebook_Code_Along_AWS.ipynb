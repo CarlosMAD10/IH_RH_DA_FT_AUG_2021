{
 "cells": [
  {
   "cell_type": "markdown",
   "metadata": {
    "id": "h4G-eG_b0nrm"
   },
   "source": [
    "# Linear regression\n"
   ]
  },
  {
   "cell_type": "code",
   "execution_count": 1,
   "metadata": {
    "id": "GfRdG0e00nro"
   },
   "outputs": [],
   "source": [
    "#libraries\n",
    "import matplotlib.pyplot as plt\n",
    "from matplotlib.collections import LineCollection\n",
    "%matplotlib inline\n",
    "import seaborn as sns\n",
    "import pandas as pd\n",
    "import numpy as np\n",
    "from ipywidgets import interactive\n",
    "import ipywidgets as widgets"
   ]
  },
  {
   "cell_type": "code",
   "execution_count": 2,
   "metadata": {
    "cellView": "form",
    "colab": {
     "base_uri": "https://localhost:8080/",
     "height": 419,
     "referenced_widgets": [
      "09e79546401a41408f7146c7b84f2746",
      "7eb43f897ce440f9af6df13385cac5e3",
      "623feea2c9db4da391e15854e8dd3ad0",
      "a6e20580e5294de98bd66f960249e3ba",
      "e4b00aa6fcb04a1084bf702c8a369e2a",
      "c033a54d3649443cab221b1a81658331",
      "6dd5eb834ed244efb5b085c0ee30e3f6",
      "61b71699509249a89dd081181954895c",
      "9cae8aee44054ff08be2cacf3f9715b0",
      "b70bf93a55d24de0ab651a91aecc696e"
     ]
    },
    "id": "xegWE8uHjQgD",
    "outputId": "47d79976-a211-43a6-9944-34897283da28"
   },
   "outputs": [
    {
     "data": {
      "application/vnd.jupyter.widget-view+json": {
       "model_id": "951e988877a64e5989775cd2346280ee",
       "version_major": 2,
       "version_minor": 0
      },
      "text/plain": [
       "interactive(children=(FloatSlider(value=0.0, description='slope', max=40.0, step=0.5), FloatSlider(value=200.0…"
      ]
     },
     "metadata": {},
     "output_type": "display_data"
    }
   ],
   "source": [
    "#@title Interactive plot\n",
    "sns.set()\n",
    "sns.set_context(\"talk\")\n",
    "\n",
    "\n",
    "def plot_regression(slope, intercept):\n",
    "    # Fixing the seed of the random number generator for reproducibility of the fake data\n",
    "    np.random.seed(50)\n",
    "    x = np.arange(1, 101)\n",
    "    y = 3 * x + 20 + np.random.normal(0, 30, 100)\n",
    "    y_pred = slope * x + intercept\n",
    "    mse = np.mean((y-y_pred)**2)\n",
    "    plt.plot(x, y, \"o\")\n",
    "\n",
    "    plt.xlabel(\"x\")\n",
    "    plt.ylabel(\"y\")\n",
    "    plt.title(\"Scatter plot with the regression line\")\n",
    "\n",
    "    # We define two points to construct the line. Every line is defined by two points.\n",
    "    x1, y1 = 0, intercept\n",
    "    x2, y2 = 100, intercept + slope * 100\n",
    "    l1 = [(x1, y1), (x2,y2)]\n",
    "    \n",
    "    lc = LineCollection([l1], color=[\"black\"], lw=2)\n",
    "\n",
    "    plt.gca().add_collection(lc)\n",
    "\n",
    "    plt.show()\n",
    "    \n",
    "    print(\"The mean squared error (MSE) is: {:.2f} cm2\".format(mse))\n",
    "    print(\"The root mean square (RMSE) is: {:.2f} cm\".format(np.sqrt(mse)))\n",
    "    \n",
    "#interactive_plot = interactive(plot_regression, alpha=(0,30), beta=(-100,100))\n",
    "interactive_plot = interactive(plot_regression, slope=widgets.FloatSlider(min=0, max=40, step=0.5, value=0), \n",
    "                               intercept=widgets.FloatSlider(min=0, max=200, step=10, value=200))\n",
    "\n",
    "interactive_plot"
   ]
  },
  {
   "cell_type": "markdown",
   "metadata": {
    "id": "GG3rn5YW0nrq"
   },
   "source": [
    "## Obtaining the model with Ordinary Least Squares\n",
    "\n",
    "Let's type the equations with python"
   ]
  },
  {
   "cell_type": "markdown",
   "metadata": {
    "id": "56j_wd7dHSbz"
   },
   "source": [
    "Values needed:\n",
    "\n",
    "* $\\bar{x}$\n",
    "* $\\bar{y}$\n",
    "* $\\bar{xy}$\n",
    "* $\\bar{x}^{2}$\n",
    "* $\\bar{x^{2}}$\n",
    "\n",
    "$ \\hat{y_{i}}=a+b*x_{i} $\n",
    "\n",
    "$a = \\bar{y} - \\bar{x}\\frac{(\\bar{xy}-\\bar{x}\\bar{y})}{(\\bar{x^{2}}-\\bar{x}^{2})}$\n",
    "\n",
    "$b=\\frac{(\\bar{xy}-\\bar{x}\\bar{y})}{(\\bar{x^{2}}-\\bar{x}^{2})}$\n"
   ]
  },
  {
   "cell_type": "code",
   "execution_count": 3,
   "metadata": {
    "id": "PIo378lIr8KJ"
   },
   "outputs": [],
   "source": [
    "# Replicating the data\n",
    "np.random.seed(50)\n",
    "x = np.arange(1, 101)\n",
    "y = 3 * x + 20 + np.random.normal(0, 30, 100)"
   ]
  },
  {
   "cell_type": "code",
   "execution_count": 4,
   "metadata": {
    "colab": {
     "base_uri": "https://localhost:8080/"
    },
    "id": "VFELNz950nrq",
    "outputId": "cb1db8a5-69fa-4eba-ad73-b80a7b960f01"
   },
   "outputs": [
    {
     "name": "stdout",
     "output_type": "stream",
     "text": [
      "The slope is: 2.92\n",
      "The intercerpt is: 25.11\n"
     ]
    }
   ],
   "source": [
    "# Slope\n",
    "b = ( np.mean(x*y) - ( np.mean(x) * np.mean(y) ) ) / ( np.mean( np.power(x, 2) ) - np.power( np.mean(x), 2) )\n",
    "# Intercept\n",
    "a = np.mean(y) - ( np.mean(x) * b )\n",
    "\n",
    "print(\"The slope is: {:.2f}\".format(b))\n",
    "print(\"The intercerpt is: {:.2f}\".format(a))"
   ]
  },
  {
   "cell_type": "markdown",
   "metadata": {
    "id": "XVpv2md00nrr"
   },
   "source": [
    "### Making predictions"
   ]
  },
  {
   "cell_type": "code",
   "execution_count": 5,
   "metadata": {
    "id": "rw4ZItHm0nrr"
   },
   "outputs": [],
   "source": [
    "#Making predictions for actual data\n"
   ]
  },
  {
   "cell_type": "code",
   "execution_count": 6,
   "metadata": {
    "colab": {
     "base_uri": "https://localhost:8080/"
    },
    "id": "7DDtVcMp0nrs",
    "outputId": "26bb8389-08d6-4071-a9e2-dfbfd1fb1522"
   },
   "outputs": [
    {
     "name": "stdout",
     "output_type": "stream",
     "text": [
      "The prediction for 41 is: 144.94\n"
     ]
    }
   ],
   "source": [
    "# Prediction for new data (x = 41)\n",
    "# b * 41 + a \n",
    "print(\"The prediction for 41 is: {:.2f}\".format(b * 41 + a))"
   ]
  },
  {
   "cell_type": "code",
   "execution_count": 7,
   "metadata": {
    "colab": {
     "base_uri": "https://localhost:8080/"
    },
    "id": "s_7otGO30nrs",
    "outputId": "1fc8c8f9-c16c-43da-8063-137f88e02297"
   },
   "outputs": [
    {
     "name": "stdout",
     "output_type": "stream",
     "text": [
      "The prediction for 20 is: 83.56\n"
     ]
    }
   ],
   "source": [
    "# Prediction for new data (x  = 20)\n",
    "print(\"The prediction for 20 is: {:.2f}\".format(b * 20 + a))"
   ]
  },
  {
   "cell_type": "code",
   "execution_count": 8,
   "metadata": {
    "colab": {
     "base_uri": "https://localhost:8080/"
    },
    "id": "CrG3av-uuYOU",
    "outputId": "407d8310-edb0-41eb-921f-cba2800d6199"
   },
   "outputs": [
    {
     "data": {
      "text/plain": [
       "array([41, 20])"
      ]
     },
     "execution_count": 8,
     "metadata": {},
     "output_type": "execute_result"
    }
   ],
   "source": [
    "x_new = np.array([41,20])\n",
    "x_new"
   ]
  },
  {
   "cell_type": "code",
   "execution_count": 9,
   "metadata": {
    "colab": {
     "base_uri": "https://localhost:8080/"
    },
    "id": "IUWuICZbuiPw",
    "outputId": "388d7328-5f53-4d4f-fcdf-ce49aa35f701"
   },
   "outputs": [
    {
     "data": {
      "text/plain": [
       "array([144.93728112,  83.56433097])"
      ]
     },
     "execution_count": 9,
     "metadata": {},
     "output_type": "execute_result"
    }
   ],
   "source": [
    "b * x_new + a"
   ]
  },
  {
   "cell_type": "markdown",
   "metadata": {
    "id": "KutWHsXQ0nrs"
   },
   "source": [
    "### Evaluating predictions"
   ]
  },
  {
   "cell_type": "code",
   "execution_count": 10,
   "metadata": {
    "colab": {
     "base_uri": "https://localhost:8080/"
    },
    "id": "76owxl0D0nrt",
    "outputId": "b91d86f6-0caa-4412-cae8-814323418db2"
   },
   "outputs": [
    {
     "name": "stdout",
     "output_type": "stream",
     "text": [
      "The ME of the model is: 0.00\n",
      "The MAE of the model is: 24.22\n",
      "The MSE of the model is: 1037.53\n",
      "The RMSE of the model is: 32.21\n",
      "The MAPE of the model is: 0.35 %\n"
     ]
    }
   ],
   "source": [
    "# Evaluating predictions\n",
    "#y_pred = a + b * x \n",
    "# Compute:\n",
    "y_pred = a + b * x # x is a numpy array -> y_pred a numpy array with the predicted values for every x value\n",
    "# ME: mean error\n",
    "ME = np.mean( y - y_pred )\n",
    "print(\"The ME of the model is: {:.2f}\".format(ME))\n",
    "# MAE: mean absolute error\n",
    "MAE = np.mean( np.abs( y - y_pred ) )\n",
    "print(\"The MAE of the model is: {:.2f}\".format(MAE))\n",
    "# MSE: mean squared error\n",
    "MSE = np.mean( np.power( y - y_pred , 2 ) )\n",
    "print(\"The MSE of the model is: {:.2f}\".format(MSE))\n",
    "# RMSE: root mean squared error\n",
    "RMSE = np.sqrt(MSE)\n",
    "print(\"The RMSE of the model is: {:.2f}\".format(RMSE))\n",
    "# MAPE: mean absolute percentual error\n",
    "MAPE = np.mean( np.abs( ( ( y - y_pred ) / y ) ) )\n",
    "print(\"The MAPE of the model is: {:.2f} %\".format(MAPE))"
   ]
  },
  {
   "cell_type": "code",
   "execution_count": 11,
   "metadata": {
    "colab": {
     "base_uri": "https://localhost:8080/",
     "height": 392
    },
    "id": "Fr0GE2ik1Qhb",
    "outputId": "497f88be-9150-48f1-a189-b06181b44e38"
   },
   "outputs": [
    {
     "data": {
      "text/plain": [
       "Text(0.5, 1.0, 'Histogram of residuals')"
      ]
     },
     "execution_count": 11,
     "metadata": {},
     "output_type": "execute_result"
    },
    {
     "data": {
      "image/png": "[encoded data removed]",
      "text/plain": [
       "<Figure size 720x360 with 2 Axes>"
      ]
     },
     "metadata": {},
     "output_type": "display_data"
    }
   ],
   "source": [
    "# Make an scatter plot y_pred vs y\n",
    "# What kind of plot you will get if all the all the predictions are ok?\n",
    "fig, ax = plt.subplots(1,2, figsize=(10,5))\n",
    "ax[0].plot(y,y_pred, 'o')\n",
    "ax[0].set_xlabel(\"Real value\")\n",
    "ax[0].set_ylabel(\"Predicted value\")\n",
    "\n",
    "# Get a histogram of the residuals ie: y - y_pred. = residuals\n",
    "# It resembles a normal distribution?\n",
    "ax[1].hist( y - y_pred )\n",
    "ax[1].set_xlabel(\"y - y_pred\")\n",
    "ax[1].set_ylabel(\"Count\")\n",
    "ax[1].set_title(\"Histogram of residuals\")"
   ]
  },
  {
   "cell_type": "markdown",
   "metadata": {
    "id": "2wuRNDXS0nrt"
   },
   "source": [
    "### Plotting the linear model with seaborn"
   ]
  },
  {
   "cell_type": "code",
   "execution_count": 12,
   "metadata": {
    "colab": {
     "base_uri": "https://localhost:8080/",
     "height": 422
    },
    "id": "nwbcE9LP0nrt",
    "outputId": "8f63de26-c8e2-4c10-a4a6-013647dd9582"
   },
   "outputs": [
    {
     "data": {
      "text/html": [
       "<div>\n",
       "<style scoped>\n",
       "    .dataframe tbody tr th:only-of-type {\n",
       "        vertical-align: middle;\n",
       "    }\n",
       "\n",
       "    .dataframe tbody tr th {\n",
       "        vertical-align: top;\n",
       "    }\n",
       "\n",
       "    .dataframe thead th {\n",
       "        text-align: right;\n",
       "    }\n",
       "</style>\n",
       "<table border=\"1\" class=\"dataframe\">\n",
       "  <thead>\n",
       "    <tr style=\"text-align: right;\">\n",
       "      <th></th>\n",
       "      <th>x</th>\n",
       "      <th>y</th>\n",
       "    </tr>\n",
       "  </thead>\n",
       "  <tbody>\n",
       "    <tr>\n",
       "      <th>0</th>\n",
       "      <td>1</td>\n",
       "      <td>-23.810563</td>\n",
       "    </tr>\n",
       "    <tr>\n",
       "      <th>1</th>\n",
       "      <td>2</td>\n",
       "      <td>25.070672</td>\n",
       "    </tr>\n",
       "    <tr>\n",
       "      <th>2</th>\n",
       "      <td>3</td>\n",
       "      <td>10.372147</td>\n",
       "    </tr>\n",
       "    <tr>\n",
       "      <th>3</th>\n",
       "      <td>4</td>\n",
       "      <td>-11.937415</td>\n",
       "    </tr>\n",
       "    <tr>\n",
       "      <th>4</th>\n",
       "      <td>5</td>\n",
       "      <td>77.358384</td>\n",
       "    </tr>\n",
       "    <tr>\n",
       "      <th>...</th>\n",
       "      <td>...</td>\n",
       "      <td>...</td>\n",
       "    </tr>\n",
       "    <tr>\n",
       "      <th>95</th>\n",
       "      <td>96</td>\n",
       "      <td>268.796797</td>\n",
       "    </tr>\n",
       "    <tr>\n",
       "      <th>96</th>\n",
       "      <td>97</td>\n",
       "      <td>284.306951</td>\n",
       "    </tr>\n",
       "    <tr>\n",
       "      <th>97</th>\n",
       "      <td>98</td>\n",
       "      <td>314.158032</td>\n",
       "    </tr>\n",
       "    <tr>\n",
       "      <th>98</th>\n",
       "      <td>99</td>\n",
       "      <td>342.992746</td>\n",
       "    </tr>\n",
       "    <tr>\n",
       "      <th>99</th>\n",
       "      <td>100</td>\n",
       "      <td>303.933933</td>\n",
       "    </tr>\n",
       "  </tbody>\n",
       "</table>\n",
       "<p>100 rows × 2 columns</p>\n",
       "</div>"
      ],
      "text/plain": [
       "      x           y\n",
       "0     1  -23.810563\n",
       "1     2   25.070672\n",
       "2     3   10.372147\n",
       "3     4  -11.937415\n",
       "4     5   77.358384\n",
       "..  ...         ...\n",
       "95   96  268.796797\n",
       "96   97  284.306951\n",
       "97   98  314.158032\n",
       "98   99  342.992746\n",
       "99  100  303.933933\n",
       "\n",
       "[100 rows x 2 columns]"
      ]
     },
     "execution_count": 12,
     "metadata": {},
     "output_type": "execute_result"
    }
   ],
   "source": [
    "data = pd.DataFrame({\"x\":x, \"y\":y})\n",
    "data"
   ]
  },
  {
   "cell_type": "code",
   "execution_count": 13,
   "metadata": {
    "colab": {
     "base_uri": "https://localhost:8080/",
     "height": 318
    },
    "id": "jxv-HUss0nrt",
    "outputId": "34f5cda5-cc08-4c6d-c837-cdc777ed8b8a"
   },
   "outputs": [
    {
     "data": {
      "text/plain": [
       "<matplotlib.axes._subplots.AxesSubplot at 0x7f0e54696750>"
      ]
     },
     "execution_count": 13,
     "metadata": {},
     "output_type": "execute_result"
    },
    {
     "data": {
      "image/png": "[encoded data removed]",
      "text/plain": [
       "<Figure size 432x288 with 1 Axes>"
      ]
     },
     "metadata": {},
     "output_type": "display_data"
    }
   ],
   "source": [
    "# sns.regplot(x =, y = , data=, scatter_kws ={'color': value}, line_kws={\"color\": \"red\"})\n",
    "sns.regplot(x='x',y='y', data=data, scatter_kws={\"color\": \"olive\"}, line_kws={\"color\": \"black\"})"
   ]
  },
  {
   "cell_type": "markdown",
   "metadata": {
    "id": "QbJCoJnD0nru"
   },
   "source": [
    "## Linear regression with scipy\n",
    "\n",
    "The p-value for each term tests the null hypothesis that the coefficient is equal to zero (no effect). A low p-value (< 0.05) indicates that you can reject the null hypothesis."
   ]
  },
  {
   "cell_type": "code",
   "execution_count": 14,
   "metadata": {
    "colab": {
     "base_uri": "https://localhost:8080/"
    },
    "id": "TaD3L9Fo0nru",
    "outputId": "6f59f6c0-ee7f-4aed-83e4-f780d4458360"
   },
   "outputs": [
    {
     "name": "stdout",
     "output_type": "stream",
     "text": [
      "The slope is: 2.92\n",
      "The intercerpt is: 25.11\n"
     ]
    }
   ],
   "source": [
    "import scipy.stats as stats\n",
    "# slope, intercept, r_value, p_value, slope_std_err, intercept_std_error = stats.linregress(x,y); where x,y are numpy arrays\n",
    "\n",
    "reg = stats.linregress(x,y)\n",
    "\n",
    "print(\"The slope is: {:.2f}\".format(reg.slope))\n",
    "print(\"The intercerpt is: {:.2f}\".format(reg.intercept))"
   ]
  },
  {
   "cell_type": "code",
   "execution_count": 15,
   "metadata": {
    "colab": {
     "base_uri": "https://localhost:8080/"
    },
    "id": "TVlziEvDX1VP",
    "outputId": "d093e063-a481-454e-8ef6-5d606093c46c"
   },
   "outputs": [
    {
     "data": {
      "text/plain": [
       "True"
      ]
     },
     "execution_count": 15,
     "metadata": {},
     "output_type": "execute_result"
    }
   ],
   "source": [
    "reg.pvalue < 0.05"
   ]
  },
  {
   "cell_type": "markdown",
   "metadata": {
    "id": "T4ocmsnW0nru"
   },
   "source": [
    "### Linear model with Scikit-Learn"
   ]
  },
  {
   "cell_type": "code",
   "execution_count": 16,
   "metadata": {
    "id": "mdrPEdhy0nru"
   },
   "outputs": [],
   "source": [
    "from sklearn.linear_model import LinearRegression"
   ]
  },
  {
   "cell_type": "code",
   "execution_count": 17,
   "metadata": {
    "id": "2LTg2QKP0nrv"
   },
   "outputs": [],
   "source": [
    "# create the model\n",
    "linear_model = LinearRegression()"
   ]
  },
  {
   "cell_type": "code",
   "execution_count": 18,
   "metadata": {
    "colab": {
     "base_uri": "https://localhost:8080/"
    },
    "id": "eRFgPeT1GeLb",
    "outputId": "59feee8c-4d34-4b78-8441-286c3ee3a175"
   },
   "outputs": [
    {
     "data": {
      "text/plain": [
       "(100,)"
      ]
     },
     "execution_count": 18,
     "metadata": {},
     "output_type": "execute_result"
    }
   ],
   "source": [
    "x.shape # "
   ]
  },
  {
   "cell_type": "code",
   "execution_count": 19,
   "metadata": {
    "colab": {
     "base_uri": "https://localhost:8080/"
    },
    "id": "HWhtIKeh0F_1",
    "outputId": "146da026-c9f0-4893-ec82-3340fe9bd582"
   },
   "outputs": [
    {
     "data": {
      "text/plain": [
       "(100, 1)"
      ]
     },
     "execution_count": 19,
     "metadata": {},
     "output_type": "execute_result"
    }
   ],
   "source": [
    "x.reshape(-1,1).shape"
   ]
  },
  {
   "cell_type": "code",
   "execution_count": 20,
   "metadata": {
    "colab": {
     "base_uri": "https://localhost:8080/"
    },
    "id": "1ln2jZWr0nrv",
    "outputId": "9be7b95a-8f04-4237-9ed4-008acca5535b",
    "scrolled": true
   },
   "outputs": [
    {
     "data": {
      "text/plain": [
       "LinearRegression(copy_X=True, fit_intercept=True, n_jobs=None, normalize=False)"
      ]
     },
     "execution_count": 20,
     "metadata": {},
     "output_type": "execute_result"
    }
   ],
   "source": [
    "# fit the model\n",
    "linear_model.fit(x.reshape(-1,1),y.reshape(-1,1))"
   ]
  },
  {
   "cell_type": "code",
   "execution_count": 21,
   "metadata": {
    "colab": {
     "base_uri": "https://localhost:8080/"
    },
    "id": "db6L1MJM0nrv",
    "outputId": "5efead04-3a14-4a72-bc3e-3c1159527fcc"
   },
   "outputs": [
    {
     "data": {
      "text/plain": [
       "array([[83.56433097]])"
      ]
     },
     "execution_count": 21,
     "metadata": {},
     "output_type": "execute_result"
    }
   ],
   "source": [
    "# make predictions\n",
    "linear_model.predict(np.array([[20]]))"
   ]
  },
  {
   "cell_type": "code",
   "execution_count": 22,
   "metadata": {
    "colab": {
     "base_uri": "https://localhost:8080/"
    },
    "id": "KeOKLvZp0nrv",
    "outputId": "8a41515c-9d5c-41ee-f4b2-7afd003d5f10"
   },
   "outputs": [
    {
     "name": "stdout",
     "output_type": "stream",
     "text": [
      "The slope is: 2.92\n",
      "The intercerpt is: 25.11\n"
     ]
    }
   ],
   "source": [
    "# The coefficients\n",
    "print(\"The slope is: {:.2f}\".format(linear_model.coef_[0][0]))\n",
    "print(\"The intercerpt is: {:.2f}\".format(linear_model.intercept_[0]))"
   ]
  },
  {
   "cell_type": "code",
   "execution_count": 23,
   "metadata": {
    "colab": {
     "base_uri": "https://localhost:8080/"
    },
    "id": "8l46YvyqHxFR",
    "outputId": "a1aa17b6-4d2c-425e-d29f-5cc59b6971c3"
   },
   "outputs": [
    {
     "data": {
      "text/plain": [
       "array([  1,   2,   3,   4,   5,   6,   7,   8,   9,  10,  11,  12,  13,\n",
       "        14,  15,  16,  17,  18,  19,  20,  21,  22,  23,  24,  25,  26,\n",
       "        27,  28,  29,  30,  31,  32,  33,  34,  35,  36,  37,  38,  39,\n",
       "        40,  41,  42,  43,  44,  45,  46,  47,  48,  49,  50,  51,  52,\n",
       "        53,  54,  55,  56,  57,  58,  59,  60,  61,  62,  63,  64,  65,\n",
       "        66,  67,  68,  69,  70,  71,  72,  73,  74,  75,  76,  77,  78,\n",
       "        79,  80,  81,  82,  83,  84,  85,  86,  87,  88,  89,  90,  91,\n",
       "        92,  93,  94,  95,  96,  97,  98,  99, 100])"
      ]
     },
     "execution_count": 23,
     "metadata": {},
     "output_type": "execute_result"
    }
   ],
   "source": [
    "x"
   ]
  },
  {
   "cell_type": "code",
   "execution_count": 24,
   "metadata": {
    "colab": {
     "base_uri": "https://localhost:8080/"
    },
    "id": "bsrGeA_KH3kL",
    "outputId": "6053d312-eca4-4bb5-a83c-00940a860b85"
   },
   "outputs": [
    {
     "data": {
      "text/plain": [
       "(100,)"
      ]
     },
     "execution_count": 24,
     "metadata": {},
     "output_type": "execute_result"
    }
   ],
   "source": [
    "x.shape"
   ]
  },
  {
   "cell_type": "code",
   "execution_count": 25,
   "metadata": {
    "colab": {
     "base_uri": "https://localhost:8080/"
    },
    "id": "n6MjeFZKHy2j",
    "outputId": "d5026af5-e0e8-4c67-9313-0dee783e1e9f"
   },
   "outputs": [
    {
     "data": {
      "text/plain": [
       "array([[  1],\n",
       "       [  2],\n",
       "       [  3],\n",
       "       [  4],\n",
       "       [  5],\n",
       "       [  6],\n",
       "       [  7],\n",
       "       [  8],\n",
       "       [  9],\n",
       "       [ 10],\n",
       "       [ 11],\n",
       "       [ 12],\n",
       "       [ 13],\n",
       "       [ 14],\n",
       "       [ 15],\n",
       "       [ 16],\n",
       "       [ 17],\n",
       "       [ 18],\n",
       "       [ 19],\n",
       "       [ 20],\n",
       "       [ 21],\n",
       "       [ 22],\n",
       "       [ 23],\n",
       "       [ 24],\n",
       "       [ 25],\n",
       "       [ 26],\n",
       "       [ 27],\n",
       "       [ 28],\n",
       "       [ 29],\n",
       "       [ 30],\n",
       "       [ 31],\n",
       "       [ 32],\n",
       "       [ 33],\n",
       "       [ 34],\n",
       "       [ 35],\n",
       "       [ 36],\n",
       "       [ 37],\n",
       "       [ 38],\n",
       "       [ 39],\n",
       "       [ 40],\n",
       "       [ 41],\n",
       "       [ 42],\n",
       "       [ 43],\n",
       "       [ 44],\n",
       "       [ 45],\n",
       "       [ 46],\n",
       "       [ 47],\n",
       "       [ 48],\n",
       "       [ 49],\n",
       "       [ 50],\n",
       "       [ 51],\n",
       "       [ 52],\n",
       "       [ 53],\n",
       "       [ 54],\n",
       "       [ 55],\n",
       "       [ 56],\n",
       "       [ 57],\n",
       "       [ 58],\n",
       "       [ 59],\n",
       "       [ 60],\n",
       "       [ 61],\n",
       "       [ 62],\n",
       "       [ 63],\n",
       "       [ 64],\n",
       "       [ 65],\n",
       "       [ 66],\n",
       "       [ 67],\n",
       "       [ 68],\n",
       "       [ 69],\n",
       "       [ 70],\n",
       "       [ 71],\n",
       "       [ 72],\n",
       "       [ 73],\n",
       "       [ 74],\n",
       "       [ 75],\n",
       "       [ 76],\n",
       "       [ 77],\n",
       "       [ 78],\n",
       "       [ 79],\n",
       "       [ 80],\n",
       "       [ 81],\n",
       "       [ 82],\n",
       "       [ 83],\n",
       "       [ 84],\n",
       "       [ 85],\n",
       "       [ 86],\n",
       "       [ 87],\n",
       "       [ 88],\n",
       "       [ 89],\n",
       "       [ 90],\n",
       "       [ 91],\n",
       "       [ 92],\n",
       "       [ 93],\n",
       "       [ 94],\n",
       "       [ 95],\n",
       "       [ 96],\n",
       "       [ 97],\n",
       "       [ 98],\n",
       "       [ 99],\n",
       "       [100]])"
      ]
     },
     "execution_count": 25,
     "metadata": {},
     "output_type": "execute_result"
    }
   ],
   "source": [
    "x.reshape(-1,1)"
   ]
  },
  {
   "cell_type": "code",
   "execution_count": 26,
   "metadata": {
    "colab": {
     "base_uri": "https://localhost:8080/"
    },
    "id": "1XCZhiO-H6Ta",
    "outputId": "b4f6f71b-1da6-4ea3-b5a5-67b7aecec93d"
   },
   "outputs": [
    {
     "data": {
      "text/plain": [
       "(100, 1)"
      ]
     },
     "execution_count": 26,
     "metadata": {},
     "output_type": "execute_result"
    }
   ],
   "source": [
    "x.reshape(-1,1).shape"
   ]
  },
  {
   "cell_type": "code",
   "execution_count": 27,
   "metadata": {
    "colab": {
     "base_uri": "https://localhost:8080/"
    },
    "id": "7ImcBn4zIMHm",
    "outputId": "315ec116-e05b-42fc-eee2-c2035089c695"
   },
   "outputs": [
    {
     "data": {
      "text/plain": [
       "array([  1,   2,   3,   4,   5,   6,   7,   8,   9,  10,  11,  12,  13,\n",
       "        14,  15,  16,  17,  18,  19,  20,  21,  22,  23,  24,  25,  26,\n",
       "        27,  28,  29,  30,  31,  32,  33,  34,  35,  36,  37,  38,  39,\n",
       "        40,  41,  42,  43,  44,  45,  46,  47,  48,  49,  50,  51,  52,\n",
       "        53,  54,  55,  56,  57,  58,  59,  60,  61,  62,  63,  64,  65,\n",
       "        66,  67,  68,  69,  70,  71,  72,  73,  74,  75,  76,  77,  78,\n",
       "        79,  80,  81,  82,  83,  84,  85,  86,  87,  88,  89,  90,  91,\n",
       "        92,  93,  94,  95,  96,  97,  98,  99, 100])"
      ]
     },
     "execution_count": 27,
     "metadata": {},
     "output_type": "execute_result"
    }
   ],
   "source": [
    "x.T"
   ]
  },
  {
   "cell_type": "code",
   "execution_count": 28,
   "metadata": {
    "id": "U7vj0r9D0nrw"
   },
   "outputs": [],
   "source": [
    "from sklearn.metrics import mean_squared_error, r2_score"
   ]
  },
  {
   "cell_type": "code",
   "execution_count": 29,
   "metadata": {
    "colab": {
     "base_uri": "https://localhost:8080/"
    },
    "id": "SXez-U4T0nrw",
    "outputId": "67d1d91b-d36d-40e5-bfeb-425d1b294414"
   },
   "outputs": [
    {
     "name": "stdout",
     "output_type": "stream",
     "text": [
      "The R2 of the linear model is: 0.87\n"
     ]
    }
   ],
   "source": [
    "# The coefficient of determination: 1 is perfect prediction\n",
    "print(\"The R2 of the linear model is: {:.2f}\".format(r2_score(y, y_pred)))"
   ]
  },
  {
   "cell_type": "code",
   "execution_count": 30,
   "metadata": {
    "colab": {
     "base_uri": "https://localhost:8080/"
    },
    "id": "JGOnpTgF1Fal",
    "outputId": "ffdca878-e34e-4f26-aab4-3494b69f5330"
   },
   "outputs": [
    {
     "name": "stdout",
     "output_type": "stream",
     "text": [
      "The mean squared error of the linear model is: 1037.53\n"
     ]
    }
   ],
   "source": [
    "# The mean squared error is\n",
    "print(\"The mean squared error of the linear model is: {:.2f}\".format(mean_squared_error(y, y_pred)))"
   ]
  },
  {
   "cell_type": "markdown",
   "metadata": {
    "id": "aBJmoLRF0kqL"
   },
   "source": [
    "# Data splitting"
   ]
  },
  {
   "cell_type": "code",
   "execution_count": 31,
   "metadata": {
    "colab": {
     "base_uri": "https://localhost:8080/"
    },
    "id": "0YMbyTdI0pqF",
    "outputId": "138b1308-29a0-4f17-ef3b-b0b84a2a695e"
   },
   "outputs": [
    {
     "name": "stdout",
     "output_type": "stream",
     "text": [
      "The slope is: 2.93\n",
      "The intercerpt is: 24.23\n"
     ]
    }
   ],
   "source": [
    "from sklearn.model_selection import train_test_split\n",
    "\n",
    "X_train, X_test, y_train, y_test = train_test_split(x, y, test_size=0.30, random_state=42)\n",
    "\n",
    "# Compute again the values of the slope and the intercept.\n",
    "# How do they compare with the previous values?\n",
    "model = LinearRegression()\n",
    "model.fit(X_train.reshape(-1,1), y_train.reshape(-1,1))\n",
    "print(\"The slope is: {:.2f}\".format(model.coef_[0][0]))\n",
    "print(\"The intercerpt is: {:.2f}\".format(model.intercept_[0]))"
   ]
  },
  {
   "cell_type": "code",
   "execution_count": 32,
   "metadata": {},
   "outputs": [],
   "source": [
    "import pickle"
   ]
  },
  {
   "cell_type": "code",
   "execution_count": 41,
   "metadata": {},
   "outputs": [],
   "source": [
    "# Boto3 is the Amazon Web Services (AWS) Software Development Kit (SDK) for Python\n",
    "# Boto3 allows Python developer to write software that makes use of services like Amazon S3 and Amazon EC2\n",
    "\n",
    "import sagemaker\n",
    "import boto3\n",
    "from sagemaker import Session\n",
    "\n",
    "# Let's create a Sagemaker session\n",
    "sagemaker_session = sagemaker.Session()\n",
    "bucket = \"sagemaker-ironhack-demo\"\n",
    "#bucket = Session().default_bucket() \n",
    "#prefix = 'pca'  # prefix is the subfolder within the bucket.\n",
    "\n",
    "#Let's get the execution role for the notebook instance. \n",
    "# This is the IAM role that you created when you created your notebook instance. You pass the role to the training job.\n",
    "# Note that AWS Identity and Access Management (IAM) role that Amazon SageMaker can assume to perform tasks on your behalf (for example, reading training results, called model artifacts, from the S3 bucket and writing training results to Amazon S3). \n",
    "\n",
    "role = sagemaker.get_execution_role()"
   ]
  },
  {
   "cell_type": "code",
   "execution_count": 34,
   "metadata": {},
   "outputs": [
    {
     "name": "stdout",
     "output_type": "stream",
     "text": [
      "arn:aws:iam::999012740030:role/service-role/AmazonSageMaker-ExecutionRole-20210429T214174\n"
     ]
    }
   ],
   "source": [
    "print(role)"
   ]
  },
  {
   "cell_type": "code",
   "execution_count": 45,
   "metadata": {
    "id": "Cn-s2uOm5MyY"
   },
   "outputs": [],
   "source": [
    "# Now repeat this 1000 times and get the corresponding values for the slope and the intercept point estimations!\n",
    "# Store the resulting values in two lists:\n",
    "\n",
    "import os\n",
    "\n",
    "s3 = boto3.resource('s3')\n",
    "\n",
    "slopes = []\n",
    "intercepts = []\n",
    "models = []\n",
    "\n",
    "for i in range(10):\n",
    "\n",
    "    X_train, X_test, y_train, y_test = train_test_split(x, y, test_size=0.30)\n",
    "    model = LinearRegression()\n",
    "    # In case of having multiple independent features: x1, x2, x3,....\n",
    "    # and having y with doesn't follow a normal distribution...\n",
    "    # scaler_x = StandardScaler(), PowerTransform()\n",
    "    # scaler_y = StandardScaler(), PowerTransform()\n",
    "    # scaler_x.fit(X_train) \n",
    "    # scaler_y.fit(y_train)\n",
    "    # X_train = scaler_x.transform(X_train)\n",
    "    # y_train = scaler_y.transform(y_train)\n",
    "    # X_test = scaler_x.transform(X_test)\n",
    "    # y_test = scaler_y.transform(y_test)\n",
    "    model.fit(X_train.reshape(-1,1), y_train.reshape(-1,1))\n",
    "    slopes.append(model.coef_[0][0])\n",
    "    intercepts.append(model.intercept_[0])\n",
    "    models.append(model)\n",
    "    # Saving the models locally\n",
    "    filename = 'Linear_model_' + str(i) + '.pkl'\n",
    "    pickle.dump(model, open(filename, 'wb'))\n",
    "    # Upload models to S3\n",
    "    # To upload files to S3 you need to create first a bucket which has the name:\n",
    "    # 'sagemaker-' + 'your-own-name'. The name has to be gloabaly-unique.\n",
    "    s3.meta.client.upload_file(filename, 'sagemaker-ironhack', filename)\n",
    "\n"
   ]
  },
  {
   "cell_type": "code",
   "execution_count": null,
   "metadata": {
    "colab": {
     "base_uri": "https://localhost:8080/",
     "height": 392
    },
    "id": "94IDHs5g5n2I",
    "outputId": "3f61b1af-1669-43ff-e6c4-3836f8e14d11"
   },
   "outputs": [],
   "source": [
    "# Plot histograms for the slopes and the intercepts.\n",
    "fig, ax = plt.subplots(1,2, figsize=(10,5))\n",
    "ax[0].hist(slopes)\n",
    "ax[0].set_xlabel(\"Slopes\")\n",
    "ax[0].set_ylabel(\"Count\")\n",
    "ax[0].set_title(\"Histogram of slopes\")\n",
    "\n",
    "ax[1].hist(intercepts)\n",
    "ax[1].set_xlabel(\"Intercepts\")\n",
    "ax[1].set_ylabel(\"Count\")\n",
    "ax[1].set_title(\"Histogram of intercepts\")"
   ]
  },
  {
   "cell_type": "code",
   "execution_count": null,
   "metadata": {
    "colab": {
     "base_uri": "https://localhost:8080/"
    },
    "id": "hOSfAgwc3CR4",
    "outputId": "1790db78-6cff-4aa7-c0ec-49d25ee98b42"
   },
   "outputs": [],
   "source": [
    "np.mean(slopes)"
   ]
  },
  {
   "cell_type": "code",
   "execution_count": null,
   "metadata": {
    "colab": {
     "base_uri": "https://localhost:8080/"
    },
    "id": "-ySaOFDy3HAy",
    "outputId": "6d9d9e2e-b2ce-46c1-9dd3-26ba3098ae46"
   },
   "outputs": [],
   "source": [
    "np.mean(intercepts)"
   ]
  },
  {
   "cell_type": "markdown",
   "metadata": {
    "id": "KR0rdJWgUHuI"
   },
   "source": [
    "# Confidence intervals"
   ]
  },
  {
   "cell_type": "markdown",
   "metadata": {
    "id": "IwEOsf8WUKEf"
   },
   "source": [
    "Every sample for the training set we will produce another set of predicted regression coefficient. Therefore, we can ask ourselves to have a confidence interval for those coefficients. If we set \n",
    "\n",
    "$$\\hat{y}_{i}=\\hat{b}_{0}+\\hat{b}_{1}x_{i}$$\n",
    "\n",
    "A confidence interval for each coefficient can be computed as:\n",
    "\n",
    "$$\\hat{b}_{1} \\pm t_{\\alpha /2,n - p}* \\left(\\sqrt{\\frac{MSE}{\\sum_{i}(x_{i}-\\bar{x})^{2}}}\\right)$$\n",
    "\n",
    "and \n",
    "\n",
    "$$\\hat{b}_{0} \\pm t_{\\alpha /2,n - p} * \\left(\\sqrt{\\frac{MSE}{n}}\\right)$$\n",
    "\n",
    "[see](https://online.stat.psu.edu/stat415/lesson/7/7.5)"
   ]
  },
  {
   "cell_type": "code",
   "execution_count": null,
   "metadata": {
    "colab": {
     "base_uri": "https://localhost:8080/"
    },
    "id": "GuAcmsY56MMH",
    "outputId": "0a461e6b-b321-4acb-f08d-99e40fe888db"
   },
   "outputs": [],
   "source": [
    "# Compute the confidence intervals for the slope and the intercept\n",
    "# stats.t.ppf(1-(alpha/2),df=n-2). Confidence level standard value is 95% -> alpha = 0.05\n",
    "# p = 2 because our model has two parameters: a, b\n",
    "# In case of a linear model with two independent features: y = bo + b1 * x1 + b2 * x2\n",
    "# we will have three parameters: bo, b1, b2 -> p = 3\n",
    "tc = stats.t.ppf(1-(0.05/2),df=x.shape[0]-2)\n",
    "\n",
    "factor1 = tc * np.sqrt( MSE / np.sum( np.power( ( x - np.mean(x) ), 2 ) ) )\n",
    "#b\n",
    "\n",
    "print(\"The confidence interval for the slope is: [{:.2f}, {:.2f}]\".format(b - factor1 , b + factor1))\n",
    "\n",
    "#a\n",
    "factor2 = tc * np.sqrt( (MSE / x.shape[0]) )\n",
    "\n",
    "print(\"The confidence interval for the intercept is: [{:.2f}, {:.2f}]\".format(a - factor2 , a + factor2))"
   ]
  }
 ],
 "metadata": {
  "colab": {
   "name": "Linear regression code along - Structure.ipynb",
   "provenance": []
  },
  "instance_type": "ml.t3.medium",
  "kernelspec": {
   "display_name": "Python 3 (Data Science)",
   "language": "python",
   "name": "python3__SAGEMAKER_INTERNAL__arn:aws:sagemaker:us-east-1:081325390199:image/datascience-1.0"
  },
  "language_info": {
   "codemirror_mode": {
    "name": "ipython",
    "version": 3
   },
   "file_extension": ".py",
   "mimetype": "text/x-python",
   "name": "python",
   "nbconvert_exporter": "python",
   "pygments_lexer": "ipython3",
   "version": "3.7.10"
  },
  "widgets": {
   "application/vnd.jupyter.widget-state+json": {
    "09e79546401a41408f7146c7b84f2746": {
     "model_module": "@jupyter-widgets/controls",
     "model_name": "VBoxModel",
     "state": {
      "_dom_classes": [
       "widget-interact"
      ],
      "_model_module": "@jupyter-widgets/controls",
      "_model_module_version": "1.5.0",
      "_model_name": "VBoxModel",
      "_view_count": null,
      "_view_module": "@jupyter-widgets/controls",
      "_view_module_version": "1.5.0",
      "_view_name": "VBoxView",
      "box_style": "",
      "children": [
       "IPY_MODEL_623feea2c9db4da391e15854e8dd3ad0",
       "IPY_MODEL_a6e20580e5294de98bd66f960249e3ba",
       "IPY_MODEL_e4b00aa6fcb04a1084bf702c8a369e2a"
      ],
      "layout": "IPY_MODEL_7eb43f897ce440f9af6df13385cac5e3"
     }
    },
    "61b71699509249a89dd081181954895c": {
     "model_module": "@jupyter-widgets/controls",
     "model_name": "SliderStyleModel",
     "state": {
      "_model_module": "@jupyter-widgets/controls",
      "_model_module_version": "1.5.0",
      "_model_name": "SliderStyleModel",
      "_view_count": null,
      "_view_module": "@jupyter-widgets/base",
      "_view_module_version": "1.2.0",
      "_view_name": "StyleView",
      "description_width": "",
      "handle_color": null
     }
    },
    "623feea2c9db4da391e15854e8dd3ad0": {
     "model_module": "@jupyter-widgets/controls",
     "model_name": "FloatSliderModel",
     "state": {
      "_dom_classes": [],
      "_model_module": "@jupyter-widgets/controls",
      "_model_module_version": "1.5.0",
      "_model_name": "FloatSliderModel",
      "_view_count": null,
      "_view_module": "@jupyter-widgets/controls",
      "_view_module_version": "1.5.0",
      "_view_name": "FloatSliderView",
      "continuous_update": true,
      "description": "slope",
      "description_tooltip": null,
      "disabled": false,
      "layout": "IPY_MODEL_6dd5eb834ed244efb5b085c0ee30e3f6",
      "max": 40,
      "min": 0,
      "orientation": "horizontal",
      "readout": true,
      "readout_format": ".2f",
      "step": 0.5,
      "style": "IPY_MODEL_c033a54d3649443cab221b1a81658331",
      "value": 3.5
     }
    },
    "6dd5eb834ed244efb5b085c0ee30e3f6": {
     "model_module": "@jupyter-widgets/base",
     "model_name": "LayoutModel",
     "state": {
      "_model_module": "@jupyter-widgets/base",
      "_model_module_version": "1.2.0",
      "_model_name": "LayoutModel",
      "_view_count": null,
      "_view_module": "@jupyter-widgets/base",
      "_view_module_version": "1.2.0",
      "_view_name": "LayoutView",
      "align_content": null,
      "align_items": null,
      "align_self": null,
      "border": null,
      "bottom": null,
      "display": null,
      "flex": null,
      "flex_flow": null,
      "grid_area": null,
      "grid_auto_columns": null,
      "grid_auto_flow": null,
      "grid_auto_rows": null,
      "grid_column": null,
      "grid_gap": null,
      "grid_row": null,
      "grid_template_areas": null,
      "grid_template_columns": null,
      "grid_template_rows": null,
      "height": null,
      "justify_content": null,
      "justify_items": null,
      "left": null,
      "margin": null,
      "max_height": null,
      "max_width": null,
      "min_height": null,
      "min_width": null,
      "object_fit": null,
      "object_position": null,
      "order": null,
      "overflow": null,
      "overflow_x": null,
      "overflow_y": null,
      "padding": null,
      "right": null,
      "top": null,
      "visibility": null,
      "width": null
     }
    },
    "7eb43f897ce440f9af6df13385cac5e3": {
     "model_module": "@jupyter-widgets/base",
     "model_name": "LayoutModel",
     "state": {
      "_model_module": "@jupyter-widgets/base",
      "_model_module_version": "1.2.0",
      "_model_name": "LayoutModel",
      "_view_count": null,
      "_view_module": "@jupyter-widgets/base",
      "_view_module_version": "1.2.0",
      "_view_name": "LayoutView",
      "align_content": null,
      "align_items": null,
      "align_self": null,
      "border": null,
      "bottom": null,
      "display": null,
      "flex": null,
      "flex_flow": null,
      "grid_area": null,
      "grid_auto_columns": null,
      "grid_auto_flow": null,
      "grid_auto_rows": null,
      "grid_column": null,
      "grid_gap": null,
      "grid_row": null,
      "grid_template_areas": null,
      "grid_template_columns": null,
      "grid_template_rows": null,
      "height": null,
      "justify_content": null,
      "justify_items": null,
      "left": null,
      "margin": null,
      "max_height": null,
      "max_width": null,
      "min_height": null,
      "min_width": null,
      "object_fit": null,
      "object_position": null,
      "order": null,
      "overflow": null,
      "overflow_x": null,
      "overflow_y": null,
      "padding": null,
      "right": null,
      "top": null,
      "visibility": null,
      "width": null
     }
    },
    "9cae8aee44054ff08be2cacf3f9715b0": {
     "model_module": "@jupyter-widgets/base",
     "model_name": "LayoutModel",
     "state": {
      "_model_module": "@jupyter-widgets/base",
      "_model_module_version": "1.2.0",
      "_model_name": "LayoutModel",
      "_view_count": null,
      "_view_module": "@jupyter-widgets/base",
      "_view_module_version": "1.2.0",
      "_view_name": "LayoutView",
      "align_content": null,
      "align_items": null,
      "align_self": null,
      "border": null,
      "bottom": null,
      "display": null,
      "flex": null,
      "flex_flow": null,
      "grid_area": null,
      "grid_auto_columns": null,
      "grid_auto_flow": null,
      "grid_auto_rows": null,
      "grid_column": null,
      "grid_gap": null,
      "grid_row": null,
      "grid_template_areas": null,
      "grid_template_columns": null,
      "grid_template_rows": null,
      "height": null,
      "justify_content": null,
      "justify_items": null,
      "left": null,
      "margin": null,
      "max_height": null,
      "max_width": null,
      "min_height": null,
      "min_width": null,
      "object_fit": null,
      "object_position": null,
      "order": null,
      "overflow": null,
      "overflow_x": null,
      "overflow_y": null,
      "padding": null,
      "right": null,
      "top": null,
      "visibility": null,
      "width": null
     }
    },
    "a6e20580e5294de98bd66f960249e3ba": {
     "model_module": "@jupyter-widgets/controls",
     "model_name": "FloatSliderModel",
     "state": {
      "_dom_classes": [],
      "_model_module": "@jupyter-widgets/controls",
      "_model_module_version": "1.5.0",
      "_model_name": "FloatSliderModel",
      "_view_count": null,
      "_view_module": "@jupyter-widgets/controls",
      "_view_module_version": "1.5.0",
      "_view_name": "FloatSliderView",
      "continuous_update": true,
      "description": "intercept",
      "description_tooltip": null,
      "disabled": false,
      "layout": "IPY_MODEL_9cae8aee44054ff08be2cacf3f9715b0",
      "max": 200,
      "min": 0,
      "orientation": "horizontal",
      "readout": true,
      "readout_format": ".2f",
      "step": 10,
      "style": "IPY_MODEL_61b71699509249a89dd081181954895c",
      "value": 0
     }
    },
    "b70bf93a55d24de0ab651a91aecc696e": {
     "model_module": "@jupyter-widgets/base",
     "model_name": "LayoutModel",
     "state": {
      "_model_module": "@jupyter-widgets/base",
      "_model_module_version": "1.2.0",
      "_model_name": "LayoutModel",
      "_view_count": null,
      "_view_module": "@jupyter-widgets/base",
      "_view_module_version": "1.2.0",
      "_view_name": "LayoutView",
      "align_content": null,
      "align_items": null,
      "align_self": null,
      "border": null,
      "bottom": null,
      "display": null,
      "flex": null,
      "flex_flow": null,
      "grid_area": null,
      "grid_auto_columns": null,
      "grid_auto_flow": null,
      "grid_auto_rows": null,
      "grid_column": null,
      "grid_gap": null,
      "grid_row": null,
      "grid_template_areas": null,
      "grid_template_columns": null,
      "grid_template_rows": null,
      "height": null,
      "justify_content": null,
      "justify_items": null,
      "left": null,
      "margin": null,
      "max_height": null,
      "max_width": null,
      "min_height": null,
      "min_width": null,
      "object_fit": null,
      "object_position": null,
      "order": null,
      "overflow": null,
      "overflow_x": null,
      "overflow_y": null,
      "padding": null,
      "right": null,
      "top": null,
      "visibility": null,
      "width": null
     }
    },
    "c033a54d3649443cab221b1a81658331": {
     "model_module": "@jupyter-widgets/controls",
     "model_name": "SliderStyleModel",
     "state": {
      "_model_module": "@jupyter-widgets/controls",
      "_model_module_version": "1.5.0",
      "_model_name": "SliderStyleModel",
      "_view_count": null,
      "_view_module": "@jupyter-widgets/base",
      "_view_module_version": "1.2.0",
      "_view_name": "StyleView",
      "description_width": "",
      "handle_color": null
     }
    },
    "e4b00aa6fcb04a1084bf702c8a369e2a": {
     "model_module": "@jupyter-widgets/output",
     "model_name": "OutputModel",
     "state": {
      "_dom_classes": [],
      "_model_module": "@jupyter-widgets/output",
      "_model_module_version": "1.0.0",
      "_model_name": "OutputModel",
      "_view_count": null,
      "_view_module": "@jupyter-widgets/output",
      "_view_module_version": "1.0.0",
      "_view_name": "OutputView",
      "layout": "IPY_MODEL_b70bf93a55d24de0ab651a91aecc696e",
      "msg_id": "",
      "outputs": [
       {
        "image/png": "iVBORw0KGgoAAAANSUhEUgAAAZ8AAAEwCAYAAABoqHyvAAAABHNCSVQICAgIfAhkiAAAAAlwSFlzAAALEgAACxIB0t1+/AAAADh0RVh0U29mdHdhcmUAbWF0cGxvdGxpYiB2ZXJzaW9uMy4yLjIsIGh0dHA6Ly9tYXRwbG90bGliLm9yZy+WH4yJAAAgAElEQVR4nOydd3xUVd6Hn6lJCCX0khAIwoQSOoTeAwSUXmVFWRAb6ktRCIiKuksHC4iIIuuuCCgtsEgHkRbApUtooYcWSkgjmcnMff+IM6ZMuZNMkknmPJ8Pu+bOueeec2fmfuecX1NIkiQhEAgEAkEBoizsAQgEAoHA8xDiIxAIBIICR4iPQCAQCAocIT4CgUAgKHCE+AgEAoGgwBHiIxAIBIICR4iPwG0IDg4mIiKisIchi/Xr1xMcHMyRI0fypb2zHDlyhODgYNavX58v/Qts4y733tr3p2vXrowcObKQRmQfIT4u4ObNm7z//vuEh4fTuHFjWrZsSa9evZgyZQpRUVH5fv1Fixaxa9cup18rbhT2XKOjo1m0aBG3bt3Kl/5v3brFokWLiI6Ozpf+BYKCRF3YAyjqnDlzhpEjR6JWq+nfvz+1a9cmNTWV69evc/DgQXx9fWndunW+jmHx4sUMGDCAsLAwp14rbhTkXPv168ezzz6LRqOxHIuOjmbx4sWEhoYSEBDg8mvGxsayePFi/P39qVevnsv7F+SOli1bcvr0adRq93ucbtu2rbCHYBP3u1tFjC+//JKnT58SGRlJ3bp1c7weFxdXCKMqGJKSkihZsmRhD6NQUKlUqFSqwh6G21EYnwmj0Yher8fHx6dAr2tGqVTi5eVVKNd2hFarLewh2ERsu+WRa9eu4efnZ1V4ACpWrJjjWFRUFK+88gqtWrWiYcOGdOvWjWnTpvHo0SNLm5UrVzJ69Gg6dOhASEgI7du355133smypXPr1i2Cg4MB2LBhA8HBwZZ/9l7LzKFDhxg9ejQtWrSgYcOG9OnTh1WrVuUYs3nv+Ny5c4wZM4bmzZvTt29fu/cmIiKC4OBgHj16xOTJk2nVqhVNmjThpZde4o8//rB7bmZ+/vlnBgwYQKNGjWjevDmjR4/m999/l3UfbKHX62nUqBFTpkzJcvyDDz4gODiYf/zjH1mOjx8/nmbNmpGeng7ktOEsWrSIqVOnAvDiiy9arp99D95kMrF8+XLCwsIICQmhZ8+ebNiwweE9WL9+PS+++CIAU6dOtfRvbT9/3bp1PPvss4SEhNClSxe++eYbq32eOXOGcePG0apVK8tYvvrqK8scHWGe3+HDh3n++edp2rQpr7/+eq763759O3379qVhw4Z07tyZxYsXc+jQoRy2FPN9P3ToEF9++SVhYWE0atSIrVu3AiBJEj/++CMDBw6kcePGNG3alJEjR1rd/t64cSODBw+mRYsWNGnShG7dujFp0qQs38NLly7x9ttvW76H7dq1Y+TIkfz666+WNrZsPikpKSxYsMDyXrdr147JkycTGxubpV3m8+W+d3KxZvMxH4uJieGVV16hadOmNG/enLffftvqj+XExETmzZtH9+7dCQkJoXXr1kycOJGbN2/maWxi5ZNHAgMDuXr1Kjt27KBHjx4O269evZoZM2ZQuXJlhg8fjr+/P7dv32bv3r3cu3ePcuXKAfDdd9/RpEkTRo4ciZ+fHxcvXmTt2rVERUWxefNmypYtS7ly5Zg7dy6TJ0+mRYsWDB061HIde6+ZWbNmDR9++CFNmjThtddew8fHh0OHDjFjxgxu3LiR48F8+/ZtXnrpJcLDw+nRowcpKSmy7tHLL79MmTJlePPNN3nw4AE//PADL7zwAmvWrEGn09k9d968eXz77bc0atSIiRMnkpSUxE8//cRLL73EkiVL6NSpk6y5Zker1dK0adMcDgCHDx9GqVRmOS5JEkePHqVFixY2t1a6d+9OXFwca9as4bXXXqNWrVpAxucjM59++impqakMGzYMrVbLqlWriIiIIDAwkObNm9scb8uWLXnttddYunQpw4YNs7StUKFClnarV6/mwYMHDB48mNKlS7Np0ybmz59PlSpV6NOnj6Xdr7/+yptvvkmNGjUYPXo0ZcqU4eTJk3zxxRdER0fzxRdfOLyHAGfPnmX79u0MHTqUAQMG5Kr/X375hYkTJxIYGMibb76JSqVi48aN7Nmzx+Z158yZQ3p6OkOHDsXX15egoCAA3n33XbZs2ULPnj0ZOHAger2ezZs3M3r0aBYtWkS3bt2ADOGZMmUKLVq04O2338bb25s7d+6wb98+Hj58SLly5Xj8+DEvvfQSAMOHD6datWo8fvyYs2fPcurUKTp37mxzfAaDgTFjxnD8+HF69uzJ3//+d65fv86qVas4ePAg69ato0qVKrl671zBvXv3ePHFFwkLC2Py5MmcP3+eNWvWkJSUxHfffWdpl5iYyPDhw7l9+zaDBg2iTp06xMXF8eOPPzJkyBDWrVuHv79/7gYhCfLE8ePHpQYNGkg6nU7q0aOHFBERIa1cuVK6fPlyjrZ37tyRGjRoIPXq1Ut68uRJjteNRqPlv5OTk3O8fujQIUmn00nLli3Lclyn00lTpkyxOj5br927d08KCQmRJk6cmOO1Tz75RKpbt65048YNy7EuXbpIOp1O+umnn6xexxpTpkyRdDqdNG7cOMlkMlmOnzlzRgoODpZGjx5td6wxMTFScHCwNHz4cCktLc1y/O7du1Lz5s2lLl26SOnp6Q7naoslS5ZIOp1Ounr1qiRJkhQbGyvpdDrpnXfekXQ6nRQXFydJkiSdP39e0ul00vLlyy3nrlu3TtLpdFJUVJTdY9lf69evX465NGjQQJowYYLD8UZFRUk6nU5at26dzdfatWsnJSQkWI6npKRIrVq1koYOHWo5lpqaKrVt21YaMWKEZDAYsvSzYsUKm3PIjk6nk3Q6nXTw4MEsx53p32AwSO3bt5fatGkjxcfHW9olJSVJXbt2zTFf833s0aOHlJKSkqXvHTt2SDqdTlq9enWW4waDQRowYIDUpUsXy+dw3LhxUtOmTXOMLzO7du2SdDqdtGXLFrv3wdr7smbNGkmn00lz5szJ0nbv3r2Wz1j28+W8d/aw9vnv0qWL9MILL+Q4Zm1eM2bMkHQ6nRQTE2M59sknn0gNGzaUoqOjs7S9deuW1LRpU6e+b9kR2255pGnTpqxbt44BAwaQmJjI+vXr+eijj+jduzd/+9vfsixNt23bhsFg4M0336R06dI5+lIq/3o7SpQoAWRs0yQmJvLo0SOCg4MpVaoUp0+fzvO4t2/fjl6vZ/DgwTx69CjLv65du2IymTh06FCWc/z8/Bg4cKDT13r55ZdRKBSWv81bEIcPHyY5Odnmebt370aSJF5++eUse9eVK1dm4MCBxMbGcu7cOafHY8bsCGLekomKikKlUvHWW2+hUCgsx82rIFc4jowYMSLHXIKCgrh27Vqe+wYYNGgQpUqVsvzt4+NDkyZNsvR/8OBBHjx4wMCBA0lISMjy3nfs2NHSRg5169albdu2WY450/8ff/zB/fv3GTBgAGXKlLH04evry/Dhw21e9/nnn89h49m0aRO+vr6EhYVluWZCQgJdu3YlNjbWch9KlSpFamoqv/76K5KNxP7m+7h//36SkpJk3Q8zO3fuRKlU8uqrr2Y53rlzZ+rVq8fu3bsxmUxZXpPz3rmKSpUq0bt37yzHzJ/v69evAxkr/s2bN9OyZUsqVaqU5Z6ax3bgwIFcj0Fsu7mA4OBgZs+eDWR4JB07doyff/6Z33//nTfeeIN169ah1WotHyI5nkqHDx9myZIlnDp1irS0tCyvPXnyJM9jjomJAWDUqFE22zx48CDL39WrV8+Vkf2ZZ56xeuzAgQPcvn2bOnXqWD3PbN+y9rr52M2bN2nYsKHTYwJo2LAhvr6+REVFMXz4cKKioggJCSEwMBCdTkdUVBTPPfccUVFR+Pn5ucTDrHr16jmO+fn55bAD5BZrXnZ+fn7Ex8db/ja/99OmTbPZT/b33hY1a9bMccyZ/s3vsXnbLDPWjtl7LSYmhuTk5BximJmHDx8SFBTEq6++yrFjxxg3bhx+fn6EhobSsWNHevXqZXGYCA0NpX///qxfv57NmzcTEhJC27Zt6d27N7Vr17Z5DfO8KlWqlEVQzdSuXZvo6GgeP35M+fLlLcflvHeuwtbnELBc79GjR8THx3PgwAHatGljtZ/MP5idRYiPi/H398ff359+/foxYsQIjh8/zunTp2nRooXsPk6fPs2YMWMIDAxk0qRJBAQE4O3tjUKhYMKECTZ/qTmDuY85c+ZQqVIlq22yf0ALy5sov1Cr1bRo0YIjR44gSRJRUVH0798fyPgVaP51euzYMVq3bp1l9ZZb8vJllYOcHwfm937y5Mk2BdXWZyI71j4TruzfFt7e3lavW65cORYsWGDzPPOPlpo1a/LLL79w+PBhDh8+zNGjR5k+fTpffPEFK1eutNjq5syZw5gxY/jtt9/4/fffWbFiBUuXLmXatGm88MILeZpDdgrSe9Letczvn/n/27Zty9ixY10+BiE++YRCoaBx48YcP36c+/fvA3/9SoyOjrb7q+6///0vRqORb775JosApKSkkJCQ4JLxmcdStmxZu78UXUFMTAxNmjTJcUylUlGtWjWb55nnfunSpRyG+8uXL2dpk1tat27Nvn372LZtG/fu3bP8wmvTpg3ff/89O3bsICEhQdaWmyvEqSD6N7/3Pj4++fLeO9O/2Vh99erVHK9ZO2aPGjVqcO3aNRo3boyvr6/D9lqtlk6dOtGpUycA9u3bxyuvvMKKFSv48MMPLe10Oh06nY6XX36ZhIQEhgwZwoIFC/jb3/5m8z2pXr06+/fvJyEhIccWe0xMDCVLlqRs2bJOza+gKVeuHKVLlyYpKSlfPifC5pNHDh48aNV1NDU11bKvbd52Cg8PR6PR8OWXX1rdQzb/0rD1q+Trr7/OsU8MGfYhW0tzW6/16tULrVbLokWLSE1NzfF6YmIier3eap/O8u2332ZZrf3xxx8cOnSINm3a2H1IdO3aFYVCwfLlyzEYDJbj9+/fZ/369fj7+1O/fn3LcXv3wRZmUVm0aBFarZZmzZoBGd5lKpWKRYsWZWlnD7OdzhXbovnZf/v27SlfvjzffPON1fuVmprqtI0jt/2HhIRQsWJFNmzYkGVeycnJrF692qnr9u/fH5PJxMKFC62+nnkrMbM7tRnzZ8k8jvj4+Bzft9KlSxMQEMDTp09zbIdnJiwsDJPJxLJly7Ic37dvH+fOnaNr1675vgrOK0qlkj59+nD69GmbwaoPHz7Mdf9i5ZNHZs2aRXx8PF27dkWn0+Ht7c3du3fZvHkz165do3///pZ4kypVqjBt2jQ+/vhj+vTpQ79+/fD39+fevXvs3r2bmTNnUq9ePcLCwvjXv/7F2LFjGTZsGBqNhoMHD3LhwgWrv5aaNGnC4cOHWbZsGdWqVUOhUPDss8/afa1KlSrMmDGD6dOn07t3b/r27Yu/vz+PHj3i4sWL7Nq1iy1btrgkUv/27duMGTOGrl27EhcXxw8//IC3tzfvvvuu3fNq1arFmDFj+Pbbb3nhhRfo1asXycnJ/PTTT6SkpDB//vwsQm3vPtiiXr16+Pn5ERMTQ2hoqCVYsGTJkoSEhHDq1CkqVqxo1W6VnYYNG6JUKlm6dClPnjyhRIkSBAQE0LhxYxl3yTG1a9fG19eXH3/8EW9vb0qXLk25cuVs7sfbokSJEsyZM4dx48YRHh7OoEGDqFGjBgkJCVy5coWdO3eyePFiWrVqlatxOtO/Wq1mypQpvPPOOwwZMoTBgwejUqnYsGEDfn5+3Lp1S/aKLzw8nIEDB/LDDz/wxx9/0KVLF8qWLcvdu3c5efIk169fZ/fu3QCMGTOGUqVK0aJFC6pWrUpCQgIbNmxAoVDQr18/IMMd+/vvvycsLIwaNWqgVqs5duwYBw4coFevXla3/swMGDCADRs28M033xAbG0uLFi24ceMGP/74IxUqVGDixIm5urcFzYQJEzh+/Djjx4+nV69eNG7cGI1Gw+3bt/ntt99o0KCBxd7tLEJ88khERAS7d+/mf//7H9u3bycxMZFSpUqh0+kYO3ZsDu+wESNGEBgYyPLly/nPf/6DXq+nUqVKtGnTxuL337x5cxYtWsSSJUv4/PPP8fLyom3btpb4mOx8+OGHfPzxxyxdutTiPWZ+6Np7bdCgQdSsWZPvvvuONWvWkJiYiJ+fH0FBQfzf//2f1QDZ3PDtt98ya9YsyyqrcePGTJ482WZgbmbeffddatSowY8//siCBQvQaDQ0btyYBQsW5LCj2ZurLRQKBaGhoezYsSPH6qZNmzacOnVK9kO4WrVqzJw5k2+++YaPPvoIg8HAgAEDXCY+3t7efPrpp3z22WfMnDkTvV5PaGio0+ID0KFDB9auXcuyZcvYtGkTjx8/pnTp0gQGBjJq1Ci7Abqu7r9Pnz6o1WqWLFnCF198QYUKFRg8eDDBwcG8+eabTmUPmDVrFq1ateKnn37i66+/xmAwULFiRerXr8+kSZMs7Z5//nm2bt3KmjVrePLkicWhZPr06ZbPQatWrYiOjubXX38lLi4OpVJJQEAAU6ZMcWjv0Wg0LF++nK+++opffvmFnTt3UqpUKcLDwxk/fjxVq1Z18o4WDqVKlWLVqlV89913bNu2jd27d6NSqahSpQrNmzdnyJAhue5bIbnCei0QWCEiIoINGzZw4cKFwh6KoAjy3XffMWfOHNasWZPDZigo+rj3pqNAICj26PV6jEZjlmPJycmsXLkSPz+/LHY9QfFBbLsJBIJC5ebNm4wdO5Znn32WgIAA4uLi2LBhA7du3WLGjBlunRxTkHuE+AgEgkKlXLlyNGnShM2bN/Pw4UPUajU6nY5JkybliMIXFB+EzUcgEAgEBY6w+QgEAoGgwBHbbjKQJAm560NzSIKnrSc9cd6eOGfwzHl74pwhb/NWKOxn5RDiIwNJgocP5UV8lymTkevqyZOn+Tkkt8MT5+2JcwbPnLcnzhnyNu/y5UtiLz5YbLsJBAKBoMAR4iMQCASCAkeIj0AgEAgKHGHzEQgEgmJCcqqB38/f50myHm9tRtLdVL2RMr5aWtSthK+3ppBH+BdCfAQCgaCII0kSG/dfZdvRG4CEIT2re5pWo+THXZcIDw2kf4egfK89JQchPgKBQFDE2bj/KtuP3sCQnrPeF4DekHF8+9EbAAzoWKvAxmYLYfMRCASCIkxyqoFtR2+gtyE8mdGnm9h29AYpqQaHbfMbsfIRCASCIszv5+/bjafJjkIBx87fp1MT/xyvWWxGSXpuXD1PtdJP+fuLf3PhaP9CiI9AIBAUYZ4k6y3banIwGEw8SdZnOZbFZiRJ6NNNGA0mFMoSGDccZ3CXui63E4ltN4FAICjClPHVotXIf5RrNErK+GYtU5HZZmQwSigUCtRaH1RqLXtO3GPj/quuHrYQH4FAICjKtKhbyanca5IELetWsvyd9FTPlsNXbdqM0gz5YycS4iMQCARFGF9vDeGhgWjVjh/nWo2S8NBASvwZ73P16hVef/cT9Gmpds8z24lciRAfgUAgKOL07xBEz9BANGolGnVO24xWo0SjVtKzZUacz9OnT5kz55907NiKK9fvoNJ42e3fmp0orwiHA4FAICjiKBQKBnSsRY/Q6lkyHCiAp39mOGhZtxIlvDVs376V996bzI0b1wFoWL8OaFTo023v3VmzE+UVIT4CgUBQTPD11lh1oYaMLbbp06ewc+d2AOrXD2H27AU0bNKCiYsPArbFJ7udyBWIbTeBQCAoxjx9+pS5c2fSsWMrdu7cTqlSpfnnP+ewa9dvtG7dxqHNyEujymInchVi5SMQCATFlB07tjJt2hRu3LgGwJAhw/ngg0+oXLlylnb9OwQBsO3oDRSKDBuPRqNEkqBP+yB6hVZ3+diE+AgEAkEx49q1q7z/fgTbt28FoF69BsyePZ82bdpZbW/NZlTGV0u30Br4+mjypYKrEB+BQCAowmQuo1BCq+D3vT/x5aJ5pKWlUbJkKSIi3mP06FdQqx0/7rPbjHx98q8EgxAfgUAgKIJkTomjUIDeYMSYrgcaUqPZQBr6m5jx4SdUrlylsIdqFSE+AoFAUATJWUZBgUqdEa9Tv90werSu6bbCA8LbTSAQCIocyakGth25bjMlTroJtymdYAux8hEIBIIixn827CU1zWhZ6VjDXumEzGS2GRVkuW0hPgKBwGMprAdvbrlx4zrTp0cQ89gXXdvhdts6SomT02ZkylFuOz8R4iMQCDwOOQ9eV9evyQupqaksWfIFn302n9TUVGo3fw6VQsJeFR9HKXGsld7OXm57VJ8GLhm/NYTNRyAQeByZH7zmB67eYMKQbmL70Rv5Ur8mt+zevYOOHVsxe/Y/SE1NZeDAIaxcOheV2v4KzV5KHEelt83ltpOf5p/NSIiPQCDwKOQ+eAvbWH/jxnVeemkEzz8/mGvXrhIcXJcNG7awdOlygmoE2E2Jk710QnbklN5WKODQmTt5nYZNxLabQCDwKOQ+eOUY6/ODtLQ0yxbb06dP8fUtybvvTmXs2NfQaP4SE3spccylE2whp/S23mDif+fvEZ+Yhpda4XJ7mBAfgUDgUch58OZH/Ro57Nmzk6lT3+Xq1SsADBgwiBkz/knVqtVytLWVEsdcOsEe5tLbju7DiYtxHIu+ny/2sEITnzNnzrB06VLOnTvHw4cPKVWqFHXr1mXcuHE0a9YsS9vjx48zb948zp07R8mSJenVqxeTJk3Cx8cnSzu9Xs/nn39OZGQkCQkJ1K1blwkTJtCmTZuCnJpAIHBj5Dx486N+jT1u3rzB++9P5ZdfNgOg0wUza9Z8OnTo5PBce2UUbNGibiV+3HXJYbt0Y0aZheyOCAM61nLqetYoNJvPzZs3MRqNDBkyhPfff58xY8bw6NEjXnjhBQ4ePGhpFx0dzahRo0hLSyMiIoLBgwezZs0aJkyYkKPPiIgIvv/+e/r27ct7772HUqlk7NixnDhxoiCnJhAI3JgWdSsh2S5dA9g21ienGth3MpZNB6+y72QsyXm0C6WlpfHZZ/Np374lv/yymRIlfPngg0/Ys+egLOHJLc6U3s6MK+1hCkly9DYUHE+fPiUsLIyQkBC+/vprAMaOHcuFCxfYunUrvr6+APz8889Mnz6df/3rX5ZVzenTpxkyZAhTp05l1KhRQMYb+9xzz1GpUiVWrlyZ63GZTBIPHybJalumTMZqLD+ywLoznjhvT5wzFI95b/jtCtttOB1oNRnlpjP/ui9d2pvVOy8Suf9KFtdsSSLXW1F79uxi2rR3uXIlBoD+/QcyY8Y/qVbN+irG1TFJ2d3NDQYTSpUCo9G+JGg1Sp7vVsfhaqt8+ZIolbbviVvZfHx8fChXrhwJCQkAJCUlcejQIcaMGWMRHoB+/foxc+ZMtm7dahGfbdu2odFoGDJkiKWdl5cXgwcP5tNPP+X+/ftUquTaSnwCgaBo4qyxfvXOi2w+cNVuTIzcrahbt27ywQfT+O9/IwGoU0fHrFnz6dixs9X2+RWTZM1mdO1OAicvP7R7nqvsYYUuPklJSej1euLj49m4cSMXL15k3LhxAFy4cIH09HRCQkKynKPVaqlXrx7R0dGWY9HR0QQFBWURKYBGjRohSRLR0dG5Fh+F4q9fe45Qq1WA/PbFBU+ctyfOGYrPvEf1acDgMB2Hz9whPjENv1JetG1YNUcZgaSnBjbtv+LQNXtImM5uCYK0tDQ+//wzZs2aSUpKCr6+vkybNp23334brda2fWnVjgvsOHbTqvDtOHYTLy81z/cIdmbqWShTxoe+lUsDsPPoDaKvx5NmMNpsr9WoqFKhpMP335EeFrr4TJs2je3bM2qKazQahg8fzmuvvQZAXFwcABUrVsxxXsWKFTl58qTl77i4uBzV+TKfe//+fZePXSAQFG1K+mjoHhpot83hM3dQ2Nk+AlAqFBw6c8dmXzt37mTChPFcunQRgEGDBjNnzlyqV7dfITTpqYHI/VeyCE9m0gxGIvdfoW+HWi6pvdOmYVWWb/7DbhuTJNG2YdU8X6vQxWfcuHEMGzaMu3fvEhkZiV6vx2AwoNVqSU1NBbD6q8DLy8vyOmSkn8jsA5+5HWT86sgtkiR/f7s47IfnBk+ctyfOGYrmvPNiL7n7IIk0ve2VAGTU0rn7ICnHPYmNvcUHH0xj8+aNANSuXYdZs+bTqVMXwPE93HcyVlZM0u6j110WkxQeGujQHpauT+eJPt1uP+XLl7Q79kIXn+DgYIKDM5aMffv2ZdCgQUydOpUvvvgCb29vIMOFOjtpaWmW1wG8vb0xGHJ6YJhFxyxCAoHAc3CFvaSMrxYvjcruVlR212y9Xs/SpYtZuHAuKSkplChRgokTpzBy1KucvvKYTQevyhLBwohJymwPUyoU6A1G2cGrzlDo4pMZjUZDt27d+Oqrr0hNTbVsmZm33zITFxeXxYZTsWJFq1tr5nOFs4FA4HnISZ5pdhSwtTqSExOT2TV73769TJ36DpcvZ5zTp09/Pvronxy7YiBi2VGnRLAwYpIyOyL8cT3ekuFATvCqM7iV+EDG9pkkSSQnJ6PT6VCr1Zw9e5YePXpY2uj1eqKjo+nTp4/lWN26dfnPf/5DcnJyFqeDU6dOWV4XCASegzmHmy17idlRoEfLAHYcu2V3ddSvQy02H7hqdfVj3oqKf3Sftz+YxqZNGwB45pnazJw5jy5dullcu531lnNW+OQiZxvS1/sve1h+bLEWWpDpo0ePchxLSkpi+/btVK1alfLly1OqVCnatGlDZGQkycnJlnaRkZGkpKQQHh5uORYeHo7BYODnn3+2HNPr9axfv55mzZpZdUYQCATFF7k53JZtPmczw/UvUdf5fO1pnmsfRJ/2QWjUSrQaJQoyREejVhLWzJ+bJzfRtm0LNm3aQIkSJZg+fQa//nqYLl265SmRqaNgUEcJRLMjSRIbfrvCxMUHWbX7Ehv3X2XV7ktMXHyQDb9doSDDPgtt5TN+/Hi8vLxo2rQpFStW5M6dO/ZaZDUAACAASURBVKxfv567d++ycOFCS7sJEyYwfPhwRo4cyZAhQ7h79y4rVqygY8eOtG3b1tKucePGhIeHM3/+fOLi4ggMDGTDhg3cvn2bWbNmFcYUBQJBISI3eeYf1x5jMll/6BpNEqdjHjJ21m76dajFgnFt+d+FOMuKQf/oIjOmP2/xYnvuuX58/PFMAgL+8mKTI4ImSeLAmTv0aJnTWy4vCUSz48w2ZH5TaBkO1q5dS2RkJJcvXyYhIYFSpUrRpEkTRo8eTWhoaJa2v//+O/Pnz7fkduvduzcTJ06kRIkSWdplpKr4jM2bN/PkyROCg4OZOHFiFpHKDSLDgWM8cd6eOGcoOvPedzKWVbsv2RUglUqBgr9ymNnDS6OiR8vqDOhYi9u3Y/nww/eIjFwPQK1azzBz5jy6dg3Lcd6mg1dl1QdSKhU827qGTftP9q0yZ20wyakGJi4+aHMbEkCjVvLpm+0s/eblvXaU4cCt0uu4K0J8HOOJ8/bEOUPRmbech61SqbC56rGGRqWknvcZPlswk5SUZHx8fJgw4V1ef/0tmx61ckTQjFatpEszf6qUK+Hy0t5yxpE9dU5+io/bORwIBAKBKzDbS+zFrNQNLMv5G49lCQNAatpTftj2KykpyTz7bF8+/ngm1avbD1KVm0EaMuw/24/eRKtWok+37RGXm7gldyslIcRHIBAUWxzZS7q3DGDSl4dk96dUaqjiX4u5762ja9fuss5xJILWMLfLbo/p3yEo13FL7lZKQoiPQCAotsgpuOaMMCiVEhPefpOuLWo4NQ6zCG6Juu7UNp8Zs0ecId3InuOxuXIYyC+37dwixEcgEBR77BVcMwvD1iPXHToeqNUa2oTkrCoKtrfCzMdVKgXNdRU4fvEBxlwIEEjs/P2WzXPNAtUztHoORwTzGIKqliImNsFqH+Z4JVcGktpDiI9AIPBoMq+OFq89zoWbCaBQ5Whn9nbL/nC2lcJn5c6LBFUtzbW7iZbjGrUil8IDhnQJlYMEpwoFHDt/3yK01sam/DNkSPWns0V+pM6RgxAfgUDg8RgMBr7/bilL583Cv1Efnmk5ALVahYTKUjSuT/sgeoXmzEJtL3bm0q0nWa+TnnvnYpXSsXBldxiwNjZTpt1FXXU/Wjeo7PLUOXIQ4iMQCDyagwf3ExExiQsXzgNQq0wC04bruJvkZdlC6xZaA18fTQ6XY0cpfByhUSkwyIgxMmP2grPZXyaHAUdjM5okrtxJ4K1BDQtceECIj0AgKEY444J89+4dZsyYzvr1GSm5atYMYubMuYSF9QQgc3k2W7Vy5GQvsIVGraCSXwnuPkpxuKLRapR0aerPnuOxdttldhiQm14o8zZdQSLERyAohuSlfk1RxJnSCQaDgW+//Zp582aRlJSIt7c3//d/kxg37v+ylGmRg5zYGVsY0iXuPEpx6P2mUSkt9hitWuWw1o55FeNucT3ZEeIjEBQjXFG/pihiz+7yS9R1rt9LZGyf+pw6foSIiEmcPx8NQHh4bz75ZDY1atTM1XXlxM7Ywpzax96ZKpWCwZ1r0f3PnG/O5Hlzt7ie7AjxEQiKEe6UOLKgkGPbOB3zkLcW/srFI2u5eD6aGjVq8s9/zqFHj155urYz2QuyI0k43G4zGSWeZqqiKiduyZmxFWRcT3YKraSCQCBwLXlJ3V+UkW13Uap4pkU/Rk36kv37j+ZZeMBxyQNbaDVKQoLKodXYP8/WysQct9S3XRCdmvhbdRhwdTkGVyPERyAoJjhjYC5sklMN7DsZy6aDV9l3MpbkPAiiM3YXlcabJ6rqmMgZx5Nb+ncIomdoYI5aP2qVgjoBZazWAOrZMpCXn6uHo7TOeV2Z2BqbeQwFGdeTHbHtJhAUE9zdwAz5Y5Ny1u7iag8vR1th9kohOEp8mteMA85s0xU0QnwEgmKCuxuYIX9sUs7aXfJLgG2l8JGT2scVheJyM7bCRIiPQFBMcHcDsyPHAHu5yezh660hxF/B/2L0KNWOhbWwBTgz7rwyyW+E+AgExQQ59WsKMnFkdvIj6PHevXt89MnHHI2+S7XgjpQPqIdCqQJsX6gwBdgW7rgyyW+E+AgExYiC2sbJDa60SaWnp/Pdd9+welc01Rs9R/1KEmqtFxqVMiMztQKrxvzCFmDBXwjxEQiKEe68jeMqm9SRI1FMfW8aPkE9CWz8HErVX48xc540JRn3Qq1WuJUAC/5CiI9AUAxxx22cvNqk7t+/z8effMDJGxLPdH4XpUpr0zPOJIFaBYM61uKp3ug2Aiz4CxHnIxAICoTcBj2mp6ezfPnXtG3bPEN4WvRDpfZy6JKtVCrQalR2AzEFhYdY+QgEggLDWZvU0aMZudjOnj2NxsuXOq0GoVDKe2wVdkyTwD5CfAQCQYEh1yYVFxfHJ598wOrVKwGoXj2Qv4+fx9n7WtnBpO7kUi3IiRAfgUDgUuSUc7BlkzIajfzrX8uZPfsfPHkSj1ar5c03/4+3357ErhP3OB57VfY4bNmPPK3chLsixEcgELiEvKbOOXbsCBER73DmzCkAunTpxqxZ86hVqzbgXBoday7Vnlpuwl0RDgcCgcAlZE6dYxYIvcGEId3E9qM32Ljf+qrlwYMHjB8/jmef7c6ZM6cICKjOihUrWb16vUV4IMNbzlEiTshafM0V4xPkD0J8BAJBnslNOQej0ch3331DmzbN+PHH/6DVapkw4R0OHDjGs8/2ybEKceQtp1IqaPRMeT59qx0DOtbKcr6nlptwZ8S2m0AgyDPOps75/fejRES8w+nTJwHo3Lkrs2bN45ln6tjtw563nL2ts/xI7SPIG0J8BAJBnpGbOudOXDwTJsxi5cp/A+DvH8D7M2ZTLrA5f9zVcysx1qYDgNlRQKVSMKhTRubrVJkBpEWh3ISnIcRHIBDkGTnOAAqFiS8/n82Fo5FoNBpef+Nt6rQexvYTd1FcvmTTAcCWo4B5tdOxcTWHjgJFodyEpyFsPgKBIM/IcQYwGAzEnNpFp05d2LcvigYdRrL3xF2rDgC/RF3n87WnSU41uMRRQM743DHbdXFGiI9AIADyVtrakTNAuiGV++d38/WSpfz000aqBtS06wBgNEmcjnnIhC8OsOXw9Tw7CuQ2tY8g/xDbbgKBh+Oq+BeLM8CRGxhN6RhNYDSkoVCqqKC8x5KlMyhZsiQgzwEAIN3k2LdarqOAO5ebsEVxDogV4iMQeDiuKm2tUCioUfIR1/bO4mFaSbxKlCXQvxLvvf0SIfXDs7SV4wAgF7mOArktN5GcauDohTjiE9PwUisKRAA8ISBWiI9A4MG4qrT1w4cPmTnzI3744XskSaJaNX8+HD+L557rZ/Uh6Uy2Akc46yggt9xEZgFQKhSkGYwFJgCu+kHgzgjxEQg8GGfjX7KvAprWKc/Gdav45z9n8PjxY9RqNa+//hYTJrxr2WIzk3kLyVurwuSahU++OQoUlgC46geBuyPERyDwYOTGv8QnpbHhtytZVgEqJfzrl3Qe3krAr2Y7mnatTc/wPtSqUQ2F2styvq0tJJPJhEqpwCjDrmOL/CqLXZgC4CkBsUJ8BAIPxlurQq1SkG60LQAajZIrtxO4cCM+y8PYaAKFUk356iFUCAwBFOyPTuTI5UtZtqbsrSCUSCgAR/KjVIBKqUShLBhHgcIUAE8JiBXiIxB4IObVyNYj1+0KD4DJJHH+ejwGo/UHYna7R+atKX26kT3HY22uIDLKXSsIru7H+RvxVldB5tWNs44CeaEwBcBTAmILLc7n9OnTfPTRR/Tu3ZsmTZrQuXNnJkyYwPXr13O0PX78OM8//zyNGzemXbt2/OMf/+Dp06c52un1eubNm0f79u1p1KgRQ4cO5fDhwwUxHYGgSGFejTgSHq1GSf2a5ZBw3kCjTzex6/dbODLJK5UKmgdXpHfrGmjUSrQaJQpAo1agUioIqlKasqUytvE6NfEvkLLYZgGwR34JgKcExBaa+Hz77bfs3LmTtm3b8t577zF06FCOHj1K//79iYmJsbSLjo5m1KhRpKWlERERweDBg1mzZg0TJkzI0WdERATff/89ffv25b333kOpVDJ27FhOnDhRkFMTCNwaRxmezWhUSjo2rMClMwdtrlzk4Og6BoOJhBQDAzrWYuGb7RjetTZ1qpfBZMrIVH3hZjyr91xi4uKDbPjtCpKcugp5pDAFwFMCYgtt223UqFHMnz8frfavXw69e/emT58+fPPNN8yePRuAhQsX4ufnx3/+8x98fX0BCAgIYPr06Rw+fJg2bdoAGSupLVu2MHXqVEaNGgVA//79ee6555g/fz4rV64s2AkKBG6KHHuGSqWghu9DPn57FCX9m1O/U03UWm+nr2U0SQ6dCjKvIHy9NTxO1HPtTiJGk2Q5r6DdjM0CsN2GSOeXo4OZohgQ6yyFJj7NmjXLcaxmzZrUqVPHsvJJSkri0KFDjBkzxiI8AP369WPmzJls3brVIj7btm1Do9EwZMgQSzsvLy8GDx7Mp59+yv3796lUqWgvUwUCVyDHnpGebuTA8YuUrxNG9YCqeHl7Y8PkYxeNWuHQpTrzCsKd3IwzC4BSoUBvMGYRgO4tA9h3MjZfsg/kNiC2KOFWDgeSJPHgwQPq1q0LwIULF0hPTyckJCRLO61WS7169YiOjrYci46OJigoKItIATRq1AhJkoiOjs61+CgUUKaMj6y2arUKkN++uOCJ8y6qc65SoSReGhVpBqOdVgoqBTWjSu1QtGoVhnQTCgWyKolm7+e5djXYFnXD6vW8NCr6tA+iauXSABy9EIfSwbJMqVBw9no83UMDnR2M04zq04DBYTqOnrvH44RUSvtqaRNShc0HrjLpy0MWt3MvjYofd12iX4daDO+uc1nwaZkyPvT9894UBnn5jDu6BW6VWHTTpk3cu3ePXr16ARAXFwdAxYoVc7StWLEi9+/ft/wdFxdnVVzM52ZuKxB4Mm0aVsXkQEUUCgVKlQZQoE83IeG88HhpVPTrUIuRverRp30QGrUSL40KxZ+vadRK+rQPYnh3neWc+MQ0B6IIeoOR+MQ05waTB0r6aOjRqgbDugfTPTSQzQeusvnAVQzpJstY0wxGDOkmNh+4yuqdFwtsbEUZt1n5xMTE8PHHH9O8eXP69esHQGpqKkAWu5AZLy8vy+vmthpNzuWol1eGl0xaWu4/rJIET57k9K6zhvkXgtz2xQVPnHdRnrM9e4YcFH/+j1qpwJDNY85ca6dHy+r0Cq1OQkIqvVsF0qlxVatbSAkJf32PvdQKWW7GXmpFgd5383t9+14Ckfuv2NwWTDMYidx/hc6NqxaL7bG8fMbLly9pd/XjFuITFxfHq6++SpkyZfj8889RKjMWZN7eGQZOvT6nL31aWprldXNbgyFnWnWz6JhFSCAoirgqu7G5H70+FSnlDkZlWSSTEZXGC6UCJJmbIRIZwjO48zM81Rvx1masaJ7aqSwqJ6dai7qV+HHXJfvXLkQ3Y0/JPlAQFLr4JCYmMnbsWBITE1m1alWWLTbzf5u33zKTfZst+zZc5naAcDYQFElcld3Y0s+RG5hM6aSbwEhpFICvMomurZ7hzqM0Tl5+KHtsSqUCrUZF95aus70UtpeZIzwl+0BBUKg2n7S0NF577TWuXbvG119/Ta1aWd0ndTodarWas2fPZjmu1+uJjo6mXr16lmN169bl6tWrJCcnZ2l76tQpy+sCQVHDFVU8zf1sPXINg9GEUVKiUChRa31QqbVI3pVRq7U0rl3BYWBlZuQ8ZHNToK5/hyB6hgZmCTjVapRo1MpCdzMuzODT4kahrXyMRiPjx4/n5MmTLFmyhCZNmuRoU6pUKdq0aUNkZCSvvvqqxZMtMjKSlJQUwsP/qhESHh7Od999x88//2yJ89Hr9axfv55mzZpRuXLlApmXQOAqXOV2fPteHJsPxoBCZbeff74c6pRTgb2HbF5WbO7sZuzu24JFiUITn9mzZ7Nnzx66dOlCfHw8kZGRltd8fX0JCwsDYMKECQwfPpyRI0cyZMgQ7t69y4oVK+jYsSNt27a1nNO4cWPCw8OZP38+cXFxBAYGsmHDBm7fvs2sWbMKfH4CQV7Jq33BZDLx00+rWLpqB4HNh6LW2naXVSjgj2uPnXJEsPeQdUU5Arl1dwoSd98WLEoUmvicP38egL1797J3794sr/n7+1vEp0GDBqxYsYL58+cza9YsSpYsydChQ5k4cWKOPufOnctnn31GZGQkT548ITg4mGXLltG8efP8n5BA4GLyYl84c+Y0ERGTOHbsCHVaDUWlsZ+dwNxP5sBKo8lkM0DUS6OiR0vrKy53ChTNDzwh+0BBoJAKIlFSEcdkknj4MElW26LsfpsXiuu87XmZ5fecdxy7wdpfY+wm/9RqlDzfrY5lhfDkSTyzZ/+DFSu+xWQyUbFiJcZMnM/FeD+7Qpa9n+RUA8ei7xF17h4xsQmolAoM6X89ZPt1qEWv0OpWt872nYxl1e5LTl3P3bH2Xmf/bLjDtqCryaurtVJpe+le6N5uAoE7IsdmIYfcuEg7U+7AvPVlMplYuWo1y3/agcGkpnpIGN1bBxMxeTIqbQkmLj4oqx8zvt4aOjcNoHPTgBxz6BZaA18fjc0Hkqd4hLnjtmBRQoiPQGAFOTaLUX0a2Dw/LwZ3Z8od9GwZSMylaD75KhKfai0IbD4ElcYbrVrBQ4WS3Scf0r9D6TzZKbI/ZH197Iunp9SjEeQNIT4Cu7gquLEoIddmMSRMZ/NBnFuDu6Nrm9GolHRqVIlj25ey8I8Egpr3RZWpdHVG1heT5VoFaacQHmECOQjxEVjFVcGNRRG5XmaHztzJkdwyOdXAwTN32BJ1HZONMgL2DO5yyx3UKv2YT/5vDE8SUwh7dQUqtfVVROZrFZT7svAIE8hBiI/AKq5wlS2qyLVZZE5umVmsTZJkU3jM2HKRllvuYNN/t/DgQRwd+7yKt5cWe7k4M1+roOwUwiNM4AghPoIcFHdXWUfItVn4lfprm8uaWNvDlsFdzrWNhjQ0ynS++OIrfALaEHngWq6ulZ+4c6CowD1wq5IKAvfAmeDG4ojcEsptG1YF5Jelzowtg7uca6s1WlZ/M5/hw/+GX0kvt073Yl5p9W0XRKcm/kJ4BBacEp+ePXuybNkyq4k+BcUHT3GVtYXZZqFVW/96aDVKwkMDLc4GcsQ6O7YM7o6urVZBn3bPUKVSBUC+UArjvsDdcEp81Go1CxcupEuXLrzxxhvs3bsXk6MauYIih0ie6FxySzlinRmzeNlaBXRtXA5tyiWM6XrS9U+RJBMqhQmNWkmvVjWzXFuuUIoVh8DdcMrms2XLFk6ePMnatWvZunUre/fupUKFCgwcOJBBgwYRGJj/ZW0F+U9xcJXNq4u4MzYLOXYaALVKgUKhsGlwlySJdet+YsaM6dy/fw+tTykGvTSZdu16ULl8aZv2EmHcdz88MUTBWXKdXufp06f88ssvrF27lhMnTqBQKGjZsiVDhgyhZ8+eVquPFlU8Mb3Oht+uOHSVzeztlp/zduaLbMtFXJJwuYt45uqWExcftOtsoFQqGNblGdo1tF7hMjr6HBERkzh8OCMTQYsWocyZs4CGDRvLHk9BpXspLp9xZ5A754L8/BUE+ZlexyW53a5evcrixYvZsmULCoWC0qVL07dvX/7+979TrVq1vHZf6Hii+GT/EmX+NW3tS5Qf887NF9muaKqV9AwNdJmLeOY5OyvWZhITE5g7dxbffrsUo9FI+fLl+eCDTxg2bISloq+7UVw+484gd84F+fkrCNw2t5vRaGTPnj2sXbuW/fv3o1AoaNWqFVqtlpUrV/Lzzz8zf/58S4ZqQdHBHVxlnY01KkgX8eRUA0cvxBGfmIaXWkH3lgGA/K0vSZJYv/5nPvzwPR4/SSKgQTdatevGsz3D6NisptsKj8A2nh6i4Cy5Ep+YmBjWrl3Lpk2bePjwIeXLl2f06NEMHTrUYve5fv0648ePZ968eUJ8ijCFlTwxN1/kvNa/kUPm1ZhSoSDNYMyS+WHBuLb870KcXbE+fz6aiIhJHDp0AF2b52kZOhCNVkOKETYeusX6A7eo7V+GVvUr07KefVuBsC24DwXx+StOOCU+P//8M+vWrbOUpm7bti1Dhw6lW7duqNVZu6pRowYjR45k+vTprhutwGPIzRfZWRfx3Dy485L5ITExgXnzZvPNN19hNBpp3G00NZo8h0lSkv5nhgJDesYu+IWb8VyOfcKq3dbTGXly+iN3xdNDFJzFKfF5//33qVChAq+88gpDhgwhICDAbvvatWvTr1+/PA1Q4Jnk5ovsrVWhVinsZoPWaJSULqFhw29XnH5w53ZbRZIkNmxYy4cfvse9e3dRKBS8+PfXSKjQy+5YjSYJo0myKmqenP7IXRHZvJ3DKfFZvHgxXbp0QaWyXgs+O40aNaJRo0a5GpjAs3Hmi+xs/Zv7j5+y53is0w/u3KzGzp+PZurUdzh4cD8AzZu3YPbsBcRLlVi1+xI4GC/kFDVhW3BPikOIQkHilFUzLCxMtvAIBHnBmch9Z+rfdG3mz+7jsTZT4Zgf3CmphhyvObMaS0pKZMaM6XTt2o6DB/dTrlw5Pv10MVu27KJx46ZOB6ZmTmfk6emP3BUR8OscwqVG4JbI/SJLICuvmkaV4e5cuWyJXD+45WZ+uHLxLG3btmDJki8wGo289NIYDh8+zt/+9qLFi01OX5nJvMUobAvuizOZMTwdkdVa4LbIidz/7dRtWfVvBneuRfeWgWw6eNXhg1tvMBEXnzOuQc62SlqanrkfvEJ6WjJNmzZjzpyFNGnSLFd9ZSazrcBZ24LwiCs43CFEoaggxEfgtsj5IstZBZiMEk/1Ge5kcpwSALYfvYlKqczifOCoSJrRaODBtZOULVuWiHdnZVnpZMdRX9nJbCuQa1toEVwxV44VgrxTWCEKRQkhPgK3x94XWe4qwOzhJscpAbDpZZZlNQbo040W25RSqaZyUFP8daGUrFHD4YM9c19GkwlbOXqtVf6sG+jHuWuPMVopWmduv+PYLeERJ3BbhM1HUKSR65hw//FTWU4JmbHmfGBejY0Lr0zyg8uYjEYUCoXlH0o16cYM4dq4/6rd/s19LXyzHS9016GrXgaVUoFWbd1WIEkSG367wsTFBzl/I6fwZG7fvWWAXVuYPccKgaAgECsfQZHH0SqgS9MMDze5VUYzk911OikpiYUL5/LtihV0GbMMpcr6V8gZd2dfbw2dmwbQuWmA3eSg5rxh1uahUiqoG1iWV/rUp4S3hn0nY0W0vcCtEeIjKJJkjvAHyeoqwOyYULaUl9PF3syYvcYkSWLz5o28//5U7ty5TWDDHqhVKuyto3LzcLe1xegotsdokoi+/tjyt/CIE7g7QnwERRJrEf5msq8C5Hi42UKjUZKW/JghQ8bz2297AWjSpCmDxk7gSEya3XNd+XB3NsBVRNsL3B1h8xEUOcyrAFv2jOyrAGdjajJj0Bt459V+/PbbXvz8/Jg37zO2bt1D3To18dLYD7h25cPd2ZWMKK8tcHeE+AiKHM5G+Mt5EFvDmJ7Ghai1PE1+wgsvvMThwyd46aXRqFQqWtSthMlBp658uDtb2lxE2wvcHSE+giKHs6sARw9ipRKUCoXl4S4Z9ZiMBh7fvkgFvxJs2LSLhQsXUb58ecs5vt4a+nWoZXP14+qHe25WMiLaXuDOCJuPoMiRG3uGvWwJ4aGBtKtfjnlfr+biHT1lq9ZFMhmpEBiCVtOYfx9I4b7+Ct1bBmSp1fNc+4w+I/dfkVVALi84Ckq1Fgskou0F7oxLymgXdzyxjLazFOS8k1MNTFx80K7rtEat5NM32+V4yOZINRNckT27tvLBB1PxDexArRb9UGu8c/SXUQ1YgVqtyFLOu1+HWnRsVMVhATlX4Gxp8/zCEz/jnjhncOMy2oLiibvnAsvNKiDzuWZX5piYS4weNYy9e3ej8fKl++CBKFXW55nhyS2hN2T8VjOvujYfuEpaWnqBZAoQKxlBcUKIj8BCUaqOKSfpqC2Sk5P5/PMFLFnyBXq9njJl/Pj7+HncSPVy2iU7zWAs8No5Im+YoDggxEdgoShVx8zNKkCSJH755b+8/34Et27dBGDEiJFMn/4Rhy4kctlBOhzbYxGZAgQCZxHiIwByXyK6sJG7Crhy5TLTpk1mz55dAISENGLOnAW0bNkKgDK30hw6MdhCZAoQCJxHuFoLgOJbHTMlJYVZsz6mY8fW7NmzizJl/Jg1az47d+6zCA/kPhYI5AeTJqca2Hcylk0Hr7LvZCzJIqmnwIMRKx8B4B65wFzp6CBJElu3buH99yO4eTNjy/D5519g+vSPqFixYo72ztbXyXot+8Gk1mxpGrWCH3ZcpLZ/GVrVr0zLeu7l1CEQ5DdCfASAvNgZtVrBvUcpbDp41aVecK52dLhyJYb33pvM7t07gYwtttmzFxAa2sruebacGNLTTSgUCqtZs700Knq0tL8Vac2WZkjP6OvCzXguxz5h1W73c+oQCPKTQo3zuX//Pv/+9785deoUZ8+eJSUlhX//+9+0apXzIbF7924WL17M5cuXKV++PIMHD+a1115Drc6qnwkJCcybN4+dO3eSmppKo0aNmDp1KvXq1cv1OD0hzkdO7AyAVq1En/5XnEt4aEbtmHM3nhCfmIaXWuG0KJlLBVh1m1Yr6RkamMXRwdYKKSUlhS++WMjixZ+h1+spXboMU6dO56WXxuT4nDi6F9ljgXYcu2XVs65fh1r0Cq1uUzDk3ldbc3VHiupnPC944pwhf+N8ClV8jhw5wosvvkiNGjUoV64cJ06csCo++/bt49VXX6V169b07t2bixcvsnLlSkaMGMH7779vaWcymRgxYgQXL15k9OjRlC1blh9//JF79+6xfv16AgMDczVOTxAfsC8CtjAH54UAQwAAHnZJREFUX2rUStIMxiyiJOdXfFx8CtOWHbG6qjBjDhj18VJbXSFJEtQul8bqLydZttiGD/8b06d/RKVKrkucmV2UuoXWwNdHY/e93ncyllW7L8l2ZLAVHOtOFOXPeG7xxDlDMQ4ybdCgAVFRUZQtW5Zdu3Yxbtw4q+3mzp1L/fr1Wb58OSpVRi4tX19fli1bxsiRI6lZsyYA27Zt48SJE3z55ZeEhYUB0KtXL3r27MnixYuZO3dugcyrqGJt20mtVli2iKxhDr5MMxgB+a7Z5q22X6Ku2xUe+MvR4VFCmk1X8DOxRnwC2tGgdBlmz15Aq1atZc3ZGbJ71vn6OBYIOba0zAi3bYGnUKjebiVLlqRs2bJ221y+fJnLly8zbNgwi/AAjBgxApPJxI4dOyzHtm/fTqVKlejWrZvlWLly5ejVqxe7du3CYBDeRfbIXNb5+W516NchiBbBlWwm5LSHozLNZjuII+GBDBGMi39qt4yCWuNNcJshRG7enS/Ck1ucLecg3LYFnoLbu1qfO3cOgJCQkCzHK1euTJUqVSyvA0RHR9OgQYMcWz0NGzYkOTmZGzdu5P+AiwHmX/h92wVRuVwJp72/zNhyzXZUjyc7Go2Sx4lpDl3BNRo1Jy4/zM1Q8w1nXbhFgTeBp+D23m5xcXEAVt1jK1asyP3797O0bd06569e877//fv3eeaZZ5weg0Lx196nI9TqjNWZ3PbuTpUKJfHSqCzbas5gMJhIS5dy3IujF+JQOuHRZTRKVPArIcsV3Nr18gs573WZMj7061ArIwecjHsoSVhsSe5KcfuMy8ET5wx5m7ejr7jbr3xSU1MB0Gpz/hr08vKyvG5ua62d+VjmtgJ5tGlY1WHRNFto1EpuP0jm592X2Hn0BklPM7bg4hPTnBazzQdjMBnT7bbRalT4lfLK1Vjzk+HddfRpH4RGrURlxwDrpVHRr0MttxYegcBVuP3Kx9s7I729Xp9zHzwtLc3yurmttXbmY5nbOoMkyff2KI5eMbkNvtSnm4g6e8fimr188x+EhwZStpSXU6lsMuxCShR2HtwAJkkipIZfgd17Z97r3q0C6dS4Ksei7xF17h4xsQmolAoM6X+5bfdoWZ1eodXd/rNTHD/jjvDEOUPevd3srX7cXnzM221xcXE53Gbj4uJo2rRplraZt+HMmI+50u3Wk8hN8KUZs2Bl9oJr36gqRqPzqyl7btv2yii4C77eGjo3DaBz04AcbtuiLILA03B78TEHh549e5YGDRpYjt+7d4+7d+9mCR6tW7cuJ06cQJKkLA+q06dPU6JEiVzH+Xg6tjJIZw6+VCoU6A1Gh67Z+nQTe47H4mARYxOlEhQoUKkU+Vo5NL8RZREEno7bi0+dOnWoVasWa9asYfDgwRZ361WrVqFUKunRo4elbXh4ONu3b2f37t2WOJ9Hjx6xbds2unXrhkYjflnmBWsPTLMo/XE9nvjENK7fecL/LsQ53KKzvliSkCT7KxzJBOGtq1PRz0esGgSCIkyhi8+SJUsAiImJASAyMpL//e9/lC5dmhdeeAGAyZMn8/rrrzNmzJgsGQ6GDRtGUNBfv3Z79uxJkyZNmDx5siXDwapVqzCZTLz11lsFPzk3IL+qkmbvt2toDUr6aPjPL+dy7ZptMhkxGdOtlrE2o9EoqejnI1YNAkERp1DT6wAEBwdbPe7v78+ePXssf+/atYvFixcTExNDuXLlGDRoEG+88UaOnF1Pnjxh7ty57Nq1i7S0NBo2bEhERESWLTtnKYrpdWxlUjaZyFMmZVtJQM15zkpoVazeIz+dTGbSDaloNF5I2F75uFP6GXd5rwsaT5y3J84ZinFut6JCQYmPK1cpjvK0qZQKlEqF05mU7fXrpVHRuWk19hyPlZVI0xq66mW4difRepLRP50KnE28mV+rP/FA8px5e+KcoRjndhNk4ExJATkPUkdVSSHDfdlokpwqj+2o3zSDkT3HY+nWzJ89x2Od3n7TapS0rl+Z4OplrWaQdtapwNWlGgQCgesQ4uMGWKv3kj1BZ/8OQbIfpHKqklqu40R5bLnVTiuV9aFnaCDbjt7AaDJhkqlBkgSh9SpTwluTw7MuN04Fcu6ru5cvEAiKK0J8ChlHqwmzOBjSjTm2s2w9SPMrk7KcfvUGE6djHlKzamn6tK3BxgPXAMc7u9njdPLqiiz3vsoRXYFA4HrcPr1OcUfeKkVi5++3bG5jZc8gnV+ZlOX2e/bqIzbuv0rk/qsYjY5FUKVUuDxOR+4qzVriU4FAkP8I8Slk5Kwm7AVtmsn8IM2vTMpy+03/M3uB0UHMjpmeraozoGMtl9pfZN1XUb5AICg0hPgUMnJWEyql/RQ2kPVB6uutITw0UHYdHkmClnUdpx5ytl85aDVKKuZDpmA591WULxAICg8hPoWM3NWEowd+9gdp/w5B9AwNRKNWorRzqlajJDxUfk60zP1qNUoUgEqV+xWLXOFzFjn3Nb+uLRAIHCPEp5BxtJrQapSEtQhwaLLP/iDNXJX0he46dNXLoFIq0KozBEOrUaJRK522tWSvdvpcm0BKSI+RJOfjepwVPmeQc1/z69oCgcAxwtvNDbCVNTpzbItWrbIZ3Gkvo3N+ZVL29dZgfBTNnGnvku5bi/qdRqPW2t8+U6sUGI1SgSUDlXNfBQJB4SAyHMigsDIcZBaH7AGTmR+kBR0weevWTT74YBr//W8kAMH1G1O390fYc2xTqxQM6fwMT/XGAk8Gml/lC0TUu+fM2xPnDCK9TqHjTrnd5DxI8yudTFpaGkuXLubTT+eRkpJCiRK+TJo0hVdffYNdJ+7aLBWd27Q47o54IHnOvD1xziDS6wgyYS/4Mj/Tyezdu5tp094lJuYyAH37DuCjj/6Jv38AkFEqGiBy/xWxxSUQCBwixKcY4Uw6Gbmro9jYW3zwwTQ2b94IQO3adZg1az6dOnXJ0k6hUPB8j2A6Na4qKnQKBAKHCPEpJshNJ9OjZYCl+qi91ZFer2fp0sUsXDj3zy22EkycOIXXXhuHVms7NkZU6BQIBHIQ4lNMkJtOZtnmc1y4EW93dVROus7Uqe9w+fIlAPr06c/HH8+0bLEJBAJBXhHiU0yQm/Tzj2uPMdnIlqBPN7H5wGW2ffUS6WnJPPNMbWbOnEeXLt3yY8gCgcCDEeJTTDCnk7EnQCqVAgVgT6LS0w3UDOnM8F4tefXVcXh5ebl8rAKBQCAyHBQT5KaTMSf9tIVa480bb03h7bcnCuERCAT5hhCfYoKcdDIhQeUcJtvUalVUr1YxP4YoEAgEFoT4FCOsJf3MnMPt5efqITnIji2SbQoEgoJA2HyKEeakn7ZKUO/fv4+70TspE9QetcY7x/n2csQJBAKBKxHiUwzJHmtz585txn84jY0b1wMQ2ttE1XrdUalVGAwm1GoFJhMEVSlN2VJeJKcaXJKORyAQCGwhxKcYYzAYWLbsK+bPn01ychI+Pj6MH/8Ob7zxNumSkmPR94g6d4+Y2ARUSgUXbsZz9W4Cq3bnPR2PQCAQ2EOITzHlwIHfmDr1HS5cOA9A7959+OSTWVSvHgiAF/A4Uc+1O4kYTZKlUqqtdDwCgUDgSoTDQTHj7t07vPbaaAYOfI4LF85Ts2YQq1at5V//WmkRHvgrHY+1+kDw/+3deVAU19oG8AeYYYhLQYjgAhohkcGgSNxK4pqAXOS6wKeiUJqYikvMclHzUZDyWlkw0VLi1cLdLHqVJAYLRYsEI1mMn2tijMQwrMF4URHQOGwyC/T3B3cmsg0DDD1M8/yqqNLTPTPn7ZZ57dNvn/PXdDw1tTqxuk5EPQiTj0TodDrs3JmEwMAxSE09AicnJ8TH/xM//HARQUEhzfY3dzqeH3NKu6jHRNSTcdhNAs6ePYP4+DeMQ2yhoX/H+vUbMWTI462+xpzpeHS6eqirtRbtKxERwOQjio4s7mbOa0pKbuPtt/+J1NQUAMDQoV54//1NCA7+W5t9Mmc6HrncHs69W5/Bmoioo5h8ulBHFncz5zV6vR4ffrgHmzdvQFVVJZycnBAT8wZefTUGTk7Nn99pyVhfd3yamd9G//nAKRF1DSafLtSexd3Mfc1/im/gyO445OSoAAChoWFISNiIxx8f2q6+GabjOdlK0QEfOCWirsSCgy7SkWoyc15z+fcHKCi6gccfH4pDhw7j3//+vN2Jx6Ct6Xi49DURdRVe+XSR9lSTGWYjMOc1gD1eeO19vBUTZfYQW+ufb3o6HiKirsLk00U6Uk1mzmscZHKU2Q3FV5duWWwGAi59TURi47BbFzFUk5nStJrMnNcAQH29gJOXbuDYmaJO95OIyBqYfLqIOYu76esEaHV1qP7vfZ+AJ12h0+nNev+m94yqa3U4/ctNHD9bhNO/3DS+JxFRd2QnCG19RVJ9vYC7d6vM2tfZ+REAgFr9AEd/+L3VajIDR7k9BAEY4WGHI7vjUefiD++xc1pc8qApucwOY3zccK9SY5wcVKuvN76nmJODPhx3T9ETYwZ6Ztw9MWagc3E/9lgf2Nu3/t3DK58u1LSarCVaXT10+nr8WFCNOhd/1N48B39PmcmTZqDTC7iYXYq8/6hRVy8Yk5zhPTk0R0TdFZNPFzJUk215bSL+Z4q3yYQikztBGTgfJzPP4X9fDEHks09A5tB2AjJ12crJQYmou2LyEUFvJzkUcoc2k4lcLsO16xUAgIkjB1pkuIyTgxJRdyS55KPVarF582ZMmjQJ/v7+iIyMxPnz563drXaXXhtmIHCUde4UcXJQIuqOJJd84uPjceDAAcyePRtr166Fvb09li1bhitXrlitT3q9Hr9euQC9rtbkfk1Lr1uagcDBjHtBpt6TiKg7kNRDpllZWUhPT8ebb76JJUuWAADCw8Mxc+ZMJCYmIjk5WfQ+Xbx4AfHxbyCv4HcEr/jY5L5NJ/JsaQaCO/dqcDm3zGQFnan3JCLqDiR15ZORkQG5XI758+cb2xQKBebNm4fLly+jtFS8ex9lZWX4xz9WYtasEPz2268Y4P4Y/AbZtTqM5ii3R+j4lifyNMxAMHuiF6Kn+5gsMjD3PYmIrElSyUelUsHLywu9e/du1O7v7w9BEKBSqbq8D3V1ddi1aycCA0fj88+T4ejoiDVrYnHmzCXEvvi3Tk/kac69IAd7O04OSkTdmqSG3crKytC/f/9m7W5ubgDQ4SsfO7u/HrZqS319Q/KpqFBj+vQQ/OtfWzFs2DDj9iWz/DAv2Afnf72N+5UauPRV4JmRA9H7EfOvTl6Y+RQUChnSzvwOezs7aHV1kMvsUVcvQPn4o5gcMAgTRw5q13t2lkzmAMD84yQFPTFmoGfG3RNjBjoXd1vFupJKPrW1tZDLm3/hKhQKAIBGo+nyPjg6OmLXrt0oLy/H7NlzWiyX7vOIHNPHD+nwZ9jZ2SEqRIlZk707lcSIiKxFUsnHyckJOl3zByoNSceQhNpLEMyfXsLZ+RFMnDgJavUDVFSYrm4DOrbE9sPGK92Mf9Zr9VBrzZsbztJ64vQjPTFmoGfG3RNjBjo/vY6pqx9JJR83N7cWh9bKysoAAO7u3afqqyNLbBMRSYWkCg58fX1RVFSE6urqRu1Xr141bu8uHl4u2/DwKedkI6KeQlLJJzQ0FDqdDikpKcY2rVaL1NRUjB49usViBGvoyBLbRERSIqlht1GjRiE0NBSJiYkoKyvDkCFDcPToUdy6dQsbNmywdveMOrLENhGRlEgq+QDApk2bsHXrVqSlpUGtVkOpVGLv3r0YM2aMtbtm1JEltomIpERyyUehUCAuLg5xcXFW7YepKjbDctmmEhDnZCMiKZNc8rE2QRDw+ak8pJ35vdUqtrG+7vg0M7+N9+GcbEQkXZIqOOgOPj+VhxP/V2Syiq2tKXI4JxsRSR2TjwVV1+qQduZ3aHR1LW5/uIqtpeUS2jvPGxGRreKwmwX9lFMK+zbK2B6uYmu6XIJzb0eM83XnFQ8RSR6TjwWpq7WtXvUYNK1iMyyXQETUk3DYzYKceztCIXcwuQ+r2IiImHwsaqyvO+oF00u9sYqNiIjJx6J6O8kxZ7J3q1c/rGIjImrAez4WtnC6DwAYn/PR6eohl9tDEMAqNiKi/2LysTDDQm9TRw1kFRsRUSuYfLoIq9iIiFrHez5ERCQ6Jh8iIhKdnSC0URtMEAQB5h4lwwQHPe2o9sS4e2LMQM+MuyfGDHQubju7hnvgrW5n8iEiIrFx2I2IiETH5ENERKJj8iEiItEx+RARkeiYfIiISHRMPkREJDomHyIiEh2TDxERiY7Jh4iIRMfkQ0REomPyISIi0TH5EBGR6Jh8iIhIdEw+FqLVarF582ZMmjQJ/v7+iIyMxPnz563dLYvJysrCO++8g7CwMAQEBGDatGlYvXo1/vjjj2b7/vzzz4iKisKoUaMwceJErF+/Hg8ePLBCry1v3759UCqVmDNnTrNtUoo7KysLy5cvx7hx4/D0009j9uzZSE1NbbTPN998g4iICIwcORLTpk3D9u3bodfrrdTjzrt+/TpWrVqFKVOmICAgAGFhYdi7dy+0Wm2j/Wz1PJeWliIxMRGLFy/G008/DaVSiYsXL7a4r7nntqKiAuvWrcOECRMQEBCA559/HiqVyqz+OLz99ttvdyYgahAbG4vU1FRERkZi1qxZyM3NxUcffYTAwEAMHDjQ2t3rtPfeew9nz57Fs88+i4iICHh5eSEjIwMHDx7E9OnT4erqCgBQqVRYtGgRnJ2dsWLFCgwZMgSHDh1CdnY2Zs6caeUoOqesrAwxMTGQy+VwdnZGVFSUcZuU4j59+jReeuklDBw4EFFRUZgyZQr69u0LrVaL8ePHG/dZuXIlnnzySSxduhTOzs746KOPoFarMXXqVCtH0H537txBREQE7t+/j+joaAQHB0Ov12P//v24efMmQkJCANj2eb527RrWrVsHmUyGwYMHo6SkBBEREfD09Gy0n7nntr6+HkuWLMGFCxfwwgsvICgoCJcuXcLBgwcRGhoKZ2dn0x0SqNOuXr0q+Pj4CJ988omxrba2VggODhaio6Ot1zELunz5sqDRaBq1FRUVCSNGjBDi4uKMbUuXLhUmT54sVFVVGdu++OILwcfHRzh37pxo/e0KcXFxwuLFi4VFixYJs2fPbrRNKnFXVFQIgYGBQkJCgsn9wsLChIiICEGv1xvbtmzZIvj6+gpFRUVd3EvL27Nnj+Dj4yPk5eU1an/99deFp556StBqtYIg2PZ5rqysFO7duycIgiCcOnVK8PHxES5cuNBsP3PPbXp6uuDj4yOcOnXK2Hb37l1h7NixQmxsbJv94bCbBWRkZEAul2P+/PnGNoVCgXnz5uHy5csoLS21Yu8sY/To0XB0dGzUNnToUAwbNgyFhYUAgKqqKpw7dw7h4eHo3bu3cb85c+agV69e+Oqrr0TtsyVlZWXh+PHjePPNN5ttk1LcJ06cQEVFBWJiYgA0xCY0WW+yoKAABQUFWLBgARwcHIzt0dHRqK+vx9dffy1qny2huroaAPDYY481au/Xrx9kMhkcHBxs/jz36dMHjz76qMl92nNuT548CXd3dwQFBRnbXF1dMWPGDGRmZkKn05n8LCYfC1CpVPDy8mr0DxIA/P39IQiC2WOgtkYQBJSXlxv/Qefm5kKv12PEiBGN9nN0dMTw4cNt9jgIgoCEhASEh4dj+PDhzbZLKe7z58/D29sbp0+fxtSpUzFmzBiMHz8eiYmJqKurAwBkZ2cDQLN4+/fvjwEDBhi325Jx48YBANauXYucnBzcvn0bx48fx9GjR7Fs2TLY29tL6jy3pj3nVqVSwc/Pr9lS2SNHjkR1dTVu3Lhh8rOYfCygrKwM7u7uzdrd3NwAQBJXPi05fvw47ty5gxkzZgBoOA7AX3E/zM3NzWaPw7Fjx1BQUIBVq1a1uF1Kcf/xxx8oKSlBfHw8IiIikJSUhODgYOzbtw8bN24EIK14DSZNmoSYmBicO3cOc+bMwbRp0xAbG4ulS5fitddeAyDNuJtqT4ytfe8Z2to6HrLOdJQa1NbWQi6XN2tXKBQAAI1GI3aXulxhYSHeffddjBkzxlj5VVtbCwDNhueAhmNh2G5Lqqqq8MEHH2D58uUt/qIB0oq7pqYGarUab7zxBpYvXw4ACAkJQU1NDT777DOsXLmyzXhtofKrJZ6enhg/fjymT58OFxcXfP/990hKSoKrqyuioqIkdZ5b055zW1tb2+J+hra2jgeTjwU4OTm1OL5pSDqGJCQVZWVlWLFiBZydnbFt2zbY2zdcQDs5OQFAs9JUoOFYGLbbkl27dkEul+PFF19sdR8pxW3oa9PKrVmzZiEjIwO//vqrpOI1SE9Px1tvvYWMjAz0798fQEPSFQQBmzZtQlhYmCTjbqo9MTo5ObW4n6GtrePBYTcLaO2S23AJ29r/mG1RZWUlli1bhsrKSnz44YeNLs8NfzbE/bDWLtG7s9LSUhw4cADR0dEoLy9HcXExiouLodFooNPpUFxcDLVaLam4DbH069evUbvh71KL1+DTTz+Fn5+fMfEYPPfcc6ipqUFOTo4k426qPTG29r1naGvreDD5WICvry+KioqMFTMGV69eNW6XAo1Gg5dffhnXr1/Hnj174O3t3Wi7j48PZDIZrl271qhdq9VCpVK1eLO+O7t79y50Oh0SExMRFBRk/Ll69SoKCwsRFBSEffv2SSpuPz8/AA3PvTyspKQEQEM1kyGepvHeuXMHJSUlNhWvQXl5ubGg4mGGEY26ujpJnefWtOfc+vr64rfffmtWDZmVlYVevXphyJAhJj+LyccCQkNDodPpkJKSYmzTarVITU3F6NGjm/1vyhbV1dVh1apV+OWXX7Bt2zYEBAQ026dv374IDAxEWlpao0SclpaGmpoahIaGitnlTvP09MSOHTua/QwbNgweHh7YsWMHwsPDJRW3oa9HjhwxtgmCgJSUFPTq1QsBAQEYNmwYvL29cfjw4UZf2J999hns7e2ND2TaEi8vL1y7dq1ZhVZ6ejocHBygVColdZ5b055zGxoaitLSUnzzzTfGtnv37iEjIwNBQUEt3gd/GGc4sIABAwagoKAAycnJqK6uRnFxMTZs2IDCwkJs3rwZgwYNsnYXO23Dhg04duwYpk6disGDByM3N9f4U1xcbLwKeuKJJ3Dw4EGcPn0a9fX1yMzMxLZt2zBx4kS8+uqrVo6ifRQKBby9vZv9GJ7nWLt2rXFmB6nE7e7ujuLiYiQnJ6OkpAQlJSXYsWMHfvjhB6xatQoTJkwAAHh4eGD//v34+eefodVqcfToUXzyySdYsGABIiIirBxF+/Xv3x+pqalIT0+HRqNBXl4ekpKS8N1332HBggUICwsDYPvneefOnfjxxx9x6dIl5OXlGUvIc3Nz4e/vD8D8c+vt7Y2zZ8/i8OHD0Ol0yM/PR0JCAiorK7Flyxa4uLiY7Iud0PSaiTpEo9Fg69atOHHiBNRqNZRKJdasWYNnnnnG2l2ziMWLF+PSpUstbvPw8MC3335r/PtPP/2ExMREZGdno0+fPggLC8OaNWvQq1cvsbrbpRYvXoyKigqkpaU1apdK3FqtFjt37sSxY8dQXl4OT09PLFmyBAsXLmy0X2ZmJrZv347CwkK4urpi7ty5eOWVVyCT2WYdU1ZWFpKSkqBSqXD//n14eHhg7ty5eOmllxo9cGnL51mpVLbY3vR32Nxzq1arsWnTJmRmZkKj0WDkyJGIj483Dt+awuRDRESi4z0fIiISHZMPERGJjsmHiIhEx+RDRESiY/IhIiLRMfkQEZHomHyIiEh0TD5ERCQ6Jh8iIhIdkw8REYmOyYeIiETH5ENkQ/R6PRYuXIiAgAAUFhY22nb48GEolUps27bNSr0jMh8nFiWyMTdv3kR4eDgGDRqElJQUODo6Ij8/H/PmzYOfnx8OHjzYaBZmou6IVz5ENsbDwwPvvfcecnJysHHjRtTW1mL16tVQKBRITExk4iGbYJsLbxD1cCEhIYiKikJycjKys7ORn5+PpKQkSSxcSD0Dh92IbJRGo8HMmTNx48YNREZGIiEhwdpdIjIbh92IbFROTg5u374NAMjPz4der7dyj4jMx+RDZIOqqqqwZs0auLi4YPXq1bhy5QqSkpKs3S0is/GeD5ENWrduHW7duoWPP/4YgYGByM7Oxt69exEYGIgJEyZYu3tEbeKVD5GNSUlJwZdffonly5cjMDAQALB+/XoMHDgQsbGx+PPPP63cQ6K2seCAyIYUFhZi7ty58PX1xaFDhyCT/TV4ceXKFSxatAiTJ0/G7t27rdhLorYx+RARkeg47EZERKJj8iEiItEx+RARkeiYfIiISHRMPkREJDomHyIiEh2TDxERiY7Jh4iIRMfkQ0REomPyISIi0f0/HJLqSwTc2YsAAAAASUVORK5CYII=\n",
        "metadata": {
         "tags": []
        },
        "output_type": "display_data",
        "text/plain": "<Figure size 432x288 with 1 Axes>"
       },
       {
        "metadata": {
         "tags": []
        },
        "output_type": "stream",
        "stream": "stdout",
        "text": "The mean squared error (MSE) is: 1331.80 cm2\nThe root mean square (RMSE) is: 36.49 cm\n"
       }
      ]
     }
    }
   }
  }
 },
 "nbformat": 4,
 "nbformat_minor": 4
}
