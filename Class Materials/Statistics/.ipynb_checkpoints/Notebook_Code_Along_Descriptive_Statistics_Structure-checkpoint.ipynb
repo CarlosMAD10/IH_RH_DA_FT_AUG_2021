{
 "cells": [
  {
   "cell_type": "markdown",
   "metadata": {
    "id": "1z3R4YIT3A2w"
   },
   "source": [
    "# Population vs Sample"
   ]
  },
  {
   "cell_type": "markdown",
   "metadata": {
    "id": "Al8_EakY3G6f"
   },
   "source": [
    "Let's explore in this notebook the difference between both. \n",
    "\n",
    "To this end, we're going to generate a random set of 100.000 integers.\n",
    "\n",
    "Then we will try to guess the mean of the total population using SAMPLES taken at random from the population"
   ]
  },
  {
   "cell_type": "code",
   "execution_count": 39,
   "metadata": {
    "executionInfo": {
     "elapsed": 824,
     "status": "ok",
     "timestamp": 1623309425301,
     "user": {
      "displayName": "Ignacio Soteras",
      "photoUrl": "",
      "userId": "02050793736257155229"
     },
     "user_tz": -120
    },
    "id": "e3Qa49M_3hg_"
   },
   "outputs": [],
   "source": [
    "import numpy as np\n",
    "import pandas as pd\n",
    "import matplotlib.pyplot as plt\n",
    "%matplotlib inline"
   ]
  },
  {
   "cell_type": "code",
   "execution_count": 75,
   "metadata": {},
   "outputs": [],
   "source": [
    "population = np.random.choice(1000,100000) # 100K random integer numbers between [0,1000]"
   ]
  },
  {
   "cell_type": "code",
   "execution_count": 76,
   "metadata": {
    "colab": {
     "base_uri": "https://localhost:8080/"
    },
    "executionInfo": {
     "elapsed": 213,
     "status": "ok",
     "timestamp": 1623309680962,
     "user": {
      "displayName": "Ignacio Soteras",
      "photoUrl": "",
      "userId": "02050793736257155229"
     },
     "user_tz": -120
    },
    "id": "W2PP-o5d3mhL",
    "outputId": "7de49090-48ef-4da6-919a-51f9e25fed82"
   },
   "outputs": [
    {
     "name": "stdout",
     "output_type": "stream",
     "text": [
      "Population mean: 499.45\n",
      "Population mean: 499.44726\n",
      "Population mean rounded:  499.45\n"
     ]
    }
   ],
   "source": [
    "np.random.seed(12)\n",
    "population = np.random.choice(1000,100000) # 100K random integer numbers between [0,1000]\n",
    "population.shape\n",
    "\n",
    "population_mean = np.mean(population)\n",
    "print(\"Population mean: {:.2f}\".format(population_mean))\n",
    "print(\"Population mean: {}\".format(population_mean))\n",
    "print(\"Population mean rounded: \",round(population_mean,2))"
   ]
  },
  {
   "cell_type": "markdown",
   "metadata": {
    "id": "DtXMLnKJ4Cbq"
   },
   "source": [
    "*Now* let's take 20 random samples of 1000 picks from this population and see how each sample mean changes.\n",
    "\n",
    "Create a dictionary in which the keys have the name: 'sample_1', 'sample_2',..... and so on. As values, every key should contain the sample of 1000 random numbers from the population"
   ]
  },
  {
   "cell_type": "code",
   "execution_count": 104,
   "metadata": {
    "colab": {
     "base_uri": "https://localhost:8080/"
    },
    "executionInfo": {
     "elapsed": 844,
     "status": "ok",
     "timestamp": 1623310110045,
     "user": {
      "displayName": "Ignacio Soteras",
      "photoUrl": "",
      "userId": "02050793736257155229"
     },
     "user_tz": -120
    },
    "id": "HPnQmWCRzeqZ",
    "outputId": "94d3f829-4f9c-415b-b8ac-0431911ccf22"
   },
   "outputs": [],
   "source": [
    "samples={ 'sample_' + str(numbers): np.random.choice(population,1000).tolist() for numbers in range(20)}"
   ]
  },
  {
   "cell_type": "markdown",
   "metadata": {
    "id": "Te-skRKu5S7m"
   },
   "source": [
    "Now, compute the mean of each sample.\n"
   ]
  },
  {
   "cell_type": "code",
   "execution_count": 107,
   "metadata": {
    "colab": {
     "base_uri": "https://localhost:8080/"
    },
    "executionInfo": {
     "elapsed": 214,
     "status": "ok",
     "timestamp": 1623311495725,
     "user": {
      "displayName": "Ignacio Soteras",
      "photoUrl": "",
      "userId": "02050793736257155229"
     },
     "user_tz": -120
    },
    "id": "UMHev0rz5fcs",
    "outputId": "59e0ac0b-eaf9-4888-a1ab-914a5765ae92"
   },
   "outputs": [
    {
     "name": "stdout",
     "output_type": "stream",
     "text": [
      "Population mean: 499.45\n",
      "Sample sample_0 has a mean of 497.55\n",
      "Sample sample_1 has a mean of 501.312\n",
      "Sample sample_2 has a mean of 503.739\n",
      "Sample sample_3 has a mean of 486.684\n",
      "Sample sample_4 has a mean of 517.572\n",
      "Sample sample_5 has a mean of 505.698\n",
      "Sample sample_6 has a mean of 499.467\n",
      "Sample sample_7 has a mean of 516.251\n",
      "Sample sample_8 has a mean of 500.556\n",
      "Sample sample_9 has a mean of 495.381\n",
      "Sample sample_10 has a mean of 482.617\n",
      "Sample sample_11 has a mean of 494.764\n",
      "Sample sample_12 has a mean of 508.02\n",
      "Sample sample_13 has a mean of 509.044\n",
      "Sample sample_14 has a mean of 502.986\n",
      "Sample sample_15 has a mean of 496.169\n",
      "Sample sample_16 has a mean of 507.804\n",
      "Sample sample_17 has a mean of 501.086\n",
      "Sample sample_18 has a mean of 505.183\n",
      "Sample sample_19 has a mean of 496.718\n"
     ]
    }
   ],
   "source": [
    "print(\"Population mean: {:0.2f}\".format(population_mean))\n",
    "\n",
    "for key, values in samples.items():\n",
    "    print(\"Sample {} has a mean of {}\".format(key,np.mean(values)))"
   ]
  },
  {
   "cell_type": "markdown",
   "metadata": {
    "id": "Wa7ZvMYe2vr2"
   },
   "source": [
    "$\\mu_{1}=x_{1}$\n",
    "\n",
    "$\\mu_{2}=\\frac{x_{1}+x_{2}}{2} = \\frac{x_{1}}{2}+\\frac{x_{2}}{2}=\\frac{\\mu_{1}}{2}+\\frac{x_{2}}{2}$\n",
    "\n",
    "$\\mu_{3}=\\frac{x_{1}+x_{2}+x_{3}}{3}=\\frac{x_{1}+x_{2}}{3}+\\frac{x_{3}}{3}=\\frac{2}{3}\\frac{x_{1}+x_{2}}{2}+\\frac{x_{3}}{3}=\\frac{2}{3}\\mu_{2}+\\frac{x_{3}}{3}$\n",
    "\n",
    "$\\mu_{n}=\\frac{(n-1)}{n}\\mu_{n-1}+\\frac{x_{n}}{n}=\\mu_{n-1}-\\frac{\\mu_{n-1}}{n}+\\frac{x_{n}}{n}$"
   ]
  },
  {
   "cell_type": "markdown",
   "metadata": {
    "id": "t3A5CQM76c8I"
   },
   "source": [
    "Now construct a pandas dataframe with the samples:\n"
   ]
  },
  {
   "cell_type": "code",
   "execution_count": 105,
   "metadata": {
    "colab": {
     "base_uri": "https://localhost:8080/",
     "height": 427
    },
    "executionInfo": {
     "elapsed": 218,
     "status": "ok",
     "timestamp": 1623311614504,
     "user": {
      "displayName": "Ignacio Soteras",
      "photoUrl": "",
      "userId": "02050793736257155229"
     },
     "user_tz": -120
    },
    "id": "ily4V8EF6iFe",
    "outputId": "ab591263-62cb-42b1-9d8b-d18528b86196"
   },
   "outputs": [
    {
     "data": {
      "text/html": [
       "<div>\n",
       "<style scoped>\n",
       "    .dataframe tbody tr th:only-of-type {\n",
       "        vertical-align: middle;\n",
       "    }\n",
       "\n",
       "    .dataframe tbody tr th {\n",
       "        vertical-align: top;\n",
       "    }\n",
       "\n",
       "    .dataframe thead th {\n",
       "        text-align: right;\n",
       "    }\n",
       "</style>\n",
       "<table border=\"1\" class=\"dataframe\">\n",
       "  <thead>\n",
       "    <tr style=\"text-align: right;\">\n",
       "      <th></th>\n",
       "      <th>sample_0</th>\n",
       "      <th>sample_1</th>\n",
       "      <th>sample_2</th>\n",
       "      <th>sample_3</th>\n",
       "      <th>sample_4</th>\n",
       "      <th>sample_5</th>\n",
       "      <th>sample_6</th>\n",
       "      <th>sample_7</th>\n",
       "      <th>sample_8</th>\n",
       "      <th>sample_9</th>\n",
       "      <th>sample_10</th>\n",
       "      <th>sample_11</th>\n",
       "      <th>sample_12</th>\n",
       "      <th>sample_13</th>\n",
       "      <th>sample_14</th>\n",
       "      <th>sample_15</th>\n",
       "      <th>sample_16</th>\n",
       "      <th>sample_17</th>\n",
       "      <th>sample_18</th>\n",
       "      <th>sample_19</th>\n",
       "    </tr>\n",
       "  </thead>\n",
       "  <tbody>\n",
       "    <tr>\n",
       "      <th>0</th>\n",
       "      <td>820</td>\n",
       "      <td>343</td>\n",
       "      <td>297</td>\n",
       "      <td>397</td>\n",
       "      <td>861</td>\n",
       "      <td>859</td>\n",
       "      <td>472</td>\n",
       "      <td>434</td>\n",
       "      <td>499</td>\n",
       "      <td>216</td>\n",
       "      <td>109</td>\n",
       "      <td>831</td>\n",
       "      <td>104</td>\n",
       "      <td>4</td>\n",
       "      <td>628</td>\n",
       "      <td>109</td>\n",
       "      <td>224</td>\n",
       "      <td>415</td>\n",
       "      <td>792</td>\n",
       "      <td>242</td>\n",
       "    </tr>\n",
       "    <tr>\n",
       "      <th>1</th>\n",
       "      <td>420</td>\n",
       "      <td>95</td>\n",
       "      <td>222</td>\n",
       "      <td>22</td>\n",
       "      <td>905</td>\n",
       "      <td>285</td>\n",
       "      <td>49</td>\n",
       "      <td>748</td>\n",
       "      <td>444</td>\n",
       "      <td>820</td>\n",
       "      <td>989</td>\n",
       "      <td>531</td>\n",
       "      <td>197</td>\n",
       "      <td>408</td>\n",
       "      <td>416</td>\n",
       "      <td>485</td>\n",
       "      <td>257</td>\n",
       "      <td>197</td>\n",
       "      <td>473</td>\n",
       "      <td>588</td>\n",
       "    </tr>\n",
       "    <tr>\n",
       "      <th>2</th>\n",
       "      <td>523</td>\n",
       "      <td>887</td>\n",
       "      <td>604</td>\n",
       "      <td>335</td>\n",
       "      <td>329</td>\n",
       "      <td>89</td>\n",
       "      <td>447</td>\n",
       "      <td>42</td>\n",
       "      <td>118</td>\n",
       "      <td>624</td>\n",
       "      <td>123</td>\n",
       "      <td>140</td>\n",
       "      <td>821</td>\n",
       "      <td>358</td>\n",
       "      <td>802</td>\n",
       "      <td>717</td>\n",
       "      <td>939</td>\n",
       "      <td>295</td>\n",
       "      <td>565</td>\n",
       "      <td>447</td>\n",
       "    </tr>\n",
       "    <tr>\n",
       "      <th>3</th>\n",
       "      <td>616</td>\n",
       "      <td>113</td>\n",
       "      <td>211</td>\n",
       "      <td>458</td>\n",
       "      <td>889</td>\n",
       "      <td>368</td>\n",
       "      <td>370</td>\n",
       "      <td>567</td>\n",
       "      <td>331</td>\n",
       "      <td>405</td>\n",
       "      <td>201</td>\n",
       "      <td>487</td>\n",
       "      <td>403</td>\n",
       "      <td>374</td>\n",
       "      <td>778</td>\n",
       "      <td>948</td>\n",
       "      <td>480</td>\n",
       "      <td>26</td>\n",
       "      <td>256</td>\n",
       "      <td>81</td>\n",
       "    </tr>\n",
       "    <tr>\n",
       "      <th>4</th>\n",
       "      <td>329</td>\n",
       "      <td>341</td>\n",
       "      <td>1</td>\n",
       "      <td>660</td>\n",
       "      <td>735</td>\n",
       "      <td>519</td>\n",
       "      <td>33</td>\n",
       "      <td>235</td>\n",
       "      <td>563</td>\n",
       "      <td>659</td>\n",
       "      <td>159</td>\n",
       "      <td>343</td>\n",
       "      <td>333</td>\n",
       "      <td>128</td>\n",
       "      <td>565</td>\n",
       "      <td>629</td>\n",
       "      <td>102</td>\n",
       "      <td>22</td>\n",
       "      <td>700</td>\n",
       "      <td>857</td>\n",
       "    </tr>\n",
       "    <tr>\n",
       "      <th>...</th>\n",
       "      <td>...</td>\n",
       "      <td>...</td>\n",
       "      <td>...</td>\n",
       "      <td>...</td>\n",
       "      <td>...</td>\n",
       "      <td>...</td>\n",
       "      <td>...</td>\n",
       "      <td>...</td>\n",
       "      <td>...</td>\n",
       "      <td>...</td>\n",
       "      <td>...</td>\n",
       "      <td>...</td>\n",
       "      <td>...</td>\n",
       "      <td>...</td>\n",
       "      <td>...</td>\n",
       "      <td>...</td>\n",
       "      <td>...</td>\n",
       "      <td>...</td>\n",
       "      <td>...</td>\n",
       "      <td>...</td>\n",
       "    </tr>\n",
       "    <tr>\n",
       "      <th>995</th>\n",
       "      <td>209</td>\n",
       "      <td>750</td>\n",
       "      <td>35</td>\n",
       "      <td>273</td>\n",
       "      <td>933</td>\n",
       "      <td>783</td>\n",
       "      <td>981</td>\n",
       "      <td>911</td>\n",
       "      <td>12</td>\n",
       "      <td>608</td>\n",
       "      <td>479</td>\n",
       "      <td>583</td>\n",
       "      <td>388</td>\n",
       "      <td>204</td>\n",
       "      <td>970</td>\n",
       "      <td>14</td>\n",
       "      <td>231</td>\n",
       "      <td>33</td>\n",
       "      <td>665</td>\n",
       "      <td>886</td>\n",
       "    </tr>\n",
       "    <tr>\n",
       "      <th>996</th>\n",
       "      <td>69</td>\n",
       "      <td>568</td>\n",
       "      <td>959</td>\n",
       "      <td>571</td>\n",
       "      <td>830</td>\n",
       "      <td>885</td>\n",
       "      <td>868</td>\n",
       "      <td>442</td>\n",
       "      <td>730</td>\n",
       "      <td>369</td>\n",
       "      <td>305</td>\n",
       "      <td>728</td>\n",
       "      <td>61</td>\n",
       "      <td>719</td>\n",
       "      <td>409</td>\n",
       "      <td>808</td>\n",
       "      <td>334</td>\n",
       "      <td>884</td>\n",
       "      <td>350</td>\n",
       "      <td>384</td>\n",
       "    </tr>\n",
       "    <tr>\n",
       "      <th>997</th>\n",
       "      <td>459</td>\n",
       "      <td>204</td>\n",
       "      <td>513</td>\n",
       "      <td>649</td>\n",
       "      <td>363</td>\n",
       "      <td>949</td>\n",
       "      <td>262</td>\n",
       "      <td>213</td>\n",
       "      <td>49</td>\n",
       "      <td>49</td>\n",
       "      <td>840</td>\n",
       "      <td>11</td>\n",
       "      <td>593</td>\n",
       "      <td>708</td>\n",
       "      <td>475</td>\n",
       "      <td>615</td>\n",
       "      <td>938</td>\n",
       "      <td>915</td>\n",
       "      <td>35</td>\n",
       "      <td>358</td>\n",
       "    </tr>\n",
       "    <tr>\n",
       "      <th>998</th>\n",
       "      <td>665</td>\n",
       "      <td>107</td>\n",
       "      <td>330</td>\n",
       "      <td>345</td>\n",
       "      <td>675</td>\n",
       "      <td>217</td>\n",
       "      <td>288</td>\n",
       "      <td>223</td>\n",
       "      <td>776</td>\n",
       "      <td>238</td>\n",
       "      <td>224</td>\n",
       "      <td>918</td>\n",
       "      <td>717</td>\n",
       "      <td>450</td>\n",
       "      <td>286</td>\n",
       "      <td>590</td>\n",
       "      <td>907</td>\n",
       "      <td>937</td>\n",
       "      <td>57</td>\n",
       "      <td>401</td>\n",
       "    </tr>\n",
       "    <tr>\n",
       "      <th>999</th>\n",
       "      <td>807</td>\n",
       "      <td>559</td>\n",
       "      <td>209</td>\n",
       "      <td>898</td>\n",
       "      <td>189</td>\n",
       "      <td>553</td>\n",
       "      <td>396</td>\n",
       "      <td>216</td>\n",
       "      <td>107</td>\n",
       "      <td>56</td>\n",
       "      <td>290</td>\n",
       "      <td>639</td>\n",
       "      <td>306</td>\n",
       "      <td>302</td>\n",
       "      <td>159</td>\n",
       "      <td>727</td>\n",
       "      <td>140</td>\n",
       "      <td>254</td>\n",
       "      <td>618</td>\n",
       "      <td>454</td>\n",
       "    </tr>\n",
       "  </tbody>\n",
       "</table>\n",
       "<p>1000 rows × 20 columns</p>\n",
       "</div>"
      ],
      "text/plain": [
       "     sample_0  sample_1  sample_2  sample_3  sample_4  sample_5  sample_6  \\\n",
       "0         820       343       297       397       861       859       472   \n",
       "1         420        95       222        22       905       285        49   \n",
       "2         523       887       604       335       329        89       447   \n",
       "3         616       113       211       458       889       368       370   \n",
       "4         329       341         1       660       735       519        33   \n",
       "..        ...       ...       ...       ...       ...       ...       ...   \n",
       "995       209       750        35       273       933       783       981   \n",
       "996        69       568       959       571       830       885       868   \n",
       "997       459       204       513       649       363       949       262   \n",
       "998       665       107       330       345       675       217       288   \n",
       "999       807       559       209       898       189       553       396   \n",
       "\n",
       "     sample_7  sample_8  sample_9  sample_10  sample_11  sample_12  sample_13  \\\n",
       "0         434       499       216        109        831        104          4   \n",
       "1         748       444       820        989        531        197        408   \n",
       "2          42       118       624        123        140        821        358   \n",
       "3         567       331       405        201        487        403        374   \n",
       "4         235       563       659        159        343        333        128   \n",
       "..        ...       ...       ...        ...        ...        ...        ...   \n",
       "995       911        12       608        479        583        388        204   \n",
       "996       442       730       369        305        728         61        719   \n",
       "997       213        49        49        840         11        593        708   \n",
       "998       223       776       238        224        918        717        450   \n",
       "999       216       107        56        290        639        306        302   \n",
       "\n",
       "     sample_14  sample_15  sample_16  sample_17  sample_18  sample_19  \n",
       "0          628        109        224        415        792        242  \n",
       "1          416        485        257        197        473        588  \n",
       "2          802        717        939        295        565        447  \n",
       "3          778        948        480         26        256         81  \n",
       "4          565        629        102         22        700        857  \n",
       "..         ...        ...        ...        ...        ...        ...  \n",
       "995        970         14        231         33        665        886  \n",
       "996        409        808        334        884        350        384  \n",
       "997        475        615        938        915         35        358  \n",
       "998        286        590        907        937         57        401  \n",
       "999        159        727        140        254        618        454  \n",
       "\n",
       "[1000 rows x 20 columns]"
      ]
     },
     "execution_count": 105,
     "metadata": {},
     "output_type": "execute_result"
    }
   ],
   "source": [
    "df = pd.DataFrame(samples)\n",
    "df"
   ]
  },
  {
   "cell_type": "code",
   "execution_count": 108,
   "metadata": {
    "colab": {
     "base_uri": "https://localhost:8080/"
    },
    "executionInfo": {
     "elapsed": 230,
     "status": "ok",
     "timestamp": 1623311759397,
     "user": {
      "displayName": "Ignacio Soteras",
      "photoUrl": "",
      "userId": "02050793736257155229"
     },
     "user_tz": -120
    },
    "id": "9AxHu6YP6xzq",
    "outputId": "8ed52e0a-0d7c-4557-bdd3-a67cbd7ad0f5"
   },
   "outputs": [
    {
     "data": {
      "text/plain": [
       "sample_0     497.550\n",
       "sample_1     501.312\n",
       "sample_2     503.739\n",
       "sample_3     486.684\n",
       "sample_4     517.572\n",
       "sample_5     505.698\n",
       "sample_6     499.467\n",
       "sample_7     516.251\n",
       "sample_8     500.556\n",
       "sample_9     495.381\n",
       "sample_10    482.617\n",
       "sample_11    494.764\n",
       "sample_12    508.020\n",
       "sample_13    509.044\n",
       "sample_14    502.986\n",
       "sample_15    496.169\n",
       "sample_16    507.804\n",
       "sample_17    501.086\n",
       "sample_18    505.183\n",
       "sample_19    496.718\n",
       "Name: mean, dtype: float64"
      ]
     },
     "execution_count": 108,
     "metadata": {},
     "output_type": "execute_result"
    }
   ],
   "source": [
    "df.describe().loc[\"mean\"]"
   ]
  },
  {
   "cell_type": "markdown",
   "metadata": {
    "id": "3m2f7MCP6wWS"
   },
   "source": [
    "Now compute the means of each sample using \"apply\""
   ]
  },
  {
   "cell_type": "code",
   "execution_count": 10,
   "metadata": {
    "colab": {
     "base_uri": "https://localhost:8080/"
    },
    "executionInfo": {
     "elapsed": 220,
     "status": "ok",
     "timestamp": 1623311819818,
     "user": {
      "displayName": "Ignacio Soteras",
      "photoUrl": "",
      "userId": "02050793736257155229"
     },
     "user_tz": -120
    },
    "id": "7BkxE3uT68OI",
    "outputId": "bda7dd81-0d5d-489f-c666-398afb684557"
   },
   "outputs": [
    {
     "name": "stdout",
     "output_type": "stream",
     "text": [
      "sample_1     501.027\n",
      "sample_2     514.763\n",
      "sample_3     491.291\n",
      "sample_4     497.368\n",
      "sample_5     497.351\n",
      "sample_6     513.339\n",
      "sample_7     492.236\n",
      "sample_8     504.927\n",
      "sample_9     490.754\n",
      "sample_10    501.320\n",
      "sample_11    508.258\n",
      "sample_12    502.411\n",
      "sample_13    505.142\n",
      "sample_14    490.346\n",
      "sample_15    491.158\n",
      "sample_16    499.204\n",
      "sample_17    483.495\n",
      "sample_18    509.226\n",
      "sample_19    499.002\n",
      "sample_20    499.738\n",
      "dtype: float64\n"
     ]
    }
   ],
   "source": [
    "result = df.apply(np.mean)\n",
    "print(result)"
   ]
  },
  {
   "cell_type": "markdown",
   "metadata": {
    "id": "LBr9ihLT7HxZ"
   },
   "source": [
    "Check the type of the previous object"
   ]
  },
  {
   "cell_type": "code",
   "execution_count": 11,
   "metadata": {
    "colab": {
     "base_uri": "https://localhost:8080/"
    },
    "executionInfo": {
     "elapsed": 207,
     "status": "ok",
     "timestamp": 1623311846101,
     "user": {
      "displayName": "Ignacio Soteras",
      "photoUrl": "",
      "userId": "02050793736257155229"
     },
     "user_tz": -120
    },
    "id": "VFXfF01s7Mqi",
    "outputId": "6c7f4ff2-39c4-4090-c75a-f4de520dd685"
   },
   "outputs": [
    {
     "data": {
      "text/plain": [
       "pandas.core.series.Series"
      ]
     },
     "execution_count": 11,
     "metadata": {},
     "output_type": "execute_result"
    }
   ],
   "source": [
    "type(result)"
   ]
  },
  {
   "cell_type": "markdown",
   "metadata": {
    "id": "iWwOULKH7WvZ"
   },
   "source": [
    "Use the previous `result` to create another dataframe in which the columns are the samples names and the row contains the mean of the sample using `transpose()`"
   ]
  },
  {
   "cell_type": "code",
   "execution_count": 12,
   "metadata": {
    "colab": {
     "base_uri": "https://localhost:8080/",
     "height": 98
    },
    "executionInfo": {
     "elapsed": 218,
     "status": "ok",
     "timestamp": 1623311958744,
     "user": {
      "displayName": "Ignacio Soteras",
      "photoUrl": "",
      "userId": "02050793736257155229"
     },
     "user_tz": -120
    },
    "id": "0b25quj87Z2a",
    "outputId": "66891cc2-0f79-4364-d47b-ac34057bd9b8"
   },
   "outputs": [
    {
     "data": {
      "text/html": [
       "<div>\n",
       "<style scoped>\n",
       "    .dataframe tbody tr th:only-of-type {\n",
       "        vertical-align: middle;\n",
       "    }\n",
       "\n",
       "    .dataframe tbody tr th {\n",
       "        vertical-align: top;\n",
       "    }\n",
       "\n",
       "    .dataframe thead th {\n",
       "        text-align: right;\n",
       "    }\n",
       "</style>\n",
       "<table border=\"1\" class=\"dataframe\">\n",
       "  <thead>\n",
       "    <tr style=\"text-align: right;\">\n",
       "      <th></th>\n",
       "      <th>sample_1</th>\n",
       "      <th>sample_2</th>\n",
       "      <th>sample_3</th>\n",
       "      <th>sample_4</th>\n",
       "      <th>sample_5</th>\n",
       "      <th>sample_6</th>\n",
       "      <th>sample_7</th>\n",
       "      <th>sample_8</th>\n",
       "      <th>sample_9</th>\n",
       "      <th>sample_10</th>\n",
       "      <th>sample_11</th>\n",
       "      <th>sample_12</th>\n",
       "      <th>sample_13</th>\n",
       "      <th>sample_14</th>\n",
       "      <th>sample_15</th>\n",
       "      <th>sample_16</th>\n",
       "      <th>sample_17</th>\n",
       "      <th>sample_18</th>\n",
       "      <th>sample_19</th>\n",
       "      <th>sample_20</th>\n",
       "    </tr>\n",
       "  </thead>\n",
       "  <tbody>\n",
       "    <tr>\n",
       "      <th>0</th>\n",
       "      <td>501.027</td>\n",
       "      <td>514.763</td>\n",
       "      <td>491.291</td>\n",
       "      <td>497.368</td>\n",
       "      <td>497.351</td>\n",
       "      <td>513.339</td>\n",
       "      <td>492.236</td>\n",
       "      <td>504.927</td>\n",
       "      <td>490.754</td>\n",
       "      <td>501.32</td>\n",
       "      <td>508.258</td>\n",
       "      <td>502.411</td>\n",
       "      <td>505.142</td>\n",
       "      <td>490.346</td>\n",
       "      <td>491.158</td>\n",
       "      <td>499.204</td>\n",
       "      <td>483.495</td>\n",
       "      <td>509.226</td>\n",
       "      <td>499.002</td>\n",
       "      <td>499.738</td>\n",
       "    </tr>\n",
       "  </tbody>\n",
       "</table>\n",
       "</div>"
      ],
      "text/plain": [
       "   sample_1  sample_2  sample_3  sample_4  sample_5  sample_6  sample_7  \\\n",
       "0   501.027   514.763   491.291   497.368   497.351   513.339   492.236   \n",
       "\n",
       "   sample_8  sample_9  sample_10  sample_11  sample_12  sample_13  sample_14  \\\n",
       "0   504.927   490.754     501.32    508.258    502.411    505.142    490.346   \n",
       "\n",
       "   sample_15  sample_16  sample_17  sample_18  sample_19  sample_20  \n",
       "0    491.158    499.204    483.495    509.226    499.002    499.738  "
      ]
     },
     "execution_count": 12,
     "metadata": {},
     "output_type": "execute_result"
    }
   ],
   "source": [
    "means = pd.DataFrame(result).transpose()\n",
    "means"
   ]
  },
  {
   "cell_type": "markdown",
   "metadata": {
    "id": "X5WY4jxC9EEv"
   },
   "source": [
    "Add another column to the previous dataframe called 'population_mean' which contain the mean of the population"
   ]
  },
  {
   "cell_type": "code",
   "execution_count": 109,
   "metadata": {
    "colab": {
     "base_uri": "https://localhost:8080/",
     "height": 98
    },
    "executionInfo": {
     "elapsed": 222,
     "status": "ok",
     "timestamp": 1623312007914,
     "user": {
      "displayName": "Ignacio Soteras",
      "photoUrl": "",
      "userId": "02050793736257155229"
     },
     "user_tz": -120
    },
    "id": "hgH2El0z9Q9w",
    "outputId": "32dd6a32-d644-4c88-ff81-bf79717389c7"
   },
   "outputs": [
    {
     "data": {
      "text/html": [
       "<div>\n",
       "<style scoped>\n",
       "    .dataframe tbody tr th:only-of-type {\n",
       "        vertical-align: middle;\n",
       "    }\n",
       "\n",
       "    .dataframe tbody tr th {\n",
       "        vertical-align: top;\n",
       "    }\n",
       "\n",
       "    .dataframe thead th {\n",
       "        text-align: right;\n",
       "    }\n",
       "</style>\n",
       "<table border=\"1\" class=\"dataframe\">\n",
       "  <thead>\n",
       "    <tr style=\"text-align: right;\">\n",
       "      <th></th>\n",
       "      <th>sample_1</th>\n",
       "      <th>sample_2</th>\n",
       "      <th>sample_3</th>\n",
       "      <th>sample_4</th>\n",
       "      <th>sample_5</th>\n",
       "      <th>sample_6</th>\n",
       "      <th>sample_7</th>\n",
       "      <th>sample_8</th>\n",
       "      <th>sample_9</th>\n",
       "      <th>sample_10</th>\n",
       "      <th>...</th>\n",
       "      <th>sample_12</th>\n",
       "      <th>sample_13</th>\n",
       "      <th>sample_14</th>\n",
       "      <th>sample_15</th>\n",
       "      <th>sample_16</th>\n",
       "      <th>sample_17</th>\n",
       "      <th>sample_18</th>\n",
       "      <th>sample_19</th>\n",
       "      <th>sample_20</th>\n",
       "      <th>population_mean</th>\n",
       "    </tr>\n",
       "  </thead>\n",
       "  <tbody>\n",
       "    <tr>\n",
       "      <th>0</th>\n",
       "      <td>501.027</td>\n",
       "      <td>514.763</td>\n",
       "      <td>491.291</td>\n",
       "      <td>497.368</td>\n",
       "      <td>497.351</td>\n",
       "      <td>513.339</td>\n",
       "      <td>492.236</td>\n",
       "      <td>504.927</td>\n",
       "      <td>490.754</td>\n",
       "      <td>501.32</td>\n",
       "      <td>...</td>\n",
       "      <td>502.411</td>\n",
       "      <td>505.142</td>\n",
       "      <td>490.346</td>\n",
       "      <td>491.158</td>\n",
       "      <td>499.204</td>\n",
       "      <td>483.495</td>\n",
       "      <td>509.226</td>\n",
       "      <td>499.002</td>\n",
       "      <td>499.738</td>\n",
       "      <td>499.44726</td>\n",
       "    </tr>\n",
       "  </tbody>\n",
       "</table>\n",
       "<p>1 rows × 21 columns</p>\n",
       "</div>"
      ],
      "text/plain": [
       "   sample_1  sample_2  sample_3  sample_4  sample_5  sample_6  sample_7  \\\n",
       "0   501.027   514.763   491.291   497.368   497.351   513.339   492.236   \n",
       "\n",
       "   sample_8  sample_9  sample_10  ...  sample_12  sample_13  sample_14  \\\n",
       "0   504.927   490.754     501.32  ...    502.411    505.142    490.346   \n",
       "\n",
       "   sample_15  sample_16  sample_17  sample_18  sample_19  sample_20  \\\n",
       "0    491.158    499.204    483.495    509.226    499.002    499.738   \n",
       "\n",
       "   population_mean  \n",
       "0        499.44726  \n",
       "\n",
       "[1 rows x 21 columns]"
      ]
     },
     "execution_count": 109,
     "metadata": {},
     "output_type": "execute_result"
    }
   ],
   "source": [
    "means['population_mean'] = population_mean\n",
    "means"
   ]
  },
  {
   "cell_type": "markdown",
   "metadata": {
    "id": "hKuo5s6i9m8b"
   },
   "source": [
    "Add another row to the dataframe with the deviations from the population mean using the following steps:\n",
    "\n",
    "1. Compute the difference between `result` and `population_mean`\n",
    "2. Create a dataframe with the previous output.\n",
    "3. Transpose the resulting dataframe.\n",
    "3. Concat both dataframes."
   ]
  },
  {
   "cell_type": "code",
   "execution_count": 14,
   "metadata": {
    "colab": {
     "base_uri": "https://localhost:8080/"
    },
    "executionInfo": {
     "elapsed": 220,
     "status": "ok",
     "timestamp": 1623312077227,
     "user": {
      "displayName": "Ignacio Soteras",
      "photoUrl": "",
      "userId": "02050793736257155229"
     },
     "user_tz": -120
    },
    "id": "aRY9IwQy90Ny",
    "outputId": "357c4799-863a-4481-981b-71bec60b6cc8"
   },
   "outputs": [
    {
     "data": {
      "text/plain": [
       "sample_1     -1.57974\n",
       "sample_2    -15.31574\n",
       "sample_3      8.15626\n",
       "sample_4      2.07926\n",
       "sample_5      2.09626\n",
       "sample_6    -13.89174\n",
       "sample_7      7.21126\n",
       "sample_8     -5.47974\n",
       "sample_9      8.69326\n",
       "sample_10    -1.87274\n",
       "sample_11    -8.81074\n",
       "sample_12    -2.96374\n",
       "sample_13    -5.69474\n",
       "sample_14     9.10126\n",
       "sample_15     8.28926\n",
       "sample_16     0.24326\n",
       "sample_17    15.95226\n",
       "sample_18    -9.77874\n",
       "sample_19     0.44526\n",
       "sample_20    -0.29074\n",
       "dtype: float64"
      ]
     },
     "execution_count": 14,
     "metadata": {},
     "output_type": "execute_result"
    }
   ],
   "source": [
    "population_mean -result"
   ]
  },
  {
   "cell_type": "code",
   "execution_count": 15,
   "metadata": {
    "colab": {
     "base_uri": "https://localhost:8080/",
     "height": 98
    },
    "executionInfo": {
     "elapsed": 329,
     "status": "ok",
     "timestamp": 1623312130742,
     "user": {
      "displayName": "Ignacio Soteras",
      "photoUrl": "",
      "userId": "02050793736257155229"
     },
     "user_tz": -120
    },
    "id": "uSvU_YpA_Zpo",
    "outputId": "a2cc8460-3cb8-4618-cd6d-58a7ce61adec"
   },
   "outputs": [
    {
     "data": {
      "text/html": [
       "<div>\n",
       "<style scoped>\n",
       "    .dataframe tbody tr th:only-of-type {\n",
       "        vertical-align: middle;\n",
       "    }\n",
       "\n",
       "    .dataframe tbody tr th {\n",
       "        vertical-align: top;\n",
       "    }\n",
       "\n",
       "    .dataframe thead th {\n",
       "        text-align: right;\n",
       "    }\n",
       "</style>\n",
       "<table border=\"1\" class=\"dataframe\">\n",
       "  <thead>\n",
       "    <tr style=\"text-align: right;\">\n",
       "      <th></th>\n",
       "      <th>sample_1</th>\n",
       "      <th>sample_2</th>\n",
       "      <th>sample_3</th>\n",
       "      <th>sample_4</th>\n",
       "      <th>sample_5</th>\n",
       "      <th>sample_6</th>\n",
       "      <th>sample_7</th>\n",
       "      <th>sample_8</th>\n",
       "      <th>sample_9</th>\n",
       "      <th>sample_10</th>\n",
       "      <th>sample_11</th>\n",
       "      <th>sample_12</th>\n",
       "      <th>sample_13</th>\n",
       "      <th>sample_14</th>\n",
       "      <th>sample_15</th>\n",
       "      <th>sample_16</th>\n",
       "      <th>sample_17</th>\n",
       "      <th>sample_18</th>\n",
       "      <th>sample_19</th>\n",
       "      <th>sample_20</th>\n",
       "    </tr>\n",
       "  </thead>\n",
       "  <tbody>\n",
       "    <tr>\n",
       "      <th>0</th>\n",
       "      <td>-1.57974</td>\n",
       "      <td>-15.31574</td>\n",
       "      <td>8.15626</td>\n",
       "      <td>2.07926</td>\n",
       "      <td>2.09626</td>\n",
       "      <td>-13.89174</td>\n",
       "      <td>7.21126</td>\n",
       "      <td>-5.47974</td>\n",
       "      <td>8.69326</td>\n",
       "      <td>-1.87274</td>\n",
       "      <td>-8.81074</td>\n",
       "      <td>-2.96374</td>\n",
       "      <td>-5.69474</td>\n",
       "      <td>9.10126</td>\n",
       "      <td>8.28926</td>\n",
       "      <td>0.24326</td>\n",
       "      <td>15.95226</td>\n",
       "      <td>-9.77874</td>\n",
       "      <td>0.44526</td>\n",
       "      <td>-0.29074</td>\n",
       "    </tr>\n",
       "  </tbody>\n",
       "</table>\n",
       "</div>"
      ],
      "text/plain": [
       "   sample_1  sample_2  sample_3  sample_4  sample_5  sample_6  sample_7  \\\n",
       "0  -1.57974 -15.31574   8.15626   2.07926   2.09626 -13.89174   7.21126   \n",
       "\n",
       "   sample_8  sample_9  sample_10  sample_11  sample_12  sample_13  sample_14  \\\n",
       "0  -5.47974   8.69326   -1.87274   -8.81074   -2.96374   -5.69474    9.10126   \n",
       "\n",
       "   sample_15  sample_16  sample_17  sample_18  sample_19  sample_20  \n",
       "0    8.28926    0.24326   15.95226   -9.77874    0.44526   -0.29074  "
      ]
     },
     "execution_count": 15,
     "metadata": {},
     "output_type": "execute_result"
    }
   ],
   "source": [
    "new_df = pd.DataFrame( population_mean - result ).transpose()\n",
    "new_df"
   ]
  },
  {
   "cell_type": "markdown",
   "metadata": {
    "id": "_FRLo356Ps8S"
   },
   "source": [
    "Use `pd.concat` in order to add the previous dataframe as another row to `final`. Remember to reset the index."
   ]
  },
  {
   "cell_type": "code",
   "execution_count": 16,
   "metadata": {
    "colab": {
     "base_uri": "https://localhost:8080/",
     "height": 128
    },
    "executionInfo": {
     "elapsed": 233,
     "status": "ok",
     "timestamp": 1623312268330,
     "user": {
      "displayName": "Ignacio Soteras",
      "photoUrl": "",
      "userId": "02050793736257155229"
     },
     "user_tz": -120
    },
    "id": "ux-YuBEM_muk",
    "outputId": "94faf5be-8eae-4be2-dcf2-45a1066d2fda"
   },
   "outputs": [
    {
     "data": {
      "text/html": [
       "<div>\n",
       "<style scoped>\n",
       "    .dataframe tbody tr th:only-of-type {\n",
       "        vertical-align: middle;\n",
       "    }\n",
       "\n",
       "    .dataframe tbody tr th {\n",
       "        vertical-align: top;\n",
       "    }\n",
       "\n",
       "    .dataframe thead th {\n",
       "        text-align: right;\n",
       "    }\n",
       "</style>\n",
       "<table border=\"1\" class=\"dataframe\">\n",
       "  <thead>\n",
       "    <tr style=\"text-align: right;\">\n",
       "      <th></th>\n",
       "      <th>sample_1</th>\n",
       "      <th>sample_2</th>\n",
       "      <th>sample_3</th>\n",
       "      <th>sample_4</th>\n",
       "      <th>sample_5</th>\n",
       "      <th>sample_6</th>\n",
       "      <th>sample_7</th>\n",
       "      <th>sample_8</th>\n",
       "      <th>sample_9</th>\n",
       "      <th>sample_10</th>\n",
       "      <th>...</th>\n",
       "      <th>sample_12</th>\n",
       "      <th>sample_13</th>\n",
       "      <th>sample_14</th>\n",
       "      <th>sample_15</th>\n",
       "      <th>sample_16</th>\n",
       "      <th>sample_17</th>\n",
       "      <th>sample_18</th>\n",
       "      <th>sample_19</th>\n",
       "      <th>sample_20</th>\n",
       "      <th>population_mean</th>\n",
       "    </tr>\n",
       "  </thead>\n",
       "  <tbody>\n",
       "    <tr>\n",
       "      <th>0</th>\n",
       "      <td>501.02700</td>\n",
       "      <td>514.76300</td>\n",
       "      <td>491.29100</td>\n",
       "      <td>497.36800</td>\n",
       "      <td>497.35100</td>\n",
       "      <td>513.33900</td>\n",
       "      <td>492.23600</td>\n",
       "      <td>504.92700</td>\n",
       "      <td>490.75400</td>\n",
       "      <td>501.32000</td>\n",
       "      <td>...</td>\n",
       "      <td>502.41100</td>\n",
       "      <td>505.14200</td>\n",
       "      <td>490.34600</td>\n",
       "      <td>491.15800</td>\n",
       "      <td>499.20400</td>\n",
       "      <td>483.49500</td>\n",
       "      <td>509.22600</td>\n",
       "      <td>499.00200</td>\n",
       "      <td>499.73800</td>\n",
       "      <td>499.44726</td>\n",
       "    </tr>\n",
       "    <tr>\n",
       "      <th>1</th>\n",
       "      <td>-1.57974</td>\n",
       "      <td>-15.31574</td>\n",
       "      <td>8.15626</td>\n",
       "      <td>2.07926</td>\n",
       "      <td>2.09626</td>\n",
       "      <td>-13.89174</td>\n",
       "      <td>7.21126</td>\n",
       "      <td>-5.47974</td>\n",
       "      <td>8.69326</td>\n",
       "      <td>-1.87274</td>\n",
       "      <td>...</td>\n",
       "      <td>-2.96374</td>\n",
       "      <td>-5.69474</td>\n",
       "      <td>9.10126</td>\n",
       "      <td>8.28926</td>\n",
       "      <td>0.24326</td>\n",
       "      <td>15.95226</td>\n",
       "      <td>-9.77874</td>\n",
       "      <td>0.44526</td>\n",
       "      <td>-0.29074</td>\n",
       "      <td>NaN</td>\n",
       "    </tr>\n",
       "  </tbody>\n",
       "</table>\n",
       "<p>2 rows × 21 columns</p>\n",
       "</div>"
      ],
      "text/plain": [
       "    sample_1   sample_2   sample_3   sample_4   sample_5   sample_6  \\\n",
       "0  501.02700  514.76300  491.29100  497.36800  497.35100  513.33900   \n",
       "1   -1.57974  -15.31574    8.15626    2.07926    2.09626  -13.89174   \n",
       "\n",
       "    sample_7   sample_8   sample_9  sample_10  ...  sample_12  sample_13  \\\n",
       "0  492.23600  504.92700  490.75400  501.32000  ...  502.41100  505.14200   \n",
       "1    7.21126   -5.47974    8.69326   -1.87274  ...   -2.96374   -5.69474   \n",
       "\n",
       "   sample_14  sample_15  sample_16  sample_17  sample_18  sample_19  \\\n",
       "0  490.34600  491.15800  499.20400  483.49500  509.22600  499.00200   \n",
       "1    9.10126    8.28926    0.24326   15.95226   -9.77874    0.44526   \n",
       "\n",
       "   sample_20  population_mean  \n",
       "0  499.73800        499.44726  \n",
       "1   -0.29074              NaN  \n",
       "\n",
       "[2 rows x 21 columns]"
      ]
     },
     "execution_count": 16,
     "metadata": {},
     "output_type": "execute_result"
    }
   ],
   "source": [
    "final = pd.concat([means, new_df],axis=0).reset_index(drop=True)\n",
    "final"
   ]
  },
  {
   "cell_type": "markdown",
   "metadata": {
    "id": "QTbuep_sHxgN"
   },
   "source": [
    "Let's obtain some basic plots"
   ]
  },
  {
   "cell_type": "code",
   "execution_count": 19,
   "metadata": {
    "colab": {
     "base_uri": "https://localhost:8080/",
     "height": 286
    },
    "executionInfo": {
     "elapsed": 375,
     "status": "ok",
     "timestamp": 1623312327470,
     "user": {
      "displayName": "Ignacio Soteras",
      "photoUrl": "",
      "userId": "02050793736257155229"
     },
     "user_tz": -120
    },
    "id": "3L1xPIi-Mvxl",
    "outputId": "c1c4087f-8d48-43c7-9df7-627fd04912c7"
   },
   "outputs": [
    {
     "data": {
      "text/plain": [
       "<AxesSubplot:>"
      ]
     },
     "execution_count": 19,
     "metadata": {},
     "output_type": "execute_result"
    },
    {
     "data": {
      "image/png": "[encoded data removed]",
      "text/plain": [
       "<Figure size 432x288 with 1 Axes>"
      ]
     },
     "metadata": {
      "needs_background": "light"
     },
     "output_type": "display_data"
    }
   ],
   "source": [
    "final.iloc[1,:-1].plot()"
   ]
  },
  {
   "cell_type": "code",
   "execution_count": 21,
   "metadata": {
    "colab": {
     "base_uri": "https://localhost:8080/",
     "height": 282
    },
    "executionInfo": {
     "elapsed": 563,
     "status": "ok",
     "timestamp": 1623312436738,
     "user": {
      "displayName": "Ignacio Soteras",
      "photoUrl": "",
      "userId": "02050793736257155229"
     },
     "user_tz": -120
    },
    "id": "hwq_EMl2H0rY",
    "outputId": "52df6670-ce84-49cb-cffa-ac20e9a5bf4c"
   },
   "outputs": [
    {
     "data": {
      "text/plain": [
       "<AxesSubplot:>"
      ]
     },
     "execution_count": 21,
     "metadata": {},
     "output_type": "execute_result"
    },
    {
     "data": {
      "image/png": "[encoded data removed]",
      "text/plain": [
       "<Figure size 432x288 with 1 Axes>"
      ]
     },
     "metadata": {
      "needs_background": "light"
     },
     "output_type": "display_data"
    }
   ],
   "source": [
    "final.iloc[1,:-1].hist(bins=20)"
   ]
  },
  {
   "cell_type": "code",
   "execution_count": 22,
   "metadata": {
    "colab": {
     "base_uri": "https://localhost:8080/"
    },
    "executionInfo": {
     "elapsed": 225,
     "status": "ok",
     "timestamp": 1623312580141,
     "user": {
      "displayName": "Ignacio Soteras",
      "photoUrl": "",
      "userId": "02050793736257155229"
     },
     "user_tz": -120
    },
    "id": "N5n3d3HT94gP",
    "outputId": "f636a308-e6cb-4dff-c69e-36d82bf58834"
   },
   "outputs": [
    {
     "data": {
      "text/plain": [
       "count    20.000000\n",
       "mean     -0.170540\n",
       "std       8.229108\n",
       "min     -15.315740\n",
       "25%      -5.533490\n",
       "50%      -0.023740\n",
       "75%       7.447510\n",
       "max      15.952260\n",
       "Name: 1, dtype: float64"
      ]
     },
     "execution_count": 22,
     "metadata": {},
     "output_type": "execute_result"
    }
   ],
   "source": [
    "final.iloc[1,:-1].describe()"
   ]
  },
  {
   "cell_type": "code",
   "execution_count": 23,
   "metadata": {
    "colab": {
     "base_uri": "https://localhost:8080/",
     "height": 285
    },
    "executionInfo": {
     "elapsed": 348,
     "status": "ok",
     "timestamp": 1623312478047,
     "user": {
      "displayName": "Ignacio Soteras",
      "photoUrl": "",
      "userId": "02050793736257155229"
     },
     "user_tz": -120
    },
    "id": "Rb3urnB0NXIZ",
    "outputId": "ef8b8d01-acfc-43e8-a3ac-274d8be6c9c5"
   },
   "outputs": [
    {
     "data": {
      "text/plain": [
       "<AxesSubplot:>"
      ]
     },
     "execution_count": 23,
     "metadata": {},
     "output_type": "execute_result"
    },
    {
     "data": {
      "image/png": "[encoded data removed]",
      "text/plain": [
       "<Figure size 432x288 with 1 Axes>"
      ]
     },
     "metadata": {
      "needs_background": "light"
     },
     "output_type": "display_data"
    }
   ],
   "source": [
    "final.iloc[1,:-1].plot.box()\n",
    "# Lower_wisker = Q1-1.5(Q3-Q1)\n",
    "# Upper_wisker = Q3+1.5(Q3-Q1)"
   ]
  },
  {
   "cell_type": "markdown",
   "metadata": {
    "id": "GpDDfGJb_w89"
   },
   "source": [
    "Can you obtain which sample name has the most similar mean to the population mean?\n",
    "\n",
    "*Hint: use np.argmin()*"
   ]
  },
  {
   "cell_type": "code",
   "execution_count": 25,
   "metadata": {
    "colab": {
     "base_uri": "https://localhost:8080/"
    },
    "executionInfo": {
     "elapsed": 209,
     "status": "ok",
     "timestamp": 1623313161620,
     "user": {
      "displayName": "Ignacio Soteras",
      "photoUrl": "",
      "userId": "02050793736257155229"
     },
     "user_tz": -120
    },
    "id": "ZP_pxmXL_6Xk",
    "outputId": "eaf28364-a908-4023-d901-ac6586c375dc"
   },
   "outputs": [
    {
     "name": "stdout",
     "output_type": "stream",
     "text": [
      "The minimum deviation is: 0.24\n",
      "wich correspondds to 'sample_16'\n"
     ]
    }
   ],
   "source": [
    "loc_min = np.argmin(np.abs(final.iloc[1,:-1]))\n",
    "print(\"The minimum deviation is: {:.2f}\".format(final.iloc[1,loc_min]))\n",
    "print(\"wich correspondds to 'sample_{}'\".format(loc_min+1))"
   ]
  },
  {
   "cell_type": "code",
   "execution_count": 26,
   "metadata": {
    "colab": {
     "base_uri": "https://localhost:8080/",
     "height": 128
    },
    "executionInfo": {
     "elapsed": 230,
     "status": "ok",
     "timestamp": 1623313212659,
     "user": {
      "displayName": "Ignacio Soteras",
      "photoUrl": "",
      "userId": "02050793736257155229"
     },
     "user_tz": -120
    },
    "id": "GY-w9movJYkF",
    "outputId": "15309fae-fa63-4b5d-a5a5-9b2d9b08a254"
   },
   "outputs": [
    {
     "data": {
      "text/html": [
       "<div>\n",
       "<style scoped>\n",
       "    .dataframe tbody tr th:only-of-type {\n",
       "        vertical-align: middle;\n",
       "    }\n",
       "\n",
       "    .dataframe tbody tr th {\n",
       "        vertical-align: top;\n",
       "    }\n",
       "\n",
       "    .dataframe thead th {\n",
       "        text-align: right;\n",
       "    }\n",
       "</style>\n",
       "<table border=\"1\" class=\"dataframe\">\n",
       "  <thead>\n",
       "    <tr style=\"text-align: right;\">\n",
       "      <th></th>\n",
       "      <th>sample_1</th>\n",
       "      <th>sample_2</th>\n",
       "      <th>sample_3</th>\n",
       "      <th>sample_4</th>\n",
       "      <th>sample_5</th>\n",
       "      <th>sample_6</th>\n",
       "      <th>sample_7</th>\n",
       "      <th>sample_8</th>\n",
       "      <th>sample_9</th>\n",
       "      <th>sample_10</th>\n",
       "      <th>...</th>\n",
       "      <th>sample_12</th>\n",
       "      <th>sample_13</th>\n",
       "      <th>sample_14</th>\n",
       "      <th>sample_15</th>\n",
       "      <th>sample_16</th>\n",
       "      <th>sample_17</th>\n",
       "      <th>sample_18</th>\n",
       "      <th>sample_19</th>\n",
       "      <th>sample_20</th>\n",
       "      <th>population_mean</th>\n",
       "    </tr>\n",
       "  </thead>\n",
       "  <tbody>\n",
       "    <tr>\n",
       "      <th>0</th>\n",
       "      <td>501.02700</td>\n",
       "      <td>514.76300</td>\n",
       "      <td>491.29100</td>\n",
       "      <td>497.36800</td>\n",
       "      <td>497.35100</td>\n",
       "      <td>513.33900</td>\n",
       "      <td>492.23600</td>\n",
       "      <td>504.92700</td>\n",
       "      <td>490.75400</td>\n",
       "      <td>501.32000</td>\n",
       "      <td>...</td>\n",
       "      <td>502.41100</td>\n",
       "      <td>505.14200</td>\n",
       "      <td>490.34600</td>\n",
       "      <td>491.15800</td>\n",
       "      <td>499.20400</td>\n",
       "      <td>483.49500</td>\n",
       "      <td>509.22600</td>\n",
       "      <td>499.00200</td>\n",
       "      <td>499.73800</td>\n",
       "      <td>499.44726</td>\n",
       "    </tr>\n",
       "    <tr>\n",
       "      <th>1</th>\n",
       "      <td>-1.57974</td>\n",
       "      <td>-15.31574</td>\n",
       "      <td>8.15626</td>\n",
       "      <td>2.07926</td>\n",
       "      <td>2.09626</td>\n",
       "      <td>-13.89174</td>\n",
       "      <td>7.21126</td>\n",
       "      <td>-5.47974</td>\n",
       "      <td>8.69326</td>\n",
       "      <td>-1.87274</td>\n",
       "      <td>...</td>\n",
       "      <td>-2.96374</td>\n",
       "      <td>-5.69474</td>\n",
       "      <td>9.10126</td>\n",
       "      <td>8.28926</td>\n",
       "      <td>0.24326</td>\n",
       "      <td>15.95226</td>\n",
       "      <td>-9.77874</td>\n",
       "      <td>0.44526</td>\n",
       "      <td>-0.29074</td>\n",
       "      <td>NaN</td>\n",
       "    </tr>\n",
       "  </tbody>\n",
       "</table>\n",
       "<p>2 rows × 21 columns</p>\n",
       "</div>"
      ],
      "text/plain": [
       "    sample_1   sample_2   sample_3   sample_4   sample_5   sample_6  \\\n",
       "0  501.02700  514.76300  491.29100  497.36800  497.35100  513.33900   \n",
       "1   -1.57974  -15.31574    8.15626    2.07926    2.09626  -13.89174   \n",
       "\n",
       "    sample_7   sample_8   sample_9  sample_10  ...  sample_12  sample_13  \\\n",
       "0  492.23600  504.92700  490.75400  501.32000  ...  502.41100  505.14200   \n",
       "1    7.21126   -5.47974    8.69326   -1.87274  ...   -2.96374   -5.69474   \n",
       "\n",
       "   sample_14  sample_15  sample_16  sample_17  sample_18  sample_19  \\\n",
       "0  490.34600  491.15800  499.20400  483.49500  509.22600  499.00200   \n",
       "1    9.10126    8.28926    0.24326   15.95226   -9.77874    0.44526   \n",
       "\n",
       "   sample_20  population_mean  \n",
       "0  499.73800        499.44726  \n",
       "1   -0.29074              NaN  \n",
       "\n",
       "[2 rows x 21 columns]"
      ]
     },
     "execution_count": 26,
     "metadata": {},
     "output_type": "execute_result"
    }
   ],
   "source": [
    "final"
   ]
  },
  {
   "cell_type": "markdown",
   "metadata": {
    "id": "eyGuSugIDVP1"
   },
   "source": [
    "Now get the coresponding column name"
   ]
  },
  {
   "cell_type": "code",
   "execution_count": 27,
   "metadata": {
    "colab": {
     "base_uri": "https://localhost:8080/",
     "height": 35
    },
    "executionInfo": {
     "elapsed": 234,
     "status": "ok",
     "timestamp": 1623313201388,
     "user": {
      "displayName": "Ignacio Soteras",
      "photoUrl": "",
      "userId": "02050793736257155229"
     },
     "user_tz": -120
    },
    "id": "aAxEMeUNCDUn",
    "outputId": "114c848f-52d7-4da0-ccc5-9b2f85368bd6"
   },
   "outputs": [
    {
     "data": {
      "text/plain": [
       "'sample_16'"
      ]
     },
     "execution_count": 27,
     "metadata": {},
     "output_type": "execute_result"
    }
   ],
   "source": [
    "final.columns[loc_min]"
   ]
  },
  {
   "cell_type": "markdown",
   "metadata": {
    "id": "Dwu_ZNQiFlR1"
   },
   "source": [
    "What is the mean of the samples deviations?"
   ]
  },
  {
   "cell_type": "code",
   "execution_count": 28,
   "metadata": {
    "colab": {
     "base_uri": "https://localhost:8080/"
    },
    "executionInfo": {
     "elapsed": 215,
     "status": "ok",
     "timestamp": 1623313264073,
     "user": {
      "displayName": "Ignacio Soteras",
      "photoUrl": "",
      "userId": "02050793736257155229"
     },
     "user_tz": -120
    },
    "id": "uIhDeEQIFq1w",
    "outputId": "f9647969-a2b5-44b4-d862-8f082ae2e822"
   },
   "outputs": [
    {
     "name": "stdout",
     "output_type": "stream",
     "text": [
      "The mean sample deviation is -0.17: \n"
     ]
    }
   ],
   "source": [
    "print(\"The mean sample deviation is {:.2f}: \".format(np.mean(final.iloc[1,:-1])))"
   ]
  },
  {
   "cell_type": "markdown",
   "metadata": {
    "id": "kRTaiOCnGoB4"
   },
   "source": [
    "What is the median of the deviations from the mean?"
   ]
  },
  {
   "cell_type": "code",
   "execution_count": 29,
   "metadata": {
    "colab": {
     "base_uri": "https://localhost:8080/"
    },
    "executionInfo": {
     "elapsed": 213,
     "status": "ok",
     "timestamp": 1623313290185,
     "user": {
      "displayName": "Ignacio Soteras",
      "photoUrl": "",
      "userId": "02050793736257155229"
     },
     "user_tz": -120
    },
    "id": "8yLZkrBLGxA2",
    "outputId": "abf52f79-b483-4a93-a20d-e63caa228878"
   },
   "outputs": [
    {
     "name": "stdout",
     "output_type": "stream",
     "text": [
      "The median sample deviation is -0.02: \n"
     ]
    }
   ],
   "source": [
    "print(\"The median sample deviation is {:.2f}: \".format(np.median(final.iloc[1,:-1])))"
   ]
  }
 ],
 "metadata": {
  "colab": {
   "authorship_tag": "ABX9TyOqDXoLuxmo3Jlj+rqoFHBu",
   "name": "Copy of Code_along_descriptive_statistics_Structure.ipynb",
   "provenance": []
  },
  "kernelspec": {
   "display_name": "Python 3",
   "language": "python",
   "name": "python3"
  },
  "language_info": {
   "codemirror_mode": {
    "name": "ipython",
    "version": 3
   },
   "file_extension": ".py",
   "mimetype": "text/x-python",
   "name": "python",
   "nbconvert_exporter": "python",
   "pygments_lexer": "ipython3",
   "version": "3.9.6"
  }
 },
 "nbformat": 4,
 "nbformat_minor": 1
}
