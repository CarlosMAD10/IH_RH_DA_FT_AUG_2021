{
 "cells": [
  {
   "cell_type": "markdown",
   "metadata": {
    "id": "1z3R4YIT3A2w"
   },
   "source": [
    "# Population vs Sample"
   ]
  },
  {
   "cell_type": "markdown",
   "metadata": {
    "id": "Al8_EakY3G6f"
   },
   "source": [
    "Let's explore in this notebook the difference between both. \n",
    "\n",
    "To this end, we're going to generate a random set of 10.000 integers.\n",
    "\n",
    "Then we will try to guess the mean of the total population using SAMPLES taken at random from the population"
   ]
  },
  {
   "cell_type": "code",
   "execution_count": 1,
   "metadata": {
    "executionInfo": {
     "elapsed": 994,
     "status": "ok",
     "timestamp": 1616689758767,
     "user": {
      "displayName": "Ignacio Soteras",
      "photoUrl": "",
      "userId": "02050793736257155229"
     },
     "user_tz": -60
    },
    "id": "e3Qa49M_3hg_"
   },
   "outputs": [],
   "source": [
    "import numpy as np\n",
    "import pandas as pd"
   ]
  },
  {
   "cell_type": "code",
   "execution_count": 2,
   "metadata": {
    "colab": {
     "base_uri": "https://localhost:8080/"
    },
    "executionInfo": {
     "elapsed": 988,
     "status": "ok",
     "timestamp": 1616689758768,
     "user": {
      "displayName": "Ignacio Soteras",
      "photoUrl": "",
      "userId": "02050793736257155229"
     },
     "user_tz": -60
    },
    "id": "W2PP-o5d3mhL",
    "outputId": "43271c9e-2b10-4d7e-e666-2165ada6af83"
   },
   "outputs": [
    {
     "name": "stdout",
     "output_type": "stream",
     "text": [
      "Population mean: 499.06\n"
     ]
    }
   ],
   "source": [
    "population = np.random.choice(1000,100000)\n",
    "population.shape\n",
    "\n",
    "population_mean = np.mean(population)\n",
    "print(\"Population mean: {:.2f}\".format(population_mean))"
   ]
  },
  {
   "cell_type": "markdown",
   "metadata": {
    "id": "DtXMLnKJ4Cbq"
   },
   "source": [
    "Now let's take 2000 random samples from this population and see how each sample mean changes.\n",
    "\n",
    "Create a dictionary in which the keys have the name: 'sample_1', 'sample_2',..... and so on. As values, every hey should contain the sample of random numbers."
   ]
  },
  {
   "cell_type": "code",
   "execution_count": 3,
   "metadata": {
    "colab": {
     "base_uri": "https://localhost:8080/"
    },
    "executionInfo": {
     "elapsed": 983,
     "status": "ok",
     "timestamp": 1616689758769,
     "user": {
      "displayName": "Ignacio Soteras",
      "photoUrl": "",
      "userId": "02050793736257155229"
     },
     "user_tz": -60
    },
    "id": "oyoAftyi4LOV",
    "outputId": "6cf78b80-5d2c-4c3e-b17f-bb8554941d87"
   },
   "outputs": [
    {
     "name": "stdout",
     "output_type": "stream",
     "text": [
      "{'sample_1': [170, 255, 822, 50, 519, 895, 251, 417, 848, 334, 464, 110, 193, 19, 744, 746, 176, 14, 379, 587, 743, 986, 883, 554, 851, 259, 380, 815, 290, 565, 277, 146, 656, 135, 61, 713, 870, 59, 572, 157, 656, 201, 754, 95, 283, 942, 447, 877, 182, 95, 298, 276, 487, 837, 343, 86, 40, 977, 574, 45, 242, 549, 459, 90, 414, 673, 149, 580, 83, 313, 526, 158, 644, 543, 541, 654, 108, 755, 864, 679, 806, 429, 245, 169, 490, 933, 189, 111, 557, 791, 983, 527, 891, 995, 26, 442, 253, 967, 548, 269], 'sample_2': [460, 791, 924, 984, 247, 1, 350, 392, 625, 731, 733, 501, 724, 866, 993, 940, 981, 143, 131, 247, 751, 479, 318, 632, 94, 382, 116, 212, 368, 456, 228, 239, 476, 113, 308, 924, 180, 101, 467, 102, 191, 28, 457, 113, 780, 931, 490, 15, 848, 867, 906, 39, 197, 695, 790, 400, 406, 659, 975, 426, 334, 828, 843, 581, 792, 898, 771, 900, 660, 815, 937, 858, 2, 108, 663, 684, 913, 748, 856, 294, 134, 62, 852, 33, 634, 222, 147, 182, 109, 722, 1, 551, 276, 610, 399, 452, 285, 916, 807, 492], 'sample_3': [547, 521, 279, 463, 177, 431, 943, 352, 977, 292, 390, 647, 669, 149, 998, 371, 105, 701, 793, 390, 923, 219, 0, 225, 647, 39, 727, 767, 877, 27, 237, 446, 96, 452, 250, 893, 554, 245, 491, 200, 131, 469, 357, 952, 312, 764, 908, 108, 281, 70, 193, 819, 141, 664, 599, 502, 197, 665, 365, 215, 126, 960, 864, 875, 211, 8, 902, 898, 205, 162, 710, 846, 757, 812, 385, 515, 765, 798, 876, 970, 432, 608, 863, 83, 610, 12, 812, 986, 872, 0, 374, 70, 369, 308, 485, 130, 638, 541, 381, 665], 'sample_4': [238, 440, 737, 559, 163, 521, 194, 80, 549, 648, 702, 351, 989, 379, 779, 547, 218, 857, 951, 397, 680, 342, 172, 886, 849, 457, 137, 919, 432, 902, 497, 806, 494, 261, 601, 966, 394, 955, 567, 1, 487, 719, 349, 73, 373, 302, 854, 396, 991, 802, 755, 631, 14, 304, 808, 514, 5, 898, 674, 701, 965, 42, 196, 391, 533, 236, 166, 52, 998, 934, 700, 120, 339, 882, 406, 787, 280, 626, 125, 631, 367, 568, 369, 408, 904, 188, 786, 345, 635, 317, 890, 345, 325, 581, 683, 708, 904, 892, 269, 213], 'sample_5': [990, 459, 317, 765, 227, 541, 596, 635, 797, 578, 72, 751, 957, 628, 203, 943, 426, 156, 631, 858, 145, 920, 323, 117, 83, 174, 386, 33, 823, 870, 502, 732, 417, 378, 263, 440, 455, 996, 910, 570, 250, 295, 588, 261, 117, 698, 197, 961, 504, 31, 934, 510, 511, 104, 831, 977, 856, 502, 903, 91, 101, 850, 689, 900, 721, 542, 493, 453, 894, 557, 648, 10, 651, 77, 965, 153, 12, 731, 390, 941, 632, 257, 385, 3, 43, 164, 732, 55, 741, 961, 660, 210, 700, 855, 10, 442, 825, 619, 277, 917], 'sample_6': [878, 826, 9, 782, 966, 358, 69, 24, 280, 65, 74, 271, 609, 795, 342, 664, 22, 617, 521, 600, 724, 931, 751, 596, 927, 323, 192, 368, 389, 679, 248, 852, 619, 27, 584, 895, 510, 139, 784, 296, 901, 779, 50, 297, 756, 451, 569, 662, 877, 257, 171, 326, 649, 424, 59, 297, 930, 296, 847, 266, 88, 909, 555, 378, 286, 475, 141, 110, 384, 727, 195, 656, 704, 242, 640, 627, 77, 876, 175, 574, 183, 397, 939, 721, 62, 348, 906, 185, 571, 8, 587, 933, 583, 885, 490, 21, 373, 484, 182, 955], 'sample_7': [724, 100, 950, 555, 360, 353, 950, 657, 829, 680, 560, 181, 826, 790, 918, 142, 857, 862, 963, 231, 707, 321, 417, 60, 658, 199, 778, 273, 560, 243, 71, 405, 14, 413, 398, 155, 133, 298, 159, 411, 983, 81, 605, 240, 394, 262, 173, 137, 284, 793, 118, 899, 693, 668, 208, 992, 484, 103, 836, 532, 803, 642, 694, 601, 911, 964, 142, 833, 260, 917, 253, 498, 167, 415, 857, 360, 847, 251, 568, 436, 156, 551, 641, 431, 440, 495, 199, 811, 228, 459, 707, 759, 765, 59, 551, 763, 903, 770, 271, 97], 'sample_8': [814, 911, 833, 749, 256, 72, 428, 873, 663, 73, 204, 266, 692, 740, 114, 205, 775, 221, 605, 874, 387, 254, 266, 199, 450, 842, 421, 183, 189, 116, 91, 773, 977, 611, 828, 975, 266, 372, 407, 376, 760, 323, 230, 651, 612, 881, 679, 7, 848, 992, 740, 526, 167, 401, 55, 299, 530, 541, 673, 663, 312, 571, 416, 391, 769, 526, 104, 893, 756, 329, 459, 578, 535, 941, 570, 516, 147, 440, 370, 219, 961, 854, 591, 895, 414, 139, 774, 676, 975, 564, 241, 993, 984, 28, 90, 714, 916, 3, 381, 429], 'sample_9': [619, 107, 468, 205, 831, 755, 467, 570, 840, 515, 798, 279, 832, 631, 756, 100, 681, 320, 668, 197, 988, 786, 200, 590, 13, 435, 854, 882, 911, 841, 119, 520, 423, 330, 618, 603, 172, 836, 396, 33, 930, 194, 242, 194, 772, 681, 97, 368, 235, 418, 867, 511, 994, 244, 200, 840, 386, 358, 305, 537, 97, 875, 338, 267, 995, 44, 831, 336, 217, 774, 38, 320, 328, 236, 645, 468, 660, 305, 956, 603, 727, 585, 456, 581, 243, 621, 162, 979, 269, 545, 497, 914, 970, 47, 415, 558, 642, 764, 45, 341], 'sample_10': [444, 670, 651, 43, 993, 844, 511, 133, 662, 750, 415, 788, 475, 321, 401, 88, 908, 265, 408, 77, 970, 648, 228, 236, 843, 746, 209, 345, 983, 140, 423, 148, 170, 796, 938, 792, 262, 878, 157, 262, 11, 460, 563, 578, 639, 766, 26, 932, 434, 245, 851, 814, 913, 406, 379, 171, 272, 654, 880, 372, 722, 180, 866, 932, 392, 756, 807, 561, 758, 739, 891, 710, 339, 630, 286, 249, 68, 19, 776, 989, 539, 909, 161, 593, 558, 19, 550, 495, 378, 387, 945, 830, 437, 378, 388, 513, 462, 370, 316, 101]}\n"
     ]
    }
   ],
   "source": [
    "#samples = {}\n",
    "\n",
    "samples = {'sample_' + str(i+1): np.random.choice(population, size = 100).tolist() for i in range(10)}\n",
    "print(samples)"
   ]
  },
  {
   "cell_type": "markdown",
   "metadata": {
    "id": "Te-skRKu5S7m"
   },
   "source": [
    "Now, compute the mean of each sample.\n"
   ]
  },
  {
   "cell_type": "code",
   "execution_count": 4,
   "metadata": {
    "colab": {
     "base_uri": "https://localhost:8080/"
    },
    "executionInfo": {
     "elapsed": 978,
     "status": "ok",
     "timestamp": 1616689758770,
     "user": {
      "displayName": "Ignacio Soteras",
      "photoUrl": "",
      "userId": "02050793736257155229"
     },
     "user_tz": -60
    },
    "id": "UMHev0rz5fcs",
    "outputId": "b0fa7626-3a09-47d3-8a1b-b1f4edc9d72a"
   },
   "outputs": [
    {
     "name": "stdout",
     "output_type": "stream",
     "text": [
      "Population mean: 499.06\n",
      "\n",
      "Sample sample_1 has a mean of 461.05\n",
      "Sample sample_2 has a mean of 502.94\n",
      "Sample sample_3 has a mean of 491.06\n",
      "Sample sample_4 has a mean of 523.73\n",
      "Sample sample_5 has a mean of 514.54\n",
      "Sample sample_6 has a mean of 481.02\n",
      "Sample sample_7 has a mean of 501.21\n",
      "Sample sample_8 has a mean of 513.93\n",
      "Sample sample_9 has a mean of 502.56\n",
      "Sample sample_10 has a mean of 513.86\n"
     ]
    }
   ],
   "source": [
    "print(\"Population mean: {:.2f}\".format(population_mean))\n",
    "print()\n",
    "\n",
    "for key in samples.keys():\n",
    "    print(\"Sample {} has a mean of {}\".format(key,np.mean(samples[key])))"
   ]
  },
  {
   "cell_type": "markdown",
   "metadata": {
    "id": "t3A5CQM76c8I"
   },
   "source": [
    "Now construct a pandas dataframe to with the samples:\n"
   ]
  },
  {
   "cell_type": "code",
   "execution_count": 5,
   "metadata": {
    "colab": {
     "base_uri": "https://localhost:8080/",
     "height": 204
    },
    "executionInfo": {
     "elapsed": 971,
     "status": "ok",
     "timestamp": 1616689758770,
     "user": {
      "displayName": "Ignacio Soteras",
      "photoUrl": "",
      "userId": "02050793736257155229"
     },
     "user_tz": -60
    },
    "id": "ily4V8EF6iFe",
    "outputId": "9ddcef2d-9df6-4e91-e862-ae74adc01a4b"
   },
   "outputs": [
    {
     "data": {
      "text/html": [
       "<div>\n",
       "<style scoped>\n",
       "    .dataframe tbody tr th:only-of-type {\n",
       "        vertical-align: middle;\n",
       "    }\n",
       "\n",
       "    .dataframe tbody tr th {\n",
       "        vertical-align: top;\n",
       "    }\n",
       "\n",
       "    .dataframe thead th {\n",
       "        text-align: right;\n",
       "    }\n",
       "</style>\n",
       "<table border=\"1\" class=\"dataframe\">\n",
       "  <thead>\n",
       "    <tr style=\"text-align: right;\">\n",
       "      <th></th>\n",
       "      <th>sample_1</th>\n",
       "      <th>sample_2</th>\n",
       "      <th>sample_3</th>\n",
       "      <th>sample_4</th>\n",
       "      <th>sample_5</th>\n",
       "      <th>sample_6</th>\n",
       "      <th>sample_7</th>\n",
       "      <th>sample_8</th>\n",
       "      <th>sample_9</th>\n",
       "      <th>sample_10</th>\n",
       "    </tr>\n",
       "  </thead>\n",
       "  <tbody>\n",
       "    <tr>\n",
       "      <th>0</th>\n",
       "      <td>170</td>\n",
       "      <td>460</td>\n",
       "      <td>547</td>\n",
       "      <td>238</td>\n",
       "      <td>990</td>\n",
       "      <td>878</td>\n",
       "      <td>724</td>\n",
       "      <td>814</td>\n",
       "      <td>619</td>\n",
       "      <td>444</td>\n",
       "    </tr>\n",
       "    <tr>\n",
       "      <th>1</th>\n",
       "      <td>255</td>\n",
       "      <td>791</td>\n",
       "      <td>521</td>\n",
       "      <td>440</td>\n",
       "      <td>459</td>\n",
       "      <td>826</td>\n",
       "      <td>100</td>\n",
       "      <td>911</td>\n",
       "      <td>107</td>\n",
       "      <td>670</td>\n",
       "    </tr>\n",
       "    <tr>\n",
       "      <th>2</th>\n",
       "      <td>822</td>\n",
       "      <td>924</td>\n",
       "      <td>279</td>\n",
       "      <td>737</td>\n",
       "      <td>317</td>\n",
       "      <td>9</td>\n",
       "      <td>950</td>\n",
       "      <td>833</td>\n",
       "      <td>468</td>\n",
       "      <td>651</td>\n",
       "    </tr>\n",
       "    <tr>\n",
       "      <th>3</th>\n",
       "      <td>50</td>\n",
       "      <td>984</td>\n",
       "      <td>463</td>\n",
       "      <td>559</td>\n",
       "      <td>765</td>\n",
       "      <td>782</td>\n",
       "      <td>555</td>\n",
       "      <td>749</td>\n",
       "      <td>205</td>\n",
       "      <td>43</td>\n",
       "    </tr>\n",
       "    <tr>\n",
       "      <th>4</th>\n",
       "      <td>519</td>\n",
       "      <td>247</td>\n",
       "      <td>177</td>\n",
       "      <td>163</td>\n",
       "      <td>227</td>\n",
       "      <td>966</td>\n",
       "      <td>360</td>\n",
       "      <td>256</td>\n",
       "      <td>831</td>\n",
       "      <td>993</td>\n",
       "    </tr>\n",
       "  </tbody>\n",
       "</table>\n",
       "</div>"
      ],
      "text/plain": [
       "   sample_1  sample_2  sample_3  ...  sample_8  sample_9  sample_10\n",
       "0       170       460       547  ...       814       619        444\n",
       "1       255       791       521  ...       911       107        670\n",
       "2       822       924       279  ...       833       468        651\n",
       "3        50       984       463  ...       749       205         43\n",
       "4       519       247       177  ...       256       831        993\n",
       "\n",
       "[5 rows x 10 columns]"
      ]
     },
     "execution_count": 5,
     "metadata": {
      "tags": []
     },
     "output_type": "execute_result"
    }
   ],
   "source": [
    "df = pd.DataFrame(samples)\n",
    "df.head()"
   ]
  },
  {
   "cell_type": "markdown",
   "metadata": {
    "id": "3m2f7MCP6wWS"
   },
   "source": [
    "Now compute the means of each sample using \"apply\""
   ]
  },
  {
   "cell_type": "code",
   "execution_count": 7,
   "metadata": {
    "colab": {
     "base_uri": "https://localhost:8080/"
    },
    "executionInfo": {
     "elapsed": 1880,
     "status": "ok",
     "timestamp": 1616689759694,
     "user": {
      "displayName": "Ignacio Soteras",
      "photoUrl": "",
      "userId": "02050793736257155229"
     },
     "user_tz": -60
    },
    "id": "7BkxE3uT68OI",
    "outputId": "514a32d2-cf19-4932-9200-f3cbb9289046"
   },
   "outputs": [
    {
     "name": "stdout",
     "output_type": "stream",
     "text": [
      "sample_1     461.05\n",
      "sample_2     502.94\n",
      "sample_3     491.06\n",
      "sample_4     523.73\n",
      "sample_5     514.54\n",
      "sample_6     481.02\n",
      "sample_7     501.21\n",
      "sample_8     513.93\n",
      "sample_9     502.56\n",
      "sample_10    513.86\n",
      "dtype: float64\n"
     ]
    }
   ],
   "source": [
    "result = df.apply(np.mean)\n",
    "print(result)"
   ]
  },
  {
   "cell_type": "markdown",
   "metadata": {
    "id": "LBr9ihLT7HxZ"
   },
   "source": [
    "Check the type of the previous object"
   ]
  },
  {
   "cell_type": "code",
   "execution_count": 8,
   "metadata": {
    "colab": {
     "base_uri": "https://localhost:8080/"
    },
    "executionInfo": {
     "elapsed": 1877,
     "status": "ok",
     "timestamp": 1616689759696,
     "user": {
      "displayName": "Ignacio Soteras",
      "photoUrl": "",
      "userId": "02050793736257155229"
     },
     "user_tz": -60
    },
    "id": "VFXfF01s7Mqi",
    "outputId": "c1f7b83d-f18f-4409-d077-0641015fa426"
   },
   "outputs": [
    {
     "data": {
      "text/plain": [
       "pandas.core.series.Series"
      ]
     },
     "execution_count": 8,
     "metadata": {
      "tags": []
     },
     "output_type": "execute_result"
    }
   ],
   "source": [
    "type(result)"
   ]
  },
  {
   "cell_type": "markdown",
   "metadata": {
    "id": "iWwOULKH7WvZ"
   },
   "source": [
    "Create another dataframe in which the columns are the samples names and the row contains the mean of the sample"
   ]
  },
  {
   "cell_type": "code",
   "execution_count": 9,
   "metadata": {
    "colab": {
     "base_uri": "https://localhost:8080/",
     "height": 80
    },
    "executionInfo": {
     "elapsed": 1872,
     "status": "ok",
     "timestamp": 1616689759697,
     "user": {
      "displayName": "Ignacio Soteras",
      "photoUrl": "",
      "userId": "02050793736257155229"
     },
     "user_tz": -60
    },
    "id": "0b25quj87Z2a",
    "outputId": "a501b78d-7faf-4550-f789-f718d05e7a6c"
   },
   "outputs": [
    {
     "data": {
      "text/html": [
       "<div>\n",
       "<style scoped>\n",
       "    .dataframe tbody tr th:only-of-type {\n",
       "        vertical-align: middle;\n",
       "    }\n",
       "\n",
       "    .dataframe tbody tr th {\n",
       "        vertical-align: top;\n",
       "    }\n",
       "\n",
       "    .dataframe thead th {\n",
       "        text-align: right;\n",
       "    }\n",
       "</style>\n",
       "<table border=\"1\" class=\"dataframe\">\n",
       "  <thead>\n",
       "    <tr style=\"text-align: right;\">\n",
       "      <th></th>\n",
       "      <th>sample_1</th>\n",
       "      <th>sample_2</th>\n",
       "      <th>sample_3</th>\n",
       "      <th>sample_4</th>\n",
       "      <th>sample_5</th>\n",
       "      <th>sample_6</th>\n",
       "      <th>sample_7</th>\n",
       "      <th>sample_8</th>\n",
       "      <th>sample_9</th>\n",
       "      <th>sample_10</th>\n",
       "    </tr>\n",
       "  </thead>\n",
       "  <tbody>\n",
       "    <tr>\n",
       "      <th>0</th>\n",
       "      <td>461.05</td>\n",
       "      <td>502.94</td>\n",
       "      <td>491.06</td>\n",
       "      <td>523.73</td>\n",
       "      <td>514.54</td>\n",
       "      <td>481.02</td>\n",
       "      <td>501.21</td>\n",
       "      <td>513.93</td>\n",
       "      <td>502.56</td>\n",
       "      <td>513.86</td>\n",
       "    </tr>\n",
       "  </tbody>\n",
       "</table>\n",
       "</div>"
      ],
      "text/plain": [
       "   sample_1  sample_2  sample_3  ...  sample_8  sample_9  sample_10\n",
       "0    461.05    502.94    491.06  ...    513.93    502.56     513.86\n",
       "\n",
       "[1 rows x 10 columns]"
      ]
     },
     "execution_count": 9,
     "metadata": {
      "tags": []
     },
     "output_type": "execute_result"
    }
   ],
   "source": [
    "means = pd.DataFrame(result).transpose()\n",
    "means"
   ]
  },
  {
   "cell_type": "markdown",
   "metadata": {
    "id": "X5WY4jxC9EEv"
   },
   "source": [
    "Create another column called 'population_mean' which contain the mean of the population"
   ]
  },
  {
   "cell_type": "code",
   "execution_count": 10,
   "metadata": {
    "colab": {
     "base_uri": "https://localhost:8080/",
     "height": 80
    },
    "executionInfo": {
     "elapsed": 1864,
     "status": "ok",
     "timestamp": 1616689759698,
     "user": {
      "displayName": "Ignacio Soteras",
      "photoUrl": "",
      "userId": "02050793736257155229"
     },
     "user_tz": -60
    },
    "id": "hgH2El0z9Q9w",
    "outputId": "72833e27-46a4-4e62-cc7f-1956aae4b7d7"
   },
   "outputs": [
    {
     "data": {
      "text/html": [
       "<div>\n",
       "<style scoped>\n",
       "    .dataframe tbody tr th:only-of-type {\n",
       "        vertical-align: middle;\n",
       "    }\n",
       "\n",
       "    .dataframe tbody tr th {\n",
       "        vertical-align: top;\n",
       "    }\n",
       "\n",
       "    .dataframe thead th {\n",
       "        text-align: right;\n",
       "    }\n",
       "</style>\n",
       "<table border=\"1\" class=\"dataframe\">\n",
       "  <thead>\n",
       "    <tr style=\"text-align: right;\">\n",
       "      <th></th>\n",
       "      <th>sample_1</th>\n",
       "      <th>sample_2</th>\n",
       "      <th>sample_3</th>\n",
       "      <th>sample_4</th>\n",
       "      <th>sample_5</th>\n",
       "      <th>sample_6</th>\n",
       "      <th>sample_7</th>\n",
       "      <th>sample_8</th>\n",
       "      <th>sample_9</th>\n",
       "      <th>sample_10</th>\n",
       "      <th>population_mean</th>\n",
       "    </tr>\n",
       "  </thead>\n",
       "  <tbody>\n",
       "    <tr>\n",
       "      <th>0</th>\n",
       "      <td>461.05</td>\n",
       "      <td>502.94</td>\n",
       "      <td>491.06</td>\n",
       "      <td>523.73</td>\n",
       "      <td>514.54</td>\n",
       "      <td>481.02</td>\n",
       "      <td>501.21</td>\n",
       "      <td>513.93</td>\n",
       "      <td>502.56</td>\n",
       "      <td>513.86</td>\n",
       "      <td>499.06089</td>\n",
       "    </tr>\n",
       "  </tbody>\n",
       "</table>\n",
       "</div>"
      ],
      "text/plain": [
       "   sample_1  sample_2  sample_3  ...  sample_9  sample_10  population_mean\n",
       "0    461.05    502.94    491.06  ...    502.56     513.86        499.06089\n",
       "\n",
       "[1 rows x 11 columns]"
      ]
     },
     "execution_count": 10,
     "metadata": {
      "tags": []
     },
     "output_type": "execute_result"
    }
   ],
   "source": [
    "means['population_mean'] = population_mean\n",
    "means"
   ]
  },
  {
   "cell_type": "markdown",
   "metadata": {
    "id": "hKuo5s6i9m8b"
   },
   "source": [
    "Add another row to the dataframe with the deviations from the population mean using the following steps:\n",
    "\n",
    "1. Compute the difference between `result` and `population_mean`\n",
    "2. Create a dataframe with the previous output.\n",
    "3. Transpose the ersulting dataframe.\n",
    "3. Concat both dataframes."
   ]
  },
  {
   "cell_type": "code",
   "execution_count": 11,
   "metadata": {
    "colab": {
     "base_uri": "https://localhost:8080/"
    },
    "executionInfo": {
     "elapsed": 1858,
     "status": "ok",
     "timestamp": 1616689759698,
     "user": {
      "displayName": "Ignacio Soteras",
      "photoUrl": "",
      "userId": "02050793736257155229"
     },
     "user_tz": -60
    },
    "id": "aRY9IwQy90Ny",
    "outputId": "644a8dc2-c2a8-4fe5-e6d1-dd017799aa03"
   },
   "outputs": [
    {
     "data": {
      "text/plain": [
       "sample_1    -38.01089\n",
       "sample_2      3.87911\n",
       "sample_3     -8.00089\n",
       "sample_4     24.66911\n",
       "sample_5     15.47911\n",
       "sample_6    -18.04089\n",
       "sample_7      2.14911\n",
       "sample_8     14.86911\n",
       "sample_9      3.49911\n",
       "sample_10    14.79911\n",
       "dtype: float64"
      ]
     },
     "execution_count": 11,
     "metadata": {
      "tags": []
     },
     "output_type": "execute_result"
    }
   ],
   "source": [
    "result - population_mean"
   ]
  },
  {
   "cell_type": "code",
   "execution_count": 12,
   "metadata": {
    "colab": {
     "base_uri": "https://localhost:8080/",
     "height": 80
    },
    "executionInfo": {
     "elapsed": 1852,
     "status": "ok",
     "timestamp": 1616689759699,
     "user": {
      "displayName": "Ignacio Soteras",
      "photoUrl": "",
      "userId": "02050793736257155229"
     },
     "user_tz": -60
    },
    "id": "uSvU_YpA_Zpo",
    "outputId": "7f29a835-1983-4f3f-94a2-62907e05ce11"
   },
   "outputs": [
    {
     "data": {
      "text/html": [
       "<div>\n",
       "<style scoped>\n",
       "    .dataframe tbody tr th:only-of-type {\n",
       "        vertical-align: middle;\n",
       "    }\n",
       "\n",
       "    .dataframe tbody tr th {\n",
       "        vertical-align: top;\n",
       "    }\n",
       "\n",
       "    .dataframe thead th {\n",
       "        text-align: right;\n",
       "    }\n",
       "</style>\n",
       "<table border=\"1\" class=\"dataframe\">\n",
       "  <thead>\n",
       "    <tr style=\"text-align: right;\">\n",
       "      <th></th>\n",
       "      <th>sample_1</th>\n",
       "      <th>sample_2</th>\n",
       "      <th>sample_3</th>\n",
       "      <th>sample_4</th>\n",
       "      <th>sample_5</th>\n",
       "      <th>sample_6</th>\n",
       "      <th>sample_7</th>\n",
       "      <th>sample_8</th>\n",
       "      <th>sample_9</th>\n",
       "      <th>sample_10</th>\n",
       "    </tr>\n",
       "  </thead>\n",
       "  <tbody>\n",
       "    <tr>\n",
       "      <th>0</th>\n",
       "      <td>-38.01089</td>\n",
       "      <td>3.87911</td>\n",
       "      <td>-8.00089</td>\n",
       "      <td>24.66911</td>\n",
       "      <td>15.47911</td>\n",
       "      <td>-18.04089</td>\n",
       "      <td>2.14911</td>\n",
       "      <td>14.86911</td>\n",
       "      <td>3.49911</td>\n",
       "      <td>14.79911</td>\n",
       "    </tr>\n",
       "  </tbody>\n",
       "</table>\n",
       "</div>"
      ],
      "text/plain": [
       "   sample_1  sample_2  sample_3  ...  sample_8  sample_9  sample_10\n",
       "0 -38.01089   3.87911  -8.00089  ...  14.86911   3.49911   14.79911\n",
       "\n",
       "[1 rows x 10 columns]"
      ]
     },
     "execution_count": 12,
     "metadata": {
      "tags": []
     },
     "output_type": "execute_result"
    }
   ],
   "source": [
    "new_df = pd.DataFrame(result - population_mean).transpose()\n",
    "new_df"
   ]
  },
  {
   "cell_type": "code",
   "execution_count": 13,
   "metadata": {
    "colab": {
     "base_uri": "https://localhost:8080/",
     "height": 111
    },
    "executionInfo": {
     "elapsed": 1845,
     "status": "ok",
     "timestamp": 1616689759699,
     "user": {
      "displayName": "Ignacio Soteras",
      "photoUrl": "",
      "userId": "02050793736257155229"
     },
     "user_tz": -60
    },
    "id": "ux-YuBEM_muk",
    "outputId": "3210e78c-10d6-4c99-c5cd-037991abb983"
   },
   "outputs": [
    {
     "data": {
      "text/html": [
       "<div>\n",
       "<style scoped>\n",
       "    .dataframe tbody tr th:only-of-type {\n",
       "        vertical-align: middle;\n",
       "    }\n",
       "\n",
       "    .dataframe tbody tr th {\n",
       "        vertical-align: top;\n",
       "    }\n",
       "\n",
       "    .dataframe thead th {\n",
       "        text-align: right;\n",
       "    }\n",
       "</style>\n",
       "<table border=\"1\" class=\"dataframe\">\n",
       "  <thead>\n",
       "    <tr style=\"text-align: right;\">\n",
       "      <th></th>\n",
       "      <th>sample_1</th>\n",
       "      <th>sample_2</th>\n",
       "      <th>sample_3</th>\n",
       "      <th>sample_4</th>\n",
       "      <th>sample_5</th>\n",
       "      <th>sample_6</th>\n",
       "      <th>sample_7</th>\n",
       "      <th>sample_8</th>\n",
       "      <th>sample_9</th>\n",
       "      <th>sample_10</th>\n",
       "      <th>population_mean</th>\n",
       "    </tr>\n",
       "  </thead>\n",
       "  <tbody>\n",
       "    <tr>\n",
       "      <th>0</th>\n",
       "      <td>461.05000</td>\n",
       "      <td>502.94000</td>\n",
       "      <td>491.06000</td>\n",
       "      <td>523.73000</td>\n",
       "      <td>514.54000</td>\n",
       "      <td>481.02000</td>\n",
       "      <td>501.21000</td>\n",
       "      <td>513.93000</td>\n",
       "      <td>502.56000</td>\n",
       "      <td>513.86000</td>\n",
       "      <td>499.06089</td>\n",
       "    </tr>\n",
       "    <tr>\n",
       "      <th>1</th>\n",
       "      <td>-38.01089</td>\n",
       "      <td>3.87911</td>\n",
       "      <td>-8.00089</td>\n",
       "      <td>24.66911</td>\n",
       "      <td>15.47911</td>\n",
       "      <td>-18.04089</td>\n",
       "      <td>2.14911</td>\n",
       "      <td>14.86911</td>\n",
       "      <td>3.49911</td>\n",
       "      <td>14.79911</td>\n",
       "      <td>NaN</td>\n",
       "    </tr>\n",
       "  </tbody>\n",
       "</table>\n",
       "</div>"
      ],
      "text/plain": [
       "    sample_1   sample_2   sample_3  ...   sample_9  sample_10  population_mean\n",
       "0  461.05000  502.94000  491.06000  ...  502.56000  513.86000        499.06089\n",
       "1  -38.01089    3.87911   -8.00089  ...    3.49911   14.79911              NaN\n",
       "\n",
       "[2 rows x 11 columns]"
      ]
     },
     "execution_count": 13,
     "metadata": {
      "tags": []
     },
     "output_type": "execute_result"
    }
   ],
   "source": [
    "final = pd.concat([means, new_df], axis=0).reset_index(drop=True)\n",
    "final"
   ]
  },
  {
   "cell_type": "markdown",
   "metadata": {
    "id": "QTbuep_sHxgN"
   },
   "source": [
    "Let's obtain some basic plots"
   ]
  },
  {
   "cell_type": "code",
   "execution_count": 14,
   "metadata": {
    "colab": {
     "base_uri": "https://localhost:8080/",
     "height": 283
    },
    "executionInfo": {
     "elapsed": 2085,
     "status": "ok",
     "timestamp": 1616689759947,
     "user": {
      "displayName": "Ignacio Soteras",
      "photoUrl": "",
      "userId": "02050793736257155229"
     },
     "user_tz": -60
    },
    "id": "3L1xPIi-Mvxl",
    "outputId": "aa39bc69-73af-49d0-da5d-1402188e3409"
   },
   "outputs": [
    {
     "data": {
      "text/plain": [
       "<matplotlib.axes._subplots.AxesSubplot at 0x7fddb588bd90>"
      ]
     },
     "execution_count": 14,
     "metadata": {
      "tags": []
     },
     "output_type": "execute_result"
    },
    {
     "data": {
      "image/png": "[encoded data removed]",
      "text/plain": [
       "<Figure size 432x288 with 1 Axes>"
      ]
     },
     "metadata": {
      "needs_background": "light",
      "tags": []
     },
     "output_type": "display_data"
    }
   ],
   "source": [
    "final.iloc[1,:-1].plot()"
   ]
  },
  {
   "cell_type": "code",
   "execution_count": 15,
   "metadata": {
    "colab": {
     "base_uri": "https://localhost:8080/",
     "height": 282
    },
    "executionInfo": {
     "elapsed": 2079,
     "status": "ok",
     "timestamp": 1616689759948,
     "user": {
      "displayName": "Ignacio Soteras",
      "photoUrl": "",
      "userId": "02050793736257155229"
     },
     "user_tz": -60
    },
    "id": "hwq_EMl2H0rY",
    "outputId": "d9f38214-f2e7-42b6-9657-95e0f2bad41e"
   },
   "outputs": [
    {
     "data": {
      "text/plain": [
       "<matplotlib.axes._subplots.AxesSubplot at 0x7fddb5f84390>"
      ]
     },
     "execution_count": 15,
     "metadata": {
      "tags": []
     },
     "output_type": "execute_result"
    },
    {
     "data": {
      "image/png": "[encoded data removed]",
      "text/plain": [
       "<Figure size 432x288 with 1 Axes>"
      ]
     },
     "metadata": {
      "needs_background": "light",
      "tags": []
     },
     "output_type": "display_data"
    }
   ],
   "source": [
    "final.iloc[1,:-1].hist()"
   ]
  },
  {
   "cell_type": "code",
   "execution_count": 16,
   "metadata": {
    "colab": {
     "base_uri": "https://localhost:8080/",
     "height": 282
    },
    "executionInfo": {
     "elapsed": 2418,
     "status": "ok",
     "timestamp": 1616689760293,
     "user": {
      "displayName": "Ignacio Soteras",
      "photoUrl": "",
      "userId": "02050793736257155229"
     },
     "user_tz": -60
    },
    "id": "Rb3urnB0NXIZ",
    "outputId": "a3a80e4b-f89f-4840-94d6-cfeadec2c61b"
   },
   "outputs": [
    {
     "data": {
      "text/plain": [
       "<matplotlib.axes._subplots.AxesSubplot at 0x7fddb5e34610>"
      ]
     },
     "execution_count": 16,
     "metadata": {
      "tags": []
     },
     "output_type": "execute_result"
    },
    {
     "data": {
      "image/png": "[encoded data removed]",
      "text/plain": [
       "<Figure size 432x288 with 1 Axes>"
      ]
     },
     "metadata": {
      "needs_background": "light",
      "tags": []
     },
     "output_type": "display_data"
    }
   ],
   "source": [
    "final.iloc[1,:-1].plot.box()"
   ]
  },
  {
   "cell_type": "markdown",
   "metadata": {
    "id": "GpDDfGJb_w89"
   },
   "source": [
    "Can you obtain which sample name has the most similar mean to the population mean?\n",
    "\n",
    "*Hint: use np.argmin()*"
   ]
  },
  {
   "cell_type": "code",
   "execution_count": 17,
   "metadata": {
    "colab": {
     "base_uri": "https://localhost:8080/"
    },
    "executionInfo": {
     "elapsed": 2414,
     "status": "ok",
     "timestamp": 1616689760294,
     "user": {
      "displayName": "Ignacio Soteras",
      "photoUrl": "",
      "userId": "02050793736257155229"
     },
     "user_tz": -60
    },
    "id": "ZP_pxmXL_6Xk",
    "outputId": "25d138ff-e5dd-427c-e349-bde75e2a42c3"
   },
   "outputs": [
    {
     "name": "stdout",
     "output_type": "stream",
     "text": [
      "The minimum deviation is: 2.15\n",
      "wich correspondds to 'sample_7'\n"
     ]
    }
   ],
   "source": [
    "loc_min = np.argmin(np.abs(final.iloc[1,:-1]))\n",
    "print(\"The minimum deviation is: {:.2f}\".format(final.iloc[1,loc_min]))\n",
    "print(\"wich correspondds to 'sample_{}'\".format(loc_min + 1 ))"
   ]
  },
  {
   "cell_type": "code",
   "execution_count": 18,
   "metadata": {
    "colab": {
     "base_uri": "https://localhost:8080/",
     "height": 111
    },
    "executionInfo": {
     "elapsed": 2410,
     "status": "ok",
     "timestamp": 1616689760295,
     "user": {
      "displayName": "Ignacio Soteras",
      "photoUrl": "",
      "userId": "02050793736257155229"
     },
     "user_tz": -60
    },
    "id": "GY-w9movJYkF",
    "outputId": "d9ea81db-93b8-4a01-fe77-a4a78d006b20"
   },
   "outputs": [
    {
     "data": {
      "text/html": [
       "<div>\n",
       "<style scoped>\n",
       "    .dataframe tbody tr th:only-of-type {\n",
       "        vertical-align: middle;\n",
       "    }\n",
       "\n",
       "    .dataframe tbody tr th {\n",
       "        vertical-align: top;\n",
       "    }\n",
       "\n",
       "    .dataframe thead th {\n",
       "        text-align: right;\n",
       "    }\n",
       "</style>\n",
       "<table border=\"1\" class=\"dataframe\">\n",
       "  <thead>\n",
       "    <tr style=\"text-align: right;\">\n",
       "      <th></th>\n",
       "      <th>sample_1</th>\n",
       "      <th>sample_2</th>\n",
       "      <th>sample_3</th>\n",
       "      <th>sample_4</th>\n",
       "      <th>sample_5</th>\n",
       "      <th>sample_6</th>\n",
       "      <th>sample_7</th>\n",
       "      <th>sample_8</th>\n",
       "      <th>sample_9</th>\n",
       "      <th>sample_10</th>\n",
       "      <th>population_mean</th>\n",
       "    </tr>\n",
       "  </thead>\n",
       "  <tbody>\n",
       "    <tr>\n",
       "      <th>0</th>\n",
       "      <td>461.05000</td>\n",
       "      <td>502.94000</td>\n",
       "      <td>491.06000</td>\n",
       "      <td>523.73000</td>\n",
       "      <td>514.54000</td>\n",
       "      <td>481.02000</td>\n",
       "      <td>501.21000</td>\n",
       "      <td>513.93000</td>\n",
       "      <td>502.56000</td>\n",
       "      <td>513.86000</td>\n",
       "      <td>499.06089</td>\n",
       "    </tr>\n",
       "    <tr>\n",
       "      <th>1</th>\n",
       "      <td>-38.01089</td>\n",
       "      <td>3.87911</td>\n",
       "      <td>-8.00089</td>\n",
       "      <td>24.66911</td>\n",
       "      <td>15.47911</td>\n",
       "      <td>-18.04089</td>\n",
       "      <td>2.14911</td>\n",
       "      <td>14.86911</td>\n",
       "      <td>3.49911</td>\n",
       "      <td>14.79911</td>\n",
       "      <td>NaN</td>\n",
       "    </tr>\n",
       "  </tbody>\n",
       "</table>\n",
       "</div>"
      ],
      "text/plain": [
       "    sample_1   sample_2   sample_3  ...   sample_9  sample_10  population_mean\n",
       "0  461.05000  502.94000  491.06000  ...  502.56000  513.86000        499.06089\n",
       "1  -38.01089    3.87911   -8.00089  ...    3.49911   14.79911              NaN\n",
       "\n",
       "[2 rows x 11 columns]"
      ]
     },
     "execution_count": 18,
     "metadata": {
      "tags": []
     },
     "output_type": "execute_result"
    }
   ],
   "source": [
    "final"
   ]
  },
  {
   "cell_type": "markdown",
   "metadata": {
    "id": "eyGuSugIDVP1"
   },
   "source": [
    "Now get the coresponding column name"
   ]
  },
  {
   "cell_type": "code",
   "execution_count": 19,
   "metadata": {
    "colab": {
     "base_uri": "https://localhost:8080/",
     "height": 35
    },
    "executionInfo": {
     "elapsed": 2404,
     "status": "ok",
     "timestamp": 1616689760295,
     "user": {
      "displayName": "Ignacio Soteras",
      "photoUrl": "",
      "userId": "02050793736257155229"
     },
     "user_tz": -60
    },
    "id": "aAxEMeUNCDUn",
    "outputId": "89b1b1b9-3ebb-4a10-d3d6-9fea25d8f9da"
   },
   "outputs": [
    {
     "data": {
      "application/vnd.google.colaboratory.intrinsic+json": {
       "type": "string"
      },
      "text/plain": [
       "'sample_7'"
      ]
     },
     "execution_count": 19,
     "metadata": {
      "tags": []
     },
     "output_type": "execute_result"
    }
   ],
   "source": [
    "final.columns[loc_min]"
   ]
  },
  {
   "cell_type": "markdown",
   "metadata": {
    "id": "Dwu_ZNQiFlR1"
   },
   "source": [
    "What is the mean of the samples deviations?"
   ]
  },
  {
   "cell_type": "code",
   "execution_count": 20,
   "metadata": {
    "colab": {
     "base_uri": "https://localhost:8080/"
    },
    "executionInfo": {
     "elapsed": 2399,
     "status": "ok",
     "timestamp": 1616689760296,
     "user": {
      "displayName": "Ignacio Soteras",
      "photoUrl": "",
      "userId": "02050793736257155229"
     },
     "user_tz": -60
    },
    "id": "uIhDeEQIFq1w",
    "outputId": "739be8b3-9853-46ca-d030-62285c376d84"
   },
   "outputs": [
    {
     "name": "stdout",
     "output_type": "stream",
     "text": [
      "The mean sample deviation is 1.53: \n"
     ]
    }
   ],
   "source": [
    "print(\"The mean sample deviation is {:.2f}: \".format(np.mean(final.iloc[1,:])))"
   ]
  },
  {
   "cell_type": "markdown",
   "metadata": {
    "id": "kRTaiOCnGoB4"
   },
   "source": [
    "What is the median of the deviations from the mean?"
   ]
  },
  {
   "cell_type": "code",
   "execution_count": 21,
   "metadata": {
    "colab": {
     "base_uri": "https://localhost:8080/"
    },
    "executionInfo": {
     "elapsed": 2395,
     "status": "ok",
     "timestamp": 1616689760297,
     "user": {
      "displayName": "Ignacio Soteras",
      "photoUrl": "",
      "userId": "02050793736257155229"
     },
     "user_tz": -60
    },
    "id": "8yLZkrBLGxA2",
    "outputId": "b3cb04fa-2a1b-4d15-8990-1a43a9b0122a"
   },
   "outputs": [
    {
     "name": "stdout",
     "output_type": "stream",
     "text": [
      "The median sample deviation is 3.69: \n"
     ]
    }
   ],
   "source": [
    "print(\"The median sample deviation is {:.2f}: \".format(np.median(final.iloc[1,:-1],)))"
   ]
  },
  {
   "cell_type": "markdown",
   "metadata": {
    "id": "WyX5LodnGZQP"
   },
   "source": [
    "Why the mean is so small if the samples means deviates so much from the population mean?"
   ]
  },
  {
   "cell_type": "markdown",
   "metadata": {
    "id": "O7JzDyUaHQgY"
   },
   "source": [
    "If the sign is a problem, let's get rid of it squaring the differences!"
   ]
  },
  {
   "cell_type": "code",
   "execution_count": 22,
   "metadata": {
    "colab": {
     "base_uri": "https://localhost:8080/",
     "height": 80
    },
    "executionInfo": {
     "elapsed": 2391,
     "status": "ok",
     "timestamp": 1616689760298,
     "user": {
      "displayName": "Ignacio Soteras",
      "photoUrl": "",
      "userId": "02050793736257155229"
     },
     "user_tz": -60
    },
    "id": "LSu6mHaaHY60",
    "outputId": "8626fd89-3934-4fa4-8098-cead234a3d2e"
   },
   "outputs": [
    {
     "data": {
      "text/html": [
       "<div>\n",
       "<style scoped>\n",
       "    .dataframe tbody tr th:only-of-type {\n",
       "        vertical-align: middle;\n",
       "    }\n",
       "\n",
       "    .dataframe tbody tr th {\n",
       "        vertical-align: top;\n",
       "    }\n",
       "\n",
       "    .dataframe thead th {\n",
       "        text-align: right;\n",
       "    }\n",
       "</style>\n",
       "<table border=\"1\" class=\"dataframe\">\n",
       "  <thead>\n",
       "    <tr style=\"text-align: right;\">\n",
       "      <th></th>\n",
       "      <th>sample_1</th>\n",
       "      <th>sample_2</th>\n",
       "      <th>sample_3</th>\n",
       "      <th>sample_4</th>\n",
       "      <th>sample_5</th>\n",
       "      <th>sample_6</th>\n",
       "      <th>sample_7</th>\n",
       "      <th>sample_8</th>\n",
       "      <th>sample_9</th>\n",
       "      <th>sample_10</th>\n",
       "    </tr>\n",
       "  </thead>\n",
       "  <tbody>\n",
       "    <tr>\n",
       "      <th>0</th>\n",
       "      <td>1444.827759</td>\n",
       "      <td>15.047494</td>\n",
       "      <td>64.014241</td>\n",
       "      <td>608.564988</td>\n",
       "      <td>239.602846</td>\n",
       "      <td>325.473712</td>\n",
       "      <td>4.618674</td>\n",
       "      <td>221.090432</td>\n",
       "      <td>12.243771</td>\n",
       "      <td>219.013657</td>\n",
       "    </tr>\n",
       "  </tbody>\n",
       "</table>\n",
       "</div>"
      ],
      "text/plain": [
       "      sample_1   sample_2   sample_3  ...    sample_8   sample_9   sample_10\n",
       "0  1444.827759  15.047494  64.014241  ...  221.090432  12.243771  219.013657\n",
       "\n",
       "[1 rows x 10 columns]"
      ]
     },
     "execution_count": 22,
     "metadata": {
      "tags": []
     },
     "output_type": "execute_result"
    }
   ],
   "source": [
    "squares = np.power(result - population_mean,2)\n",
    "squares_df = pd.DataFrame(squares).transpose()\n",
    "squares_df"
   ]
  },
  {
   "cell_type": "markdown",
   "metadata": {
    "id": "0_ix7kLLISKJ"
   },
   "source": [
    "Add the previous output as another row to the `final` dataframe"
   ]
  },
  {
   "cell_type": "code",
   "execution_count": 23,
   "metadata": {
    "executionInfo": {
     "elapsed": 2385,
     "status": "ok",
     "timestamp": 1616689760298,
     "user": {
      "displayName": "Ignacio Soteras",
      "photoUrl": "",
      "userId": "02050793736257155229"
     },
     "user_tz": -60
    },
    "id": "uddghdigIX0K"
   },
   "outputs": [],
   "source": [
    "final = pd.concat([final,squares_df]).reset_index(drop=True)"
   ]
  },
  {
   "cell_type": "markdown",
   "metadata": {
    "id": "qvFURhIPI4zf"
   },
   "source": [
    "Now compute the histogram of the squared differences."
   ]
  },
  {
   "cell_type": "code",
   "execution_count": 24,
   "metadata": {
    "colab": {
     "base_uri": "https://localhost:8080/",
     "height": 142
    },
    "executionInfo": {
     "elapsed": 2605,
     "status": "ok",
     "timestamp": 1616689760522,
     "user": {
      "displayName": "Ignacio Soteras",
      "photoUrl": "",
      "userId": "02050793736257155229"
     },
     "user_tz": -60
    },
    "id": "58ZKiJZ1I8vd",
    "outputId": "63a9d1b3-e6ea-41cb-ea92-95d631705d3e"
   },
   "outputs": [
    {
     "data": {
      "text/html": [
       "<div>\n",
       "<style scoped>\n",
       "    .dataframe tbody tr th:only-of-type {\n",
       "        vertical-align: middle;\n",
       "    }\n",
       "\n",
       "    .dataframe tbody tr th {\n",
       "        vertical-align: top;\n",
       "    }\n",
       "\n",
       "    .dataframe thead th {\n",
       "        text-align: right;\n",
       "    }\n",
       "</style>\n",
       "<table border=\"1\" class=\"dataframe\">\n",
       "  <thead>\n",
       "    <tr style=\"text-align: right;\">\n",
       "      <th></th>\n",
       "      <th>sample_1</th>\n",
       "      <th>sample_2</th>\n",
       "      <th>sample_3</th>\n",
       "      <th>sample_4</th>\n",
       "      <th>sample_5</th>\n",
       "      <th>sample_6</th>\n",
       "      <th>sample_7</th>\n",
       "      <th>sample_8</th>\n",
       "      <th>sample_9</th>\n",
       "      <th>sample_10</th>\n",
       "      <th>population_mean</th>\n",
       "    </tr>\n",
       "  </thead>\n",
       "  <tbody>\n",
       "    <tr>\n",
       "      <th>0</th>\n",
       "      <td>461.050000</td>\n",
       "      <td>502.940000</td>\n",
       "      <td>491.060000</td>\n",
       "      <td>523.730000</td>\n",
       "      <td>514.540000</td>\n",
       "      <td>481.020000</td>\n",
       "      <td>501.210000</td>\n",
       "      <td>513.930000</td>\n",
       "      <td>502.560000</td>\n",
       "      <td>513.860000</td>\n",
       "      <td>499.06089</td>\n",
       "    </tr>\n",
       "    <tr>\n",
       "      <th>1</th>\n",
       "      <td>-38.010890</td>\n",
       "      <td>3.879110</td>\n",
       "      <td>-8.000890</td>\n",
       "      <td>24.669110</td>\n",
       "      <td>15.479110</td>\n",
       "      <td>-18.040890</td>\n",
       "      <td>2.149110</td>\n",
       "      <td>14.869110</td>\n",
       "      <td>3.499110</td>\n",
       "      <td>14.799110</td>\n",
       "      <td>NaN</td>\n",
       "    </tr>\n",
       "    <tr>\n",
       "      <th>2</th>\n",
       "      <td>1444.827759</td>\n",
       "      <td>15.047494</td>\n",
       "      <td>64.014241</td>\n",
       "      <td>608.564988</td>\n",
       "      <td>239.602846</td>\n",
       "      <td>325.473712</td>\n",
       "      <td>4.618674</td>\n",
       "      <td>221.090432</td>\n",
       "      <td>12.243771</td>\n",
       "      <td>219.013657</td>\n",
       "      <td>NaN</td>\n",
       "    </tr>\n",
       "  </tbody>\n",
       "</table>\n",
       "</div>"
      ],
      "text/plain": [
       "      sample_1    sample_2    sample_3  ...    sample_9   sample_10  population_mean\n",
       "0   461.050000  502.940000  491.060000  ...  502.560000  513.860000        499.06089\n",
       "1   -38.010890    3.879110   -8.000890  ...    3.499110   14.799110              NaN\n",
       "2  1444.827759   15.047494   64.014241  ...   12.243771  219.013657              NaN\n",
       "\n",
       "[3 rows x 11 columns]"
      ]
     },
     "execution_count": 24,
     "metadata": {
      "tags": []
     },
     "output_type": "execute_result"
    }
   ],
   "source": [
    "final"
   ]
  },
  {
   "cell_type": "markdown",
   "metadata": {
    "id": "RupVOq5_L2Nu"
   },
   "source": [
    "Now let's get the histogram of the squared differences."
   ]
  },
  {
   "cell_type": "code",
   "execution_count": 25,
   "metadata": {
    "colab": {
     "base_uri": "https://localhost:8080/",
     "height": 282
    },
    "executionInfo": {
     "elapsed": 2600,
     "status": "ok",
     "timestamp": 1616689760523,
     "user": {
      "displayName": "Ignacio Soteras",
      "photoUrl": "",
      "userId": "02050793736257155229"
     },
     "user_tz": -60
    },
    "id": "avTKoxU3L7up",
    "outputId": "a7362499-cf6b-49bc-ffa4-597ecde480b3"
   },
   "outputs": [
    {
     "data": {
      "text/plain": [
       "<matplotlib.axes._subplots.AxesSubplot at 0x7fddb5e237d0>"
      ]
     },
     "execution_count": 25,
     "metadata": {
      "tags": []
     },
     "output_type": "execute_result"
    },
    {
     "data": {
      "image/png": "[encoded data removed]",
      "text/plain": [
       "<Figure size 432x288 with 1 Axes>"
      ]
     },
     "metadata": {
      "needs_background": "light",
      "tags": []
     },
     "output_type": "display_data"
    }
   ],
   "source": [
    "final.iloc[2,:-1].hist()"
   ]
  }
 ],
 "metadata": {
  "colab": {
   "authorship_tag": "ABX9TyO65Kx5T0p+JYkqDRo5LZ18",
   "name": "Code_along_descriptive_statistics.ipynb",
   "provenance": []
  },
  "kernelspec": {
   "display_name": "Python 3",
   "language": "python",
   "name": "python3"
  },
  "language_info": {
   "codemirror_mode": {
    "name": "ipython",
    "version": 3
   },
   "file_extension": ".py",
   "mimetype": "text/x-python",
   "name": "python",
   "nbconvert_exporter": "python",
   "pygments_lexer": "ipython3",
   "version": "3.9.6"
  }
 },
 "nbformat": 4,
 "nbformat_minor": 1
}
